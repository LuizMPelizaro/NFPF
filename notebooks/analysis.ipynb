{
 "cells": [
  {
   "cell_type": "code",
   "id": "initial_id",
   "metadata": {
    "collapsed": true,
    "ExecuteTime": {
     "end_time": "2024-08-26T22:32:35.498092Z",
     "start_time": "2024-08-26T22:32:35.494715Z"
    }
   },
   "source": [
    "import pandas as pd\n",
    "import plotly.express as px\n",
    "import plotly.graph_objects as go\n",
    "import matplotlib.pyplot as plt\n",
    "import statsmodels.api as sm\n",
    "from statsmodels.tsa.seasonal import STL"
   ],
   "outputs": [],
   "execution_count": 55
  },
  {
   "metadata": {},
   "cell_type": "markdown",
   "source": "## Initial analysis",
   "id": "4a83e1e2e4b00205"
  },
  {
   "metadata": {
    "ExecuteTime": {
     "end_time": "2024-08-26T22:32:35.699976Z",
     "start_time": "2024-08-26T22:32:35.533775Z"
    }
   },
   "cell_type": "code",
   "source": [
    "dataframe = pd.read_csv('../data/wfp_food_prices_nga.csv')\n",
    "dataframe.head()"
   ],
   "id": "afd47ac70a293b1a",
   "outputs": [
    {
     "data": {
      "text/plain": [
       "         date    state   city       market  latitude  longitude  \\\n",
       "0  2002-01-15  Katsina  Jibia  Jibia (CBM)     13.08       7.24   \n",
       "1  2002-01-15  Katsina  Jibia  Jibia (CBM)     13.08       7.24   \n",
       "2  2002-01-15  Katsina  Jibia  Jibia (CBM)     13.08       7.24   \n",
       "3  2002-01-15  Katsina  Jibia  Jibia (CBM)     13.08       7.24   \n",
       "4  2002-01-15  Katsina  Jibia  Jibia (CBM)     13.08       7.24   \n",
       "\n",
       "             category        commodity unit priceflag  pricetype currency  \\\n",
       "0  cereals and tubers            Maize   KG    actual  Wholesale      NGN   \n",
       "1  cereals and tubers           Millet   KG    actual  Wholesale      NGN   \n",
       "2  cereals and tubers  Rice (imported)   KG    actual  Wholesale      NGN   \n",
       "3  cereals and tubers          Sorghum   KG    actual  Wholesale      NGN   \n",
       "4     pulses and nuts    Beans (niebe)   KG    actual  Wholesale      NGN   \n",
       "\n",
       "    price  usdprice  \n",
       "0  175.92    1.5525  \n",
       "1  150.18    1.3254  \n",
       "2  358.70    3.1656  \n",
       "3  155.61    1.3733  \n",
       "4  196.87    1.7374  "
      ],
      "text/html": [
       "<div>\n",
       "<style scoped>\n",
       "    .dataframe tbody tr th:only-of-type {\n",
       "        vertical-align: middle;\n",
       "    }\n",
       "\n",
       "    .dataframe tbody tr th {\n",
       "        vertical-align: top;\n",
       "    }\n",
       "\n",
       "    .dataframe thead th {\n",
       "        text-align: right;\n",
       "    }\n",
       "</style>\n",
       "<table border=\"1\" class=\"dataframe\">\n",
       "  <thead>\n",
       "    <tr style=\"text-align: right;\">\n",
       "      <th></th>\n",
       "      <th>date</th>\n",
       "      <th>state</th>\n",
       "      <th>city</th>\n",
       "      <th>market</th>\n",
       "      <th>latitude</th>\n",
       "      <th>longitude</th>\n",
       "      <th>category</th>\n",
       "      <th>commodity</th>\n",
       "      <th>unit</th>\n",
       "      <th>priceflag</th>\n",
       "      <th>pricetype</th>\n",
       "      <th>currency</th>\n",
       "      <th>price</th>\n",
       "      <th>usdprice</th>\n",
       "    </tr>\n",
       "  </thead>\n",
       "  <tbody>\n",
       "    <tr>\n",
       "      <th>0</th>\n",
       "      <td>2002-01-15</td>\n",
       "      <td>Katsina</td>\n",
       "      <td>Jibia</td>\n",
       "      <td>Jibia (CBM)</td>\n",
       "      <td>13.08</td>\n",
       "      <td>7.24</td>\n",
       "      <td>cereals and tubers</td>\n",
       "      <td>Maize</td>\n",
       "      <td>KG</td>\n",
       "      <td>actual</td>\n",
       "      <td>Wholesale</td>\n",
       "      <td>NGN</td>\n",
       "      <td>175.92</td>\n",
       "      <td>1.5525</td>\n",
       "    </tr>\n",
       "    <tr>\n",
       "      <th>1</th>\n",
       "      <td>2002-01-15</td>\n",
       "      <td>Katsina</td>\n",
       "      <td>Jibia</td>\n",
       "      <td>Jibia (CBM)</td>\n",
       "      <td>13.08</td>\n",
       "      <td>7.24</td>\n",
       "      <td>cereals and tubers</td>\n",
       "      <td>Millet</td>\n",
       "      <td>KG</td>\n",
       "      <td>actual</td>\n",
       "      <td>Wholesale</td>\n",
       "      <td>NGN</td>\n",
       "      <td>150.18</td>\n",
       "      <td>1.3254</td>\n",
       "    </tr>\n",
       "    <tr>\n",
       "      <th>2</th>\n",
       "      <td>2002-01-15</td>\n",
       "      <td>Katsina</td>\n",
       "      <td>Jibia</td>\n",
       "      <td>Jibia (CBM)</td>\n",
       "      <td>13.08</td>\n",
       "      <td>7.24</td>\n",
       "      <td>cereals and tubers</td>\n",
       "      <td>Rice (imported)</td>\n",
       "      <td>KG</td>\n",
       "      <td>actual</td>\n",
       "      <td>Wholesale</td>\n",
       "      <td>NGN</td>\n",
       "      <td>358.70</td>\n",
       "      <td>3.1656</td>\n",
       "    </tr>\n",
       "    <tr>\n",
       "      <th>3</th>\n",
       "      <td>2002-01-15</td>\n",
       "      <td>Katsina</td>\n",
       "      <td>Jibia</td>\n",
       "      <td>Jibia (CBM)</td>\n",
       "      <td>13.08</td>\n",
       "      <td>7.24</td>\n",
       "      <td>cereals and tubers</td>\n",
       "      <td>Sorghum</td>\n",
       "      <td>KG</td>\n",
       "      <td>actual</td>\n",
       "      <td>Wholesale</td>\n",
       "      <td>NGN</td>\n",
       "      <td>155.61</td>\n",
       "      <td>1.3733</td>\n",
       "    </tr>\n",
       "    <tr>\n",
       "      <th>4</th>\n",
       "      <td>2002-01-15</td>\n",
       "      <td>Katsina</td>\n",
       "      <td>Jibia</td>\n",
       "      <td>Jibia (CBM)</td>\n",
       "      <td>13.08</td>\n",
       "      <td>7.24</td>\n",
       "      <td>pulses and nuts</td>\n",
       "      <td>Beans (niebe)</td>\n",
       "      <td>KG</td>\n",
       "      <td>actual</td>\n",
       "      <td>Wholesale</td>\n",
       "      <td>NGN</td>\n",
       "      <td>196.87</td>\n",
       "      <td>1.7374</td>\n",
       "    </tr>\n",
       "  </tbody>\n",
       "</table>\n",
       "</div>"
      ]
     },
     "execution_count": 56,
     "metadata": {},
     "output_type": "execute_result"
    }
   ],
   "execution_count": 56
  },
  {
   "metadata": {},
   "cell_type": "markdown",
   "source": "## Exclude columns and create code column to facilitate query of series",
   "id": "e7c4af49a81dfa81"
  },
  {
   "metadata": {
    "ExecuteTime": {
     "end_time": "2024-08-26T22:32:36.300307Z",
     "start_time": "2024-08-26T22:32:35.817337Z"
    }
   },
   "cell_type": "code",
   "source": [
    "dataframe = dataframe.drop(columns=['latitude', 'longitude'])\n",
    "dataframe = dataframe[dataframe['priceflag'] != 'forecast']\n",
    "dataframe['series_id'] = dataframe[['state', 'city', 'market', 'category', 'commodity', 'unit']].astype(\n",
    "    'category').apply(lambda x: '_'.join(x), axis=1)\n",
    "#cat.codes create unique id\n",
    "dataframe['series_id'] = dataframe['series_id'].astype('category').cat.codes\n",
    "dataframe.head()\n"
   ],
   "id": "9cd9796069cd83a2",
   "outputs": [
    {
     "data": {
      "text/plain": [
       "         date    state   city       market            category  \\\n",
       "0  2002-01-15  Katsina  Jibia  Jibia (CBM)  cereals and tubers   \n",
       "1  2002-01-15  Katsina  Jibia  Jibia (CBM)  cereals and tubers   \n",
       "2  2002-01-15  Katsina  Jibia  Jibia (CBM)  cereals and tubers   \n",
       "3  2002-01-15  Katsina  Jibia  Jibia (CBM)  cereals and tubers   \n",
       "4  2002-01-15  Katsina  Jibia  Jibia (CBM)     pulses and nuts   \n",
       "\n",
       "         commodity unit priceflag  pricetype currency   price  usdprice  \\\n",
       "0            Maize   KG    actual  Wholesale      NGN  175.92    1.5525   \n",
       "1           Millet   KG    actual  Wholesale      NGN  150.18    1.3254   \n",
       "2  Rice (imported)   KG    actual  Wholesale      NGN  358.70    3.1656   \n",
       "3          Sorghum   KG    actual  Wholesale      NGN  155.61    1.3733   \n",
       "4    Beans (niebe)   KG    actual  Wholesale      NGN  196.87    1.7374   \n",
       "\n",
       "   series_id  \n",
       "0        543  \n",
       "1        544  \n",
       "2        545  \n",
       "3        546  \n",
       "4        548  "
      ],
      "text/html": [
       "<div>\n",
       "<style scoped>\n",
       "    .dataframe tbody tr th:only-of-type {\n",
       "        vertical-align: middle;\n",
       "    }\n",
       "\n",
       "    .dataframe tbody tr th {\n",
       "        vertical-align: top;\n",
       "    }\n",
       "\n",
       "    .dataframe thead th {\n",
       "        text-align: right;\n",
       "    }\n",
       "</style>\n",
       "<table border=\"1\" class=\"dataframe\">\n",
       "  <thead>\n",
       "    <tr style=\"text-align: right;\">\n",
       "      <th></th>\n",
       "      <th>date</th>\n",
       "      <th>state</th>\n",
       "      <th>city</th>\n",
       "      <th>market</th>\n",
       "      <th>category</th>\n",
       "      <th>commodity</th>\n",
       "      <th>unit</th>\n",
       "      <th>priceflag</th>\n",
       "      <th>pricetype</th>\n",
       "      <th>currency</th>\n",
       "      <th>price</th>\n",
       "      <th>usdprice</th>\n",
       "      <th>series_id</th>\n",
       "    </tr>\n",
       "  </thead>\n",
       "  <tbody>\n",
       "    <tr>\n",
       "      <th>0</th>\n",
       "      <td>2002-01-15</td>\n",
       "      <td>Katsina</td>\n",
       "      <td>Jibia</td>\n",
       "      <td>Jibia (CBM)</td>\n",
       "      <td>cereals and tubers</td>\n",
       "      <td>Maize</td>\n",
       "      <td>KG</td>\n",
       "      <td>actual</td>\n",
       "      <td>Wholesale</td>\n",
       "      <td>NGN</td>\n",
       "      <td>175.92</td>\n",
       "      <td>1.5525</td>\n",
       "      <td>543</td>\n",
       "    </tr>\n",
       "    <tr>\n",
       "      <th>1</th>\n",
       "      <td>2002-01-15</td>\n",
       "      <td>Katsina</td>\n",
       "      <td>Jibia</td>\n",
       "      <td>Jibia (CBM)</td>\n",
       "      <td>cereals and tubers</td>\n",
       "      <td>Millet</td>\n",
       "      <td>KG</td>\n",
       "      <td>actual</td>\n",
       "      <td>Wholesale</td>\n",
       "      <td>NGN</td>\n",
       "      <td>150.18</td>\n",
       "      <td>1.3254</td>\n",
       "      <td>544</td>\n",
       "    </tr>\n",
       "    <tr>\n",
       "      <th>2</th>\n",
       "      <td>2002-01-15</td>\n",
       "      <td>Katsina</td>\n",
       "      <td>Jibia</td>\n",
       "      <td>Jibia (CBM)</td>\n",
       "      <td>cereals and tubers</td>\n",
       "      <td>Rice (imported)</td>\n",
       "      <td>KG</td>\n",
       "      <td>actual</td>\n",
       "      <td>Wholesale</td>\n",
       "      <td>NGN</td>\n",
       "      <td>358.70</td>\n",
       "      <td>3.1656</td>\n",
       "      <td>545</td>\n",
       "    </tr>\n",
       "    <tr>\n",
       "      <th>3</th>\n",
       "      <td>2002-01-15</td>\n",
       "      <td>Katsina</td>\n",
       "      <td>Jibia</td>\n",
       "      <td>Jibia (CBM)</td>\n",
       "      <td>cereals and tubers</td>\n",
       "      <td>Sorghum</td>\n",
       "      <td>KG</td>\n",
       "      <td>actual</td>\n",
       "      <td>Wholesale</td>\n",
       "      <td>NGN</td>\n",
       "      <td>155.61</td>\n",
       "      <td>1.3733</td>\n",
       "      <td>546</td>\n",
       "    </tr>\n",
       "    <tr>\n",
       "      <th>4</th>\n",
       "      <td>2002-01-15</td>\n",
       "      <td>Katsina</td>\n",
       "      <td>Jibia</td>\n",
       "      <td>Jibia (CBM)</td>\n",
       "      <td>pulses and nuts</td>\n",
       "      <td>Beans (niebe)</td>\n",
       "      <td>KG</td>\n",
       "      <td>actual</td>\n",
       "      <td>Wholesale</td>\n",
       "      <td>NGN</td>\n",
       "      <td>196.87</td>\n",
       "      <td>1.7374</td>\n",
       "      <td>548</td>\n",
       "    </tr>\n",
       "  </tbody>\n",
       "</table>\n",
       "</div>"
      ]
     },
     "execution_count": 57,
     "metadata": {},
     "output_type": "execute_result"
    }
   ],
   "execution_count": 57
  },
  {
   "metadata": {
    "ExecuteTime": {
     "end_time": "2024-08-26T22:32:36.454463Z",
     "start_time": "2024-08-26T22:32:36.387499Z"
    }
   },
   "cell_type": "code",
   "source": [
    "for col in dataframe.columns:\n",
    "    print(col)\n",
    "    print(f'Number of unique values {len(dataframe[col].unique())}')\n",
    "    print(f'Number of NAN values {dataframe[col].isna().sum()}')\n",
    "    print('-----------------------------------------------------')"
   ],
   "id": "e5ccc7467236b72",
   "outputs": [
    {
     "name": "stdout",
     "output_type": "stream",
     "text": [
      "date\n",
      "Number of unique values 258\n",
      "Number of NAN values 0\n",
      "-----------------------------------------------------\n",
      "state\n",
      "Number of unique values 14\n",
      "Number of NAN values 0\n",
      "-----------------------------------------------------\n",
      "city\n",
      "Number of unique values 31\n",
      "Number of NAN values 0\n",
      "-----------------------------------------------------\n",
      "market\n",
      "Number of unique values 40\n",
      "Number of NAN values 0\n",
      "-----------------------------------------------------\n",
      "category\n",
      "Number of unique values 8\n",
      "Number of NAN values 0\n",
      "-----------------------------------------------------\n",
      "commodity\n",
      "Number of unique values 42\n",
      "Number of NAN values 0\n",
      "-----------------------------------------------------\n",
      "unit\n",
      "Number of unique values 22\n",
      "Number of NAN values 0\n",
      "-----------------------------------------------------\n",
      "priceflag\n",
      "Number of unique values 3\n",
      "Number of NAN values 0\n",
      "-----------------------------------------------------\n",
      "pricetype\n",
      "Number of unique values 2\n",
      "Number of NAN values 0\n",
      "-----------------------------------------------------\n",
      "currency\n",
      "Number of unique values 1\n",
      "Number of NAN values 0\n",
      "-----------------------------------------------------\n",
      "price\n",
      "Number of unique values 20162\n",
      "Number of NAN values 0\n",
      "-----------------------------------------------------\n",
      "usdprice\n",
      "Number of unique values 29981\n",
      "Number of NAN values 0\n",
      "-----------------------------------------------------\n",
      "series_id\n",
      "Number of unique values 1028\n",
      "Number of NAN values 0\n",
      "-----------------------------------------------------\n"
     ]
    }
   ],
   "execution_count": 58
  },
  {
   "metadata": {},
   "cell_type": "markdown",
   "source": "### Get a one commodity and plot series",
   "id": "4acb292def018d19"
  },
  {
   "metadata": {
    "ExecuteTime": {
     "end_time": "2024-08-26T22:32:36.744880Z",
     "start_time": "2024-08-26T22:32:36.729820Z"
    }
   },
   "cell_type": "code",
   "source": [
    "filter = (dataframe['series_id'] == 543)\n",
    "dataframe_plot = dataframe[filter]\n",
    "dataframe_plot"
   ],
   "id": "30a1cfc4e78dc9be",
   "outputs": [
    {
     "data": {
      "text/plain": [
       "             date    state   city       market            category commodity  \\\n",
       "0      2002-01-15  Katsina  Jibia  Jibia (CBM)  cereals and tubers     Maize   \n",
       "10     2002-02-15  Katsina  Jibia  Jibia (CBM)  cereals and tubers     Maize   \n",
       "15     2002-03-15  Katsina  Jibia  Jibia (CBM)  cereals and tubers     Maize   \n",
       "24     2002-04-15  Katsina  Jibia  Jibia (CBM)  cereals and tubers     Maize   \n",
       "34     2002-05-15  Katsina  Jibia  Jibia (CBM)  cereals and tubers     Maize   \n",
       "...           ...      ...    ...          ...                 ...       ...   \n",
       "10330  2016-10-15  Katsina  Jibia  Jibia (CBM)  cereals and tubers     Maize   \n",
       "10774  2016-11-15  Katsina  Jibia  Jibia (CBM)  cereals and tubers     Maize   \n",
       "11844  2017-01-15  Katsina  Jibia  Jibia (CBM)  cereals and tubers     Maize   \n",
       "12273  2017-02-15  Katsina  Jibia  Jibia (CBM)  cereals and tubers     Maize   \n",
       "12846  2017-03-15  Katsina  Jibia  Jibia (CBM)  cereals and tubers     Maize   \n",
       "\n",
       "      unit priceflag  pricetype currency   price  usdprice  series_id  \n",
       "0       KG    actual  Wholesale      NGN  175.92    1.5525        543  \n",
       "10      KG    actual  Wholesale      NGN  169.76    1.4826        543  \n",
       "15      KG    actual  Wholesale      NGN  181.94    1.5767        543  \n",
       "24      KG    actual  Wholesale      NGN  190.22    1.6441        543  \n",
       "34      KG    actual  Wholesale      NGN  208.67    1.7982        543  \n",
       "...    ...       ...        ...      ...     ...       ...        ...  \n",
       "10330   KG    actual  Wholesale      NGN  196.00    0.6424        543  \n",
       "10774   KG    actual  Wholesale      NGN  199.00    0.6317        543  \n",
       "11844   KG    actual  Wholesale      NGN  185.00    0.6063        543  \n",
       "12273   KG    actual  Wholesale      NGN  190.00   60.5096        543  \n",
       "12846   KG    actual  Wholesale      NGN  234.00    0.7452        543  \n",
       "\n",
       "[122 rows x 13 columns]"
      ],
      "text/html": [
       "<div>\n",
       "<style scoped>\n",
       "    .dataframe tbody tr th:only-of-type {\n",
       "        vertical-align: middle;\n",
       "    }\n",
       "\n",
       "    .dataframe tbody tr th {\n",
       "        vertical-align: top;\n",
       "    }\n",
       "\n",
       "    .dataframe thead th {\n",
       "        text-align: right;\n",
       "    }\n",
       "</style>\n",
       "<table border=\"1\" class=\"dataframe\">\n",
       "  <thead>\n",
       "    <tr style=\"text-align: right;\">\n",
       "      <th></th>\n",
       "      <th>date</th>\n",
       "      <th>state</th>\n",
       "      <th>city</th>\n",
       "      <th>market</th>\n",
       "      <th>category</th>\n",
       "      <th>commodity</th>\n",
       "      <th>unit</th>\n",
       "      <th>priceflag</th>\n",
       "      <th>pricetype</th>\n",
       "      <th>currency</th>\n",
       "      <th>price</th>\n",
       "      <th>usdprice</th>\n",
       "      <th>series_id</th>\n",
       "    </tr>\n",
       "  </thead>\n",
       "  <tbody>\n",
       "    <tr>\n",
       "      <th>0</th>\n",
       "      <td>2002-01-15</td>\n",
       "      <td>Katsina</td>\n",
       "      <td>Jibia</td>\n",
       "      <td>Jibia (CBM)</td>\n",
       "      <td>cereals and tubers</td>\n",
       "      <td>Maize</td>\n",
       "      <td>KG</td>\n",
       "      <td>actual</td>\n",
       "      <td>Wholesale</td>\n",
       "      <td>NGN</td>\n",
       "      <td>175.92</td>\n",
       "      <td>1.5525</td>\n",
       "      <td>543</td>\n",
       "    </tr>\n",
       "    <tr>\n",
       "      <th>10</th>\n",
       "      <td>2002-02-15</td>\n",
       "      <td>Katsina</td>\n",
       "      <td>Jibia</td>\n",
       "      <td>Jibia (CBM)</td>\n",
       "      <td>cereals and tubers</td>\n",
       "      <td>Maize</td>\n",
       "      <td>KG</td>\n",
       "      <td>actual</td>\n",
       "      <td>Wholesale</td>\n",
       "      <td>NGN</td>\n",
       "      <td>169.76</td>\n",
       "      <td>1.4826</td>\n",
       "      <td>543</td>\n",
       "    </tr>\n",
       "    <tr>\n",
       "      <th>15</th>\n",
       "      <td>2002-03-15</td>\n",
       "      <td>Katsina</td>\n",
       "      <td>Jibia</td>\n",
       "      <td>Jibia (CBM)</td>\n",
       "      <td>cereals and tubers</td>\n",
       "      <td>Maize</td>\n",
       "      <td>KG</td>\n",
       "      <td>actual</td>\n",
       "      <td>Wholesale</td>\n",
       "      <td>NGN</td>\n",
       "      <td>181.94</td>\n",
       "      <td>1.5767</td>\n",
       "      <td>543</td>\n",
       "    </tr>\n",
       "    <tr>\n",
       "      <th>24</th>\n",
       "      <td>2002-04-15</td>\n",
       "      <td>Katsina</td>\n",
       "      <td>Jibia</td>\n",
       "      <td>Jibia (CBM)</td>\n",
       "      <td>cereals and tubers</td>\n",
       "      <td>Maize</td>\n",
       "      <td>KG</td>\n",
       "      <td>actual</td>\n",
       "      <td>Wholesale</td>\n",
       "      <td>NGN</td>\n",
       "      <td>190.22</td>\n",
       "      <td>1.6441</td>\n",
       "      <td>543</td>\n",
       "    </tr>\n",
       "    <tr>\n",
       "      <th>34</th>\n",
       "      <td>2002-05-15</td>\n",
       "      <td>Katsina</td>\n",
       "      <td>Jibia</td>\n",
       "      <td>Jibia (CBM)</td>\n",
       "      <td>cereals and tubers</td>\n",
       "      <td>Maize</td>\n",
       "      <td>KG</td>\n",
       "      <td>actual</td>\n",
       "      <td>Wholesale</td>\n",
       "      <td>NGN</td>\n",
       "      <td>208.67</td>\n",
       "      <td>1.7982</td>\n",
       "      <td>543</td>\n",
       "    </tr>\n",
       "    <tr>\n",
       "      <th>...</th>\n",
       "      <td>...</td>\n",
       "      <td>...</td>\n",
       "      <td>...</td>\n",
       "      <td>...</td>\n",
       "      <td>...</td>\n",
       "      <td>...</td>\n",
       "      <td>...</td>\n",
       "      <td>...</td>\n",
       "      <td>...</td>\n",
       "      <td>...</td>\n",
       "      <td>...</td>\n",
       "      <td>...</td>\n",
       "      <td>...</td>\n",
       "    </tr>\n",
       "    <tr>\n",
       "      <th>10330</th>\n",
       "      <td>2016-10-15</td>\n",
       "      <td>Katsina</td>\n",
       "      <td>Jibia</td>\n",
       "      <td>Jibia (CBM)</td>\n",
       "      <td>cereals and tubers</td>\n",
       "      <td>Maize</td>\n",
       "      <td>KG</td>\n",
       "      <td>actual</td>\n",
       "      <td>Wholesale</td>\n",
       "      <td>NGN</td>\n",
       "      <td>196.00</td>\n",
       "      <td>0.6424</td>\n",
       "      <td>543</td>\n",
       "    </tr>\n",
       "    <tr>\n",
       "      <th>10774</th>\n",
       "      <td>2016-11-15</td>\n",
       "      <td>Katsina</td>\n",
       "      <td>Jibia</td>\n",
       "      <td>Jibia (CBM)</td>\n",
       "      <td>cereals and tubers</td>\n",
       "      <td>Maize</td>\n",
       "      <td>KG</td>\n",
       "      <td>actual</td>\n",
       "      <td>Wholesale</td>\n",
       "      <td>NGN</td>\n",
       "      <td>199.00</td>\n",
       "      <td>0.6317</td>\n",
       "      <td>543</td>\n",
       "    </tr>\n",
       "    <tr>\n",
       "      <th>11844</th>\n",
       "      <td>2017-01-15</td>\n",
       "      <td>Katsina</td>\n",
       "      <td>Jibia</td>\n",
       "      <td>Jibia (CBM)</td>\n",
       "      <td>cereals and tubers</td>\n",
       "      <td>Maize</td>\n",
       "      <td>KG</td>\n",
       "      <td>actual</td>\n",
       "      <td>Wholesale</td>\n",
       "      <td>NGN</td>\n",
       "      <td>185.00</td>\n",
       "      <td>0.6063</td>\n",
       "      <td>543</td>\n",
       "    </tr>\n",
       "    <tr>\n",
       "      <th>12273</th>\n",
       "      <td>2017-02-15</td>\n",
       "      <td>Katsina</td>\n",
       "      <td>Jibia</td>\n",
       "      <td>Jibia (CBM)</td>\n",
       "      <td>cereals and tubers</td>\n",
       "      <td>Maize</td>\n",
       "      <td>KG</td>\n",
       "      <td>actual</td>\n",
       "      <td>Wholesale</td>\n",
       "      <td>NGN</td>\n",
       "      <td>190.00</td>\n",
       "      <td>60.5096</td>\n",
       "      <td>543</td>\n",
       "    </tr>\n",
       "    <tr>\n",
       "      <th>12846</th>\n",
       "      <td>2017-03-15</td>\n",
       "      <td>Katsina</td>\n",
       "      <td>Jibia</td>\n",
       "      <td>Jibia (CBM)</td>\n",
       "      <td>cereals and tubers</td>\n",
       "      <td>Maize</td>\n",
       "      <td>KG</td>\n",
       "      <td>actual</td>\n",
       "      <td>Wholesale</td>\n",
       "      <td>NGN</td>\n",
       "      <td>234.00</td>\n",
       "      <td>0.7452</td>\n",
       "      <td>543</td>\n",
       "    </tr>\n",
       "  </tbody>\n",
       "</table>\n",
       "<p>122 rows × 13 columns</p>\n",
       "</div>"
      ]
     },
     "execution_count": 59,
     "metadata": {},
     "output_type": "execute_result"
    }
   ],
   "execution_count": 59
  },
  {
   "metadata": {
    "ExecuteTime": {
     "end_time": "2024-08-26T22:32:36.880477Z",
     "start_time": "2024-08-26T22:32:36.846143Z"
    }
   },
   "cell_type": "code",
   "source": "px.line(dataframe_plot, x='date', y='price', title='Series of Maize price in Jibia in Jibia (CBM) using NGN currency')",
   "id": "c9cf451b3ef8feff",
   "outputs": [
    {
     "data": {
      "application/vnd.plotly.v1+json": {
       "data": [
        {
         "hovertemplate": "date=%{x}<br>price=%{y}<extra></extra>",
         "legendgroup": "",
         "line": {
          "color": "#636efa",
          "dash": "solid"
         },
         "marker": {
          "symbol": "circle"
         },
         "mode": "lines",
         "name": "",
         "orientation": "v",
         "showlegend": false,
         "x": [
          "2002-01-15",
          "2002-02-15",
          "2002-03-15",
          "2002-04-15",
          "2002-05-15",
          "2002-06-15",
          "2002-07-15",
          "2002-08-15",
          "2002-09-15",
          "2002-10-15",
          "2002-11-15",
          "2002-12-15",
          "2003-01-15",
          "2003-03-15",
          "2003-06-15",
          "2003-09-15",
          "2003-12-15",
          "2005-03-15",
          "2005-06-15",
          "2005-09-15",
          "2005-12-15",
          "2006-03-15",
          "2006-06-15",
          "2007-03-15",
          "2008-02-15",
          "2008-03-15",
          "2008-04-15",
          "2008-05-15",
          "2008-06-15",
          "2008-07-15",
          "2008-08-15",
          "2008-09-15",
          "2008-10-15",
          "2008-11-15",
          "2008-12-15",
          "2009-01-15",
          "2009-02-15",
          "2009-07-15",
          "2009-08-15",
          "2009-09-15",
          "2009-10-15",
          "2009-11-15",
          "2009-12-15",
          "2010-01-15",
          "2010-02-15",
          "2010-03-15",
          "2010-04-15",
          "2010-05-15",
          "2010-06-15",
          "2010-07-15",
          "2010-08-15",
          "2010-09-15",
          "2010-10-15",
          "2010-11-15",
          "2010-12-15",
          "2011-01-15",
          "2011-02-15",
          "2011-03-15",
          "2011-04-15",
          "2011-05-15",
          "2011-06-15",
          "2011-07-15",
          "2011-08-15",
          "2011-09-15",
          "2011-10-15",
          "2011-11-15",
          "2011-12-15",
          "2012-01-15",
          "2012-02-15",
          "2012-03-15",
          "2012-04-15",
          "2012-05-15",
          "2012-07-15",
          "2012-08-15",
          "2012-09-15",
          "2012-10-15",
          "2012-11-15",
          "2012-12-15",
          "2013-01-15",
          "2013-02-15",
          "2013-03-15",
          "2013-04-15",
          "2013-05-15",
          "2013-06-15",
          "2013-07-15",
          "2013-08-15",
          "2013-09-15",
          "2013-10-15",
          "2013-11-15",
          "2013-12-15",
          "2014-01-15",
          "2014-02-15",
          "2014-03-15",
          "2014-04-15",
          "2014-05-15",
          "2014-06-15",
          "2014-07-15",
          "2014-08-15",
          "2014-09-15",
          "2014-10-15",
          "2015-01-15",
          "2015-02-15",
          "2015-03-15",
          "2015-04-15",
          "2015-05-15",
          "2015-06-15",
          "2015-07-15",
          "2015-12-15",
          "2016-01-15",
          "2016-02-15",
          "2016-03-15",
          "2016-04-15",
          "2016-05-15",
          "2016-06-15",
          "2016-07-15",
          "2016-08-15",
          "2016-09-15",
          "2016-10-15",
          "2016-11-15",
          "2017-01-15",
          "2017-02-15",
          "2017-03-15"
         ],
         "xaxis": "x",
         "y": [
          175.92,
          169.76,
          181.94,
          190.22,
          208.67,
          222.26,
          233.48,
          216.45,
          135.46,
          112.5,
          98.33,
          110.01,
          109.05,
          99.12,
          95.35,
          96.51,
          80.77,
          168.5,
          239.06,
          153.78,
          138.19,
          133.04,
          147.63,
          103.0,
          195.22,
          184.63,
          172.9,
          232.0,
          248.07,
          254.08,
          241.71,
          195.44,
          169.17,
          172.0,
          165.0,
          157.21,
          162.47,
          216.0,
          160.87,
          108.67,
          102.8,
          92.74,
          153.61,
          154.25,
          155.32,
          152.96,
          173.06,
          172.82,
          192.17,
          182.97,
          166.99,
          121.77,
          128.8,
          142.4,
          151.66,
          153.85,
          147.98,
          158.7,
          183.97,
          180.53,
          183.17,
          183.3,
          174.72,
          151.82,
          144.66,
          157.14,
          162.0,
          172.81,
          170.57,
          178.1,
          188.13,
          196.64,
          222.42,
          231.09,
          211.08,
          168.3,
          195.23,
          188.27,
          197.21,
          202.88,
          221.73,
          235.07,
          248.63,
          261.75,
          264.71,
          239.69,
          184.77,
          168.36,
          172.83,
          169.25,
          165.7,
          166.34,
          178.45,
          174.14,
          168.01,
          164.34,
          155.82,
          154.17,
          153.17,
          138.12,
          127.89,
          122.35,
          120.36,
          136.0,
          140.0,
          154.0,
          144.0,
          152.0,
          166.0,
          134.0,
          134.0,
          153.0,
          170.0,
          183.0,
          187.0,
          208.0,
          196.0,
          196.0,
          199.0,
          185.0,
          190.0,
          234.0
         ],
         "yaxis": "y",
         "type": "scatter"
        }
       ],
       "layout": {
        "template": {
         "data": {
          "histogram2dcontour": [
           {
            "type": "histogram2dcontour",
            "colorbar": {
             "outlinewidth": 0,
             "ticks": ""
            },
            "colorscale": [
             [
              0.0,
              "#0d0887"
             ],
             [
              0.1111111111111111,
              "#46039f"
             ],
             [
              0.2222222222222222,
              "#7201a8"
             ],
             [
              0.3333333333333333,
              "#9c179e"
             ],
             [
              0.4444444444444444,
              "#bd3786"
             ],
             [
              0.5555555555555556,
              "#d8576b"
             ],
             [
              0.6666666666666666,
              "#ed7953"
             ],
             [
              0.7777777777777778,
              "#fb9f3a"
             ],
             [
              0.8888888888888888,
              "#fdca26"
             ],
             [
              1.0,
              "#f0f921"
             ]
            ]
           }
          ],
          "choropleth": [
           {
            "type": "choropleth",
            "colorbar": {
             "outlinewidth": 0,
             "ticks": ""
            }
           }
          ],
          "histogram2d": [
           {
            "type": "histogram2d",
            "colorbar": {
             "outlinewidth": 0,
             "ticks": ""
            },
            "colorscale": [
             [
              0.0,
              "#0d0887"
             ],
             [
              0.1111111111111111,
              "#46039f"
             ],
             [
              0.2222222222222222,
              "#7201a8"
             ],
             [
              0.3333333333333333,
              "#9c179e"
             ],
             [
              0.4444444444444444,
              "#bd3786"
             ],
             [
              0.5555555555555556,
              "#d8576b"
             ],
             [
              0.6666666666666666,
              "#ed7953"
             ],
             [
              0.7777777777777778,
              "#fb9f3a"
             ],
             [
              0.8888888888888888,
              "#fdca26"
             ],
             [
              1.0,
              "#f0f921"
             ]
            ]
           }
          ],
          "heatmap": [
           {
            "type": "heatmap",
            "colorbar": {
             "outlinewidth": 0,
             "ticks": ""
            },
            "colorscale": [
             [
              0.0,
              "#0d0887"
             ],
             [
              0.1111111111111111,
              "#46039f"
             ],
             [
              0.2222222222222222,
              "#7201a8"
             ],
             [
              0.3333333333333333,
              "#9c179e"
             ],
             [
              0.4444444444444444,
              "#bd3786"
             ],
             [
              0.5555555555555556,
              "#d8576b"
             ],
             [
              0.6666666666666666,
              "#ed7953"
             ],
             [
              0.7777777777777778,
              "#fb9f3a"
             ],
             [
              0.8888888888888888,
              "#fdca26"
             ],
             [
              1.0,
              "#f0f921"
             ]
            ]
           }
          ],
          "heatmapgl": [
           {
            "type": "heatmapgl",
            "colorbar": {
             "outlinewidth": 0,
             "ticks": ""
            },
            "colorscale": [
             [
              0.0,
              "#0d0887"
             ],
             [
              0.1111111111111111,
              "#46039f"
             ],
             [
              0.2222222222222222,
              "#7201a8"
             ],
             [
              0.3333333333333333,
              "#9c179e"
             ],
             [
              0.4444444444444444,
              "#bd3786"
             ],
             [
              0.5555555555555556,
              "#d8576b"
             ],
             [
              0.6666666666666666,
              "#ed7953"
             ],
             [
              0.7777777777777778,
              "#fb9f3a"
             ],
             [
              0.8888888888888888,
              "#fdca26"
             ],
             [
              1.0,
              "#f0f921"
             ]
            ]
           }
          ],
          "contourcarpet": [
           {
            "type": "contourcarpet",
            "colorbar": {
             "outlinewidth": 0,
             "ticks": ""
            }
           }
          ],
          "contour": [
           {
            "type": "contour",
            "colorbar": {
             "outlinewidth": 0,
             "ticks": ""
            },
            "colorscale": [
             [
              0.0,
              "#0d0887"
             ],
             [
              0.1111111111111111,
              "#46039f"
             ],
             [
              0.2222222222222222,
              "#7201a8"
             ],
             [
              0.3333333333333333,
              "#9c179e"
             ],
             [
              0.4444444444444444,
              "#bd3786"
             ],
             [
              0.5555555555555556,
              "#d8576b"
             ],
             [
              0.6666666666666666,
              "#ed7953"
             ],
             [
              0.7777777777777778,
              "#fb9f3a"
             ],
             [
              0.8888888888888888,
              "#fdca26"
             ],
             [
              1.0,
              "#f0f921"
             ]
            ]
           }
          ],
          "surface": [
           {
            "type": "surface",
            "colorbar": {
             "outlinewidth": 0,
             "ticks": ""
            },
            "colorscale": [
             [
              0.0,
              "#0d0887"
             ],
             [
              0.1111111111111111,
              "#46039f"
             ],
             [
              0.2222222222222222,
              "#7201a8"
             ],
             [
              0.3333333333333333,
              "#9c179e"
             ],
             [
              0.4444444444444444,
              "#bd3786"
             ],
             [
              0.5555555555555556,
              "#d8576b"
             ],
             [
              0.6666666666666666,
              "#ed7953"
             ],
             [
              0.7777777777777778,
              "#fb9f3a"
             ],
             [
              0.8888888888888888,
              "#fdca26"
             ],
             [
              1.0,
              "#f0f921"
             ]
            ]
           }
          ],
          "mesh3d": [
           {
            "type": "mesh3d",
            "colorbar": {
             "outlinewidth": 0,
             "ticks": ""
            }
           }
          ],
          "scatter": [
           {
            "marker": {
             "line": {
              "color": "#283442"
             }
            },
            "type": "scatter"
           }
          ],
          "parcoords": [
           {
            "type": "parcoords",
            "line": {
             "colorbar": {
              "outlinewidth": 0,
              "ticks": ""
             }
            }
           }
          ],
          "scatterpolargl": [
           {
            "type": "scatterpolargl",
            "marker": {
             "colorbar": {
              "outlinewidth": 0,
              "ticks": ""
             }
            }
           }
          ],
          "bar": [
           {
            "error_x": {
             "color": "#f2f5fa"
            },
            "error_y": {
             "color": "#f2f5fa"
            },
            "marker": {
             "line": {
              "color": "rgb(17,17,17)",
              "width": 0.5
             },
             "pattern": {
              "fillmode": "overlay",
              "size": 10,
              "solidity": 0.2
             }
            },
            "type": "bar"
           }
          ],
          "scattergeo": [
           {
            "type": "scattergeo",
            "marker": {
             "colorbar": {
              "outlinewidth": 0,
              "ticks": ""
             }
            }
           }
          ],
          "scatterpolar": [
           {
            "type": "scatterpolar",
            "marker": {
             "colorbar": {
              "outlinewidth": 0,
              "ticks": ""
             }
            }
           }
          ],
          "histogram": [
           {
            "marker": {
             "pattern": {
              "fillmode": "overlay",
              "size": 10,
              "solidity": 0.2
             }
            },
            "type": "histogram"
           }
          ],
          "scattergl": [
           {
            "marker": {
             "line": {
              "color": "#283442"
             }
            },
            "type": "scattergl"
           }
          ],
          "scatter3d": [
           {
            "type": "scatter3d",
            "line": {
             "colorbar": {
              "outlinewidth": 0,
              "ticks": ""
             }
            },
            "marker": {
             "colorbar": {
              "outlinewidth": 0,
              "ticks": ""
             }
            }
           }
          ],
          "scattermapbox": [
           {
            "type": "scattermapbox",
            "marker": {
             "colorbar": {
              "outlinewidth": 0,
              "ticks": ""
             }
            }
           }
          ],
          "scatterternary": [
           {
            "type": "scatterternary",
            "marker": {
             "colorbar": {
              "outlinewidth": 0,
              "ticks": ""
             }
            }
           }
          ],
          "scattercarpet": [
           {
            "type": "scattercarpet",
            "marker": {
             "colorbar": {
              "outlinewidth": 0,
              "ticks": ""
             }
            }
           }
          ],
          "carpet": [
           {
            "aaxis": {
             "endlinecolor": "#A2B1C6",
             "gridcolor": "#506784",
             "linecolor": "#506784",
             "minorgridcolor": "#506784",
             "startlinecolor": "#A2B1C6"
            },
            "baxis": {
             "endlinecolor": "#A2B1C6",
             "gridcolor": "#506784",
             "linecolor": "#506784",
             "minorgridcolor": "#506784",
             "startlinecolor": "#A2B1C6"
            },
            "type": "carpet"
           }
          ],
          "table": [
           {
            "cells": {
             "fill": {
              "color": "#506784"
             },
             "line": {
              "color": "rgb(17,17,17)"
             }
            },
            "header": {
             "fill": {
              "color": "#2a3f5f"
             },
             "line": {
              "color": "rgb(17,17,17)"
             }
            },
            "type": "table"
           }
          ],
          "barpolar": [
           {
            "marker": {
             "line": {
              "color": "rgb(17,17,17)",
              "width": 0.5
             },
             "pattern": {
              "fillmode": "overlay",
              "size": 10,
              "solidity": 0.2
             }
            },
            "type": "barpolar"
           }
          ],
          "pie": [
           {
            "automargin": true,
            "type": "pie"
           }
          ]
         },
         "layout": {
          "autotypenumbers": "strict",
          "colorway": [
           "#636efa",
           "#EF553B",
           "#00cc96",
           "#ab63fa",
           "#FFA15A",
           "#19d3f3",
           "#FF6692",
           "#B6E880",
           "#FF97FF",
           "#FECB52"
          ],
          "font": {
           "color": "#f2f5fa"
          },
          "hovermode": "closest",
          "hoverlabel": {
           "align": "left"
          },
          "paper_bgcolor": "rgb(17,17,17)",
          "plot_bgcolor": "rgb(17,17,17)",
          "polar": {
           "bgcolor": "rgb(17,17,17)",
           "angularaxis": {
            "gridcolor": "#506784",
            "linecolor": "#506784",
            "ticks": ""
           },
           "radialaxis": {
            "gridcolor": "#506784",
            "linecolor": "#506784",
            "ticks": ""
           }
          },
          "ternary": {
           "bgcolor": "rgb(17,17,17)",
           "aaxis": {
            "gridcolor": "#506784",
            "linecolor": "#506784",
            "ticks": ""
           },
           "baxis": {
            "gridcolor": "#506784",
            "linecolor": "#506784",
            "ticks": ""
           },
           "caxis": {
            "gridcolor": "#506784",
            "linecolor": "#506784",
            "ticks": ""
           }
          },
          "coloraxis": {
           "colorbar": {
            "outlinewidth": 0,
            "ticks": ""
           }
          },
          "colorscale": {
           "sequential": [
            [
             0.0,
             "#0d0887"
            ],
            [
             0.1111111111111111,
             "#46039f"
            ],
            [
             0.2222222222222222,
             "#7201a8"
            ],
            [
             0.3333333333333333,
             "#9c179e"
            ],
            [
             0.4444444444444444,
             "#bd3786"
            ],
            [
             0.5555555555555556,
             "#d8576b"
            ],
            [
             0.6666666666666666,
             "#ed7953"
            ],
            [
             0.7777777777777778,
             "#fb9f3a"
            ],
            [
             0.8888888888888888,
             "#fdca26"
            ],
            [
             1.0,
             "#f0f921"
            ]
           ],
           "sequentialminus": [
            [
             0.0,
             "#0d0887"
            ],
            [
             0.1111111111111111,
             "#46039f"
            ],
            [
             0.2222222222222222,
             "#7201a8"
            ],
            [
             0.3333333333333333,
             "#9c179e"
            ],
            [
             0.4444444444444444,
             "#bd3786"
            ],
            [
             0.5555555555555556,
             "#d8576b"
            ],
            [
             0.6666666666666666,
             "#ed7953"
            ],
            [
             0.7777777777777778,
             "#fb9f3a"
            ],
            [
             0.8888888888888888,
             "#fdca26"
            ],
            [
             1.0,
             "#f0f921"
            ]
           ],
           "diverging": [
            [
             0,
             "#8e0152"
            ],
            [
             0.1,
             "#c51b7d"
            ],
            [
             0.2,
             "#de77ae"
            ],
            [
             0.3,
             "#f1b6da"
            ],
            [
             0.4,
             "#fde0ef"
            ],
            [
             0.5,
             "#f7f7f7"
            ],
            [
             0.6,
             "#e6f5d0"
            ],
            [
             0.7,
             "#b8e186"
            ],
            [
             0.8,
             "#7fbc41"
            ],
            [
             0.9,
             "#4d9221"
            ],
            [
             1,
             "#276419"
            ]
           ]
          },
          "xaxis": {
           "gridcolor": "#283442",
           "linecolor": "#506784",
           "ticks": "",
           "title": {
            "standoff": 15
           },
           "zerolinecolor": "#283442",
           "automargin": true,
           "zerolinewidth": 2
          },
          "yaxis": {
           "gridcolor": "#283442",
           "linecolor": "#506784",
           "ticks": "",
           "title": {
            "standoff": 15
           },
           "zerolinecolor": "#283442",
           "automargin": true,
           "zerolinewidth": 2
          },
          "scene": {
           "xaxis": {
            "backgroundcolor": "rgb(17,17,17)",
            "gridcolor": "#506784",
            "linecolor": "#506784",
            "showbackground": true,
            "ticks": "",
            "zerolinecolor": "#C8D4E3",
            "gridwidth": 2
           },
           "yaxis": {
            "backgroundcolor": "rgb(17,17,17)",
            "gridcolor": "#506784",
            "linecolor": "#506784",
            "showbackground": true,
            "ticks": "",
            "zerolinecolor": "#C8D4E3",
            "gridwidth": 2
           },
           "zaxis": {
            "backgroundcolor": "rgb(17,17,17)",
            "gridcolor": "#506784",
            "linecolor": "#506784",
            "showbackground": true,
            "ticks": "",
            "zerolinecolor": "#C8D4E3",
            "gridwidth": 2
           }
          },
          "shapedefaults": {
           "line": {
            "color": "#f2f5fa"
           }
          },
          "annotationdefaults": {
           "arrowcolor": "#f2f5fa",
           "arrowhead": 0,
           "arrowwidth": 1
          },
          "geo": {
           "bgcolor": "rgb(17,17,17)",
           "landcolor": "rgb(17,17,17)",
           "subunitcolor": "#506784",
           "showland": true,
           "showlakes": true,
           "lakecolor": "rgb(17,17,17)"
          },
          "title": {
           "x": 0.05
          },
          "updatemenudefaults": {
           "bgcolor": "#506784",
           "borderwidth": 0
          },
          "sliderdefaults": {
           "bgcolor": "#C8D4E3",
           "borderwidth": 1,
           "bordercolor": "rgb(17,17,17)",
           "tickwidth": 0
          },
          "mapbox": {
           "style": "dark"
          }
         }
        },
        "xaxis": {
         "anchor": "y",
         "domain": [
          0.0,
          1.0
         ],
         "title": {
          "text": "date"
         }
        },
        "yaxis": {
         "anchor": "x",
         "domain": [
          0.0,
          1.0
         ],
         "title": {
          "text": "price"
         }
        },
        "legend": {
         "tracegroupgap": 0
        },
        "title": {
         "text": "Series of Maize price in Jibia in Jibia (CBM) using NGN currency"
        }
       },
       "config": {
        "plotlyServerURL": "https://plot.ly"
       }
      },
      "text/html": [
       "<div>                            <div id=\"6fc53c9b-b141-461e-91ed-33c3e8390bee\" class=\"plotly-graph-div\" style=\"height:525px; width:100%;\"></div>            <script type=\"text/javascript\">                require([\"plotly\"], function(Plotly) {                    window.PLOTLYENV=window.PLOTLYENV || {};                                    if (document.getElementById(\"6fc53c9b-b141-461e-91ed-33c3e8390bee\")) {                    Plotly.newPlot(                        \"6fc53c9b-b141-461e-91ed-33c3e8390bee\",                        [{\"hovertemplate\":\"date=%{x}\\u003cbr\\u003eprice=%{y}\\u003cextra\\u003e\\u003c\\u002fextra\\u003e\",\"legendgroup\":\"\",\"line\":{\"color\":\"#636efa\",\"dash\":\"solid\"},\"marker\":{\"symbol\":\"circle\"},\"mode\":\"lines\",\"name\":\"\",\"orientation\":\"v\",\"showlegend\":false,\"x\":[\"2002-01-15\",\"2002-02-15\",\"2002-03-15\",\"2002-04-15\",\"2002-05-15\",\"2002-06-15\",\"2002-07-15\",\"2002-08-15\",\"2002-09-15\",\"2002-10-15\",\"2002-11-15\",\"2002-12-15\",\"2003-01-15\",\"2003-03-15\",\"2003-06-15\",\"2003-09-15\",\"2003-12-15\",\"2005-03-15\",\"2005-06-15\",\"2005-09-15\",\"2005-12-15\",\"2006-03-15\",\"2006-06-15\",\"2007-03-15\",\"2008-02-15\",\"2008-03-15\",\"2008-04-15\",\"2008-05-15\",\"2008-06-15\",\"2008-07-15\",\"2008-08-15\",\"2008-09-15\",\"2008-10-15\",\"2008-11-15\",\"2008-12-15\",\"2009-01-15\",\"2009-02-15\",\"2009-07-15\",\"2009-08-15\",\"2009-09-15\",\"2009-10-15\",\"2009-11-15\",\"2009-12-15\",\"2010-01-15\",\"2010-02-15\",\"2010-03-15\",\"2010-04-15\",\"2010-05-15\",\"2010-06-15\",\"2010-07-15\",\"2010-08-15\",\"2010-09-15\",\"2010-10-15\",\"2010-11-15\",\"2010-12-15\",\"2011-01-15\",\"2011-02-15\",\"2011-03-15\",\"2011-04-15\",\"2011-05-15\",\"2011-06-15\",\"2011-07-15\",\"2011-08-15\",\"2011-09-15\",\"2011-10-15\",\"2011-11-15\",\"2011-12-15\",\"2012-01-15\",\"2012-02-15\",\"2012-03-15\",\"2012-04-15\",\"2012-05-15\",\"2012-07-15\",\"2012-08-15\",\"2012-09-15\",\"2012-10-15\",\"2012-11-15\",\"2012-12-15\",\"2013-01-15\",\"2013-02-15\",\"2013-03-15\",\"2013-04-15\",\"2013-05-15\",\"2013-06-15\",\"2013-07-15\",\"2013-08-15\",\"2013-09-15\",\"2013-10-15\",\"2013-11-15\",\"2013-12-15\",\"2014-01-15\",\"2014-02-15\",\"2014-03-15\",\"2014-04-15\",\"2014-05-15\",\"2014-06-15\",\"2014-07-15\",\"2014-08-15\",\"2014-09-15\",\"2014-10-15\",\"2015-01-15\",\"2015-02-15\",\"2015-03-15\",\"2015-04-15\",\"2015-05-15\",\"2015-06-15\",\"2015-07-15\",\"2015-12-15\",\"2016-01-15\",\"2016-02-15\",\"2016-03-15\",\"2016-04-15\",\"2016-05-15\",\"2016-06-15\",\"2016-07-15\",\"2016-08-15\",\"2016-09-15\",\"2016-10-15\",\"2016-11-15\",\"2017-01-15\",\"2017-02-15\",\"2017-03-15\"],\"xaxis\":\"x\",\"y\":[175.92,169.76,181.94,190.22,208.67,222.26,233.48,216.45,135.46,112.5,98.33,110.01,109.05,99.12,95.35,96.51,80.77,168.5,239.06,153.78,138.19,133.04,147.63,103.0,195.22,184.63,172.9,232.0,248.07,254.08,241.71,195.44,169.17,172.0,165.0,157.21,162.47,216.0,160.87,108.67,102.8,92.74,153.61,154.25,155.32,152.96,173.06,172.82,192.17,182.97,166.99,121.77,128.8,142.4,151.66,153.85,147.98,158.7,183.97,180.53,183.17,183.3,174.72,151.82,144.66,157.14,162.0,172.81,170.57,178.1,188.13,196.64,222.42,231.09,211.08,168.3,195.23,188.27,197.21,202.88,221.73,235.07,248.63,261.75,264.71,239.69,184.77,168.36,172.83,169.25,165.7,166.34,178.45,174.14,168.01,164.34,155.82,154.17,153.17,138.12,127.89,122.35,120.36,136.0,140.0,154.0,144.0,152.0,166.0,134.0,134.0,153.0,170.0,183.0,187.0,208.0,196.0,196.0,199.0,185.0,190.0,234.0],\"yaxis\":\"y\",\"type\":\"scatter\"}],                        {\"template\":{\"data\":{\"histogram2dcontour\":[{\"type\":\"histogram2dcontour\",\"colorbar\":{\"outlinewidth\":0,\"ticks\":\"\"},\"colorscale\":[[0.0,\"#0d0887\"],[0.1111111111111111,\"#46039f\"],[0.2222222222222222,\"#7201a8\"],[0.3333333333333333,\"#9c179e\"],[0.4444444444444444,\"#bd3786\"],[0.5555555555555556,\"#d8576b\"],[0.6666666666666666,\"#ed7953\"],[0.7777777777777778,\"#fb9f3a\"],[0.8888888888888888,\"#fdca26\"],[1.0,\"#f0f921\"]]}],\"choropleth\":[{\"type\":\"choropleth\",\"colorbar\":{\"outlinewidth\":0,\"ticks\":\"\"}}],\"histogram2d\":[{\"type\":\"histogram2d\",\"colorbar\":{\"outlinewidth\":0,\"ticks\":\"\"},\"colorscale\":[[0.0,\"#0d0887\"],[0.1111111111111111,\"#46039f\"],[0.2222222222222222,\"#7201a8\"],[0.3333333333333333,\"#9c179e\"],[0.4444444444444444,\"#bd3786\"],[0.5555555555555556,\"#d8576b\"],[0.6666666666666666,\"#ed7953\"],[0.7777777777777778,\"#fb9f3a\"],[0.8888888888888888,\"#fdca26\"],[1.0,\"#f0f921\"]]}],\"heatmap\":[{\"type\":\"heatmap\",\"colorbar\":{\"outlinewidth\":0,\"ticks\":\"\"},\"colorscale\":[[0.0,\"#0d0887\"],[0.1111111111111111,\"#46039f\"],[0.2222222222222222,\"#7201a8\"],[0.3333333333333333,\"#9c179e\"],[0.4444444444444444,\"#bd3786\"],[0.5555555555555556,\"#d8576b\"],[0.6666666666666666,\"#ed7953\"],[0.7777777777777778,\"#fb9f3a\"],[0.8888888888888888,\"#fdca26\"],[1.0,\"#f0f921\"]]}],\"heatmapgl\":[{\"type\":\"heatmapgl\",\"colorbar\":{\"outlinewidth\":0,\"ticks\":\"\"},\"colorscale\":[[0.0,\"#0d0887\"],[0.1111111111111111,\"#46039f\"],[0.2222222222222222,\"#7201a8\"],[0.3333333333333333,\"#9c179e\"],[0.4444444444444444,\"#bd3786\"],[0.5555555555555556,\"#d8576b\"],[0.6666666666666666,\"#ed7953\"],[0.7777777777777778,\"#fb9f3a\"],[0.8888888888888888,\"#fdca26\"],[1.0,\"#f0f921\"]]}],\"contourcarpet\":[{\"type\":\"contourcarpet\",\"colorbar\":{\"outlinewidth\":0,\"ticks\":\"\"}}],\"contour\":[{\"type\":\"contour\",\"colorbar\":{\"outlinewidth\":0,\"ticks\":\"\"},\"colorscale\":[[0.0,\"#0d0887\"],[0.1111111111111111,\"#46039f\"],[0.2222222222222222,\"#7201a8\"],[0.3333333333333333,\"#9c179e\"],[0.4444444444444444,\"#bd3786\"],[0.5555555555555556,\"#d8576b\"],[0.6666666666666666,\"#ed7953\"],[0.7777777777777778,\"#fb9f3a\"],[0.8888888888888888,\"#fdca26\"],[1.0,\"#f0f921\"]]}],\"surface\":[{\"type\":\"surface\",\"colorbar\":{\"outlinewidth\":0,\"ticks\":\"\"},\"colorscale\":[[0.0,\"#0d0887\"],[0.1111111111111111,\"#46039f\"],[0.2222222222222222,\"#7201a8\"],[0.3333333333333333,\"#9c179e\"],[0.4444444444444444,\"#bd3786\"],[0.5555555555555556,\"#d8576b\"],[0.6666666666666666,\"#ed7953\"],[0.7777777777777778,\"#fb9f3a\"],[0.8888888888888888,\"#fdca26\"],[1.0,\"#f0f921\"]]}],\"mesh3d\":[{\"type\":\"mesh3d\",\"colorbar\":{\"outlinewidth\":0,\"ticks\":\"\"}}],\"scatter\":[{\"marker\":{\"line\":{\"color\":\"#283442\"}},\"type\":\"scatter\"}],\"parcoords\":[{\"type\":\"parcoords\",\"line\":{\"colorbar\":{\"outlinewidth\":0,\"ticks\":\"\"}}}],\"scatterpolargl\":[{\"type\":\"scatterpolargl\",\"marker\":{\"colorbar\":{\"outlinewidth\":0,\"ticks\":\"\"}}}],\"bar\":[{\"error_x\":{\"color\":\"#f2f5fa\"},\"error_y\":{\"color\":\"#f2f5fa\"},\"marker\":{\"line\":{\"color\":\"rgb(17,17,17)\",\"width\":0.5},\"pattern\":{\"fillmode\":\"overlay\",\"size\":10,\"solidity\":0.2}},\"type\":\"bar\"}],\"scattergeo\":[{\"type\":\"scattergeo\",\"marker\":{\"colorbar\":{\"outlinewidth\":0,\"ticks\":\"\"}}}],\"scatterpolar\":[{\"type\":\"scatterpolar\",\"marker\":{\"colorbar\":{\"outlinewidth\":0,\"ticks\":\"\"}}}],\"histogram\":[{\"marker\":{\"pattern\":{\"fillmode\":\"overlay\",\"size\":10,\"solidity\":0.2}},\"type\":\"histogram\"}],\"scattergl\":[{\"marker\":{\"line\":{\"color\":\"#283442\"}},\"type\":\"scattergl\"}],\"scatter3d\":[{\"type\":\"scatter3d\",\"line\":{\"colorbar\":{\"outlinewidth\":0,\"ticks\":\"\"}},\"marker\":{\"colorbar\":{\"outlinewidth\":0,\"ticks\":\"\"}}}],\"scattermapbox\":[{\"type\":\"scattermapbox\",\"marker\":{\"colorbar\":{\"outlinewidth\":0,\"ticks\":\"\"}}}],\"scatterternary\":[{\"type\":\"scatterternary\",\"marker\":{\"colorbar\":{\"outlinewidth\":0,\"ticks\":\"\"}}}],\"scattercarpet\":[{\"type\":\"scattercarpet\",\"marker\":{\"colorbar\":{\"outlinewidth\":0,\"ticks\":\"\"}}}],\"carpet\":[{\"aaxis\":{\"endlinecolor\":\"#A2B1C6\",\"gridcolor\":\"#506784\",\"linecolor\":\"#506784\",\"minorgridcolor\":\"#506784\",\"startlinecolor\":\"#A2B1C6\"},\"baxis\":{\"endlinecolor\":\"#A2B1C6\",\"gridcolor\":\"#506784\",\"linecolor\":\"#506784\",\"minorgridcolor\":\"#506784\",\"startlinecolor\":\"#A2B1C6\"},\"type\":\"carpet\"}],\"table\":[{\"cells\":{\"fill\":{\"color\":\"#506784\"},\"line\":{\"color\":\"rgb(17,17,17)\"}},\"header\":{\"fill\":{\"color\":\"#2a3f5f\"},\"line\":{\"color\":\"rgb(17,17,17)\"}},\"type\":\"table\"}],\"barpolar\":[{\"marker\":{\"line\":{\"color\":\"rgb(17,17,17)\",\"width\":0.5},\"pattern\":{\"fillmode\":\"overlay\",\"size\":10,\"solidity\":0.2}},\"type\":\"barpolar\"}],\"pie\":[{\"automargin\":true,\"type\":\"pie\"}]},\"layout\":{\"autotypenumbers\":\"strict\",\"colorway\":[\"#636efa\",\"#EF553B\",\"#00cc96\",\"#ab63fa\",\"#FFA15A\",\"#19d3f3\",\"#FF6692\",\"#B6E880\",\"#FF97FF\",\"#FECB52\"],\"font\":{\"color\":\"#f2f5fa\"},\"hovermode\":\"closest\",\"hoverlabel\":{\"align\":\"left\"},\"paper_bgcolor\":\"rgb(17,17,17)\",\"plot_bgcolor\":\"rgb(17,17,17)\",\"polar\":{\"bgcolor\":\"rgb(17,17,17)\",\"angularaxis\":{\"gridcolor\":\"#506784\",\"linecolor\":\"#506784\",\"ticks\":\"\"},\"radialaxis\":{\"gridcolor\":\"#506784\",\"linecolor\":\"#506784\",\"ticks\":\"\"}},\"ternary\":{\"bgcolor\":\"rgb(17,17,17)\",\"aaxis\":{\"gridcolor\":\"#506784\",\"linecolor\":\"#506784\",\"ticks\":\"\"},\"baxis\":{\"gridcolor\":\"#506784\",\"linecolor\":\"#506784\",\"ticks\":\"\"},\"caxis\":{\"gridcolor\":\"#506784\",\"linecolor\":\"#506784\",\"ticks\":\"\"}},\"coloraxis\":{\"colorbar\":{\"outlinewidth\":0,\"ticks\":\"\"}},\"colorscale\":{\"sequential\":[[0.0,\"#0d0887\"],[0.1111111111111111,\"#46039f\"],[0.2222222222222222,\"#7201a8\"],[0.3333333333333333,\"#9c179e\"],[0.4444444444444444,\"#bd3786\"],[0.5555555555555556,\"#d8576b\"],[0.6666666666666666,\"#ed7953\"],[0.7777777777777778,\"#fb9f3a\"],[0.8888888888888888,\"#fdca26\"],[1.0,\"#f0f921\"]],\"sequentialminus\":[[0.0,\"#0d0887\"],[0.1111111111111111,\"#46039f\"],[0.2222222222222222,\"#7201a8\"],[0.3333333333333333,\"#9c179e\"],[0.4444444444444444,\"#bd3786\"],[0.5555555555555556,\"#d8576b\"],[0.6666666666666666,\"#ed7953\"],[0.7777777777777778,\"#fb9f3a\"],[0.8888888888888888,\"#fdca26\"],[1.0,\"#f0f921\"]],\"diverging\":[[0,\"#8e0152\"],[0.1,\"#c51b7d\"],[0.2,\"#de77ae\"],[0.3,\"#f1b6da\"],[0.4,\"#fde0ef\"],[0.5,\"#f7f7f7\"],[0.6,\"#e6f5d0\"],[0.7,\"#b8e186\"],[0.8,\"#7fbc41\"],[0.9,\"#4d9221\"],[1,\"#276419\"]]},\"xaxis\":{\"gridcolor\":\"#283442\",\"linecolor\":\"#506784\",\"ticks\":\"\",\"title\":{\"standoff\":15},\"zerolinecolor\":\"#283442\",\"automargin\":true,\"zerolinewidth\":2},\"yaxis\":{\"gridcolor\":\"#283442\",\"linecolor\":\"#506784\",\"ticks\":\"\",\"title\":{\"standoff\":15},\"zerolinecolor\":\"#283442\",\"automargin\":true,\"zerolinewidth\":2},\"scene\":{\"xaxis\":{\"backgroundcolor\":\"rgb(17,17,17)\",\"gridcolor\":\"#506784\",\"linecolor\":\"#506784\",\"showbackground\":true,\"ticks\":\"\",\"zerolinecolor\":\"#C8D4E3\",\"gridwidth\":2},\"yaxis\":{\"backgroundcolor\":\"rgb(17,17,17)\",\"gridcolor\":\"#506784\",\"linecolor\":\"#506784\",\"showbackground\":true,\"ticks\":\"\",\"zerolinecolor\":\"#C8D4E3\",\"gridwidth\":2},\"zaxis\":{\"backgroundcolor\":\"rgb(17,17,17)\",\"gridcolor\":\"#506784\",\"linecolor\":\"#506784\",\"showbackground\":true,\"ticks\":\"\",\"zerolinecolor\":\"#C8D4E3\",\"gridwidth\":2}},\"shapedefaults\":{\"line\":{\"color\":\"#f2f5fa\"}},\"annotationdefaults\":{\"arrowcolor\":\"#f2f5fa\",\"arrowhead\":0,\"arrowwidth\":1},\"geo\":{\"bgcolor\":\"rgb(17,17,17)\",\"landcolor\":\"rgb(17,17,17)\",\"subunitcolor\":\"#506784\",\"showland\":true,\"showlakes\":true,\"lakecolor\":\"rgb(17,17,17)\"},\"title\":{\"x\":0.05},\"updatemenudefaults\":{\"bgcolor\":\"#506784\",\"borderwidth\":0},\"sliderdefaults\":{\"bgcolor\":\"#C8D4E3\",\"borderwidth\":1,\"bordercolor\":\"rgb(17,17,17)\",\"tickwidth\":0},\"mapbox\":{\"style\":\"dark\"}}},\"xaxis\":{\"anchor\":\"y\",\"domain\":[0.0,1.0],\"title\":{\"text\":\"date\"}},\"yaxis\":{\"anchor\":\"x\",\"domain\":[0.0,1.0],\"title\":{\"text\":\"price\"}},\"legend\":{\"tracegroupgap\":0},\"title\":{\"text\":\"Series of Maize price in Jibia in Jibia (CBM) using NGN currency\"}},                        {\"responsive\": true}                    ).then(function(){\n",
       "                            \n",
       "var gd = document.getElementById('6fc53c9b-b141-461e-91ed-33c3e8390bee');\n",
       "var x = new MutationObserver(function (mutations, observer) {{\n",
       "        var display = window.getComputedStyle(gd).display;\n",
       "        if (!display || display === 'none') {{\n",
       "            console.log([gd, 'removed!']);\n",
       "            Plotly.purge(gd);\n",
       "            observer.disconnect();\n",
       "        }}\n",
       "}});\n",
       "\n",
       "// Listen for the removal of the full notebook cells\n",
       "var notebookContainer = gd.closest('#notebook-container');\n",
       "if (notebookContainer) {{\n",
       "    x.observe(notebookContainer, {childList: true});\n",
       "}}\n",
       "\n",
       "// Listen for the clearing of the current output cell\n",
       "var outputEl = gd.closest('.output');\n",
       "if (outputEl) {{\n",
       "    x.observe(outputEl, {childList: true});\n",
       "}}\n",
       "\n",
       "                        })                };                });            </script>        </div>"
      ]
     },
     "metadata": {},
     "output_type": "display_data"
    }
   ],
   "execution_count": 60
  },
  {
   "metadata": {
    "ExecuteTime": {
     "end_time": "2024-08-26T22:32:37.042422Z",
     "start_time": "2024-08-26T22:32:37.011372Z"
    }
   },
   "cell_type": "code",
   "source": "px.line(dataframe_plot, x='date', y='usdprice', title='Series of Maize price in Jibia in Jibia (CBM) using Dolar')\n",
   "id": "cce460b3e1671096",
   "outputs": [
    {
     "data": {
      "application/vnd.plotly.v1+json": {
       "data": [
        {
         "hovertemplate": "date=%{x}<br>usdprice=%{y}<extra></extra>",
         "legendgroup": "",
         "line": {
          "color": "#636efa",
          "dash": "solid"
         },
         "marker": {
          "symbol": "circle"
         },
         "mode": "lines",
         "name": "",
         "orientation": "v",
         "showlegend": false,
         "x": [
          "2002-01-15",
          "2002-02-15",
          "2002-03-15",
          "2002-04-15",
          "2002-05-15",
          "2002-06-15",
          "2002-07-15",
          "2002-08-15",
          "2002-09-15",
          "2002-10-15",
          "2002-11-15",
          "2002-12-15",
          "2003-01-15",
          "2003-03-15",
          "2003-06-15",
          "2003-09-15",
          "2003-12-15",
          "2005-03-15",
          "2005-06-15",
          "2005-09-15",
          "2005-12-15",
          "2006-03-15",
          "2006-06-15",
          "2007-03-15",
          "2008-02-15",
          "2008-03-15",
          "2008-04-15",
          "2008-05-15",
          "2008-06-15",
          "2008-07-15",
          "2008-08-15",
          "2008-09-15",
          "2008-10-15",
          "2008-11-15",
          "2008-12-15",
          "2009-01-15",
          "2009-02-15",
          "2009-07-15",
          "2009-08-15",
          "2009-09-15",
          "2009-10-15",
          "2009-11-15",
          "2009-12-15",
          "2010-01-15",
          "2010-02-15",
          "2010-03-15",
          "2010-04-15",
          "2010-05-15",
          "2010-06-15",
          "2010-07-15",
          "2010-08-15",
          "2010-09-15",
          "2010-10-15",
          "2010-11-15",
          "2010-12-15",
          "2011-01-15",
          "2011-02-15",
          "2011-03-15",
          "2011-04-15",
          "2011-05-15",
          "2011-06-15",
          "2011-07-15",
          "2011-08-15",
          "2011-09-15",
          "2011-10-15",
          "2011-11-15",
          "2011-12-15",
          "2012-01-15",
          "2012-02-15",
          "2012-03-15",
          "2012-04-15",
          "2012-05-15",
          "2012-07-15",
          "2012-08-15",
          "2012-09-15",
          "2012-10-15",
          "2012-11-15",
          "2012-12-15",
          "2013-01-15",
          "2013-02-15",
          "2013-03-15",
          "2013-04-15",
          "2013-05-15",
          "2013-06-15",
          "2013-07-15",
          "2013-08-15",
          "2013-09-15",
          "2013-10-15",
          "2013-11-15",
          "2013-12-15",
          "2014-01-15",
          "2014-02-15",
          "2014-03-15",
          "2014-04-15",
          "2014-05-15",
          "2014-06-15",
          "2014-07-15",
          "2014-08-15",
          "2014-09-15",
          "2014-10-15",
          "2015-01-15",
          "2015-02-15",
          "2015-03-15",
          "2015-04-15",
          "2015-05-15",
          "2015-06-15",
          "2015-07-15",
          "2015-12-15",
          "2016-01-15",
          "2016-02-15",
          "2016-03-15",
          "2016-04-15",
          "2016-05-15",
          "2016-06-15",
          "2016-07-15",
          "2016-08-15",
          "2016-09-15",
          "2016-10-15",
          "2016-11-15",
          "2017-01-15",
          "2017-02-15",
          "2017-03-15"
         ],
         "xaxis": "x",
         "y": [
          1.5525,
          1.4826,
          1.5767,
          1.6441,
          1.7982,
          1.8843,
          1.9066,
          1.7247,
          1.0783,
          0.8929,
          0.7784,
          0.8703,
          0.8615,
          0.7824,
          0.7486,
          0.755,
          0.5874,
          1.3011,
          1.7975,
          1.1829,
          1.0859,
          1.0459,
          1.1624,
          0.8399,
          1.6902,
          1.5657,
          1.4922,
          1.9943,
          2.1056,
          2.1785,
          2.0492,
          1.7027,
          1.4379,
          1.4605,
          1.2577,
          1.0598,
          1.1076,
          1.4516,
          1.0596,
          0.714,
          0.6768,
          0.6174,
          1.0268,
          1.0208,
          1.0297,
          1.0312,
          1.1545,
          1.1507,
          1.2701,
          1.2166,
          1.1101,
          0.8038,
          0.8474,
          0.9581,
          0.9954,
          1.0173,
          0.971,
          1.0232,
          1.1966,
          1.1664,
          1.1689,
          1.2043,
          1.148,
          0.9726,
          0.9392,
          0.9892,
          0.997,
          1.0907,
          1.0714,
          1.1301,
          1.1951,
          1.2519,
          1.4126,
          1.4802,
          1.3415,
          1.0849,
          1.2543,
          1.1967,
          1.2601,
          1.3122,
          1.4216,
          1.5171,
          1.6,
          1.664,
          1.6679,
          1.4906,
          1.1745,
          1.0652,
          1.1017,
          1.0762,
          1.0389,
          1.0574,
          1.1344,
          1.0813,
          1.0358,
          1.0448,
          0.9615,
          0.9505,
          0.9567,
          0.8534,
          0.6986,
          0.7211,
          0.6581,
          0.6834,
          0.7155,
          0.7743,
          0.724,
          0.7759,
          0.8475,
          0.6803,
          0.6815,
          0.7688,
          0.8629,
          0.9201,
          0.6667,
          0.6587,
          0.6273,
          0.6424,
          0.6317,
          0.6063,
          60.5096,
          0.7452
         ],
         "yaxis": "y",
         "type": "scatter"
        }
       ],
       "layout": {
        "template": {
         "data": {
          "histogram2dcontour": [
           {
            "type": "histogram2dcontour",
            "colorbar": {
             "outlinewidth": 0,
             "ticks": ""
            },
            "colorscale": [
             [
              0.0,
              "#0d0887"
             ],
             [
              0.1111111111111111,
              "#46039f"
             ],
             [
              0.2222222222222222,
              "#7201a8"
             ],
             [
              0.3333333333333333,
              "#9c179e"
             ],
             [
              0.4444444444444444,
              "#bd3786"
             ],
             [
              0.5555555555555556,
              "#d8576b"
             ],
             [
              0.6666666666666666,
              "#ed7953"
             ],
             [
              0.7777777777777778,
              "#fb9f3a"
             ],
             [
              0.8888888888888888,
              "#fdca26"
             ],
             [
              1.0,
              "#f0f921"
             ]
            ]
           }
          ],
          "choropleth": [
           {
            "type": "choropleth",
            "colorbar": {
             "outlinewidth": 0,
             "ticks": ""
            }
           }
          ],
          "histogram2d": [
           {
            "type": "histogram2d",
            "colorbar": {
             "outlinewidth": 0,
             "ticks": ""
            },
            "colorscale": [
             [
              0.0,
              "#0d0887"
             ],
             [
              0.1111111111111111,
              "#46039f"
             ],
             [
              0.2222222222222222,
              "#7201a8"
             ],
             [
              0.3333333333333333,
              "#9c179e"
             ],
             [
              0.4444444444444444,
              "#bd3786"
             ],
             [
              0.5555555555555556,
              "#d8576b"
             ],
             [
              0.6666666666666666,
              "#ed7953"
             ],
             [
              0.7777777777777778,
              "#fb9f3a"
             ],
             [
              0.8888888888888888,
              "#fdca26"
             ],
             [
              1.0,
              "#f0f921"
             ]
            ]
           }
          ],
          "heatmap": [
           {
            "type": "heatmap",
            "colorbar": {
             "outlinewidth": 0,
             "ticks": ""
            },
            "colorscale": [
             [
              0.0,
              "#0d0887"
             ],
             [
              0.1111111111111111,
              "#46039f"
             ],
             [
              0.2222222222222222,
              "#7201a8"
             ],
             [
              0.3333333333333333,
              "#9c179e"
             ],
             [
              0.4444444444444444,
              "#bd3786"
             ],
             [
              0.5555555555555556,
              "#d8576b"
             ],
             [
              0.6666666666666666,
              "#ed7953"
             ],
             [
              0.7777777777777778,
              "#fb9f3a"
             ],
             [
              0.8888888888888888,
              "#fdca26"
             ],
             [
              1.0,
              "#f0f921"
             ]
            ]
           }
          ],
          "heatmapgl": [
           {
            "type": "heatmapgl",
            "colorbar": {
             "outlinewidth": 0,
             "ticks": ""
            },
            "colorscale": [
             [
              0.0,
              "#0d0887"
             ],
             [
              0.1111111111111111,
              "#46039f"
             ],
             [
              0.2222222222222222,
              "#7201a8"
             ],
             [
              0.3333333333333333,
              "#9c179e"
             ],
             [
              0.4444444444444444,
              "#bd3786"
             ],
             [
              0.5555555555555556,
              "#d8576b"
             ],
             [
              0.6666666666666666,
              "#ed7953"
             ],
             [
              0.7777777777777778,
              "#fb9f3a"
             ],
             [
              0.8888888888888888,
              "#fdca26"
             ],
             [
              1.0,
              "#f0f921"
             ]
            ]
           }
          ],
          "contourcarpet": [
           {
            "type": "contourcarpet",
            "colorbar": {
             "outlinewidth": 0,
             "ticks": ""
            }
           }
          ],
          "contour": [
           {
            "type": "contour",
            "colorbar": {
             "outlinewidth": 0,
             "ticks": ""
            },
            "colorscale": [
             [
              0.0,
              "#0d0887"
             ],
             [
              0.1111111111111111,
              "#46039f"
             ],
             [
              0.2222222222222222,
              "#7201a8"
             ],
             [
              0.3333333333333333,
              "#9c179e"
             ],
             [
              0.4444444444444444,
              "#bd3786"
             ],
             [
              0.5555555555555556,
              "#d8576b"
             ],
             [
              0.6666666666666666,
              "#ed7953"
             ],
             [
              0.7777777777777778,
              "#fb9f3a"
             ],
             [
              0.8888888888888888,
              "#fdca26"
             ],
             [
              1.0,
              "#f0f921"
             ]
            ]
           }
          ],
          "surface": [
           {
            "type": "surface",
            "colorbar": {
             "outlinewidth": 0,
             "ticks": ""
            },
            "colorscale": [
             [
              0.0,
              "#0d0887"
             ],
             [
              0.1111111111111111,
              "#46039f"
             ],
             [
              0.2222222222222222,
              "#7201a8"
             ],
             [
              0.3333333333333333,
              "#9c179e"
             ],
             [
              0.4444444444444444,
              "#bd3786"
             ],
             [
              0.5555555555555556,
              "#d8576b"
             ],
             [
              0.6666666666666666,
              "#ed7953"
             ],
             [
              0.7777777777777778,
              "#fb9f3a"
             ],
             [
              0.8888888888888888,
              "#fdca26"
             ],
             [
              1.0,
              "#f0f921"
             ]
            ]
           }
          ],
          "mesh3d": [
           {
            "type": "mesh3d",
            "colorbar": {
             "outlinewidth": 0,
             "ticks": ""
            }
           }
          ],
          "scatter": [
           {
            "marker": {
             "line": {
              "color": "#283442"
             }
            },
            "type": "scatter"
           }
          ],
          "parcoords": [
           {
            "type": "parcoords",
            "line": {
             "colorbar": {
              "outlinewidth": 0,
              "ticks": ""
             }
            }
           }
          ],
          "scatterpolargl": [
           {
            "type": "scatterpolargl",
            "marker": {
             "colorbar": {
              "outlinewidth": 0,
              "ticks": ""
             }
            }
           }
          ],
          "bar": [
           {
            "error_x": {
             "color": "#f2f5fa"
            },
            "error_y": {
             "color": "#f2f5fa"
            },
            "marker": {
             "line": {
              "color": "rgb(17,17,17)",
              "width": 0.5
             },
             "pattern": {
              "fillmode": "overlay",
              "size": 10,
              "solidity": 0.2
             }
            },
            "type": "bar"
           }
          ],
          "scattergeo": [
           {
            "type": "scattergeo",
            "marker": {
             "colorbar": {
              "outlinewidth": 0,
              "ticks": ""
             }
            }
           }
          ],
          "scatterpolar": [
           {
            "type": "scatterpolar",
            "marker": {
             "colorbar": {
              "outlinewidth": 0,
              "ticks": ""
             }
            }
           }
          ],
          "histogram": [
           {
            "marker": {
             "pattern": {
              "fillmode": "overlay",
              "size": 10,
              "solidity": 0.2
             }
            },
            "type": "histogram"
           }
          ],
          "scattergl": [
           {
            "marker": {
             "line": {
              "color": "#283442"
             }
            },
            "type": "scattergl"
           }
          ],
          "scatter3d": [
           {
            "type": "scatter3d",
            "line": {
             "colorbar": {
              "outlinewidth": 0,
              "ticks": ""
             }
            },
            "marker": {
             "colorbar": {
              "outlinewidth": 0,
              "ticks": ""
             }
            }
           }
          ],
          "scattermapbox": [
           {
            "type": "scattermapbox",
            "marker": {
             "colorbar": {
              "outlinewidth": 0,
              "ticks": ""
             }
            }
           }
          ],
          "scatterternary": [
           {
            "type": "scatterternary",
            "marker": {
             "colorbar": {
              "outlinewidth": 0,
              "ticks": ""
             }
            }
           }
          ],
          "scattercarpet": [
           {
            "type": "scattercarpet",
            "marker": {
             "colorbar": {
              "outlinewidth": 0,
              "ticks": ""
             }
            }
           }
          ],
          "carpet": [
           {
            "aaxis": {
             "endlinecolor": "#A2B1C6",
             "gridcolor": "#506784",
             "linecolor": "#506784",
             "minorgridcolor": "#506784",
             "startlinecolor": "#A2B1C6"
            },
            "baxis": {
             "endlinecolor": "#A2B1C6",
             "gridcolor": "#506784",
             "linecolor": "#506784",
             "minorgridcolor": "#506784",
             "startlinecolor": "#A2B1C6"
            },
            "type": "carpet"
           }
          ],
          "table": [
           {
            "cells": {
             "fill": {
              "color": "#506784"
             },
             "line": {
              "color": "rgb(17,17,17)"
             }
            },
            "header": {
             "fill": {
              "color": "#2a3f5f"
             },
             "line": {
              "color": "rgb(17,17,17)"
             }
            },
            "type": "table"
           }
          ],
          "barpolar": [
           {
            "marker": {
             "line": {
              "color": "rgb(17,17,17)",
              "width": 0.5
             },
             "pattern": {
              "fillmode": "overlay",
              "size": 10,
              "solidity": 0.2
             }
            },
            "type": "barpolar"
           }
          ],
          "pie": [
           {
            "automargin": true,
            "type": "pie"
           }
          ]
         },
         "layout": {
          "autotypenumbers": "strict",
          "colorway": [
           "#636efa",
           "#EF553B",
           "#00cc96",
           "#ab63fa",
           "#FFA15A",
           "#19d3f3",
           "#FF6692",
           "#B6E880",
           "#FF97FF",
           "#FECB52"
          ],
          "font": {
           "color": "#f2f5fa"
          },
          "hovermode": "closest",
          "hoverlabel": {
           "align": "left"
          },
          "paper_bgcolor": "rgb(17,17,17)",
          "plot_bgcolor": "rgb(17,17,17)",
          "polar": {
           "bgcolor": "rgb(17,17,17)",
           "angularaxis": {
            "gridcolor": "#506784",
            "linecolor": "#506784",
            "ticks": ""
           },
           "radialaxis": {
            "gridcolor": "#506784",
            "linecolor": "#506784",
            "ticks": ""
           }
          },
          "ternary": {
           "bgcolor": "rgb(17,17,17)",
           "aaxis": {
            "gridcolor": "#506784",
            "linecolor": "#506784",
            "ticks": ""
           },
           "baxis": {
            "gridcolor": "#506784",
            "linecolor": "#506784",
            "ticks": ""
           },
           "caxis": {
            "gridcolor": "#506784",
            "linecolor": "#506784",
            "ticks": ""
           }
          },
          "coloraxis": {
           "colorbar": {
            "outlinewidth": 0,
            "ticks": ""
           }
          },
          "colorscale": {
           "sequential": [
            [
             0.0,
             "#0d0887"
            ],
            [
             0.1111111111111111,
             "#46039f"
            ],
            [
             0.2222222222222222,
             "#7201a8"
            ],
            [
             0.3333333333333333,
             "#9c179e"
            ],
            [
             0.4444444444444444,
             "#bd3786"
            ],
            [
             0.5555555555555556,
             "#d8576b"
            ],
            [
             0.6666666666666666,
             "#ed7953"
            ],
            [
             0.7777777777777778,
             "#fb9f3a"
            ],
            [
             0.8888888888888888,
             "#fdca26"
            ],
            [
             1.0,
             "#f0f921"
            ]
           ],
           "sequentialminus": [
            [
             0.0,
             "#0d0887"
            ],
            [
             0.1111111111111111,
             "#46039f"
            ],
            [
             0.2222222222222222,
             "#7201a8"
            ],
            [
             0.3333333333333333,
             "#9c179e"
            ],
            [
             0.4444444444444444,
             "#bd3786"
            ],
            [
             0.5555555555555556,
             "#d8576b"
            ],
            [
             0.6666666666666666,
             "#ed7953"
            ],
            [
             0.7777777777777778,
             "#fb9f3a"
            ],
            [
             0.8888888888888888,
             "#fdca26"
            ],
            [
             1.0,
             "#f0f921"
            ]
           ],
           "diverging": [
            [
             0,
             "#8e0152"
            ],
            [
             0.1,
             "#c51b7d"
            ],
            [
             0.2,
             "#de77ae"
            ],
            [
             0.3,
             "#f1b6da"
            ],
            [
             0.4,
             "#fde0ef"
            ],
            [
             0.5,
             "#f7f7f7"
            ],
            [
             0.6,
             "#e6f5d0"
            ],
            [
             0.7,
             "#b8e186"
            ],
            [
             0.8,
             "#7fbc41"
            ],
            [
             0.9,
             "#4d9221"
            ],
            [
             1,
             "#276419"
            ]
           ]
          },
          "xaxis": {
           "gridcolor": "#283442",
           "linecolor": "#506784",
           "ticks": "",
           "title": {
            "standoff": 15
           },
           "zerolinecolor": "#283442",
           "automargin": true,
           "zerolinewidth": 2
          },
          "yaxis": {
           "gridcolor": "#283442",
           "linecolor": "#506784",
           "ticks": "",
           "title": {
            "standoff": 15
           },
           "zerolinecolor": "#283442",
           "automargin": true,
           "zerolinewidth": 2
          },
          "scene": {
           "xaxis": {
            "backgroundcolor": "rgb(17,17,17)",
            "gridcolor": "#506784",
            "linecolor": "#506784",
            "showbackground": true,
            "ticks": "",
            "zerolinecolor": "#C8D4E3",
            "gridwidth": 2
           },
           "yaxis": {
            "backgroundcolor": "rgb(17,17,17)",
            "gridcolor": "#506784",
            "linecolor": "#506784",
            "showbackground": true,
            "ticks": "",
            "zerolinecolor": "#C8D4E3",
            "gridwidth": 2
           },
           "zaxis": {
            "backgroundcolor": "rgb(17,17,17)",
            "gridcolor": "#506784",
            "linecolor": "#506784",
            "showbackground": true,
            "ticks": "",
            "zerolinecolor": "#C8D4E3",
            "gridwidth": 2
           }
          },
          "shapedefaults": {
           "line": {
            "color": "#f2f5fa"
           }
          },
          "annotationdefaults": {
           "arrowcolor": "#f2f5fa",
           "arrowhead": 0,
           "arrowwidth": 1
          },
          "geo": {
           "bgcolor": "rgb(17,17,17)",
           "landcolor": "rgb(17,17,17)",
           "subunitcolor": "#506784",
           "showland": true,
           "showlakes": true,
           "lakecolor": "rgb(17,17,17)"
          },
          "title": {
           "x": 0.05
          },
          "updatemenudefaults": {
           "bgcolor": "#506784",
           "borderwidth": 0
          },
          "sliderdefaults": {
           "bgcolor": "#C8D4E3",
           "borderwidth": 1,
           "bordercolor": "rgb(17,17,17)",
           "tickwidth": 0
          },
          "mapbox": {
           "style": "dark"
          }
         }
        },
        "xaxis": {
         "anchor": "y",
         "domain": [
          0.0,
          1.0
         ],
         "title": {
          "text": "date"
         }
        },
        "yaxis": {
         "anchor": "x",
         "domain": [
          0.0,
          1.0
         ],
         "title": {
          "text": "usdprice"
         }
        },
        "legend": {
         "tracegroupgap": 0
        },
        "title": {
         "text": "Series of Maize price in Jibia in Jibia (CBM) using Dolar"
        }
       },
       "config": {
        "plotlyServerURL": "https://plot.ly"
       }
      },
      "text/html": [
       "<div>                            <div id=\"7854cdbf-55ba-4a42-b96f-a7d12fc64a97\" class=\"plotly-graph-div\" style=\"height:525px; width:100%;\"></div>            <script type=\"text/javascript\">                require([\"plotly\"], function(Plotly) {                    window.PLOTLYENV=window.PLOTLYENV || {};                                    if (document.getElementById(\"7854cdbf-55ba-4a42-b96f-a7d12fc64a97\")) {                    Plotly.newPlot(                        \"7854cdbf-55ba-4a42-b96f-a7d12fc64a97\",                        [{\"hovertemplate\":\"date=%{x}\\u003cbr\\u003eusdprice=%{y}\\u003cextra\\u003e\\u003c\\u002fextra\\u003e\",\"legendgroup\":\"\",\"line\":{\"color\":\"#636efa\",\"dash\":\"solid\"},\"marker\":{\"symbol\":\"circle\"},\"mode\":\"lines\",\"name\":\"\",\"orientation\":\"v\",\"showlegend\":false,\"x\":[\"2002-01-15\",\"2002-02-15\",\"2002-03-15\",\"2002-04-15\",\"2002-05-15\",\"2002-06-15\",\"2002-07-15\",\"2002-08-15\",\"2002-09-15\",\"2002-10-15\",\"2002-11-15\",\"2002-12-15\",\"2003-01-15\",\"2003-03-15\",\"2003-06-15\",\"2003-09-15\",\"2003-12-15\",\"2005-03-15\",\"2005-06-15\",\"2005-09-15\",\"2005-12-15\",\"2006-03-15\",\"2006-06-15\",\"2007-03-15\",\"2008-02-15\",\"2008-03-15\",\"2008-04-15\",\"2008-05-15\",\"2008-06-15\",\"2008-07-15\",\"2008-08-15\",\"2008-09-15\",\"2008-10-15\",\"2008-11-15\",\"2008-12-15\",\"2009-01-15\",\"2009-02-15\",\"2009-07-15\",\"2009-08-15\",\"2009-09-15\",\"2009-10-15\",\"2009-11-15\",\"2009-12-15\",\"2010-01-15\",\"2010-02-15\",\"2010-03-15\",\"2010-04-15\",\"2010-05-15\",\"2010-06-15\",\"2010-07-15\",\"2010-08-15\",\"2010-09-15\",\"2010-10-15\",\"2010-11-15\",\"2010-12-15\",\"2011-01-15\",\"2011-02-15\",\"2011-03-15\",\"2011-04-15\",\"2011-05-15\",\"2011-06-15\",\"2011-07-15\",\"2011-08-15\",\"2011-09-15\",\"2011-10-15\",\"2011-11-15\",\"2011-12-15\",\"2012-01-15\",\"2012-02-15\",\"2012-03-15\",\"2012-04-15\",\"2012-05-15\",\"2012-07-15\",\"2012-08-15\",\"2012-09-15\",\"2012-10-15\",\"2012-11-15\",\"2012-12-15\",\"2013-01-15\",\"2013-02-15\",\"2013-03-15\",\"2013-04-15\",\"2013-05-15\",\"2013-06-15\",\"2013-07-15\",\"2013-08-15\",\"2013-09-15\",\"2013-10-15\",\"2013-11-15\",\"2013-12-15\",\"2014-01-15\",\"2014-02-15\",\"2014-03-15\",\"2014-04-15\",\"2014-05-15\",\"2014-06-15\",\"2014-07-15\",\"2014-08-15\",\"2014-09-15\",\"2014-10-15\",\"2015-01-15\",\"2015-02-15\",\"2015-03-15\",\"2015-04-15\",\"2015-05-15\",\"2015-06-15\",\"2015-07-15\",\"2015-12-15\",\"2016-01-15\",\"2016-02-15\",\"2016-03-15\",\"2016-04-15\",\"2016-05-15\",\"2016-06-15\",\"2016-07-15\",\"2016-08-15\",\"2016-09-15\",\"2016-10-15\",\"2016-11-15\",\"2017-01-15\",\"2017-02-15\",\"2017-03-15\"],\"xaxis\":\"x\",\"y\":[1.5525,1.4826,1.5767,1.6441,1.7982,1.8843,1.9066,1.7247,1.0783,0.8929,0.7784,0.8703,0.8615,0.7824,0.7486,0.755,0.5874,1.3011,1.7975,1.1829,1.0859,1.0459,1.1624,0.8399,1.6902,1.5657,1.4922,1.9943,2.1056,2.1785,2.0492,1.7027,1.4379,1.4605,1.2577,1.0598,1.1076,1.4516,1.0596,0.714,0.6768,0.6174,1.0268,1.0208,1.0297,1.0312,1.1545,1.1507,1.2701,1.2166,1.1101,0.8038,0.8474,0.9581,0.9954,1.0173,0.971,1.0232,1.1966,1.1664,1.1689,1.2043,1.148,0.9726,0.9392,0.9892,0.997,1.0907,1.0714,1.1301,1.1951,1.2519,1.4126,1.4802,1.3415,1.0849,1.2543,1.1967,1.2601,1.3122,1.4216,1.5171,1.6,1.664,1.6679,1.4906,1.1745,1.0652,1.1017,1.0762,1.0389,1.0574,1.1344,1.0813,1.0358,1.0448,0.9615,0.9505,0.9567,0.8534,0.6986,0.7211,0.6581,0.6834,0.7155,0.7743,0.724,0.7759,0.8475,0.6803,0.6815,0.7688,0.8629,0.9201,0.6667,0.6587,0.6273,0.6424,0.6317,0.6063,60.5096,0.7452],\"yaxis\":\"y\",\"type\":\"scatter\"}],                        {\"template\":{\"data\":{\"histogram2dcontour\":[{\"type\":\"histogram2dcontour\",\"colorbar\":{\"outlinewidth\":0,\"ticks\":\"\"},\"colorscale\":[[0.0,\"#0d0887\"],[0.1111111111111111,\"#46039f\"],[0.2222222222222222,\"#7201a8\"],[0.3333333333333333,\"#9c179e\"],[0.4444444444444444,\"#bd3786\"],[0.5555555555555556,\"#d8576b\"],[0.6666666666666666,\"#ed7953\"],[0.7777777777777778,\"#fb9f3a\"],[0.8888888888888888,\"#fdca26\"],[1.0,\"#f0f921\"]]}],\"choropleth\":[{\"type\":\"choropleth\",\"colorbar\":{\"outlinewidth\":0,\"ticks\":\"\"}}],\"histogram2d\":[{\"type\":\"histogram2d\",\"colorbar\":{\"outlinewidth\":0,\"ticks\":\"\"},\"colorscale\":[[0.0,\"#0d0887\"],[0.1111111111111111,\"#46039f\"],[0.2222222222222222,\"#7201a8\"],[0.3333333333333333,\"#9c179e\"],[0.4444444444444444,\"#bd3786\"],[0.5555555555555556,\"#d8576b\"],[0.6666666666666666,\"#ed7953\"],[0.7777777777777778,\"#fb9f3a\"],[0.8888888888888888,\"#fdca26\"],[1.0,\"#f0f921\"]]}],\"heatmap\":[{\"type\":\"heatmap\",\"colorbar\":{\"outlinewidth\":0,\"ticks\":\"\"},\"colorscale\":[[0.0,\"#0d0887\"],[0.1111111111111111,\"#46039f\"],[0.2222222222222222,\"#7201a8\"],[0.3333333333333333,\"#9c179e\"],[0.4444444444444444,\"#bd3786\"],[0.5555555555555556,\"#d8576b\"],[0.6666666666666666,\"#ed7953\"],[0.7777777777777778,\"#fb9f3a\"],[0.8888888888888888,\"#fdca26\"],[1.0,\"#f0f921\"]]}],\"heatmapgl\":[{\"type\":\"heatmapgl\",\"colorbar\":{\"outlinewidth\":0,\"ticks\":\"\"},\"colorscale\":[[0.0,\"#0d0887\"],[0.1111111111111111,\"#46039f\"],[0.2222222222222222,\"#7201a8\"],[0.3333333333333333,\"#9c179e\"],[0.4444444444444444,\"#bd3786\"],[0.5555555555555556,\"#d8576b\"],[0.6666666666666666,\"#ed7953\"],[0.7777777777777778,\"#fb9f3a\"],[0.8888888888888888,\"#fdca26\"],[1.0,\"#f0f921\"]]}],\"contourcarpet\":[{\"type\":\"contourcarpet\",\"colorbar\":{\"outlinewidth\":0,\"ticks\":\"\"}}],\"contour\":[{\"type\":\"contour\",\"colorbar\":{\"outlinewidth\":0,\"ticks\":\"\"},\"colorscale\":[[0.0,\"#0d0887\"],[0.1111111111111111,\"#46039f\"],[0.2222222222222222,\"#7201a8\"],[0.3333333333333333,\"#9c179e\"],[0.4444444444444444,\"#bd3786\"],[0.5555555555555556,\"#d8576b\"],[0.6666666666666666,\"#ed7953\"],[0.7777777777777778,\"#fb9f3a\"],[0.8888888888888888,\"#fdca26\"],[1.0,\"#f0f921\"]]}],\"surface\":[{\"type\":\"surface\",\"colorbar\":{\"outlinewidth\":0,\"ticks\":\"\"},\"colorscale\":[[0.0,\"#0d0887\"],[0.1111111111111111,\"#46039f\"],[0.2222222222222222,\"#7201a8\"],[0.3333333333333333,\"#9c179e\"],[0.4444444444444444,\"#bd3786\"],[0.5555555555555556,\"#d8576b\"],[0.6666666666666666,\"#ed7953\"],[0.7777777777777778,\"#fb9f3a\"],[0.8888888888888888,\"#fdca26\"],[1.0,\"#f0f921\"]]}],\"mesh3d\":[{\"type\":\"mesh3d\",\"colorbar\":{\"outlinewidth\":0,\"ticks\":\"\"}}],\"scatter\":[{\"marker\":{\"line\":{\"color\":\"#283442\"}},\"type\":\"scatter\"}],\"parcoords\":[{\"type\":\"parcoords\",\"line\":{\"colorbar\":{\"outlinewidth\":0,\"ticks\":\"\"}}}],\"scatterpolargl\":[{\"type\":\"scatterpolargl\",\"marker\":{\"colorbar\":{\"outlinewidth\":0,\"ticks\":\"\"}}}],\"bar\":[{\"error_x\":{\"color\":\"#f2f5fa\"},\"error_y\":{\"color\":\"#f2f5fa\"},\"marker\":{\"line\":{\"color\":\"rgb(17,17,17)\",\"width\":0.5},\"pattern\":{\"fillmode\":\"overlay\",\"size\":10,\"solidity\":0.2}},\"type\":\"bar\"}],\"scattergeo\":[{\"type\":\"scattergeo\",\"marker\":{\"colorbar\":{\"outlinewidth\":0,\"ticks\":\"\"}}}],\"scatterpolar\":[{\"type\":\"scatterpolar\",\"marker\":{\"colorbar\":{\"outlinewidth\":0,\"ticks\":\"\"}}}],\"histogram\":[{\"marker\":{\"pattern\":{\"fillmode\":\"overlay\",\"size\":10,\"solidity\":0.2}},\"type\":\"histogram\"}],\"scattergl\":[{\"marker\":{\"line\":{\"color\":\"#283442\"}},\"type\":\"scattergl\"}],\"scatter3d\":[{\"type\":\"scatter3d\",\"line\":{\"colorbar\":{\"outlinewidth\":0,\"ticks\":\"\"}},\"marker\":{\"colorbar\":{\"outlinewidth\":0,\"ticks\":\"\"}}}],\"scattermapbox\":[{\"type\":\"scattermapbox\",\"marker\":{\"colorbar\":{\"outlinewidth\":0,\"ticks\":\"\"}}}],\"scatterternary\":[{\"type\":\"scatterternary\",\"marker\":{\"colorbar\":{\"outlinewidth\":0,\"ticks\":\"\"}}}],\"scattercarpet\":[{\"type\":\"scattercarpet\",\"marker\":{\"colorbar\":{\"outlinewidth\":0,\"ticks\":\"\"}}}],\"carpet\":[{\"aaxis\":{\"endlinecolor\":\"#A2B1C6\",\"gridcolor\":\"#506784\",\"linecolor\":\"#506784\",\"minorgridcolor\":\"#506784\",\"startlinecolor\":\"#A2B1C6\"},\"baxis\":{\"endlinecolor\":\"#A2B1C6\",\"gridcolor\":\"#506784\",\"linecolor\":\"#506784\",\"minorgridcolor\":\"#506784\",\"startlinecolor\":\"#A2B1C6\"},\"type\":\"carpet\"}],\"table\":[{\"cells\":{\"fill\":{\"color\":\"#506784\"},\"line\":{\"color\":\"rgb(17,17,17)\"}},\"header\":{\"fill\":{\"color\":\"#2a3f5f\"},\"line\":{\"color\":\"rgb(17,17,17)\"}},\"type\":\"table\"}],\"barpolar\":[{\"marker\":{\"line\":{\"color\":\"rgb(17,17,17)\",\"width\":0.5},\"pattern\":{\"fillmode\":\"overlay\",\"size\":10,\"solidity\":0.2}},\"type\":\"barpolar\"}],\"pie\":[{\"automargin\":true,\"type\":\"pie\"}]},\"layout\":{\"autotypenumbers\":\"strict\",\"colorway\":[\"#636efa\",\"#EF553B\",\"#00cc96\",\"#ab63fa\",\"#FFA15A\",\"#19d3f3\",\"#FF6692\",\"#B6E880\",\"#FF97FF\",\"#FECB52\"],\"font\":{\"color\":\"#f2f5fa\"},\"hovermode\":\"closest\",\"hoverlabel\":{\"align\":\"left\"},\"paper_bgcolor\":\"rgb(17,17,17)\",\"plot_bgcolor\":\"rgb(17,17,17)\",\"polar\":{\"bgcolor\":\"rgb(17,17,17)\",\"angularaxis\":{\"gridcolor\":\"#506784\",\"linecolor\":\"#506784\",\"ticks\":\"\"},\"radialaxis\":{\"gridcolor\":\"#506784\",\"linecolor\":\"#506784\",\"ticks\":\"\"}},\"ternary\":{\"bgcolor\":\"rgb(17,17,17)\",\"aaxis\":{\"gridcolor\":\"#506784\",\"linecolor\":\"#506784\",\"ticks\":\"\"},\"baxis\":{\"gridcolor\":\"#506784\",\"linecolor\":\"#506784\",\"ticks\":\"\"},\"caxis\":{\"gridcolor\":\"#506784\",\"linecolor\":\"#506784\",\"ticks\":\"\"}},\"coloraxis\":{\"colorbar\":{\"outlinewidth\":0,\"ticks\":\"\"}},\"colorscale\":{\"sequential\":[[0.0,\"#0d0887\"],[0.1111111111111111,\"#46039f\"],[0.2222222222222222,\"#7201a8\"],[0.3333333333333333,\"#9c179e\"],[0.4444444444444444,\"#bd3786\"],[0.5555555555555556,\"#d8576b\"],[0.6666666666666666,\"#ed7953\"],[0.7777777777777778,\"#fb9f3a\"],[0.8888888888888888,\"#fdca26\"],[1.0,\"#f0f921\"]],\"sequentialminus\":[[0.0,\"#0d0887\"],[0.1111111111111111,\"#46039f\"],[0.2222222222222222,\"#7201a8\"],[0.3333333333333333,\"#9c179e\"],[0.4444444444444444,\"#bd3786\"],[0.5555555555555556,\"#d8576b\"],[0.6666666666666666,\"#ed7953\"],[0.7777777777777778,\"#fb9f3a\"],[0.8888888888888888,\"#fdca26\"],[1.0,\"#f0f921\"]],\"diverging\":[[0,\"#8e0152\"],[0.1,\"#c51b7d\"],[0.2,\"#de77ae\"],[0.3,\"#f1b6da\"],[0.4,\"#fde0ef\"],[0.5,\"#f7f7f7\"],[0.6,\"#e6f5d0\"],[0.7,\"#b8e186\"],[0.8,\"#7fbc41\"],[0.9,\"#4d9221\"],[1,\"#276419\"]]},\"xaxis\":{\"gridcolor\":\"#283442\",\"linecolor\":\"#506784\",\"ticks\":\"\",\"title\":{\"standoff\":15},\"zerolinecolor\":\"#283442\",\"automargin\":true,\"zerolinewidth\":2},\"yaxis\":{\"gridcolor\":\"#283442\",\"linecolor\":\"#506784\",\"ticks\":\"\",\"title\":{\"standoff\":15},\"zerolinecolor\":\"#283442\",\"automargin\":true,\"zerolinewidth\":2},\"scene\":{\"xaxis\":{\"backgroundcolor\":\"rgb(17,17,17)\",\"gridcolor\":\"#506784\",\"linecolor\":\"#506784\",\"showbackground\":true,\"ticks\":\"\",\"zerolinecolor\":\"#C8D4E3\",\"gridwidth\":2},\"yaxis\":{\"backgroundcolor\":\"rgb(17,17,17)\",\"gridcolor\":\"#506784\",\"linecolor\":\"#506784\",\"showbackground\":true,\"ticks\":\"\",\"zerolinecolor\":\"#C8D4E3\",\"gridwidth\":2},\"zaxis\":{\"backgroundcolor\":\"rgb(17,17,17)\",\"gridcolor\":\"#506784\",\"linecolor\":\"#506784\",\"showbackground\":true,\"ticks\":\"\",\"zerolinecolor\":\"#C8D4E3\",\"gridwidth\":2}},\"shapedefaults\":{\"line\":{\"color\":\"#f2f5fa\"}},\"annotationdefaults\":{\"arrowcolor\":\"#f2f5fa\",\"arrowhead\":0,\"arrowwidth\":1},\"geo\":{\"bgcolor\":\"rgb(17,17,17)\",\"landcolor\":\"rgb(17,17,17)\",\"subunitcolor\":\"#506784\",\"showland\":true,\"showlakes\":true,\"lakecolor\":\"rgb(17,17,17)\"},\"title\":{\"x\":0.05},\"updatemenudefaults\":{\"bgcolor\":\"#506784\",\"borderwidth\":0},\"sliderdefaults\":{\"bgcolor\":\"#C8D4E3\",\"borderwidth\":1,\"bordercolor\":\"rgb(17,17,17)\",\"tickwidth\":0},\"mapbox\":{\"style\":\"dark\"}}},\"xaxis\":{\"anchor\":\"y\",\"domain\":[0.0,1.0],\"title\":{\"text\":\"date\"}},\"yaxis\":{\"anchor\":\"x\",\"domain\":[0.0,1.0],\"title\":{\"text\":\"usdprice\"}},\"legend\":{\"tracegroupgap\":0},\"title\":{\"text\":\"Series of Maize price in Jibia in Jibia (CBM) using Dolar\"}},                        {\"responsive\": true}                    ).then(function(){\n",
       "                            \n",
       "var gd = document.getElementById('7854cdbf-55ba-4a42-b96f-a7d12fc64a97');\n",
       "var x = new MutationObserver(function (mutations, observer) {{\n",
       "        var display = window.getComputedStyle(gd).display;\n",
       "        if (!display || display === 'none') {{\n",
       "            console.log([gd, 'removed!']);\n",
       "            Plotly.purge(gd);\n",
       "            observer.disconnect();\n",
       "        }}\n",
       "}});\n",
       "\n",
       "// Listen for the removal of the full notebook cells\n",
       "var notebookContainer = gd.closest('#notebook-container');\n",
       "if (notebookContainer) {{\n",
       "    x.observe(notebookContainer, {childList: true});\n",
       "}}\n",
       "\n",
       "// Listen for the clearing of the current output cell\n",
       "var outputEl = gd.closest('.output');\n",
       "if (outputEl) {{\n",
       "    x.observe(outputEl, {childList: true});\n",
       "}}\n",
       "\n",
       "                        })                };                });            </script>        </div>"
      ]
     },
     "metadata": {},
     "output_type": "display_data"
    }
   ],
   "execution_count": 61
  },
  {
   "metadata": {},
   "cell_type": "markdown",
   "source": [
    "### Time series has problem, not full continues data \n",
    "* Drop\n",
    "* Rebuild series (moving average or other technic)\n"
   ],
   "id": "d0eb147b2c2aa888"
  },
  {
   "metadata": {
    "ExecuteTime": {
     "end_time": "2024-08-26T22:32:37.430003Z",
     "start_time": "2024-08-26T22:32:37.143688Z"
    }
   },
   "cell_type": "code",
   "source": [
    "dataframe['date'] = pd.to_datetime(dataframe['date'])\n",
    "dataframe['date'] = dataframe['date'].apply(lambda x: x.replace(day=1))\n",
    "dataframe"
   ],
   "id": "4d1daa050b8c937b",
   "outputs": [
    {
     "data": {
      "text/plain": [
       "            date    state          city        market            category  \\\n",
       "0     2002-01-01  Katsina         Jibia   Jibia (CBM)  cereals and tubers   \n",
       "1     2002-01-01  Katsina         Jibia   Jibia (CBM)  cereals and tubers   \n",
       "2     2002-01-01  Katsina         Jibia   Jibia (CBM)  cereals and tubers   \n",
       "3     2002-01-01  Katsina         Jibia   Jibia (CBM)  cereals and tubers   \n",
       "4     2002-01-01  Katsina         Jibia   Jibia (CBM)     pulses and nuts   \n",
       "...          ...      ...           ...           ...                 ...   \n",
       "67027 2023-01-01  Zamfara  Kaura Namoda  Kaura Namoda     pulses and nuts   \n",
       "67028 2023-01-01  Zamfara  Kaura Namoda  Kaura Namoda     pulses and nuts   \n",
       "67029 2023-01-01  Zamfara  Kaura Namoda  Kaura Namoda     pulses and nuts   \n",
       "67030 2023-01-01  Zamfara  Kaura Namoda  Kaura Namoda     pulses and nuts   \n",
       "67031 2023-01-01  Zamfara  Kaura Namoda  Kaura Namoda     pulses and nuts   \n",
       "\n",
       "                  commodity    unit  priceflag  pricetype currency     price  \\\n",
       "0                     Maize      KG     actual  Wholesale      NGN    175.92   \n",
       "1                    Millet      KG     actual  Wholesale      NGN    150.18   \n",
       "2           Rice (imported)      KG     actual  Wholesale      NGN    358.70   \n",
       "3                   Sorghum      KG     actual  Wholesale      NGN    155.61   \n",
       "4             Beans (niebe)      KG     actual  Wholesale      NGN    196.87   \n",
       "...                     ...     ...        ...        ...      ...       ...   \n",
       "67027       Cowpeas (brown)      KG  aggregate     Retail      NGN    298.55   \n",
       "67028       Cowpeas (white)  100 KG  aggregate  Wholesale      NGN  29440.00   \n",
       "67029       Cowpeas (white)      KG  aggregate     Retail      NGN    274.82   \n",
       "67030  Groundnuts (shelled)  100 KG  aggregate  Wholesale      NGN  46960.00   \n",
       "67031  Groundnuts (shelled)      KG  aggregate     Retail      NGN    467.66   \n",
       "\n",
       "       usdprice  series_id  \n",
       "0        1.5525        543  \n",
       "1        1.3254        544  \n",
       "2        3.1656        545  \n",
       "3        1.3733        546  \n",
       "4        1.7374        548  \n",
       "...         ...        ...  \n",
       "67027    0.6480       1023  \n",
       "67028   63.8992       1024  \n",
       "67029    0.5965       1025  \n",
       "67030  101.9261       1026  \n",
       "67031    1.0151       1027  \n",
       "\n",
       "[67032 rows x 13 columns]"
      ],
      "text/html": [
       "<div>\n",
       "<style scoped>\n",
       "    .dataframe tbody tr th:only-of-type {\n",
       "        vertical-align: middle;\n",
       "    }\n",
       "\n",
       "    .dataframe tbody tr th {\n",
       "        vertical-align: top;\n",
       "    }\n",
       "\n",
       "    .dataframe thead th {\n",
       "        text-align: right;\n",
       "    }\n",
       "</style>\n",
       "<table border=\"1\" class=\"dataframe\">\n",
       "  <thead>\n",
       "    <tr style=\"text-align: right;\">\n",
       "      <th></th>\n",
       "      <th>date</th>\n",
       "      <th>state</th>\n",
       "      <th>city</th>\n",
       "      <th>market</th>\n",
       "      <th>category</th>\n",
       "      <th>commodity</th>\n",
       "      <th>unit</th>\n",
       "      <th>priceflag</th>\n",
       "      <th>pricetype</th>\n",
       "      <th>currency</th>\n",
       "      <th>price</th>\n",
       "      <th>usdprice</th>\n",
       "      <th>series_id</th>\n",
       "    </tr>\n",
       "  </thead>\n",
       "  <tbody>\n",
       "    <tr>\n",
       "      <th>0</th>\n",
       "      <td>2002-01-01</td>\n",
       "      <td>Katsina</td>\n",
       "      <td>Jibia</td>\n",
       "      <td>Jibia (CBM)</td>\n",
       "      <td>cereals and tubers</td>\n",
       "      <td>Maize</td>\n",
       "      <td>KG</td>\n",
       "      <td>actual</td>\n",
       "      <td>Wholesale</td>\n",
       "      <td>NGN</td>\n",
       "      <td>175.92</td>\n",
       "      <td>1.5525</td>\n",
       "      <td>543</td>\n",
       "    </tr>\n",
       "    <tr>\n",
       "      <th>1</th>\n",
       "      <td>2002-01-01</td>\n",
       "      <td>Katsina</td>\n",
       "      <td>Jibia</td>\n",
       "      <td>Jibia (CBM)</td>\n",
       "      <td>cereals and tubers</td>\n",
       "      <td>Millet</td>\n",
       "      <td>KG</td>\n",
       "      <td>actual</td>\n",
       "      <td>Wholesale</td>\n",
       "      <td>NGN</td>\n",
       "      <td>150.18</td>\n",
       "      <td>1.3254</td>\n",
       "      <td>544</td>\n",
       "    </tr>\n",
       "    <tr>\n",
       "      <th>2</th>\n",
       "      <td>2002-01-01</td>\n",
       "      <td>Katsina</td>\n",
       "      <td>Jibia</td>\n",
       "      <td>Jibia (CBM)</td>\n",
       "      <td>cereals and tubers</td>\n",
       "      <td>Rice (imported)</td>\n",
       "      <td>KG</td>\n",
       "      <td>actual</td>\n",
       "      <td>Wholesale</td>\n",
       "      <td>NGN</td>\n",
       "      <td>358.70</td>\n",
       "      <td>3.1656</td>\n",
       "      <td>545</td>\n",
       "    </tr>\n",
       "    <tr>\n",
       "      <th>3</th>\n",
       "      <td>2002-01-01</td>\n",
       "      <td>Katsina</td>\n",
       "      <td>Jibia</td>\n",
       "      <td>Jibia (CBM)</td>\n",
       "      <td>cereals and tubers</td>\n",
       "      <td>Sorghum</td>\n",
       "      <td>KG</td>\n",
       "      <td>actual</td>\n",
       "      <td>Wholesale</td>\n",
       "      <td>NGN</td>\n",
       "      <td>155.61</td>\n",
       "      <td>1.3733</td>\n",
       "      <td>546</td>\n",
       "    </tr>\n",
       "    <tr>\n",
       "      <th>4</th>\n",
       "      <td>2002-01-01</td>\n",
       "      <td>Katsina</td>\n",
       "      <td>Jibia</td>\n",
       "      <td>Jibia (CBM)</td>\n",
       "      <td>pulses and nuts</td>\n",
       "      <td>Beans (niebe)</td>\n",
       "      <td>KG</td>\n",
       "      <td>actual</td>\n",
       "      <td>Wholesale</td>\n",
       "      <td>NGN</td>\n",
       "      <td>196.87</td>\n",
       "      <td>1.7374</td>\n",
       "      <td>548</td>\n",
       "    </tr>\n",
       "    <tr>\n",
       "      <th>...</th>\n",
       "      <td>...</td>\n",
       "      <td>...</td>\n",
       "      <td>...</td>\n",
       "      <td>...</td>\n",
       "      <td>...</td>\n",
       "      <td>...</td>\n",
       "      <td>...</td>\n",
       "      <td>...</td>\n",
       "      <td>...</td>\n",
       "      <td>...</td>\n",
       "      <td>...</td>\n",
       "      <td>...</td>\n",
       "      <td>...</td>\n",
       "    </tr>\n",
       "    <tr>\n",
       "      <th>67027</th>\n",
       "      <td>2023-01-01</td>\n",
       "      <td>Zamfara</td>\n",
       "      <td>Kaura Namoda</td>\n",
       "      <td>Kaura Namoda</td>\n",
       "      <td>pulses and nuts</td>\n",
       "      <td>Cowpeas (brown)</td>\n",
       "      <td>KG</td>\n",
       "      <td>aggregate</td>\n",
       "      <td>Retail</td>\n",
       "      <td>NGN</td>\n",
       "      <td>298.55</td>\n",
       "      <td>0.6480</td>\n",
       "      <td>1023</td>\n",
       "    </tr>\n",
       "    <tr>\n",
       "      <th>67028</th>\n",
       "      <td>2023-01-01</td>\n",
       "      <td>Zamfara</td>\n",
       "      <td>Kaura Namoda</td>\n",
       "      <td>Kaura Namoda</td>\n",
       "      <td>pulses and nuts</td>\n",
       "      <td>Cowpeas (white)</td>\n",
       "      <td>100 KG</td>\n",
       "      <td>aggregate</td>\n",
       "      <td>Wholesale</td>\n",
       "      <td>NGN</td>\n",
       "      <td>29440.00</td>\n",
       "      <td>63.8992</td>\n",
       "      <td>1024</td>\n",
       "    </tr>\n",
       "    <tr>\n",
       "      <th>67029</th>\n",
       "      <td>2023-01-01</td>\n",
       "      <td>Zamfara</td>\n",
       "      <td>Kaura Namoda</td>\n",
       "      <td>Kaura Namoda</td>\n",
       "      <td>pulses and nuts</td>\n",
       "      <td>Cowpeas (white)</td>\n",
       "      <td>KG</td>\n",
       "      <td>aggregate</td>\n",
       "      <td>Retail</td>\n",
       "      <td>NGN</td>\n",
       "      <td>274.82</td>\n",
       "      <td>0.5965</td>\n",
       "      <td>1025</td>\n",
       "    </tr>\n",
       "    <tr>\n",
       "      <th>67030</th>\n",
       "      <td>2023-01-01</td>\n",
       "      <td>Zamfara</td>\n",
       "      <td>Kaura Namoda</td>\n",
       "      <td>Kaura Namoda</td>\n",
       "      <td>pulses and nuts</td>\n",
       "      <td>Groundnuts (shelled)</td>\n",
       "      <td>100 KG</td>\n",
       "      <td>aggregate</td>\n",
       "      <td>Wholesale</td>\n",
       "      <td>NGN</td>\n",
       "      <td>46960.00</td>\n",
       "      <td>101.9261</td>\n",
       "      <td>1026</td>\n",
       "    </tr>\n",
       "    <tr>\n",
       "      <th>67031</th>\n",
       "      <td>2023-01-01</td>\n",
       "      <td>Zamfara</td>\n",
       "      <td>Kaura Namoda</td>\n",
       "      <td>Kaura Namoda</td>\n",
       "      <td>pulses and nuts</td>\n",
       "      <td>Groundnuts (shelled)</td>\n",
       "      <td>KG</td>\n",
       "      <td>aggregate</td>\n",
       "      <td>Retail</td>\n",
       "      <td>NGN</td>\n",
       "      <td>467.66</td>\n",
       "      <td>1.0151</td>\n",
       "      <td>1027</td>\n",
       "    </tr>\n",
       "  </tbody>\n",
       "</table>\n",
       "<p>67032 rows × 13 columns</p>\n",
       "</div>"
      ]
     },
     "execution_count": 62,
     "metadata": {},
     "output_type": "execute_result"
    }
   ],
   "execution_count": 62
  },
  {
   "metadata": {
    "ExecuteTime": {
     "end_time": "2024-08-26T22:32:38.902210Z",
     "start_time": "2024-08-26T22:32:37.534640Z"
    }
   },
   "cell_type": "code",
   "source": [
    "def data_is_continuos(df):\n",
    "    df = df.sort_values(by='date')\n",
    "    df['diff'] = df['date'].diff()\n",
    "    is_continuous = df['diff'].iloc[1:].nunique() == 1\n",
    "    return is_continuous\n",
    "\n",
    "\n",
    "def get_incomplete_series(dataframe):\n",
    "    dataframe_continuos = {\n",
    "        'SerieCod': [],\n",
    "        'DataContinuity': [],\n",
    "        'DataPoints': []\n",
    "    }\n",
    "    for cod in dataframe['series_id'].unique():\n",
    "        dataframe_to_check = dataframe[dataframe['series_id'] == cod]\n",
    "        dataframe_continuos['SerieCod'].append(dataframe_to_check['series_id'].iloc[0])\n",
    "        dataframe_continuos['DataContinuity'].append(data_is_continuos(dataframe_to_check))\n",
    "        dataframe_continuos['DataPoints'].append(len(dataframe_to_check['date'].unique()))\n",
    "    return pd.DataFrame(dataframe_continuos)\n",
    "\n",
    "\n",
    "dataframe_continuo = get_incomplete_series(dataframe)\n",
    "dataframe_continuo"
   ],
   "id": "ffbf30ec887742b1",
   "outputs": [
    {
     "data": {
      "text/plain": [
       "      SerieCod  DataContinuity  DataPoints\n",
       "0          543           False         122\n",
       "1          544           False         123\n",
       "2          545           False         123\n",
       "3          546           False         125\n",
       "4          548           False          12\n",
       "...        ...             ...         ...\n",
       "1023       640           False          32\n",
       "1024       728           False          33\n",
       "1025       915           False          33\n",
       "1026      1017           False          33\n",
       "1027       637           False          22\n",
       "\n",
       "[1028 rows x 3 columns]"
      ],
      "text/html": [
       "<div>\n",
       "<style scoped>\n",
       "    .dataframe tbody tr th:only-of-type {\n",
       "        vertical-align: middle;\n",
       "    }\n",
       "\n",
       "    .dataframe tbody tr th {\n",
       "        vertical-align: top;\n",
       "    }\n",
       "\n",
       "    .dataframe thead th {\n",
       "        text-align: right;\n",
       "    }\n",
       "</style>\n",
       "<table border=\"1\" class=\"dataframe\">\n",
       "  <thead>\n",
       "    <tr style=\"text-align: right;\">\n",
       "      <th></th>\n",
       "      <th>SerieCod</th>\n",
       "      <th>DataContinuity</th>\n",
       "      <th>DataPoints</th>\n",
       "    </tr>\n",
       "  </thead>\n",
       "  <tbody>\n",
       "    <tr>\n",
       "      <th>0</th>\n",
       "      <td>543</td>\n",
       "      <td>False</td>\n",
       "      <td>122</td>\n",
       "    </tr>\n",
       "    <tr>\n",
       "      <th>1</th>\n",
       "      <td>544</td>\n",
       "      <td>False</td>\n",
       "      <td>123</td>\n",
       "    </tr>\n",
       "    <tr>\n",
       "      <th>2</th>\n",
       "      <td>545</td>\n",
       "      <td>False</td>\n",
       "      <td>123</td>\n",
       "    </tr>\n",
       "    <tr>\n",
       "      <th>3</th>\n",
       "      <td>546</td>\n",
       "      <td>False</td>\n",
       "      <td>125</td>\n",
       "    </tr>\n",
       "    <tr>\n",
       "      <th>4</th>\n",
       "      <td>548</td>\n",
       "      <td>False</td>\n",
       "      <td>12</td>\n",
       "    </tr>\n",
       "    <tr>\n",
       "      <th>...</th>\n",
       "      <td>...</td>\n",
       "      <td>...</td>\n",
       "      <td>...</td>\n",
       "    </tr>\n",
       "    <tr>\n",
       "      <th>1023</th>\n",
       "      <td>640</td>\n",
       "      <td>False</td>\n",
       "      <td>32</td>\n",
       "    </tr>\n",
       "    <tr>\n",
       "      <th>1024</th>\n",
       "      <td>728</td>\n",
       "      <td>False</td>\n",
       "      <td>33</td>\n",
       "    </tr>\n",
       "    <tr>\n",
       "      <th>1025</th>\n",
       "      <td>915</td>\n",
       "      <td>False</td>\n",
       "      <td>33</td>\n",
       "    </tr>\n",
       "    <tr>\n",
       "      <th>1026</th>\n",
       "      <td>1017</td>\n",
       "      <td>False</td>\n",
       "      <td>33</td>\n",
       "    </tr>\n",
       "    <tr>\n",
       "      <th>1027</th>\n",
       "      <td>637</td>\n",
       "      <td>False</td>\n",
       "      <td>22</td>\n",
       "    </tr>\n",
       "  </tbody>\n",
       "</table>\n",
       "<p>1028 rows × 3 columns</p>\n",
       "</div>"
      ]
     },
     "execution_count": 63,
     "metadata": {},
     "output_type": "execute_result"
    }
   ],
   "execution_count": 63
  },
  {
   "metadata": {
    "ExecuteTime": {
     "end_time": "2024-08-26T22:32:38.998456Z",
     "start_time": "2024-08-26T22:32:38.959858Z"
    }
   },
   "cell_type": "code",
   "source": [
    "px.histogram(dataframe_continuo['DataPoints'], title='Distribuition of number of datapoints',\n",
    "             color=dataframe_continuo['DataContinuity'])"
   ],
   "id": "273b987b7ff615b0",
   "outputs": [
    {
     "data": {
      "application/vnd.plotly.v1+json": {
       "data": [
        {
         "alignmentgroup": "True",
         "bingroup": "x",
         "hovertemplate": "color=False<br>value=%{x}<br>count=%{y}<extra></extra>",
         "legendgroup": "False",
         "marker": {
          "color": "#636efa",
          "pattern": {
           "shape": ""
          }
         },
         "name": "False",
         "offsetgroup": "False",
         "orientation": "v",
         "showlegend": true,
         "x": [
          122,
          123,
          123,
          125,
          12,
          145,
          149,
          145,
          145,
          10,
          135,
          137,
          134,
          136,
          10,
          26,
          24,
          86,
          87,
          87,
          86,
          1,
          232,
          219,
          232,
          83,
          84,
          86,
          84,
          127,
          125,
          125,
          89,
          124,
          125,
          125,
          125,
          127,
          125,
          102,
          102,
          65,
          102,
          72,
          107,
          107,
          72,
          107,
          20,
          48,
          48,
          46,
          50,
          46,
          48,
          47,
          45,
          45,
          31,
          101,
          102,
          102,
          45,
          45,
          56,
          55,
          55,
          55,
          55,
          55,
          55,
          55,
          55,
          55,
          60,
          59,
          59,
          61,
          55,
          55,
          55,
          67,
          97,
          101,
          97,
          101,
          97,
          96,
          35,
          97,
          97,
          97,
          97,
          97,
          97,
          101,
          101,
          101,
          101,
          101,
          101,
          101,
          101,
          101,
          34,
          101,
          101,
          101,
          101,
          101,
          101,
          28,
          82,
          100,
          100,
          100,
          23,
          99,
          100,
          100,
          88,
          101,
          101,
          100,
          100,
          100,
          6,
          96,
          95,
          96,
          95,
          95,
          34,
          87,
          94,
          94,
          94,
          92,
          95,
          98,
          44,
          97,
          94,
          97,
          97,
          97,
          97,
          97,
          96,
          97,
          97,
          97,
          96,
          44,
          42,
          96,
          101,
          96,
          96,
          96,
          34,
          96,
          96,
          85,
          96,
          96,
          94,
          98,
          65,
          98,
          98,
          98,
          98,
          98,
          98,
          86,
          32,
          98,
          98,
          98,
          98,
          95,
          98,
          101,
          101,
          101,
          101,
          101,
          101,
          101,
          101,
          101,
          35,
          101,
          101,
          101,
          101,
          101,
          101,
          97,
          101,
          97,
          101,
          54,
          97,
          19,
          79,
          79,
          97,
          97,
          97,
          97,
          101,
          103,
          93,
          100,
          97,
          66,
          97,
          26,
          97,
          97,
          53,
          97,
          101,
          97,
          101,
          94,
          94,
          35,
          97,
          97,
          97,
          97,
          97,
          94,
          96,
          96,
          95,
          47,
          64,
          29,
          11,
          1,
          34,
          16,
          48,
          85,
          85,
          85,
          84,
          85,
          59,
          45,
          85,
          27,
          84,
          84,
          37,
          85,
          85,
          85,
          94,
          93,
          93,
          93,
          48,
          93,
          54,
          93,
          93,
          93,
          24,
          93,
          93,
          42,
          93,
          93,
          93,
          92,
          60,
          93,
          93,
          25,
          93,
          93,
          93,
          93,
          93,
          84,
          92,
          92,
          81,
          93,
          93,
          93,
          89,
          89,
          89,
          89,
          75,
          77,
          89,
          89,
          67,
          63,
          42,
          83,
          65,
          4,
          71,
          4,
          86,
          70,
          80,
          74,
          72,
          81,
          14,
          71,
          32,
          80,
          14,
          79,
          80,
          11,
          12,
          62,
          77,
          73,
          72,
          77,
          77,
          77,
          77,
          77,
          77,
          77,
          77,
          76,
          77,
          77,
          77,
          72,
          77,
          77,
          77,
          77,
          77,
          77,
          77,
          77,
          77,
          76,
          77,
          77,
          65,
          63,
          60,
          65,
          65,
          65,
          65,
          65,
          65,
          65,
          65,
          65,
          64,
          65,
          65,
          77,
          73,
          77,
          77,
          77,
          76,
          77,
          77,
          73,
          77,
          77,
          77,
          76,
          77,
          77,
          77,
          77,
          77,
          77,
          77,
          77,
          77,
          77,
          77,
          77,
          77,
          76,
          77,
          77,
          60,
          56,
          60,
          60,
          55,
          54,
          60,
          60,
          60,
          60,
          60,
          60,
          59,
          60,
          60,
          77,
          74,
          77,
          77,
          77,
          77,
          77,
          77,
          77,
          77,
          77,
          77,
          77,
          77,
          77,
          72,
          72,
          72,
          72,
          72,
          72,
          72,
          72,
          72,
          72,
          71,
          72,
          72,
          74,
          75,
          75,
          63,
          74,
          73,
          57,
          75,
          71,
          43,
          71,
          72,
          43,
          72,
          71,
          73,
          44,
          73,
          59,
          61,
          32,
          61,
          71,
          73,
          44,
          73,
          73,
          72,
          73,
          44,
          74,
          53,
          56,
          27,
          57,
          68,
          68,
          71,
          72,
          42,
          72,
          65,
          67,
          38,
          66,
          72,
          72,
          72,
          7,
          9,
          7,
          9,
          9,
          10,
          4,
          4,
          4,
          4,
          60,
          72,
          72,
          55,
          72,
          67,
          61,
          61,
          61,
          61,
          61,
          61,
          61,
          61,
          61,
          61,
          61,
          61,
          61,
          61,
          61,
          61,
          61,
          61,
          61,
          61,
          61,
          61,
          67,
          67,
          41,
          67,
          67,
          67,
          67,
          67,
          67,
          67,
          67,
          67,
          67,
          67,
          67,
          67,
          67,
          67,
          67,
          67,
          67,
          67,
          60,
          60,
          41,
          60,
          60,
          60,
          60,
          60,
          60,
          59,
          60,
          60,
          60,
          60,
          60,
          60,
          60,
          60,
          60,
          60,
          60,
          60,
          66,
          66,
          39,
          66,
          66,
          66,
          66,
          66,
          66,
          66,
          66,
          66,
          66,
          66,
          66,
          66,
          66,
          66,
          66,
          66,
          66,
          66,
          67,
          67,
          66,
          67,
          67,
          67,
          67,
          67,
          67,
          67,
          67,
          67,
          67,
          67,
          67,
          67,
          67,
          67,
          67,
          67,
          67,
          67,
          67,
          67,
          67,
          67,
          67,
          67,
          67,
          67,
          67,
          67,
          67,
          67,
          67,
          67,
          67,
          67,
          67,
          67,
          67,
          67,
          67,
          67,
          65,
          65,
          65,
          65,
          65,
          65,
          65,
          65,
          65,
          65,
          65,
          65,
          65,
          65,
          65,
          65,
          65,
          65,
          65,
          65,
          65,
          65,
          66,
          66,
          43,
          66,
          66,
          66,
          66,
          66,
          66,
          66,
          66,
          66,
          66,
          66,
          66,
          66,
          66,
          66,
          66,
          66,
          66,
          66,
          65,
          65,
          38,
          65,
          65,
          65,
          65,
          65,
          65,
          65,
          65,
          65,
          65,
          65,
          65,
          65,
          64,
          65,
          65,
          65,
          65,
          65,
          1,
          1,
          1,
          1,
          1,
          1,
          3,
          3,
          1,
          60,
          66,
          65,
          66,
          66,
          65,
          64,
          29,
          29,
          29,
          29,
          29,
          29,
          29,
          29,
          29,
          1,
          29,
          29,
          29,
          51,
          65,
          65,
          53,
          65,
          65,
          65,
          65,
          65,
          65,
          65,
          65,
          65,
          65,
          65,
          65,
          65,
          65,
          65,
          65,
          65,
          65,
          65,
          65,
          58,
          64,
          58,
          64,
          69,
          63,
          64,
          68,
          56,
          59,
          64,
          68,
          62,
          62,
          62,
          62,
          50,
          50,
          62,
          62,
          62,
          62,
          45,
          45,
          62,
          62,
          57,
          57,
          60,
          60,
          54,
          54,
          60,
          60,
          59,
          59,
          60,
          60,
          60,
          60,
          59,
          59,
          59,
          58,
          58,
          58,
          59,
          59,
          59,
          59,
          59,
          35,
          59,
          59,
          59,
          59,
          59,
          59,
          59,
          59,
          59,
          59,
          59,
          59,
          59,
          59,
          59,
          59,
          59,
          59,
          59,
          59,
          59,
          59,
          60,
          60,
          48,
          60,
          60,
          43,
          60,
          55,
          47,
          47,
          47,
          5,
          47,
          47,
          47,
          47,
          47,
          47,
          47,
          44,
          44,
          47,
          44,
          44,
          44,
          44,
          44,
          44,
          44,
          44,
          44,
          47,
          47,
          47,
          47,
          47,
          47,
          47,
          47,
          47,
          47,
          47,
          47,
          46,
          46,
          46,
          46,
          45,
          46,
          46,
          1,
          46,
          46,
          43,
          46,
          43,
          43,
          43,
          43,
          43,
          43,
          44,
          44,
          44,
          44,
          44,
          46,
          44,
          44,
          44,
          44,
          44,
          44,
          47,
          14,
          47,
          47,
          47,
          47,
          47,
          47,
          34,
          47,
          50,
          47,
          47,
          47,
          47,
          47,
          47,
          47,
          47,
          47,
          47,
          47,
          47,
          47,
          44,
          44,
          44,
          44,
          44,
          44,
          44,
          44,
          44,
          44,
          44,
          47,
          47,
          47,
          47,
          47,
          47,
          47,
          47,
          47,
          47,
          44,
          44,
          44,
          44,
          44,
          44,
          44,
          44,
          44,
          47,
          47,
          44,
          44,
          44,
          47,
          47,
          44,
          44,
          44,
          47,
          56,
          51,
          51,
          51,
          51,
          47,
          51,
          47,
          49,
          1,
          46,
          46,
          46,
          46,
          46,
          46,
          46,
          46,
          46,
          43,
          43,
          43,
          43,
          43,
          43,
          43,
          43,
          43,
          43,
          43,
          43,
          41,
          26,
          43,
          40,
          29,
          41,
          42,
          36,
          23,
          33,
          33,
          33,
          33,
          32,
          33,
          33,
          33,
          33,
          34,
          32,
          33,
          33,
          33,
          22
         ],
         "xaxis": "x",
         "yaxis": "y",
         "type": "histogram"
        },
        {
         "alignmentgroup": "True",
         "bingroup": "x",
         "hovertemplate": "color=True<br>value=%{x}<br>count=%{y}<extra></extra>",
         "legendgroup": "True",
         "marker": {
          "color": "#EF553B",
          "pattern": {
           "shape": ""
          }
         },
         "name": "True",
         "offsetgroup": "True",
         "orientation": "v",
         "showlegend": true,
         "x": [
          2,
          2,
          2
         ],
         "xaxis": "x",
         "yaxis": "y",
         "type": "histogram"
        }
       ],
       "layout": {
        "template": {
         "data": {
          "histogram2dcontour": [
           {
            "type": "histogram2dcontour",
            "colorbar": {
             "outlinewidth": 0,
             "ticks": ""
            },
            "colorscale": [
             [
              0.0,
              "#0d0887"
             ],
             [
              0.1111111111111111,
              "#46039f"
             ],
             [
              0.2222222222222222,
              "#7201a8"
             ],
             [
              0.3333333333333333,
              "#9c179e"
             ],
             [
              0.4444444444444444,
              "#bd3786"
             ],
             [
              0.5555555555555556,
              "#d8576b"
             ],
             [
              0.6666666666666666,
              "#ed7953"
             ],
             [
              0.7777777777777778,
              "#fb9f3a"
             ],
             [
              0.8888888888888888,
              "#fdca26"
             ],
             [
              1.0,
              "#f0f921"
             ]
            ]
           }
          ],
          "choropleth": [
           {
            "type": "choropleth",
            "colorbar": {
             "outlinewidth": 0,
             "ticks": ""
            }
           }
          ],
          "histogram2d": [
           {
            "type": "histogram2d",
            "colorbar": {
             "outlinewidth": 0,
             "ticks": ""
            },
            "colorscale": [
             [
              0.0,
              "#0d0887"
             ],
             [
              0.1111111111111111,
              "#46039f"
             ],
             [
              0.2222222222222222,
              "#7201a8"
             ],
             [
              0.3333333333333333,
              "#9c179e"
             ],
             [
              0.4444444444444444,
              "#bd3786"
             ],
             [
              0.5555555555555556,
              "#d8576b"
             ],
             [
              0.6666666666666666,
              "#ed7953"
             ],
             [
              0.7777777777777778,
              "#fb9f3a"
             ],
             [
              0.8888888888888888,
              "#fdca26"
             ],
             [
              1.0,
              "#f0f921"
             ]
            ]
           }
          ],
          "heatmap": [
           {
            "type": "heatmap",
            "colorbar": {
             "outlinewidth": 0,
             "ticks": ""
            },
            "colorscale": [
             [
              0.0,
              "#0d0887"
             ],
             [
              0.1111111111111111,
              "#46039f"
             ],
             [
              0.2222222222222222,
              "#7201a8"
             ],
             [
              0.3333333333333333,
              "#9c179e"
             ],
             [
              0.4444444444444444,
              "#bd3786"
             ],
             [
              0.5555555555555556,
              "#d8576b"
             ],
             [
              0.6666666666666666,
              "#ed7953"
             ],
             [
              0.7777777777777778,
              "#fb9f3a"
             ],
             [
              0.8888888888888888,
              "#fdca26"
             ],
             [
              1.0,
              "#f0f921"
             ]
            ]
           }
          ],
          "heatmapgl": [
           {
            "type": "heatmapgl",
            "colorbar": {
             "outlinewidth": 0,
             "ticks": ""
            },
            "colorscale": [
             [
              0.0,
              "#0d0887"
             ],
             [
              0.1111111111111111,
              "#46039f"
             ],
             [
              0.2222222222222222,
              "#7201a8"
             ],
             [
              0.3333333333333333,
              "#9c179e"
             ],
             [
              0.4444444444444444,
              "#bd3786"
             ],
             [
              0.5555555555555556,
              "#d8576b"
             ],
             [
              0.6666666666666666,
              "#ed7953"
             ],
             [
              0.7777777777777778,
              "#fb9f3a"
             ],
             [
              0.8888888888888888,
              "#fdca26"
             ],
             [
              1.0,
              "#f0f921"
             ]
            ]
           }
          ],
          "contourcarpet": [
           {
            "type": "contourcarpet",
            "colorbar": {
             "outlinewidth": 0,
             "ticks": ""
            }
           }
          ],
          "contour": [
           {
            "type": "contour",
            "colorbar": {
             "outlinewidth": 0,
             "ticks": ""
            },
            "colorscale": [
             [
              0.0,
              "#0d0887"
             ],
             [
              0.1111111111111111,
              "#46039f"
             ],
             [
              0.2222222222222222,
              "#7201a8"
             ],
             [
              0.3333333333333333,
              "#9c179e"
             ],
             [
              0.4444444444444444,
              "#bd3786"
             ],
             [
              0.5555555555555556,
              "#d8576b"
             ],
             [
              0.6666666666666666,
              "#ed7953"
             ],
             [
              0.7777777777777778,
              "#fb9f3a"
             ],
             [
              0.8888888888888888,
              "#fdca26"
             ],
             [
              1.0,
              "#f0f921"
             ]
            ]
           }
          ],
          "surface": [
           {
            "type": "surface",
            "colorbar": {
             "outlinewidth": 0,
             "ticks": ""
            },
            "colorscale": [
             [
              0.0,
              "#0d0887"
             ],
             [
              0.1111111111111111,
              "#46039f"
             ],
             [
              0.2222222222222222,
              "#7201a8"
             ],
             [
              0.3333333333333333,
              "#9c179e"
             ],
             [
              0.4444444444444444,
              "#bd3786"
             ],
             [
              0.5555555555555556,
              "#d8576b"
             ],
             [
              0.6666666666666666,
              "#ed7953"
             ],
             [
              0.7777777777777778,
              "#fb9f3a"
             ],
             [
              0.8888888888888888,
              "#fdca26"
             ],
             [
              1.0,
              "#f0f921"
             ]
            ]
           }
          ],
          "mesh3d": [
           {
            "type": "mesh3d",
            "colorbar": {
             "outlinewidth": 0,
             "ticks": ""
            }
           }
          ],
          "scatter": [
           {
            "marker": {
             "line": {
              "color": "#283442"
             }
            },
            "type": "scatter"
           }
          ],
          "parcoords": [
           {
            "type": "parcoords",
            "line": {
             "colorbar": {
              "outlinewidth": 0,
              "ticks": ""
             }
            }
           }
          ],
          "scatterpolargl": [
           {
            "type": "scatterpolargl",
            "marker": {
             "colorbar": {
              "outlinewidth": 0,
              "ticks": ""
             }
            }
           }
          ],
          "bar": [
           {
            "error_x": {
             "color": "#f2f5fa"
            },
            "error_y": {
             "color": "#f2f5fa"
            },
            "marker": {
             "line": {
              "color": "rgb(17,17,17)",
              "width": 0.5
             },
             "pattern": {
              "fillmode": "overlay",
              "size": 10,
              "solidity": 0.2
             }
            },
            "type": "bar"
           }
          ],
          "scattergeo": [
           {
            "type": "scattergeo",
            "marker": {
             "colorbar": {
              "outlinewidth": 0,
              "ticks": ""
             }
            }
           }
          ],
          "scatterpolar": [
           {
            "type": "scatterpolar",
            "marker": {
             "colorbar": {
              "outlinewidth": 0,
              "ticks": ""
             }
            }
           }
          ],
          "histogram": [
           {
            "marker": {
             "pattern": {
              "fillmode": "overlay",
              "size": 10,
              "solidity": 0.2
             }
            },
            "type": "histogram"
           }
          ],
          "scattergl": [
           {
            "marker": {
             "line": {
              "color": "#283442"
             }
            },
            "type": "scattergl"
           }
          ],
          "scatter3d": [
           {
            "type": "scatter3d",
            "line": {
             "colorbar": {
              "outlinewidth": 0,
              "ticks": ""
             }
            },
            "marker": {
             "colorbar": {
              "outlinewidth": 0,
              "ticks": ""
             }
            }
           }
          ],
          "scattermapbox": [
           {
            "type": "scattermapbox",
            "marker": {
             "colorbar": {
              "outlinewidth": 0,
              "ticks": ""
             }
            }
           }
          ],
          "scatterternary": [
           {
            "type": "scatterternary",
            "marker": {
             "colorbar": {
              "outlinewidth": 0,
              "ticks": ""
             }
            }
           }
          ],
          "scattercarpet": [
           {
            "type": "scattercarpet",
            "marker": {
             "colorbar": {
              "outlinewidth": 0,
              "ticks": ""
             }
            }
           }
          ],
          "carpet": [
           {
            "aaxis": {
             "endlinecolor": "#A2B1C6",
             "gridcolor": "#506784",
             "linecolor": "#506784",
             "minorgridcolor": "#506784",
             "startlinecolor": "#A2B1C6"
            },
            "baxis": {
             "endlinecolor": "#A2B1C6",
             "gridcolor": "#506784",
             "linecolor": "#506784",
             "minorgridcolor": "#506784",
             "startlinecolor": "#A2B1C6"
            },
            "type": "carpet"
           }
          ],
          "table": [
           {
            "cells": {
             "fill": {
              "color": "#506784"
             },
             "line": {
              "color": "rgb(17,17,17)"
             }
            },
            "header": {
             "fill": {
              "color": "#2a3f5f"
             },
             "line": {
              "color": "rgb(17,17,17)"
             }
            },
            "type": "table"
           }
          ],
          "barpolar": [
           {
            "marker": {
             "line": {
              "color": "rgb(17,17,17)",
              "width": 0.5
             },
             "pattern": {
              "fillmode": "overlay",
              "size": 10,
              "solidity": 0.2
             }
            },
            "type": "barpolar"
           }
          ],
          "pie": [
           {
            "automargin": true,
            "type": "pie"
           }
          ]
         },
         "layout": {
          "autotypenumbers": "strict",
          "colorway": [
           "#636efa",
           "#EF553B",
           "#00cc96",
           "#ab63fa",
           "#FFA15A",
           "#19d3f3",
           "#FF6692",
           "#B6E880",
           "#FF97FF",
           "#FECB52"
          ],
          "font": {
           "color": "#f2f5fa"
          },
          "hovermode": "closest",
          "hoverlabel": {
           "align": "left"
          },
          "paper_bgcolor": "rgb(17,17,17)",
          "plot_bgcolor": "rgb(17,17,17)",
          "polar": {
           "bgcolor": "rgb(17,17,17)",
           "angularaxis": {
            "gridcolor": "#506784",
            "linecolor": "#506784",
            "ticks": ""
           },
           "radialaxis": {
            "gridcolor": "#506784",
            "linecolor": "#506784",
            "ticks": ""
           }
          },
          "ternary": {
           "bgcolor": "rgb(17,17,17)",
           "aaxis": {
            "gridcolor": "#506784",
            "linecolor": "#506784",
            "ticks": ""
           },
           "baxis": {
            "gridcolor": "#506784",
            "linecolor": "#506784",
            "ticks": ""
           },
           "caxis": {
            "gridcolor": "#506784",
            "linecolor": "#506784",
            "ticks": ""
           }
          },
          "coloraxis": {
           "colorbar": {
            "outlinewidth": 0,
            "ticks": ""
           }
          },
          "colorscale": {
           "sequential": [
            [
             0.0,
             "#0d0887"
            ],
            [
             0.1111111111111111,
             "#46039f"
            ],
            [
             0.2222222222222222,
             "#7201a8"
            ],
            [
             0.3333333333333333,
             "#9c179e"
            ],
            [
             0.4444444444444444,
             "#bd3786"
            ],
            [
             0.5555555555555556,
             "#d8576b"
            ],
            [
             0.6666666666666666,
             "#ed7953"
            ],
            [
             0.7777777777777778,
             "#fb9f3a"
            ],
            [
             0.8888888888888888,
             "#fdca26"
            ],
            [
             1.0,
             "#f0f921"
            ]
           ],
           "sequentialminus": [
            [
             0.0,
             "#0d0887"
            ],
            [
             0.1111111111111111,
             "#46039f"
            ],
            [
             0.2222222222222222,
             "#7201a8"
            ],
            [
             0.3333333333333333,
             "#9c179e"
            ],
            [
             0.4444444444444444,
             "#bd3786"
            ],
            [
             0.5555555555555556,
             "#d8576b"
            ],
            [
             0.6666666666666666,
             "#ed7953"
            ],
            [
             0.7777777777777778,
             "#fb9f3a"
            ],
            [
             0.8888888888888888,
             "#fdca26"
            ],
            [
             1.0,
             "#f0f921"
            ]
           ],
           "diverging": [
            [
             0,
             "#8e0152"
            ],
            [
             0.1,
             "#c51b7d"
            ],
            [
             0.2,
             "#de77ae"
            ],
            [
             0.3,
             "#f1b6da"
            ],
            [
             0.4,
             "#fde0ef"
            ],
            [
             0.5,
             "#f7f7f7"
            ],
            [
             0.6,
             "#e6f5d0"
            ],
            [
             0.7,
             "#b8e186"
            ],
            [
             0.8,
             "#7fbc41"
            ],
            [
             0.9,
             "#4d9221"
            ],
            [
             1,
             "#276419"
            ]
           ]
          },
          "xaxis": {
           "gridcolor": "#283442",
           "linecolor": "#506784",
           "ticks": "",
           "title": {
            "standoff": 15
           },
           "zerolinecolor": "#283442",
           "automargin": true,
           "zerolinewidth": 2
          },
          "yaxis": {
           "gridcolor": "#283442",
           "linecolor": "#506784",
           "ticks": "",
           "title": {
            "standoff": 15
           },
           "zerolinecolor": "#283442",
           "automargin": true,
           "zerolinewidth": 2
          },
          "scene": {
           "xaxis": {
            "backgroundcolor": "rgb(17,17,17)",
            "gridcolor": "#506784",
            "linecolor": "#506784",
            "showbackground": true,
            "ticks": "",
            "zerolinecolor": "#C8D4E3",
            "gridwidth": 2
           },
           "yaxis": {
            "backgroundcolor": "rgb(17,17,17)",
            "gridcolor": "#506784",
            "linecolor": "#506784",
            "showbackground": true,
            "ticks": "",
            "zerolinecolor": "#C8D4E3",
            "gridwidth": 2
           },
           "zaxis": {
            "backgroundcolor": "rgb(17,17,17)",
            "gridcolor": "#506784",
            "linecolor": "#506784",
            "showbackground": true,
            "ticks": "",
            "zerolinecolor": "#C8D4E3",
            "gridwidth": 2
           }
          },
          "shapedefaults": {
           "line": {
            "color": "#f2f5fa"
           }
          },
          "annotationdefaults": {
           "arrowcolor": "#f2f5fa",
           "arrowhead": 0,
           "arrowwidth": 1
          },
          "geo": {
           "bgcolor": "rgb(17,17,17)",
           "landcolor": "rgb(17,17,17)",
           "subunitcolor": "#506784",
           "showland": true,
           "showlakes": true,
           "lakecolor": "rgb(17,17,17)"
          },
          "title": {
           "x": 0.05
          },
          "updatemenudefaults": {
           "bgcolor": "#506784",
           "borderwidth": 0
          },
          "sliderdefaults": {
           "bgcolor": "#C8D4E3",
           "borderwidth": 1,
           "bordercolor": "rgb(17,17,17)",
           "tickwidth": 0
          },
          "mapbox": {
           "style": "dark"
          }
         }
        },
        "xaxis": {
         "anchor": "y",
         "domain": [
          0.0,
          1.0
         ],
         "title": {
          "text": "value"
         }
        },
        "yaxis": {
         "anchor": "x",
         "domain": [
          0.0,
          1.0
         ],
         "title": {
          "text": "count"
         }
        },
        "legend": {
         "title": {
          "text": "color"
         },
         "tracegroupgap": 0
        },
        "title": {
         "text": "Distribuition of number of datapoints"
        },
        "barmode": "relative"
       },
       "config": {
        "plotlyServerURL": "https://plot.ly"
       }
      },
      "text/html": [
       "<div>                            <div id=\"4ce0d1c1-7873-4430-b8f2-6b0cd57f9b36\" class=\"plotly-graph-div\" style=\"height:525px; width:100%;\"></div>            <script type=\"text/javascript\">                require([\"plotly\"], function(Plotly) {                    window.PLOTLYENV=window.PLOTLYENV || {};                                    if (document.getElementById(\"4ce0d1c1-7873-4430-b8f2-6b0cd57f9b36\")) {                    Plotly.newPlot(                        \"4ce0d1c1-7873-4430-b8f2-6b0cd57f9b36\",                        [{\"alignmentgroup\":\"True\",\"bingroup\":\"x\",\"hovertemplate\":\"color=False\\u003cbr\\u003evalue=%{x}\\u003cbr\\u003ecount=%{y}\\u003cextra\\u003e\\u003c\\u002fextra\\u003e\",\"legendgroup\":\"False\",\"marker\":{\"color\":\"#636efa\",\"pattern\":{\"shape\":\"\"}},\"name\":\"False\",\"offsetgroup\":\"False\",\"orientation\":\"v\",\"showlegend\":true,\"x\":[122,123,123,125,12,145,149,145,145,10,135,137,134,136,10,26,24,86,87,87,86,1,232,219,232,83,84,86,84,127,125,125,89,124,125,125,125,127,125,102,102,65,102,72,107,107,72,107,20,48,48,46,50,46,48,47,45,45,31,101,102,102,45,45,56,55,55,55,55,55,55,55,55,55,60,59,59,61,55,55,55,67,97,101,97,101,97,96,35,97,97,97,97,97,97,101,101,101,101,101,101,101,101,101,34,101,101,101,101,101,101,28,82,100,100,100,23,99,100,100,88,101,101,100,100,100,6,96,95,96,95,95,34,87,94,94,94,92,95,98,44,97,94,97,97,97,97,97,96,97,97,97,96,44,42,96,101,96,96,96,34,96,96,85,96,96,94,98,65,98,98,98,98,98,98,86,32,98,98,98,98,95,98,101,101,101,101,101,101,101,101,101,35,101,101,101,101,101,101,97,101,97,101,54,97,19,79,79,97,97,97,97,101,103,93,100,97,66,97,26,97,97,53,97,101,97,101,94,94,35,97,97,97,97,97,94,96,96,95,47,64,29,11,1,34,16,48,85,85,85,84,85,59,45,85,27,84,84,37,85,85,85,94,93,93,93,48,93,54,93,93,93,24,93,93,42,93,93,93,92,60,93,93,25,93,93,93,93,93,84,92,92,81,93,93,93,89,89,89,89,75,77,89,89,67,63,42,83,65,4,71,4,86,70,80,74,72,81,14,71,32,80,14,79,80,11,12,62,77,73,72,77,77,77,77,77,77,77,77,76,77,77,77,72,77,77,77,77,77,77,77,77,77,76,77,77,65,63,60,65,65,65,65,65,65,65,65,65,64,65,65,77,73,77,77,77,76,77,77,73,77,77,77,76,77,77,77,77,77,77,77,77,77,77,77,77,77,76,77,77,60,56,60,60,55,54,60,60,60,60,60,60,59,60,60,77,74,77,77,77,77,77,77,77,77,77,77,77,77,77,72,72,72,72,72,72,72,72,72,72,71,72,72,74,75,75,63,74,73,57,75,71,43,71,72,43,72,71,73,44,73,59,61,32,61,71,73,44,73,73,72,73,44,74,53,56,27,57,68,68,71,72,42,72,65,67,38,66,72,72,72,7,9,7,9,9,10,4,4,4,4,60,72,72,55,72,67,61,61,61,61,61,61,61,61,61,61,61,61,61,61,61,61,61,61,61,61,61,61,67,67,41,67,67,67,67,67,67,67,67,67,67,67,67,67,67,67,67,67,67,67,60,60,41,60,60,60,60,60,60,59,60,60,60,60,60,60,60,60,60,60,60,60,66,66,39,66,66,66,66,66,66,66,66,66,66,66,66,66,66,66,66,66,66,66,67,67,66,67,67,67,67,67,67,67,67,67,67,67,67,67,67,67,67,67,67,67,67,67,67,67,67,67,67,67,67,67,67,67,67,67,67,67,67,67,67,67,67,67,65,65,65,65,65,65,65,65,65,65,65,65,65,65,65,65,65,65,65,65,65,65,66,66,43,66,66,66,66,66,66,66,66,66,66,66,66,66,66,66,66,66,66,66,65,65,38,65,65,65,65,65,65,65,65,65,65,65,65,65,64,65,65,65,65,65,1,1,1,1,1,1,3,3,1,60,66,65,66,66,65,64,29,29,29,29,29,29,29,29,29,1,29,29,29,51,65,65,53,65,65,65,65,65,65,65,65,65,65,65,65,65,65,65,65,65,65,65,65,58,64,58,64,69,63,64,68,56,59,64,68,62,62,62,62,50,50,62,62,62,62,45,45,62,62,57,57,60,60,54,54,60,60,59,59,60,60,60,60,59,59,59,58,58,58,59,59,59,59,59,35,59,59,59,59,59,59,59,59,59,59,59,59,59,59,59,59,59,59,59,59,59,59,60,60,48,60,60,43,60,55,47,47,47,5,47,47,47,47,47,47,47,44,44,47,44,44,44,44,44,44,44,44,44,47,47,47,47,47,47,47,47,47,47,47,47,46,46,46,46,45,46,46,1,46,46,43,46,43,43,43,43,43,43,44,44,44,44,44,46,44,44,44,44,44,44,47,14,47,47,47,47,47,47,34,47,50,47,47,47,47,47,47,47,47,47,47,47,47,47,44,44,44,44,44,44,44,44,44,44,44,47,47,47,47,47,47,47,47,47,47,44,44,44,44,44,44,44,44,44,47,47,44,44,44,47,47,44,44,44,47,56,51,51,51,51,47,51,47,49,1,46,46,46,46,46,46,46,46,46,43,43,43,43,43,43,43,43,43,43,43,43,41,26,43,40,29,41,42,36,23,33,33,33,33,32,33,33,33,33,34,32,33,33,33,22],\"xaxis\":\"x\",\"yaxis\":\"y\",\"type\":\"histogram\"},{\"alignmentgroup\":\"True\",\"bingroup\":\"x\",\"hovertemplate\":\"color=True\\u003cbr\\u003evalue=%{x}\\u003cbr\\u003ecount=%{y}\\u003cextra\\u003e\\u003c\\u002fextra\\u003e\",\"legendgroup\":\"True\",\"marker\":{\"color\":\"#EF553B\",\"pattern\":{\"shape\":\"\"}},\"name\":\"True\",\"offsetgroup\":\"True\",\"orientation\":\"v\",\"showlegend\":true,\"x\":[2,2,2],\"xaxis\":\"x\",\"yaxis\":\"y\",\"type\":\"histogram\"}],                        {\"template\":{\"data\":{\"histogram2dcontour\":[{\"type\":\"histogram2dcontour\",\"colorbar\":{\"outlinewidth\":0,\"ticks\":\"\"},\"colorscale\":[[0.0,\"#0d0887\"],[0.1111111111111111,\"#46039f\"],[0.2222222222222222,\"#7201a8\"],[0.3333333333333333,\"#9c179e\"],[0.4444444444444444,\"#bd3786\"],[0.5555555555555556,\"#d8576b\"],[0.6666666666666666,\"#ed7953\"],[0.7777777777777778,\"#fb9f3a\"],[0.8888888888888888,\"#fdca26\"],[1.0,\"#f0f921\"]]}],\"choropleth\":[{\"type\":\"choropleth\",\"colorbar\":{\"outlinewidth\":0,\"ticks\":\"\"}}],\"histogram2d\":[{\"type\":\"histogram2d\",\"colorbar\":{\"outlinewidth\":0,\"ticks\":\"\"},\"colorscale\":[[0.0,\"#0d0887\"],[0.1111111111111111,\"#46039f\"],[0.2222222222222222,\"#7201a8\"],[0.3333333333333333,\"#9c179e\"],[0.4444444444444444,\"#bd3786\"],[0.5555555555555556,\"#d8576b\"],[0.6666666666666666,\"#ed7953\"],[0.7777777777777778,\"#fb9f3a\"],[0.8888888888888888,\"#fdca26\"],[1.0,\"#f0f921\"]]}],\"heatmap\":[{\"type\":\"heatmap\",\"colorbar\":{\"outlinewidth\":0,\"ticks\":\"\"},\"colorscale\":[[0.0,\"#0d0887\"],[0.1111111111111111,\"#46039f\"],[0.2222222222222222,\"#7201a8\"],[0.3333333333333333,\"#9c179e\"],[0.4444444444444444,\"#bd3786\"],[0.5555555555555556,\"#d8576b\"],[0.6666666666666666,\"#ed7953\"],[0.7777777777777778,\"#fb9f3a\"],[0.8888888888888888,\"#fdca26\"],[1.0,\"#f0f921\"]]}],\"heatmapgl\":[{\"type\":\"heatmapgl\",\"colorbar\":{\"outlinewidth\":0,\"ticks\":\"\"},\"colorscale\":[[0.0,\"#0d0887\"],[0.1111111111111111,\"#46039f\"],[0.2222222222222222,\"#7201a8\"],[0.3333333333333333,\"#9c179e\"],[0.4444444444444444,\"#bd3786\"],[0.5555555555555556,\"#d8576b\"],[0.6666666666666666,\"#ed7953\"],[0.7777777777777778,\"#fb9f3a\"],[0.8888888888888888,\"#fdca26\"],[1.0,\"#f0f921\"]]}],\"contourcarpet\":[{\"type\":\"contourcarpet\",\"colorbar\":{\"outlinewidth\":0,\"ticks\":\"\"}}],\"contour\":[{\"type\":\"contour\",\"colorbar\":{\"outlinewidth\":0,\"ticks\":\"\"},\"colorscale\":[[0.0,\"#0d0887\"],[0.1111111111111111,\"#46039f\"],[0.2222222222222222,\"#7201a8\"],[0.3333333333333333,\"#9c179e\"],[0.4444444444444444,\"#bd3786\"],[0.5555555555555556,\"#d8576b\"],[0.6666666666666666,\"#ed7953\"],[0.7777777777777778,\"#fb9f3a\"],[0.8888888888888888,\"#fdca26\"],[1.0,\"#f0f921\"]]}],\"surface\":[{\"type\":\"surface\",\"colorbar\":{\"outlinewidth\":0,\"ticks\":\"\"},\"colorscale\":[[0.0,\"#0d0887\"],[0.1111111111111111,\"#46039f\"],[0.2222222222222222,\"#7201a8\"],[0.3333333333333333,\"#9c179e\"],[0.4444444444444444,\"#bd3786\"],[0.5555555555555556,\"#d8576b\"],[0.6666666666666666,\"#ed7953\"],[0.7777777777777778,\"#fb9f3a\"],[0.8888888888888888,\"#fdca26\"],[1.0,\"#f0f921\"]]}],\"mesh3d\":[{\"type\":\"mesh3d\",\"colorbar\":{\"outlinewidth\":0,\"ticks\":\"\"}}],\"scatter\":[{\"marker\":{\"line\":{\"color\":\"#283442\"}},\"type\":\"scatter\"}],\"parcoords\":[{\"type\":\"parcoords\",\"line\":{\"colorbar\":{\"outlinewidth\":0,\"ticks\":\"\"}}}],\"scatterpolargl\":[{\"type\":\"scatterpolargl\",\"marker\":{\"colorbar\":{\"outlinewidth\":0,\"ticks\":\"\"}}}],\"bar\":[{\"error_x\":{\"color\":\"#f2f5fa\"},\"error_y\":{\"color\":\"#f2f5fa\"},\"marker\":{\"line\":{\"color\":\"rgb(17,17,17)\",\"width\":0.5},\"pattern\":{\"fillmode\":\"overlay\",\"size\":10,\"solidity\":0.2}},\"type\":\"bar\"}],\"scattergeo\":[{\"type\":\"scattergeo\",\"marker\":{\"colorbar\":{\"outlinewidth\":0,\"ticks\":\"\"}}}],\"scatterpolar\":[{\"type\":\"scatterpolar\",\"marker\":{\"colorbar\":{\"outlinewidth\":0,\"ticks\":\"\"}}}],\"histogram\":[{\"marker\":{\"pattern\":{\"fillmode\":\"overlay\",\"size\":10,\"solidity\":0.2}},\"type\":\"histogram\"}],\"scattergl\":[{\"marker\":{\"line\":{\"color\":\"#283442\"}},\"type\":\"scattergl\"}],\"scatter3d\":[{\"type\":\"scatter3d\",\"line\":{\"colorbar\":{\"outlinewidth\":0,\"ticks\":\"\"}},\"marker\":{\"colorbar\":{\"outlinewidth\":0,\"ticks\":\"\"}}}],\"scattermapbox\":[{\"type\":\"scattermapbox\",\"marker\":{\"colorbar\":{\"outlinewidth\":0,\"ticks\":\"\"}}}],\"scatterternary\":[{\"type\":\"scatterternary\",\"marker\":{\"colorbar\":{\"outlinewidth\":0,\"ticks\":\"\"}}}],\"scattercarpet\":[{\"type\":\"scattercarpet\",\"marker\":{\"colorbar\":{\"outlinewidth\":0,\"ticks\":\"\"}}}],\"carpet\":[{\"aaxis\":{\"endlinecolor\":\"#A2B1C6\",\"gridcolor\":\"#506784\",\"linecolor\":\"#506784\",\"minorgridcolor\":\"#506784\",\"startlinecolor\":\"#A2B1C6\"},\"baxis\":{\"endlinecolor\":\"#A2B1C6\",\"gridcolor\":\"#506784\",\"linecolor\":\"#506784\",\"minorgridcolor\":\"#506784\",\"startlinecolor\":\"#A2B1C6\"},\"type\":\"carpet\"}],\"table\":[{\"cells\":{\"fill\":{\"color\":\"#506784\"},\"line\":{\"color\":\"rgb(17,17,17)\"}},\"header\":{\"fill\":{\"color\":\"#2a3f5f\"},\"line\":{\"color\":\"rgb(17,17,17)\"}},\"type\":\"table\"}],\"barpolar\":[{\"marker\":{\"line\":{\"color\":\"rgb(17,17,17)\",\"width\":0.5},\"pattern\":{\"fillmode\":\"overlay\",\"size\":10,\"solidity\":0.2}},\"type\":\"barpolar\"}],\"pie\":[{\"automargin\":true,\"type\":\"pie\"}]},\"layout\":{\"autotypenumbers\":\"strict\",\"colorway\":[\"#636efa\",\"#EF553B\",\"#00cc96\",\"#ab63fa\",\"#FFA15A\",\"#19d3f3\",\"#FF6692\",\"#B6E880\",\"#FF97FF\",\"#FECB52\"],\"font\":{\"color\":\"#f2f5fa\"},\"hovermode\":\"closest\",\"hoverlabel\":{\"align\":\"left\"},\"paper_bgcolor\":\"rgb(17,17,17)\",\"plot_bgcolor\":\"rgb(17,17,17)\",\"polar\":{\"bgcolor\":\"rgb(17,17,17)\",\"angularaxis\":{\"gridcolor\":\"#506784\",\"linecolor\":\"#506784\",\"ticks\":\"\"},\"radialaxis\":{\"gridcolor\":\"#506784\",\"linecolor\":\"#506784\",\"ticks\":\"\"}},\"ternary\":{\"bgcolor\":\"rgb(17,17,17)\",\"aaxis\":{\"gridcolor\":\"#506784\",\"linecolor\":\"#506784\",\"ticks\":\"\"},\"baxis\":{\"gridcolor\":\"#506784\",\"linecolor\":\"#506784\",\"ticks\":\"\"},\"caxis\":{\"gridcolor\":\"#506784\",\"linecolor\":\"#506784\",\"ticks\":\"\"}},\"coloraxis\":{\"colorbar\":{\"outlinewidth\":0,\"ticks\":\"\"}},\"colorscale\":{\"sequential\":[[0.0,\"#0d0887\"],[0.1111111111111111,\"#46039f\"],[0.2222222222222222,\"#7201a8\"],[0.3333333333333333,\"#9c179e\"],[0.4444444444444444,\"#bd3786\"],[0.5555555555555556,\"#d8576b\"],[0.6666666666666666,\"#ed7953\"],[0.7777777777777778,\"#fb9f3a\"],[0.8888888888888888,\"#fdca26\"],[1.0,\"#f0f921\"]],\"sequentialminus\":[[0.0,\"#0d0887\"],[0.1111111111111111,\"#46039f\"],[0.2222222222222222,\"#7201a8\"],[0.3333333333333333,\"#9c179e\"],[0.4444444444444444,\"#bd3786\"],[0.5555555555555556,\"#d8576b\"],[0.6666666666666666,\"#ed7953\"],[0.7777777777777778,\"#fb9f3a\"],[0.8888888888888888,\"#fdca26\"],[1.0,\"#f0f921\"]],\"diverging\":[[0,\"#8e0152\"],[0.1,\"#c51b7d\"],[0.2,\"#de77ae\"],[0.3,\"#f1b6da\"],[0.4,\"#fde0ef\"],[0.5,\"#f7f7f7\"],[0.6,\"#e6f5d0\"],[0.7,\"#b8e186\"],[0.8,\"#7fbc41\"],[0.9,\"#4d9221\"],[1,\"#276419\"]]},\"xaxis\":{\"gridcolor\":\"#283442\",\"linecolor\":\"#506784\",\"ticks\":\"\",\"title\":{\"standoff\":15},\"zerolinecolor\":\"#283442\",\"automargin\":true,\"zerolinewidth\":2},\"yaxis\":{\"gridcolor\":\"#283442\",\"linecolor\":\"#506784\",\"ticks\":\"\",\"title\":{\"standoff\":15},\"zerolinecolor\":\"#283442\",\"automargin\":true,\"zerolinewidth\":2},\"scene\":{\"xaxis\":{\"backgroundcolor\":\"rgb(17,17,17)\",\"gridcolor\":\"#506784\",\"linecolor\":\"#506784\",\"showbackground\":true,\"ticks\":\"\",\"zerolinecolor\":\"#C8D4E3\",\"gridwidth\":2},\"yaxis\":{\"backgroundcolor\":\"rgb(17,17,17)\",\"gridcolor\":\"#506784\",\"linecolor\":\"#506784\",\"showbackground\":true,\"ticks\":\"\",\"zerolinecolor\":\"#C8D4E3\",\"gridwidth\":2},\"zaxis\":{\"backgroundcolor\":\"rgb(17,17,17)\",\"gridcolor\":\"#506784\",\"linecolor\":\"#506784\",\"showbackground\":true,\"ticks\":\"\",\"zerolinecolor\":\"#C8D4E3\",\"gridwidth\":2}},\"shapedefaults\":{\"line\":{\"color\":\"#f2f5fa\"}},\"annotationdefaults\":{\"arrowcolor\":\"#f2f5fa\",\"arrowhead\":0,\"arrowwidth\":1},\"geo\":{\"bgcolor\":\"rgb(17,17,17)\",\"landcolor\":\"rgb(17,17,17)\",\"subunitcolor\":\"#506784\",\"showland\":true,\"showlakes\":true,\"lakecolor\":\"rgb(17,17,17)\"},\"title\":{\"x\":0.05},\"updatemenudefaults\":{\"bgcolor\":\"#506784\",\"borderwidth\":0},\"sliderdefaults\":{\"bgcolor\":\"#C8D4E3\",\"borderwidth\":1,\"bordercolor\":\"rgb(17,17,17)\",\"tickwidth\":0},\"mapbox\":{\"style\":\"dark\"}}},\"xaxis\":{\"anchor\":\"y\",\"domain\":[0.0,1.0],\"title\":{\"text\":\"value\"}},\"yaxis\":{\"anchor\":\"x\",\"domain\":[0.0,1.0],\"title\":{\"text\":\"count\"}},\"legend\":{\"title\":{\"text\":\"color\"},\"tracegroupgap\":0},\"title\":{\"text\":\"Distribuition of number of datapoints\"},\"barmode\":\"relative\"},                        {\"responsive\": true}                    ).then(function(){\n",
       "                            \n",
       "var gd = document.getElementById('4ce0d1c1-7873-4430-b8f2-6b0cd57f9b36');\n",
       "var x = new MutationObserver(function (mutations, observer) {{\n",
       "        var display = window.getComputedStyle(gd).display;\n",
       "        if (!display || display === 'none') {{\n",
       "            console.log([gd, 'removed!']);\n",
       "            Plotly.purge(gd);\n",
       "            observer.disconnect();\n",
       "        }}\n",
       "}});\n",
       "\n",
       "// Listen for the removal of the full notebook cells\n",
       "var notebookContainer = gd.closest('#notebook-container');\n",
       "if (notebookContainer) {{\n",
       "    x.observe(notebookContainer, {childList: true});\n",
       "}}\n",
       "\n",
       "// Listen for the clearing of the current output cell\n",
       "var outputEl = gd.closest('.output');\n",
       "if (outputEl) {{\n",
       "    x.observe(outputEl, {childList: true});\n",
       "}}\n",
       "\n",
       "                        })                };                });            </script>        </div>"
      ]
     },
     "metadata": {},
     "output_type": "display_data"
    }
   ],
   "execution_count": 64
  },
  {
   "metadata": {},
   "cell_type": "markdown",
   "source": [
    "### Another problem besides continuity is the number of data point nothing series\n",
    "To get around this problem, all series to continue in the dataframe must have at least 12 date points, which allows us to adjust if it does not continue and we can make some prediction"
   ],
   "id": "2ca5a6418e806be"
  },
  {
   "metadata": {
    "ExecuteTime": {
     "end_time": "2024-08-26T22:32:39.169451Z",
     "start_time": "2024-08-26T22:32:39.164330Z"
    }
   },
   "cell_type": "code",
   "source": [
    "cod_to_drop = dataframe_continuo[dataframe_continuo['DataPoints'] < 12]['SerieCod'].to_list()\n",
    "print(cod_to_drop)"
   ],
   "id": "5eb8437fc62a0009",
   "outputs": [
    {
     "name": "stdout",
     "output_type": "stream",
     "text": [
      "[656, 554, 547, 352, 420, 452, 469, 451, 914, 727, 145, 147, 148, 151, 156, 157, 160, 161, 163, 164, 165, 146, 149, 150, 152, 153, 154, 155, 158, 159, 162, 19, 71, 410, 395]\n"
     ]
    }
   ],
   "execution_count": 65
  },
  {
   "metadata": {
    "ExecuteTime": {
     "end_time": "2024-08-26T22:32:39.268855Z",
     "start_time": "2024-08-26T22:32:39.249802Z"
    }
   },
   "cell_type": "code",
   "source": [
    "dataframe = dataframe[~dataframe['series_id'].isin(cod_to_drop)]\n",
    "dataframe.head()"
   ],
   "id": "135adcac2a5e6f71",
   "outputs": [
    {
     "data": {
      "text/plain": [
       "        date    state   city       market            category  \\\n",
       "0 2002-01-01  Katsina  Jibia  Jibia (CBM)  cereals and tubers   \n",
       "1 2002-01-01  Katsina  Jibia  Jibia (CBM)  cereals and tubers   \n",
       "2 2002-01-01  Katsina  Jibia  Jibia (CBM)  cereals and tubers   \n",
       "3 2002-01-01  Katsina  Jibia  Jibia (CBM)  cereals and tubers   \n",
       "4 2002-01-01  Katsina  Jibia  Jibia (CBM)     pulses and nuts   \n",
       "\n",
       "         commodity unit priceflag  pricetype currency   price  usdprice  \\\n",
       "0            Maize   KG    actual  Wholesale      NGN  175.92    1.5525   \n",
       "1           Millet   KG    actual  Wholesale      NGN  150.18    1.3254   \n",
       "2  Rice (imported)   KG    actual  Wholesale      NGN  358.70    3.1656   \n",
       "3          Sorghum   KG    actual  Wholesale      NGN  155.61    1.3733   \n",
       "4    Beans (niebe)   KG    actual  Wholesale      NGN  196.87    1.7374   \n",
       "\n",
       "   series_id  \n",
       "0        543  \n",
       "1        544  \n",
       "2        545  \n",
       "3        546  \n",
       "4        548  "
      ],
      "text/html": [
       "<div>\n",
       "<style scoped>\n",
       "    .dataframe tbody tr th:only-of-type {\n",
       "        vertical-align: middle;\n",
       "    }\n",
       "\n",
       "    .dataframe tbody tr th {\n",
       "        vertical-align: top;\n",
       "    }\n",
       "\n",
       "    .dataframe thead th {\n",
       "        text-align: right;\n",
       "    }\n",
       "</style>\n",
       "<table border=\"1\" class=\"dataframe\">\n",
       "  <thead>\n",
       "    <tr style=\"text-align: right;\">\n",
       "      <th></th>\n",
       "      <th>date</th>\n",
       "      <th>state</th>\n",
       "      <th>city</th>\n",
       "      <th>market</th>\n",
       "      <th>category</th>\n",
       "      <th>commodity</th>\n",
       "      <th>unit</th>\n",
       "      <th>priceflag</th>\n",
       "      <th>pricetype</th>\n",
       "      <th>currency</th>\n",
       "      <th>price</th>\n",
       "      <th>usdprice</th>\n",
       "      <th>series_id</th>\n",
       "    </tr>\n",
       "  </thead>\n",
       "  <tbody>\n",
       "    <tr>\n",
       "      <th>0</th>\n",
       "      <td>2002-01-01</td>\n",
       "      <td>Katsina</td>\n",
       "      <td>Jibia</td>\n",
       "      <td>Jibia (CBM)</td>\n",
       "      <td>cereals and tubers</td>\n",
       "      <td>Maize</td>\n",
       "      <td>KG</td>\n",
       "      <td>actual</td>\n",
       "      <td>Wholesale</td>\n",
       "      <td>NGN</td>\n",
       "      <td>175.92</td>\n",
       "      <td>1.5525</td>\n",
       "      <td>543</td>\n",
       "    </tr>\n",
       "    <tr>\n",
       "      <th>1</th>\n",
       "      <td>2002-01-01</td>\n",
       "      <td>Katsina</td>\n",
       "      <td>Jibia</td>\n",
       "      <td>Jibia (CBM)</td>\n",
       "      <td>cereals and tubers</td>\n",
       "      <td>Millet</td>\n",
       "      <td>KG</td>\n",
       "      <td>actual</td>\n",
       "      <td>Wholesale</td>\n",
       "      <td>NGN</td>\n",
       "      <td>150.18</td>\n",
       "      <td>1.3254</td>\n",
       "      <td>544</td>\n",
       "    </tr>\n",
       "    <tr>\n",
       "      <th>2</th>\n",
       "      <td>2002-01-01</td>\n",
       "      <td>Katsina</td>\n",
       "      <td>Jibia</td>\n",
       "      <td>Jibia (CBM)</td>\n",
       "      <td>cereals and tubers</td>\n",
       "      <td>Rice (imported)</td>\n",
       "      <td>KG</td>\n",
       "      <td>actual</td>\n",
       "      <td>Wholesale</td>\n",
       "      <td>NGN</td>\n",
       "      <td>358.70</td>\n",
       "      <td>3.1656</td>\n",
       "      <td>545</td>\n",
       "    </tr>\n",
       "    <tr>\n",
       "      <th>3</th>\n",
       "      <td>2002-01-01</td>\n",
       "      <td>Katsina</td>\n",
       "      <td>Jibia</td>\n",
       "      <td>Jibia (CBM)</td>\n",
       "      <td>cereals and tubers</td>\n",
       "      <td>Sorghum</td>\n",
       "      <td>KG</td>\n",
       "      <td>actual</td>\n",
       "      <td>Wholesale</td>\n",
       "      <td>NGN</td>\n",
       "      <td>155.61</td>\n",
       "      <td>1.3733</td>\n",
       "      <td>546</td>\n",
       "    </tr>\n",
       "    <tr>\n",
       "      <th>4</th>\n",
       "      <td>2002-01-01</td>\n",
       "      <td>Katsina</td>\n",
       "      <td>Jibia</td>\n",
       "      <td>Jibia (CBM)</td>\n",
       "      <td>pulses and nuts</td>\n",
       "      <td>Beans (niebe)</td>\n",
       "      <td>KG</td>\n",
       "      <td>actual</td>\n",
       "      <td>Wholesale</td>\n",
       "      <td>NGN</td>\n",
       "      <td>196.87</td>\n",
       "      <td>1.7374</td>\n",
       "      <td>548</td>\n",
       "    </tr>\n",
       "  </tbody>\n",
       "</table>\n",
       "</div>"
      ]
     },
     "execution_count": 66,
     "metadata": {},
     "output_type": "execute_result"
    }
   ],
   "execution_count": 66
  },
  {
   "metadata": {},
   "cell_type": "markdown",
   "source": "### Adjust series using average mean to populate",
   "id": "10c659460dcda094"
  },
  {
   "metadata": {
    "ExecuteTime": {
     "end_time": "2024-08-26T22:32:39.388093Z",
     "start_time": "2024-08-26T22:32:39.372890Z"
    }
   },
   "cell_type": "code",
   "source": [
    "dataframe_to_adjust = dataframe[dataframe['series_id'] == 544].reset_index(drop=True)\n",
    "dataframe_to_adjust"
   ],
   "id": "1b25f2ecfcbc8af",
   "outputs": [
    {
     "data": {
      "text/plain": [
       "          date    state   city       market            category commodity  \\\n",
       "0   2002-01-01  Katsina  Jibia  Jibia (CBM)  cereals and tubers    Millet   \n",
       "1   2002-02-01  Katsina  Jibia  Jibia (CBM)  cereals and tubers    Millet   \n",
       "2   2002-03-01  Katsina  Jibia  Jibia (CBM)  cereals and tubers    Millet   \n",
       "3   2002-04-01  Katsina  Jibia  Jibia (CBM)  cereals and tubers    Millet   \n",
       "4   2002-05-01  Katsina  Jibia  Jibia (CBM)  cereals and tubers    Millet   \n",
       "..         ...      ...    ...          ...                 ...       ...   \n",
       "118 2016-10-01  Katsina  Jibia  Jibia (CBM)  cereals and tubers    Millet   \n",
       "119 2016-11-01  Katsina  Jibia  Jibia (CBM)  cereals and tubers    Millet   \n",
       "120 2017-01-01  Katsina  Jibia  Jibia (CBM)  cereals and tubers    Millet   \n",
       "121 2017-02-01  Katsina  Jibia  Jibia (CBM)  cereals and tubers    Millet   \n",
       "122 2017-03-01  Katsina  Jibia  Jibia (CBM)  cereals and tubers    Millet   \n",
       "\n",
       "    unit priceflag  pricetype currency   price  usdprice  series_id  \n",
       "0     KG    actual  Wholesale      NGN  150.18    1.3254        544  \n",
       "1     KG    actual  Wholesale      NGN  148.54    1.2973        544  \n",
       "2     KG    actual  Wholesale      NGN  175.00    1.5165        544  \n",
       "3     KG    actual  Wholesale      NGN  187.50    1.6206        544  \n",
       "4     KG    actual  Wholesale      NGN  195.12    1.6815        544  \n",
       "..   ...       ...        ...      ...     ...       ...        ...  \n",
       "118   KG    actual  Wholesale      NGN  189.00    0.6194        544  \n",
       "119   KG    actual  Wholesale      NGN  126.00    0.4000        544  \n",
       "120   KG    actual  Wholesale      NGN  193.00    0.6325        544  \n",
       "121   KG    actual  Wholesale      NGN  202.00   64.3312        544  \n",
       "122   KG    actual  Wholesale      NGN  248.00    0.7898        544  \n",
       "\n",
       "[123 rows x 13 columns]"
      ],
      "text/html": [
       "<div>\n",
       "<style scoped>\n",
       "    .dataframe tbody tr th:only-of-type {\n",
       "        vertical-align: middle;\n",
       "    }\n",
       "\n",
       "    .dataframe tbody tr th {\n",
       "        vertical-align: top;\n",
       "    }\n",
       "\n",
       "    .dataframe thead th {\n",
       "        text-align: right;\n",
       "    }\n",
       "</style>\n",
       "<table border=\"1\" class=\"dataframe\">\n",
       "  <thead>\n",
       "    <tr style=\"text-align: right;\">\n",
       "      <th></th>\n",
       "      <th>date</th>\n",
       "      <th>state</th>\n",
       "      <th>city</th>\n",
       "      <th>market</th>\n",
       "      <th>category</th>\n",
       "      <th>commodity</th>\n",
       "      <th>unit</th>\n",
       "      <th>priceflag</th>\n",
       "      <th>pricetype</th>\n",
       "      <th>currency</th>\n",
       "      <th>price</th>\n",
       "      <th>usdprice</th>\n",
       "      <th>series_id</th>\n",
       "    </tr>\n",
       "  </thead>\n",
       "  <tbody>\n",
       "    <tr>\n",
       "      <th>0</th>\n",
       "      <td>2002-01-01</td>\n",
       "      <td>Katsina</td>\n",
       "      <td>Jibia</td>\n",
       "      <td>Jibia (CBM)</td>\n",
       "      <td>cereals and tubers</td>\n",
       "      <td>Millet</td>\n",
       "      <td>KG</td>\n",
       "      <td>actual</td>\n",
       "      <td>Wholesale</td>\n",
       "      <td>NGN</td>\n",
       "      <td>150.18</td>\n",
       "      <td>1.3254</td>\n",
       "      <td>544</td>\n",
       "    </tr>\n",
       "    <tr>\n",
       "      <th>1</th>\n",
       "      <td>2002-02-01</td>\n",
       "      <td>Katsina</td>\n",
       "      <td>Jibia</td>\n",
       "      <td>Jibia (CBM)</td>\n",
       "      <td>cereals and tubers</td>\n",
       "      <td>Millet</td>\n",
       "      <td>KG</td>\n",
       "      <td>actual</td>\n",
       "      <td>Wholesale</td>\n",
       "      <td>NGN</td>\n",
       "      <td>148.54</td>\n",
       "      <td>1.2973</td>\n",
       "      <td>544</td>\n",
       "    </tr>\n",
       "    <tr>\n",
       "      <th>2</th>\n",
       "      <td>2002-03-01</td>\n",
       "      <td>Katsina</td>\n",
       "      <td>Jibia</td>\n",
       "      <td>Jibia (CBM)</td>\n",
       "      <td>cereals and tubers</td>\n",
       "      <td>Millet</td>\n",
       "      <td>KG</td>\n",
       "      <td>actual</td>\n",
       "      <td>Wholesale</td>\n",
       "      <td>NGN</td>\n",
       "      <td>175.00</td>\n",
       "      <td>1.5165</td>\n",
       "      <td>544</td>\n",
       "    </tr>\n",
       "    <tr>\n",
       "      <th>3</th>\n",
       "      <td>2002-04-01</td>\n",
       "      <td>Katsina</td>\n",
       "      <td>Jibia</td>\n",
       "      <td>Jibia (CBM)</td>\n",
       "      <td>cereals and tubers</td>\n",
       "      <td>Millet</td>\n",
       "      <td>KG</td>\n",
       "      <td>actual</td>\n",
       "      <td>Wholesale</td>\n",
       "      <td>NGN</td>\n",
       "      <td>187.50</td>\n",
       "      <td>1.6206</td>\n",
       "      <td>544</td>\n",
       "    </tr>\n",
       "    <tr>\n",
       "      <th>4</th>\n",
       "      <td>2002-05-01</td>\n",
       "      <td>Katsina</td>\n",
       "      <td>Jibia</td>\n",
       "      <td>Jibia (CBM)</td>\n",
       "      <td>cereals and tubers</td>\n",
       "      <td>Millet</td>\n",
       "      <td>KG</td>\n",
       "      <td>actual</td>\n",
       "      <td>Wholesale</td>\n",
       "      <td>NGN</td>\n",
       "      <td>195.12</td>\n",
       "      <td>1.6815</td>\n",
       "      <td>544</td>\n",
       "    </tr>\n",
       "    <tr>\n",
       "      <th>...</th>\n",
       "      <td>...</td>\n",
       "      <td>...</td>\n",
       "      <td>...</td>\n",
       "      <td>...</td>\n",
       "      <td>...</td>\n",
       "      <td>...</td>\n",
       "      <td>...</td>\n",
       "      <td>...</td>\n",
       "      <td>...</td>\n",
       "      <td>...</td>\n",
       "      <td>...</td>\n",
       "      <td>...</td>\n",
       "      <td>...</td>\n",
       "    </tr>\n",
       "    <tr>\n",
       "      <th>118</th>\n",
       "      <td>2016-10-01</td>\n",
       "      <td>Katsina</td>\n",
       "      <td>Jibia</td>\n",
       "      <td>Jibia (CBM)</td>\n",
       "      <td>cereals and tubers</td>\n",
       "      <td>Millet</td>\n",
       "      <td>KG</td>\n",
       "      <td>actual</td>\n",
       "      <td>Wholesale</td>\n",
       "      <td>NGN</td>\n",
       "      <td>189.00</td>\n",
       "      <td>0.6194</td>\n",
       "      <td>544</td>\n",
       "    </tr>\n",
       "    <tr>\n",
       "      <th>119</th>\n",
       "      <td>2016-11-01</td>\n",
       "      <td>Katsina</td>\n",
       "      <td>Jibia</td>\n",
       "      <td>Jibia (CBM)</td>\n",
       "      <td>cereals and tubers</td>\n",
       "      <td>Millet</td>\n",
       "      <td>KG</td>\n",
       "      <td>actual</td>\n",
       "      <td>Wholesale</td>\n",
       "      <td>NGN</td>\n",
       "      <td>126.00</td>\n",
       "      <td>0.4000</td>\n",
       "      <td>544</td>\n",
       "    </tr>\n",
       "    <tr>\n",
       "      <th>120</th>\n",
       "      <td>2017-01-01</td>\n",
       "      <td>Katsina</td>\n",
       "      <td>Jibia</td>\n",
       "      <td>Jibia (CBM)</td>\n",
       "      <td>cereals and tubers</td>\n",
       "      <td>Millet</td>\n",
       "      <td>KG</td>\n",
       "      <td>actual</td>\n",
       "      <td>Wholesale</td>\n",
       "      <td>NGN</td>\n",
       "      <td>193.00</td>\n",
       "      <td>0.6325</td>\n",
       "      <td>544</td>\n",
       "    </tr>\n",
       "    <tr>\n",
       "      <th>121</th>\n",
       "      <td>2017-02-01</td>\n",
       "      <td>Katsina</td>\n",
       "      <td>Jibia</td>\n",
       "      <td>Jibia (CBM)</td>\n",
       "      <td>cereals and tubers</td>\n",
       "      <td>Millet</td>\n",
       "      <td>KG</td>\n",
       "      <td>actual</td>\n",
       "      <td>Wholesale</td>\n",
       "      <td>NGN</td>\n",
       "      <td>202.00</td>\n",
       "      <td>64.3312</td>\n",
       "      <td>544</td>\n",
       "    </tr>\n",
       "    <tr>\n",
       "      <th>122</th>\n",
       "      <td>2017-03-01</td>\n",
       "      <td>Katsina</td>\n",
       "      <td>Jibia</td>\n",
       "      <td>Jibia (CBM)</td>\n",
       "      <td>cereals and tubers</td>\n",
       "      <td>Millet</td>\n",
       "      <td>KG</td>\n",
       "      <td>actual</td>\n",
       "      <td>Wholesale</td>\n",
       "      <td>NGN</td>\n",
       "      <td>248.00</td>\n",
       "      <td>0.7898</td>\n",
       "      <td>544</td>\n",
       "    </tr>\n",
       "  </tbody>\n",
       "</table>\n",
       "<p>123 rows × 13 columns</p>\n",
       "</div>"
      ]
     },
     "execution_count": 67,
     "metadata": {},
     "output_type": "execute_result"
    }
   ],
   "execution_count": 67
  },
  {
   "metadata": {
    "ExecuteTime": {
     "end_time": "2024-08-26T22:32:39.536479Z",
     "start_time": "2024-08-26T22:32:39.502686Z"
    }
   },
   "cell_type": "code",
   "source": "px.line(dataframe_to_adjust, x='date', y='price', title='Series of series_id 544')",
   "id": "e7d8cfd0281b8ac9",
   "outputs": [
    {
     "data": {
      "application/vnd.plotly.v1+json": {
       "data": [
        {
         "hovertemplate": "date=%{x}<br>price=%{y}<extra></extra>",
         "legendgroup": "",
         "line": {
          "color": "#636efa",
          "dash": "solid"
         },
         "marker": {
          "symbol": "circle"
         },
         "mode": "lines",
         "name": "",
         "orientation": "v",
         "showlegend": false,
         "x": [
          "2002-01-01T00:00:00",
          "2002-02-01T00:00:00",
          "2002-03-01T00:00:00",
          "2002-04-01T00:00:00",
          "2002-05-01T00:00:00",
          "2002-06-01T00:00:00",
          "2002-07-01T00:00:00",
          "2002-08-01T00:00:00",
          "2002-09-01T00:00:00",
          "2002-10-01T00:00:00",
          "2002-11-01T00:00:00",
          "2002-12-01T00:00:00",
          "2003-01-01T00:00:00",
          "2003-03-01T00:00:00",
          "2003-06-01T00:00:00",
          "2003-09-01T00:00:00",
          "2003-12-01T00:00:00",
          "2005-03-01T00:00:00",
          "2005-06-01T00:00:00",
          "2005-09-01T00:00:00",
          "2005-12-01T00:00:00",
          "2006-03-01T00:00:00",
          "2006-06-01T00:00:00",
          "2007-03-01T00:00:00",
          "2008-02-01T00:00:00",
          "2008-03-01T00:00:00",
          "2008-04-01T00:00:00",
          "2008-05-01T00:00:00",
          "2008-06-01T00:00:00",
          "2008-07-01T00:00:00",
          "2008-08-01T00:00:00",
          "2008-09-01T00:00:00",
          "2008-10-01T00:00:00",
          "2008-11-01T00:00:00",
          "2008-12-01T00:00:00",
          "2009-01-01T00:00:00",
          "2009-02-01T00:00:00",
          "2009-07-01T00:00:00",
          "2009-08-01T00:00:00",
          "2009-09-01T00:00:00",
          "2009-10-01T00:00:00",
          "2009-11-01T00:00:00",
          "2009-12-01T00:00:00",
          "2010-01-01T00:00:00",
          "2010-02-01T00:00:00",
          "2010-03-01T00:00:00",
          "2010-04-01T00:00:00",
          "2010-05-01T00:00:00",
          "2010-06-01T00:00:00",
          "2010-07-01T00:00:00",
          "2010-08-01T00:00:00",
          "2010-09-01T00:00:00",
          "2010-10-01T00:00:00",
          "2010-11-01T00:00:00",
          "2010-12-01T00:00:00",
          "2011-01-01T00:00:00",
          "2011-02-01T00:00:00",
          "2011-03-01T00:00:00",
          "2011-04-01T00:00:00",
          "2011-05-01T00:00:00",
          "2011-06-01T00:00:00",
          "2011-07-01T00:00:00",
          "2011-08-01T00:00:00",
          "2011-09-01T00:00:00",
          "2011-10-01T00:00:00",
          "2011-11-01T00:00:00",
          "2011-12-01T00:00:00",
          "2012-01-01T00:00:00",
          "2012-02-01T00:00:00",
          "2012-03-01T00:00:00",
          "2012-04-01T00:00:00",
          "2012-05-01T00:00:00",
          "2012-07-01T00:00:00",
          "2012-08-01T00:00:00",
          "2012-09-01T00:00:00",
          "2012-10-01T00:00:00",
          "2012-11-01T00:00:00",
          "2012-12-01T00:00:00",
          "2013-01-01T00:00:00",
          "2013-02-01T00:00:00",
          "2013-03-01T00:00:00",
          "2013-04-01T00:00:00",
          "2013-05-01T00:00:00",
          "2013-06-01T00:00:00",
          "2013-07-01T00:00:00",
          "2013-08-01T00:00:00",
          "2013-09-01T00:00:00",
          "2013-10-01T00:00:00",
          "2013-11-01T00:00:00",
          "2013-12-01T00:00:00",
          "2014-01-01T00:00:00",
          "2014-02-01T00:00:00",
          "2014-03-01T00:00:00",
          "2014-04-01T00:00:00",
          "2014-05-01T00:00:00",
          "2014-06-01T00:00:00",
          "2014-07-01T00:00:00",
          "2014-08-01T00:00:00",
          "2014-09-01T00:00:00",
          "2014-10-01T00:00:00",
          "2015-01-01T00:00:00",
          "2015-02-01T00:00:00",
          "2015-03-01T00:00:00",
          "2015-04-01T00:00:00",
          "2015-05-01T00:00:00",
          "2015-06-01T00:00:00",
          "2015-07-01T00:00:00",
          "2015-08-01T00:00:00",
          "2015-09-01T00:00:00",
          "2015-10-01T00:00:00",
          "2016-01-01T00:00:00",
          "2016-02-01T00:00:00",
          "2016-04-01T00:00:00",
          "2016-05-01T00:00:00",
          "2016-06-01T00:00:00",
          "2016-07-01T00:00:00",
          "2016-08-01T00:00:00",
          "2016-09-01T00:00:00",
          "2016-10-01T00:00:00",
          "2016-11-01T00:00:00",
          "2017-01-01T00:00:00",
          "2017-02-01T00:00:00",
          "2017-03-01T00:00:00"
         ],
         "xaxis": "x",
         "y": [
          150.18,
          148.54,
          175.0,
          187.5,
          195.12,
          216.97,
          233.42,
          219.81,
          141.68,
          120.0,
          130.0,
          125.92,
          120.35,
          116.89,
          118.65,
          91.71,
          86.54,
          168.65,
          230.74,
          153.75,
          149.39,
          136.06,
          142.43,
          112.92,
          156.73,
          164.21,
          148.56,
          174.0,
          179.0,
          205.03,
          223.86,
          169.59,
          150.38,
          152.0,
          155.0,
          149.46,
          145.92,
          194.0,
          173.91,
          134.59,
          128.74,
          125.77,
          180.72,
          160.95,
          162.13,
          167.93,
          189.68,
          184.56,
          198.47,
          194.87,
          181.2,
          137.26,
          136.02,
          153.29,
          176.67,
          164.02,
          155.77,
          164.05,
          184.84,
          181.27,
          180.19,
          182.55,
          173.21,
          156.24,
          137.11,
          171.01,
          199.36,
          197.82,
          192.81,
          199.54,
          216.91,
          231.69,
          261.31,
          241.78,
          206.25,
          184.12,
          224.63,
          236.39,
          230.1,
          230.53,
          244.55,
          257.85,
          264.71,
          261.74,
          298.77,
          269.68,
          197.58,
          184.29,
          220.1,
          221.49,
          205.45,
          206.96,
          208.65,
          206.11,
          206.0,
          205.15,
          193.67,
          175.4,
          181.4,
          171.91,
          155.72,
          146.75,
          142.49,
          151.0,
          151.0,
          157.0,
          145.0,
          147.0,
          150.0,
          143.0,
          141.0,
          123.0,
          151.0,
          178.0,
          168.0,
          168.0,
          193.0,
          189.0,
          189.0,
          126.0,
          193.0,
          202.0,
          248.0
         ],
         "yaxis": "y",
         "type": "scatter"
        }
       ],
       "layout": {
        "template": {
         "data": {
          "histogram2dcontour": [
           {
            "type": "histogram2dcontour",
            "colorbar": {
             "outlinewidth": 0,
             "ticks": ""
            },
            "colorscale": [
             [
              0.0,
              "#0d0887"
             ],
             [
              0.1111111111111111,
              "#46039f"
             ],
             [
              0.2222222222222222,
              "#7201a8"
             ],
             [
              0.3333333333333333,
              "#9c179e"
             ],
             [
              0.4444444444444444,
              "#bd3786"
             ],
             [
              0.5555555555555556,
              "#d8576b"
             ],
             [
              0.6666666666666666,
              "#ed7953"
             ],
             [
              0.7777777777777778,
              "#fb9f3a"
             ],
             [
              0.8888888888888888,
              "#fdca26"
             ],
             [
              1.0,
              "#f0f921"
             ]
            ]
           }
          ],
          "choropleth": [
           {
            "type": "choropleth",
            "colorbar": {
             "outlinewidth": 0,
             "ticks": ""
            }
           }
          ],
          "histogram2d": [
           {
            "type": "histogram2d",
            "colorbar": {
             "outlinewidth": 0,
             "ticks": ""
            },
            "colorscale": [
             [
              0.0,
              "#0d0887"
             ],
             [
              0.1111111111111111,
              "#46039f"
             ],
             [
              0.2222222222222222,
              "#7201a8"
             ],
             [
              0.3333333333333333,
              "#9c179e"
             ],
             [
              0.4444444444444444,
              "#bd3786"
             ],
             [
              0.5555555555555556,
              "#d8576b"
             ],
             [
              0.6666666666666666,
              "#ed7953"
             ],
             [
              0.7777777777777778,
              "#fb9f3a"
             ],
             [
              0.8888888888888888,
              "#fdca26"
             ],
             [
              1.0,
              "#f0f921"
             ]
            ]
           }
          ],
          "heatmap": [
           {
            "type": "heatmap",
            "colorbar": {
             "outlinewidth": 0,
             "ticks": ""
            },
            "colorscale": [
             [
              0.0,
              "#0d0887"
             ],
             [
              0.1111111111111111,
              "#46039f"
             ],
             [
              0.2222222222222222,
              "#7201a8"
             ],
             [
              0.3333333333333333,
              "#9c179e"
             ],
             [
              0.4444444444444444,
              "#bd3786"
             ],
             [
              0.5555555555555556,
              "#d8576b"
             ],
             [
              0.6666666666666666,
              "#ed7953"
             ],
             [
              0.7777777777777778,
              "#fb9f3a"
             ],
             [
              0.8888888888888888,
              "#fdca26"
             ],
             [
              1.0,
              "#f0f921"
             ]
            ]
           }
          ],
          "heatmapgl": [
           {
            "type": "heatmapgl",
            "colorbar": {
             "outlinewidth": 0,
             "ticks": ""
            },
            "colorscale": [
             [
              0.0,
              "#0d0887"
             ],
             [
              0.1111111111111111,
              "#46039f"
             ],
             [
              0.2222222222222222,
              "#7201a8"
             ],
             [
              0.3333333333333333,
              "#9c179e"
             ],
             [
              0.4444444444444444,
              "#bd3786"
             ],
             [
              0.5555555555555556,
              "#d8576b"
             ],
             [
              0.6666666666666666,
              "#ed7953"
             ],
             [
              0.7777777777777778,
              "#fb9f3a"
             ],
             [
              0.8888888888888888,
              "#fdca26"
             ],
             [
              1.0,
              "#f0f921"
             ]
            ]
           }
          ],
          "contourcarpet": [
           {
            "type": "contourcarpet",
            "colorbar": {
             "outlinewidth": 0,
             "ticks": ""
            }
           }
          ],
          "contour": [
           {
            "type": "contour",
            "colorbar": {
             "outlinewidth": 0,
             "ticks": ""
            },
            "colorscale": [
             [
              0.0,
              "#0d0887"
             ],
             [
              0.1111111111111111,
              "#46039f"
             ],
             [
              0.2222222222222222,
              "#7201a8"
             ],
             [
              0.3333333333333333,
              "#9c179e"
             ],
             [
              0.4444444444444444,
              "#bd3786"
             ],
             [
              0.5555555555555556,
              "#d8576b"
             ],
             [
              0.6666666666666666,
              "#ed7953"
             ],
             [
              0.7777777777777778,
              "#fb9f3a"
             ],
             [
              0.8888888888888888,
              "#fdca26"
             ],
             [
              1.0,
              "#f0f921"
             ]
            ]
           }
          ],
          "surface": [
           {
            "type": "surface",
            "colorbar": {
             "outlinewidth": 0,
             "ticks": ""
            },
            "colorscale": [
             [
              0.0,
              "#0d0887"
             ],
             [
              0.1111111111111111,
              "#46039f"
             ],
             [
              0.2222222222222222,
              "#7201a8"
             ],
             [
              0.3333333333333333,
              "#9c179e"
             ],
             [
              0.4444444444444444,
              "#bd3786"
             ],
             [
              0.5555555555555556,
              "#d8576b"
             ],
             [
              0.6666666666666666,
              "#ed7953"
             ],
             [
              0.7777777777777778,
              "#fb9f3a"
             ],
             [
              0.8888888888888888,
              "#fdca26"
             ],
             [
              1.0,
              "#f0f921"
             ]
            ]
           }
          ],
          "mesh3d": [
           {
            "type": "mesh3d",
            "colorbar": {
             "outlinewidth": 0,
             "ticks": ""
            }
           }
          ],
          "scatter": [
           {
            "marker": {
             "line": {
              "color": "#283442"
             }
            },
            "type": "scatter"
           }
          ],
          "parcoords": [
           {
            "type": "parcoords",
            "line": {
             "colorbar": {
              "outlinewidth": 0,
              "ticks": ""
             }
            }
           }
          ],
          "scatterpolargl": [
           {
            "type": "scatterpolargl",
            "marker": {
             "colorbar": {
              "outlinewidth": 0,
              "ticks": ""
             }
            }
           }
          ],
          "bar": [
           {
            "error_x": {
             "color": "#f2f5fa"
            },
            "error_y": {
             "color": "#f2f5fa"
            },
            "marker": {
             "line": {
              "color": "rgb(17,17,17)",
              "width": 0.5
             },
             "pattern": {
              "fillmode": "overlay",
              "size": 10,
              "solidity": 0.2
             }
            },
            "type": "bar"
           }
          ],
          "scattergeo": [
           {
            "type": "scattergeo",
            "marker": {
             "colorbar": {
              "outlinewidth": 0,
              "ticks": ""
             }
            }
           }
          ],
          "scatterpolar": [
           {
            "type": "scatterpolar",
            "marker": {
             "colorbar": {
              "outlinewidth": 0,
              "ticks": ""
             }
            }
           }
          ],
          "histogram": [
           {
            "marker": {
             "pattern": {
              "fillmode": "overlay",
              "size": 10,
              "solidity": 0.2
             }
            },
            "type": "histogram"
           }
          ],
          "scattergl": [
           {
            "marker": {
             "line": {
              "color": "#283442"
             }
            },
            "type": "scattergl"
           }
          ],
          "scatter3d": [
           {
            "type": "scatter3d",
            "line": {
             "colorbar": {
              "outlinewidth": 0,
              "ticks": ""
             }
            },
            "marker": {
             "colorbar": {
              "outlinewidth": 0,
              "ticks": ""
             }
            }
           }
          ],
          "scattermapbox": [
           {
            "type": "scattermapbox",
            "marker": {
             "colorbar": {
              "outlinewidth": 0,
              "ticks": ""
             }
            }
           }
          ],
          "scatterternary": [
           {
            "type": "scatterternary",
            "marker": {
             "colorbar": {
              "outlinewidth": 0,
              "ticks": ""
             }
            }
           }
          ],
          "scattercarpet": [
           {
            "type": "scattercarpet",
            "marker": {
             "colorbar": {
              "outlinewidth": 0,
              "ticks": ""
             }
            }
           }
          ],
          "carpet": [
           {
            "aaxis": {
             "endlinecolor": "#A2B1C6",
             "gridcolor": "#506784",
             "linecolor": "#506784",
             "minorgridcolor": "#506784",
             "startlinecolor": "#A2B1C6"
            },
            "baxis": {
             "endlinecolor": "#A2B1C6",
             "gridcolor": "#506784",
             "linecolor": "#506784",
             "minorgridcolor": "#506784",
             "startlinecolor": "#A2B1C6"
            },
            "type": "carpet"
           }
          ],
          "table": [
           {
            "cells": {
             "fill": {
              "color": "#506784"
             },
             "line": {
              "color": "rgb(17,17,17)"
             }
            },
            "header": {
             "fill": {
              "color": "#2a3f5f"
             },
             "line": {
              "color": "rgb(17,17,17)"
             }
            },
            "type": "table"
           }
          ],
          "barpolar": [
           {
            "marker": {
             "line": {
              "color": "rgb(17,17,17)",
              "width": 0.5
             },
             "pattern": {
              "fillmode": "overlay",
              "size": 10,
              "solidity": 0.2
             }
            },
            "type": "barpolar"
           }
          ],
          "pie": [
           {
            "automargin": true,
            "type": "pie"
           }
          ]
         },
         "layout": {
          "autotypenumbers": "strict",
          "colorway": [
           "#636efa",
           "#EF553B",
           "#00cc96",
           "#ab63fa",
           "#FFA15A",
           "#19d3f3",
           "#FF6692",
           "#B6E880",
           "#FF97FF",
           "#FECB52"
          ],
          "font": {
           "color": "#f2f5fa"
          },
          "hovermode": "closest",
          "hoverlabel": {
           "align": "left"
          },
          "paper_bgcolor": "rgb(17,17,17)",
          "plot_bgcolor": "rgb(17,17,17)",
          "polar": {
           "bgcolor": "rgb(17,17,17)",
           "angularaxis": {
            "gridcolor": "#506784",
            "linecolor": "#506784",
            "ticks": ""
           },
           "radialaxis": {
            "gridcolor": "#506784",
            "linecolor": "#506784",
            "ticks": ""
           }
          },
          "ternary": {
           "bgcolor": "rgb(17,17,17)",
           "aaxis": {
            "gridcolor": "#506784",
            "linecolor": "#506784",
            "ticks": ""
           },
           "baxis": {
            "gridcolor": "#506784",
            "linecolor": "#506784",
            "ticks": ""
           },
           "caxis": {
            "gridcolor": "#506784",
            "linecolor": "#506784",
            "ticks": ""
           }
          },
          "coloraxis": {
           "colorbar": {
            "outlinewidth": 0,
            "ticks": ""
           }
          },
          "colorscale": {
           "sequential": [
            [
             0.0,
             "#0d0887"
            ],
            [
             0.1111111111111111,
             "#46039f"
            ],
            [
             0.2222222222222222,
             "#7201a8"
            ],
            [
             0.3333333333333333,
             "#9c179e"
            ],
            [
             0.4444444444444444,
             "#bd3786"
            ],
            [
             0.5555555555555556,
             "#d8576b"
            ],
            [
             0.6666666666666666,
             "#ed7953"
            ],
            [
             0.7777777777777778,
             "#fb9f3a"
            ],
            [
             0.8888888888888888,
             "#fdca26"
            ],
            [
             1.0,
             "#f0f921"
            ]
           ],
           "sequentialminus": [
            [
             0.0,
             "#0d0887"
            ],
            [
             0.1111111111111111,
             "#46039f"
            ],
            [
             0.2222222222222222,
             "#7201a8"
            ],
            [
             0.3333333333333333,
             "#9c179e"
            ],
            [
             0.4444444444444444,
             "#bd3786"
            ],
            [
             0.5555555555555556,
             "#d8576b"
            ],
            [
             0.6666666666666666,
             "#ed7953"
            ],
            [
             0.7777777777777778,
             "#fb9f3a"
            ],
            [
             0.8888888888888888,
             "#fdca26"
            ],
            [
             1.0,
             "#f0f921"
            ]
           ],
           "diverging": [
            [
             0,
             "#8e0152"
            ],
            [
             0.1,
             "#c51b7d"
            ],
            [
             0.2,
             "#de77ae"
            ],
            [
             0.3,
             "#f1b6da"
            ],
            [
             0.4,
             "#fde0ef"
            ],
            [
             0.5,
             "#f7f7f7"
            ],
            [
             0.6,
             "#e6f5d0"
            ],
            [
             0.7,
             "#b8e186"
            ],
            [
             0.8,
             "#7fbc41"
            ],
            [
             0.9,
             "#4d9221"
            ],
            [
             1,
             "#276419"
            ]
           ]
          },
          "xaxis": {
           "gridcolor": "#283442",
           "linecolor": "#506784",
           "ticks": "",
           "title": {
            "standoff": 15
           },
           "zerolinecolor": "#283442",
           "automargin": true,
           "zerolinewidth": 2
          },
          "yaxis": {
           "gridcolor": "#283442",
           "linecolor": "#506784",
           "ticks": "",
           "title": {
            "standoff": 15
           },
           "zerolinecolor": "#283442",
           "automargin": true,
           "zerolinewidth": 2
          },
          "scene": {
           "xaxis": {
            "backgroundcolor": "rgb(17,17,17)",
            "gridcolor": "#506784",
            "linecolor": "#506784",
            "showbackground": true,
            "ticks": "",
            "zerolinecolor": "#C8D4E3",
            "gridwidth": 2
           },
           "yaxis": {
            "backgroundcolor": "rgb(17,17,17)",
            "gridcolor": "#506784",
            "linecolor": "#506784",
            "showbackground": true,
            "ticks": "",
            "zerolinecolor": "#C8D4E3",
            "gridwidth": 2
           },
           "zaxis": {
            "backgroundcolor": "rgb(17,17,17)",
            "gridcolor": "#506784",
            "linecolor": "#506784",
            "showbackground": true,
            "ticks": "",
            "zerolinecolor": "#C8D4E3",
            "gridwidth": 2
           }
          },
          "shapedefaults": {
           "line": {
            "color": "#f2f5fa"
           }
          },
          "annotationdefaults": {
           "arrowcolor": "#f2f5fa",
           "arrowhead": 0,
           "arrowwidth": 1
          },
          "geo": {
           "bgcolor": "rgb(17,17,17)",
           "landcolor": "rgb(17,17,17)",
           "subunitcolor": "#506784",
           "showland": true,
           "showlakes": true,
           "lakecolor": "rgb(17,17,17)"
          },
          "title": {
           "x": 0.05
          },
          "updatemenudefaults": {
           "bgcolor": "#506784",
           "borderwidth": 0
          },
          "sliderdefaults": {
           "bgcolor": "#C8D4E3",
           "borderwidth": 1,
           "bordercolor": "rgb(17,17,17)",
           "tickwidth": 0
          },
          "mapbox": {
           "style": "dark"
          }
         }
        },
        "xaxis": {
         "anchor": "y",
         "domain": [
          0.0,
          1.0
         ],
         "title": {
          "text": "date"
         }
        },
        "yaxis": {
         "anchor": "x",
         "domain": [
          0.0,
          1.0
         ],
         "title": {
          "text": "price"
         }
        },
        "legend": {
         "tracegroupgap": 0
        },
        "title": {
         "text": "Series of series_id 544"
        }
       },
       "config": {
        "plotlyServerURL": "https://plot.ly"
       }
      },
      "text/html": [
       "<div>                            <div id=\"08d2297f-1da9-4c7c-833f-f1d62b7c3808\" class=\"plotly-graph-div\" style=\"height:525px; width:100%;\"></div>            <script type=\"text/javascript\">                require([\"plotly\"], function(Plotly) {                    window.PLOTLYENV=window.PLOTLYENV || {};                                    if (document.getElementById(\"08d2297f-1da9-4c7c-833f-f1d62b7c3808\")) {                    Plotly.newPlot(                        \"08d2297f-1da9-4c7c-833f-f1d62b7c3808\",                        [{\"hovertemplate\":\"date=%{x}\\u003cbr\\u003eprice=%{y}\\u003cextra\\u003e\\u003c\\u002fextra\\u003e\",\"legendgroup\":\"\",\"line\":{\"color\":\"#636efa\",\"dash\":\"solid\"},\"marker\":{\"symbol\":\"circle\"},\"mode\":\"lines\",\"name\":\"\",\"orientation\":\"v\",\"showlegend\":false,\"x\":[\"2002-01-01T00:00:00\",\"2002-02-01T00:00:00\",\"2002-03-01T00:00:00\",\"2002-04-01T00:00:00\",\"2002-05-01T00:00:00\",\"2002-06-01T00:00:00\",\"2002-07-01T00:00:00\",\"2002-08-01T00:00:00\",\"2002-09-01T00:00:00\",\"2002-10-01T00:00:00\",\"2002-11-01T00:00:00\",\"2002-12-01T00:00:00\",\"2003-01-01T00:00:00\",\"2003-03-01T00:00:00\",\"2003-06-01T00:00:00\",\"2003-09-01T00:00:00\",\"2003-12-01T00:00:00\",\"2005-03-01T00:00:00\",\"2005-06-01T00:00:00\",\"2005-09-01T00:00:00\",\"2005-12-01T00:00:00\",\"2006-03-01T00:00:00\",\"2006-06-01T00:00:00\",\"2007-03-01T00:00:00\",\"2008-02-01T00:00:00\",\"2008-03-01T00:00:00\",\"2008-04-01T00:00:00\",\"2008-05-01T00:00:00\",\"2008-06-01T00:00:00\",\"2008-07-01T00:00:00\",\"2008-08-01T00:00:00\",\"2008-09-01T00:00:00\",\"2008-10-01T00:00:00\",\"2008-11-01T00:00:00\",\"2008-12-01T00:00:00\",\"2009-01-01T00:00:00\",\"2009-02-01T00:00:00\",\"2009-07-01T00:00:00\",\"2009-08-01T00:00:00\",\"2009-09-01T00:00:00\",\"2009-10-01T00:00:00\",\"2009-11-01T00:00:00\",\"2009-12-01T00:00:00\",\"2010-01-01T00:00:00\",\"2010-02-01T00:00:00\",\"2010-03-01T00:00:00\",\"2010-04-01T00:00:00\",\"2010-05-01T00:00:00\",\"2010-06-01T00:00:00\",\"2010-07-01T00:00:00\",\"2010-08-01T00:00:00\",\"2010-09-01T00:00:00\",\"2010-10-01T00:00:00\",\"2010-11-01T00:00:00\",\"2010-12-01T00:00:00\",\"2011-01-01T00:00:00\",\"2011-02-01T00:00:00\",\"2011-03-01T00:00:00\",\"2011-04-01T00:00:00\",\"2011-05-01T00:00:00\",\"2011-06-01T00:00:00\",\"2011-07-01T00:00:00\",\"2011-08-01T00:00:00\",\"2011-09-01T00:00:00\",\"2011-10-01T00:00:00\",\"2011-11-01T00:00:00\",\"2011-12-01T00:00:00\",\"2012-01-01T00:00:00\",\"2012-02-01T00:00:00\",\"2012-03-01T00:00:00\",\"2012-04-01T00:00:00\",\"2012-05-01T00:00:00\",\"2012-07-01T00:00:00\",\"2012-08-01T00:00:00\",\"2012-09-01T00:00:00\",\"2012-10-01T00:00:00\",\"2012-11-01T00:00:00\",\"2012-12-01T00:00:00\",\"2013-01-01T00:00:00\",\"2013-02-01T00:00:00\",\"2013-03-01T00:00:00\",\"2013-04-01T00:00:00\",\"2013-05-01T00:00:00\",\"2013-06-01T00:00:00\",\"2013-07-01T00:00:00\",\"2013-08-01T00:00:00\",\"2013-09-01T00:00:00\",\"2013-10-01T00:00:00\",\"2013-11-01T00:00:00\",\"2013-12-01T00:00:00\",\"2014-01-01T00:00:00\",\"2014-02-01T00:00:00\",\"2014-03-01T00:00:00\",\"2014-04-01T00:00:00\",\"2014-05-01T00:00:00\",\"2014-06-01T00:00:00\",\"2014-07-01T00:00:00\",\"2014-08-01T00:00:00\",\"2014-09-01T00:00:00\",\"2014-10-01T00:00:00\",\"2015-01-01T00:00:00\",\"2015-02-01T00:00:00\",\"2015-03-01T00:00:00\",\"2015-04-01T00:00:00\",\"2015-05-01T00:00:00\",\"2015-06-01T00:00:00\",\"2015-07-01T00:00:00\",\"2015-08-01T00:00:00\",\"2015-09-01T00:00:00\",\"2015-10-01T00:00:00\",\"2016-01-01T00:00:00\",\"2016-02-01T00:00:00\",\"2016-04-01T00:00:00\",\"2016-05-01T00:00:00\",\"2016-06-01T00:00:00\",\"2016-07-01T00:00:00\",\"2016-08-01T00:00:00\",\"2016-09-01T00:00:00\",\"2016-10-01T00:00:00\",\"2016-11-01T00:00:00\",\"2017-01-01T00:00:00\",\"2017-02-01T00:00:00\",\"2017-03-01T00:00:00\"],\"xaxis\":\"x\",\"y\":[150.18,148.54,175.0,187.5,195.12,216.97,233.42,219.81,141.68,120.0,130.0,125.92,120.35,116.89,118.65,91.71,86.54,168.65,230.74,153.75,149.39,136.06,142.43,112.92,156.73,164.21,148.56,174.0,179.0,205.03,223.86,169.59,150.38,152.0,155.0,149.46,145.92,194.0,173.91,134.59,128.74,125.77,180.72,160.95,162.13,167.93,189.68,184.56,198.47,194.87,181.2,137.26,136.02,153.29,176.67,164.02,155.77,164.05,184.84,181.27,180.19,182.55,173.21,156.24,137.11,171.01,199.36,197.82,192.81,199.54,216.91,231.69,261.31,241.78,206.25,184.12,224.63,236.39,230.1,230.53,244.55,257.85,264.71,261.74,298.77,269.68,197.58,184.29,220.1,221.49,205.45,206.96,208.65,206.11,206.0,205.15,193.67,175.4,181.4,171.91,155.72,146.75,142.49,151.0,151.0,157.0,145.0,147.0,150.0,143.0,141.0,123.0,151.0,178.0,168.0,168.0,193.0,189.0,189.0,126.0,193.0,202.0,248.0],\"yaxis\":\"y\",\"type\":\"scatter\"}],                        {\"template\":{\"data\":{\"histogram2dcontour\":[{\"type\":\"histogram2dcontour\",\"colorbar\":{\"outlinewidth\":0,\"ticks\":\"\"},\"colorscale\":[[0.0,\"#0d0887\"],[0.1111111111111111,\"#46039f\"],[0.2222222222222222,\"#7201a8\"],[0.3333333333333333,\"#9c179e\"],[0.4444444444444444,\"#bd3786\"],[0.5555555555555556,\"#d8576b\"],[0.6666666666666666,\"#ed7953\"],[0.7777777777777778,\"#fb9f3a\"],[0.8888888888888888,\"#fdca26\"],[1.0,\"#f0f921\"]]}],\"choropleth\":[{\"type\":\"choropleth\",\"colorbar\":{\"outlinewidth\":0,\"ticks\":\"\"}}],\"histogram2d\":[{\"type\":\"histogram2d\",\"colorbar\":{\"outlinewidth\":0,\"ticks\":\"\"},\"colorscale\":[[0.0,\"#0d0887\"],[0.1111111111111111,\"#46039f\"],[0.2222222222222222,\"#7201a8\"],[0.3333333333333333,\"#9c179e\"],[0.4444444444444444,\"#bd3786\"],[0.5555555555555556,\"#d8576b\"],[0.6666666666666666,\"#ed7953\"],[0.7777777777777778,\"#fb9f3a\"],[0.8888888888888888,\"#fdca26\"],[1.0,\"#f0f921\"]]}],\"heatmap\":[{\"type\":\"heatmap\",\"colorbar\":{\"outlinewidth\":0,\"ticks\":\"\"},\"colorscale\":[[0.0,\"#0d0887\"],[0.1111111111111111,\"#46039f\"],[0.2222222222222222,\"#7201a8\"],[0.3333333333333333,\"#9c179e\"],[0.4444444444444444,\"#bd3786\"],[0.5555555555555556,\"#d8576b\"],[0.6666666666666666,\"#ed7953\"],[0.7777777777777778,\"#fb9f3a\"],[0.8888888888888888,\"#fdca26\"],[1.0,\"#f0f921\"]]}],\"heatmapgl\":[{\"type\":\"heatmapgl\",\"colorbar\":{\"outlinewidth\":0,\"ticks\":\"\"},\"colorscale\":[[0.0,\"#0d0887\"],[0.1111111111111111,\"#46039f\"],[0.2222222222222222,\"#7201a8\"],[0.3333333333333333,\"#9c179e\"],[0.4444444444444444,\"#bd3786\"],[0.5555555555555556,\"#d8576b\"],[0.6666666666666666,\"#ed7953\"],[0.7777777777777778,\"#fb9f3a\"],[0.8888888888888888,\"#fdca26\"],[1.0,\"#f0f921\"]]}],\"contourcarpet\":[{\"type\":\"contourcarpet\",\"colorbar\":{\"outlinewidth\":0,\"ticks\":\"\"}}],\"contour\":[{\"type\":\"contour\",\"colorbar\":{\"outlinewidth\":0,\"ticks\":\"\"},\"colorscale\":[[0.0,\"#0d0887\"],[0.1111111111111111,\"#46039f\"],[0.2222222222222222,\"#7201a8\"],[0.3333333333333333,\"#9c179e\"],[0.4444444444444444,\"#bd3786\"],[0.5555555555555556,\"#d8576b\"],[0.6666666666666666,\"#ed7953\"],[0.7777777777777778,\"#fb9f3a\"],[0.8888888888888888,\"#fdca26\"],[1.0,\"#f0f921\"]]}],\"surface\":[{\"type\":\"surface\",\"colorbar\":{\"outlinewidth\":0,\"ticks\":\"\"},\"colorscale\":[[0.0,\"#0d0887\"],[0.1111111111111111,\"#46039f\"],[0.2222222222222222,\"#7201a8\"],[0.3333333333333333,\"#9c179e\"],[0.4444444444444444,\"#bd3786\"],[0.5555555555555556,\"#d8576b\"],[0.6666666666666666,\"#ed7953\"],[0.7777777777777778,\"#fb9f3a\"],[0.8888888888888888,\"#fdca26\"],[1.0,\"#f0f921\"]]}],\"mesh3d\":[{\"type\":\"mesh3d\",\"colorbar\":{\"outlinewidth\":0,\"ticks\":\"\"}}],\"scatter\":[{\"marker\":{\"line\":{\"color\":\"#283442\"}},\"type\":\"scatter\"}],\"parcoords\":[{\"type\":\"parcoords\",\"line\":{\"colorbar\":{\"outlinewidth\":0,\"ticks\":\"\"}}}],\"scatterpolargl\":[{\"type\":\"scatterpolargl\",\"marker\":{\"colorbar\":{\"outlinewidth\":0,\"ticks\":\"\"}}}],\"bar\":[{\"error_x\":{\"color\":\"#f2f5fa\"},\"error_y\":{\"color\":\"#f2f5fa\"},\"marker\":{\"line\":{\"color\":\"rgb(17,17,17)\",\"width\":0.5},\"pattern\":{\"fillmode\":\"overlay\",\"size\":10,\"solidity\":0.2}},\"type\":\"bar\"}],\"scattergeo\":[{\"type\":\"scattergeo\",\"marker\":{\"colorbar\":{\"outlinewidth\":0,\"ticks\":\"\"}}}],\"scatterpolar\":[{\"type\":\"scatterpolar\",\"marker\":{\"colorbar\":{\"outlinewidth\":0,\"ticks\":\"\"}}}],\"histogram\":[{\"marker\":{\"pattern\":{\"fillmode\":\"overlay\",\"size\":10,\"solidity\":0.2}},\"type\":\"histogram\"}],\"scattergl\":[{\"marker\":{\"line\":{\"color\":\"#283442\"}},\"type\":\"scattergl\"}],\"scatter3d\":[{\"type\":\"scatter3d\",\"line\":{\"colorbar\":{\"outlinewidth\":0,\"ticks\":\"\"}},\"marker\":{\"colorbar\":{\"outlinewidth\":0,\"ticks\":\"\"}}}],\"scattermapbox\":[{\"type\":\"scattermapbox\",\"marker\":{\"colorbar\":{\"outlinewidth\":0,\"ticks\":\"\"}}}],\"scatterternary\":[{\"type\":\"scatterternary\",\"marker\":{\"colorbar\":{\"outlinewidth\":0,\"ticks\":\"\"}}}],\"scattercarpet\":[{\"type\":\"scattercarpet\",\"marker\":{\"colorbar\":{\"outlinewidth\":0,\"ticks\":\"\"}}}],\"carpet\":[{\"aaxis\":{\"endlinecolor\":\"#A2B1C6\",\"gridcolor\":\"#506784\",\"linecolor\":\"#506784\",\"minorgridcolor\":\"#506784\",\"startlinecolor\":\"#A2B1C6\"},\"baxis\":{\"endlinecolor\":\"#A2B1C6\",\"gridcolor\":\"#506784\",\"linecolor\":\"#506784\",\"minorgridcolor\":\"#506784\",\"startlinecolor\":\"#A2B1C6\"},\"type\":\"carpet\"}],\"table\":[{\"cells\":{\"fill\":{\"color\":\"#506784\"},\"line\":{\"color\":\"rgb(17,17,17)\"}},\"header\":{\"fill\":{\"color\":\"#2a3f5f\"},\"line\":{\"color\":\"rgb(17,17,17)\"}},\"type\":\"table\"}],\"barpolar\":[{\"marker\":{\"line\":{\"color\":\"rgb(17,17,17)\",\"width\":0.5},\"pattern\":{\"fillmode\":\"overlay\",\"size\":10,\"solidity\":0.2}},\"type\":\"barpolar\"}],\"pie\":[{\"automargin\":true,\"type\":\"pie\"}]},\"layout\":{\"autotypenumbers\":\"strict\",\"colorway\":[\"#636efa\",\"#EF553B\",\"#00cc96\",\"#ab63fa\",\"#FFA15A\",\"#19d3f3\",\"#FF6692\",\"#B6E880\",\"#FF97FF\",\"#FECB52\"],\"font\":{\"color\":\"#f2f5fa\"},\"hovermode\":\"closest\",\"hoverlabel\":{\"align\":\"left\"},\"paper_bgcolor\":\"rgb(17,17,17)\",\"plot_bgcolor\":\"rgb(17,17,17)\",\"polar\":{\"bgcolor\":\"rgb(17,17,17)\",\"angularaxis\":{\"gridcolor\":\"#506784\",\"linecolor\":\"#506784\",\"ticks\":\"\"},\"radialaxis\":{\"gridcolor\":\"#506784\",\"linecolor\":\"#506784\",\"ticks\":\"\"}},\"ternary\":{\"bgcolor\":\"rgb(17,17,17)\",\"aaxis\":{\"gridcolor\":\"#506784\",\"linecolor\":\"#506784\",\"ticks\":\"\"},\"baxis\":{\"gridcolor\":\"#506784\",\"linecolor\":\"#506784\",\"ticks\":\"\"},\"caxis\":{\"gridcolor\":\"#506784\",\"linecolor\":\"#506784\",\"ticks\":\"\"}},\"coloraxis\":{\"colorbar\":{\"outlinewidth\":0,\"ticks\":\"\"}},\"colorscale\":{\"sequential\":[[0.0,\"#0d0887\"],[0.1111111111111111,\"#46039f\"],[0.2222222222222222,\"#7201a8\"],[0.3333333333333333,\"#9c179e\"],[0.4444444444444444,\"#bd3786\"],[0.5555555555555556,\"#d8576b\"],[0.6666666666666666,\"#ed7953\"],[0.7777777777777778,\"#fb9f3a\"],[0.8888888888888888,\"#fdca26\"],[1.0,\"#f0f921\"]],\"sequentialminus\":[[0.0,\"#0d0887\"],[0.1111111111111111,\"#46039f\"],[0.2222222222222222,\"#7201a8\"],[0.3333333333333333,\"#9c179e\"],[0.4444444444444444,\"#bd3786\"],[0.5555555555555556,\"#d8576b\"],[0.6666666666666666,\"#ed7953\"],[0.7777777777777778,\"#fb9f3a\"],[0.8888888888888888,\"#fdca26\"],[1.0,\"#f0f921\"]],\"diverging\":[[0,\"#8e0152\"],[0.1,\"#c51b7d\"],[0.2,\"#de77ae\"],[0.3,\"#f1b6da\"],[0.4,\"#fde0ef\"],[0.5,\"#f7f7f7\"],[0.6,\"#e6f5d0\"],[0.7,\"#b8e186\"],[0.8,\"#7fbc41\"],[0.9,\"#4d9221\"],[1,\"#276419\"]]},\"xaxis\":{\"gridcolor\":\"#283442\",\"linecolor\":\"#506784\",\"ticks\":\"\",\"title\":{\"standoff\":15},\"zerolinecolor\":\"#283442\",\"automargin\":true,\"zerolinewidth\":2},\"yaxis\":{\"gridcolor\":\"#283442\",\"linecolor\":\"#506784\",\"ticks\":\"\",\"title\":{\"standoff\":15},\"zerolinecolor\":\"#283442\",\"automargin\":true,\"zerolinewidth\":2},\"scene\":{\"xaxis\":{\"backgroundcolor\":\"rgb(17,17,17)\",\"gridcolor\":\"#506784\",\"linecolor\":\"#506784\",\"showbackground\":true,\"ticks\":\"\",\"zerolinecolor\":\"#C8D4E3\",\"gridwidth\":2},\"yaxis\":{\"backgroundcolor\":\"rgb(17,17,17)\",\"gridcolor\":\"#506784\",\"linecolor\":\"#506784\",\"showbackground\":true,\"ticks\":\"\",\"zerolinecolor\":\"#C8D4E3\",\"gridwidth\":2},\"zaxis\":{\"backgroundcolor\":\"rgb(17,17,17)\",\"gridcolor\":\"#506784\",\"linecolor\":\"#506784\",\"showbackground\":true,\"ticks\":\"\",\"zerolinecolor\":\"#C8D4E3\",\"gridwidth\":2}},\"shapedefaults\":{\"line\":{\"color\":\"#f2f5fa\"}},\"annotationdefaults\":{\"arrowcolor\":\"#f2f5fa\",\"arrowhead\":0,\"arrowwidth\":1},\"geo\":{\"bgcolor\":\"rgb(17,17,17)\",\"landcolor\":\"rgb(17,17,17)\",\"subunitcolor\":\"#506784\",\"showland\":true,\"showlakes\":true,\"lakecolor\":\"rgb(17,17,17)\"},\"title\":{\"x\":0.05},\"updatemenudefaults\":{\"bgcolor\":\"#506784\",\"borderwidth\":0},\"sliderdefaults\":{\"bgcolor\":\"#C8D4E3\",\"borderwidth\":1,\"bordercolor\":\"rgb(17,17,17)\",\"tickwidth\":0},\"mapbox\":{\"style\":\"dark\"}}},\"xaxis\":{\"anchor\":\"y\",\"domain\":[0.0,1.0],\"title\":{\"text\":\"date\"}},\"yaxis\":{\"anchor\":\"x\",\"domain\":[0.0,1.0],\"title\":{\"text\":\"price\"}},\"legend\":{\"tracegroupgap\":0},\"title\":{\"text\":\"Series of series_id 544\"}},                        {\"responsive\": true}                    ).then(function(){\n",
       "                            \n",
       "var gd = document.getElementById('08d2297f-1da9-4c7c-833f-f1d62b7c3808');\n",
       "var x = new MutationObserver(function (mutations, observer) {{\n",
       "        var display = window.getComputedStyle(gd).display;\n",
       "        if (!display || display === 'none') {{\n",
       "            console.log([gd, 'removed!']);\n",
       "            Plotly.purge(gd);\n",
       "            observer.disconnect();\n",
       "        }}\n",
       "}});\n",
       "\n",
       "// Listen for the removal of the full notebook cells\n",
       "var notebookContainer = gd.closest('#notebook-container');\n",
       "if (notebookContainer) {{\n",
       "    x.observe(notebookContainer, {childList: true});\n",
       "}}\n",
       "\n",
       "// Listen for the clearing of the current output cell\n",
       "var outputEl = gd.closest('.output');\n",
       "if (outputEl) {{\n",
       "    x.observe(outputEl, {childList: true});\n",
       "}}\n",
       "\n",
       "                        })                };                });            </script>        </div>"
      ]
     },
     "metadata": {},
     "output_type": "display_data"
    }
   ],
   "execution_count": 68
  },
  {
   "metadata": {},
   "cell_type": "markdown",
   "source": "",
   "id": "83ead8cc9b1018b2"
  },
  {
   "metadata": {
    "ExecuteTime": {
     "end_time": "2024-08-26T22:32:39.695128Z",
     "start_time": "2024-08-26T22:32:39.676291Z"
    }
   },
   "cell_type": "code",
   "source": [
    "dataframe_adjusted = dataframe_to_adjust.copy()\n",
    "\n",
    "dataframe_adjusted = dataframe_adjusted.set_index('date',drop=True)\n",
    "\n",
    "# Criar um intervalo completo de datas, no caso, mensal\n",
    "full_index = pd.date_range(start=dataframe_adjusted.index.min(), end=dataframe_adjusted.index.max(), freq='MS')\n",
    "dataframe_adjusted = dataframe_adjusted.reindex(full_index)\n",
    "dataframe_adjusted.index.name = 'date'\n",
    "dataframe_adjusted.reset_index(inplace=True)\n",
    "dataframe_adjusted"
   ],
   "id": "7d78d874cda2b6ae",
   "outputs": [
    {
     "data": {
      "text/plain": [
       "          date    state   city       market            category commodity  \\\n",
       "0   2002-01-01  Katsina  Jibia  Jibia (CBM)  cereals and tubers    Millet   \n",
       "1   2002-02-01  Katsina  Jibia  Jibia (CBM)  cereals and tubers    Millet   \n",
       "2   2002-03-01  Katsina  Jibia  Jibia (CBM)  cereals and tubers    Millet   \n",
       "3   2002-04-01  Katsina  Jibia  Jibia (CBM)  cereals and tubers    Millet   \n",
       "4   2002-05-01  Katsina  Jibia  Jibia (CBM)  cereals and tubers    Millet   \n",
       "..         ...      ...    ...          ...                 ...       ...   \n",
       "178 2016-11-01  Katsina  Jibia  Jibia (CBM)  cereals and tubers    Millet   \n",
       "179 2016-12-01      NaN    NaN          NaN                 NaN       NaN   \n",
       "180 2017-01-01  Katsina  Jibia  Jibia (CBM)  cereals and tubers    Millet   \n",
       "181 2017-02-01  Katsina  Jibia  Jibia (CBM)  cereals and tubers    Millet   \n",
       "182 2017-03-01  Katsina  Jibia  Jibia (CBM)  cereals and tubers    Millet   \n",
       "\n",
       "    unit priceflag  pricetype currency   price  usdprice  series_id  \n",
       "0     KG    actual  Wholesale      NGN  150.18    1.3254      544.0  \n",
       "1     KG    actual  Wholesale      NGN  148.54    1.2973      544.0  \n",
       "2     KG    actual  Wholesale      NGN  175.00    1.5165      544.0  \n",
       "3     KG    actual  Wholesale      NGN  187.50    1.6206      544.0  \n",
       "4     KG    actual  Wholesale      NGN  195.12    1.6815      544.0  \n",
       "..   ...       ...        ...      ...     ...       ...        ...  \n",
       "178   KG    actual  Wholesale      NGN  126.00    0.4000      544.0  \n",
       "179  NaN       NaN        NaN      NaN     NaN       NaN        NaN  \n",
       "180   KG    actual  Wholesale      NGN  193.00    0.6325      544.0  \n",
       "181   KG    actual  Wholesale      NGN  202.00   64.3312      544.0  \n",
       "182   KG    actual  Wholesale      NGN  248.00    0.7898      544.0  \n",
       "\n",
       "[183 rows x 13 columns]"
      ],
      "text/html": [
       "<div>\n",
       "<style scoped>\n",
       "    .dataframe tbody tr th:only-of-type {\n",
       "        vertical-align: middle;\n",
       "    }\n",
       "\n",
       "    .dataframe tbody tr th {\n",
       "        vertical-align: top;\n",
       "    }\n",
       "\n",
       "    .dataframe thead th {\n",
       "        text-align: right;\n",
       "    }\n",
       "</style>\n",
       "<table border=\"1\" class=\"dataframe\">\n",
       "  <thead>\n",
       "    <tr style=\"text-align: right;\">\n",
       "      <th></th>\n",
       "      <th>date</th>\n",
       "      <th>state</th>\n",
       "      <th>city</th>\n",
       "      <th>market</th>\n",
       "      <th>category</th>\n",
       "      <th>commodity</th>\n",
       "      <th>unit</th>\n",
       "      <th>priceflag</th>\n",
       "      <th>pricetype</th>\n",
       "      <th>currency</th>\n",
       "      <th>price</th>\n",
       "      <th>usdprice</th>\n",
       "      <th>series_id</th>\n",
       "    </tr>\n",
       "  </thead>\n",
       "  <tbody>\n",
       "    <tr>\n",
       "      <th>0</th>\n",
       "      <td>2002-01-01</td>\n",
       "      <td>Katsina</td>\n",
       "      <td>Jibia</td>\n",
       "      <td>Jibia (CBM)</td>\n",
       "      <td>cereals and tubers</td>\n",
       "      <td>Millet</td>\n",
       "      <td>KG</td>\n",
       "      <td>actual</td>\n",
       "      <td>Wholesale</td>\n",
       "      <td>NGN</td>\n",
       "      <td>150.18</td>\n",
       "      <td>1.3254</td>\n",
       "      <td>544.0</td>\n",
       "    </tr>\n",
       "    <tr>\n",
       "      <th>1</th>\n",
       "      <td>2002-02-01</td>\n",
       "      <td>Katsina</td>\n",
       "      <td>Jibia</td>\n",
       "      <td>Jibia (CBM)</td>\n",
       "      <td>cereals and tubers</td>\n",
       "      <td>Millet</td>\n",
       "      <td>KG</td>\n",
       "      <td>actual</td>\n",
       "      <td>Wholesale</td>\n",
       "      <td>NGN</td>\n",
       "      <td>148.54</td>\n",
       "      <td>1.2973</td>\n",
       "      <td>544.0</td>\n",
       "    </tr>\n",
       "    <tr>\n",
       "      <th>2</th>\n",
       "      <td>2002-03-01</td>\n",
       "      <td>Katsina</td>\n",
       "      <td>Jibia</td>\n",
       "      <td>Jibia (CBM)</td>\n",
       "      <td>cereals and tubers</td>\n",
       "      <td>Millet</td>\n",
       "      <td>KG</td>\n",
       "      <td>actual</td>\n",
       "      <td>Wholesale</td>\n",
       "      <td>NGN</td>\n",
       "      <td>175.00</td>\n",
       "      <td>1.5165</td>\n",
       "      <td>544.0</td>\n",
       "    </tr>\n",
       "    <tr>\n",
       "      <th>3</th>\n",
       "      <td>2002-04-01</td>\n",
       "      <td>Katsina</td>\n",
       "      <td>Jibia</td>\n",
       "      <td>Jibia (CBM)</td>\n",
       "      <td>cereals and tubers</td>\n",
       "      <td>Millet</td>\n",
       "      <td>KG</td>\n",
       "      <td>actual</td>\n",
       "      <td>Wholesale</td>\n",
       "      <td>NGN</td>\n",
       "      <td>187.50</td>\n",
       "      <td>1.6206</td>\n",
       "      <td>544.0</td>\n",
       "    </tr>\n",
       "    <tr>\n",
       "      <th>4</th>\n",
       "      <td>2002-05-01</td>\n",
       "      <td>Katsina</td>\n",
       "      <td>Jibia</td>\n",
       "      <td>Jibia (CBM)</td>\n",
       "      <td>cereals and tubers</td>\n",
       "      <td>Millet</td>\n",
       "      <td>KG</td>\n",
       "      <td>actual</td>\n",
       "      <td>Wholesale</td>\n",
       "      <td>NGN</td>\n",
       "      <td>195.12</td>\n",
       "      <td>1.6815</td>\n",
       "      <td>544.0</td>\n",
       "    </tr>\n",
       "    <tr>\n",
       "      <th>...</th>\n",
       "      <td>...</td>\n",
       "      <td>...</td>\n",
       "      <td>...</td>\n",
       "      <td>...</td>\n",
       "      <td>...</td>\n",
       "      <td>...</td>\n",
       "      <td>...</td>\n",
       "      <td>...</td>\n",
       "      <td>...</td>\n",
       "      <td>...</td>\n",
       "      <td>...</td>\n",
       "      <td>...</td>\n",
       "      <td>...</td>\n",
       "    </tr>\n",
       "    <tr>\n",
       "      <th>178</th>\n",
       "      <td>2016-11-01</td>\n",
       "      <td>Katsina</td>\n",
       "      <td>Jibia</td>\n",
       "      <td>Jibia (CBM)</td>\n",
       "      <td>cereals and tubers</td>\n",
       "      <td>Millet</td>\n",
       "      <td>KG</td>\n",
       "      <td>actual</td>\n",
       "      <td>Wholesale</td>\n",
       "      <td>NGN</td>\n",
       "      <td>126.00</td>\n",
       "      <td>0.4000</td>\n",
       "      <td>544.0</td>\n",
       "    </tr>\n",
       "    <tr>\n",
       "      <th>179</th>\n",
       "      <td>2016-12-01</td>\n",
       "      <td>NaN</td>\n",
       "      <td>NaN</td>\n",
       "      <td>NaN</td>\n",
       "      <td>NaN</td>\n",
       "      <td>NaN</td>\n",
       "      <td>NaN</td>\n",
       "      <td>NaN</td>\n",
       "      <td>NaN</td>\n",
       "      <td>NaN</td>\n",
       "      <td>NaN</td>\n",
       "      <td>NaN</td>\n",
       "      <td>NaN</td>\n",
       "    </tr>\n",
       "    <tr>\n",
       "      <th>180</th>\n",
       "      <td>2017-01-01</td>\n",
       "      <td>Katsina</td>\n",
       "      <td>Jibia</td>\n",
       "      <td>Jibia (CBM)</td>\n",
       "      <td>cereals and tubers</td>\n",
       "      <td>Millet</td>\n",
       "      <td>KG</td>\n",
       "      <td>actual</td>\n",
       "      <td>Wholesale</td>\n",
       "      <td>NGN</td>\n",
       "      <td>193.00</td>\n",
       "      <td>0.6325</td>\n",
       "      <td>544.0</td>\n",
       "    </tr>\n",
       "    <tr>\n",
       "      <th>181</th>\n",
       "      <td>2017-02-01</td>\n",
       "      <td>Katsina</td>\n",
       "      <td>Jibia</td>\n",
       "      <td>Jibia (CBM)</td>\n",
       "      <td>cereals and tubers</td>\n",
       "      <td>Millet</td>\n",
       "      <td>KG</td>\n",
       "      <td>actual</td>\n",
       "      <td>Wholesale</td>\n",
       "      <td>NGN</td>\n",
       "      <td>202.00</td>\n",
       "      <td>64.3312</td>\n",
       "      <td>544.0</td>\n",
       "    </tr>\n",
       "    <tr>\n",
       "      <th>182</th>\n",
       "      <td>2017-03-01</td>\n",
       "      <td>Katsina</td>\n",
       "      <td>Jibia</td>\n",
       "      <td>Jibia (CBM)</td>\n",
       "      <td>cereals and tubers</td>\n",
       "      <td>Millet</td>\n",
       "      <td>KG</td>\n",
       "      <td>actual</td>\n",
       "      <td>Wholesale</td>\n",
       "      <td>NGN</td>\n",
       "      <td>248.00</td>\n",
       "      <td>0.7898</td>\n",
       "      <td>544.0</td>\n",
       "    </tr>\n",
       "  </tbody>\n",
       "</table>\n",
       "<p>183 rows × 13 columns</p>\n",
       "</div>"
      ]
     },
     "execution_count": 69,
     "metadata": {},
     "output_type": "execute_result"
    }
   ],
   "execution_count": 69
  },
  {
   "metadata": {
    "ExecuteTime": {
     "end_time": "2024-08-26T22:32:39.890768Z",
     "start_time": "2024-08-26T22:32:39.872234Z"
    }
   },
   "cell_type": "code",
   "source": [
    "columns_to_fill = [col for col in dataframe_adjusted.columns if col not in ['usdprice', 'price']]\n",
    "dataframe_adjusted_mean = dataframe_adjusted.copy()\n",
    "# Preencher valores faltantes com o valor anterior\n",
    "dataframe_adjusted_mean[columns_to_fill] = dataframe_adjusted_mean[columns_to_fill].fillna(method='ffill')\n",
    "\n",
    "expanding_mean = dataframe_adjusted_mean['price'].expanding().mean()\n",
    "dataframe_adjusted_mean['price'] = dataframe_adjusted_mean['price'].combine_first(expanding_mean)\n",
    "\n",
    "expanding_mean = dataframe_adjusted_mean['usdprice'].expanding().mean()\n",
    "dataframe_adjusted_mean['usdprice'] = dataframe_adjusted_mean['usdprice'].combine_first(expanding_mean)\n",
    "dataframe_adjusted_mean.head()\n"
   ],
   "id": "cdd90a25cce3850d",
   "outputs": [
    {
     "name": "stderr",
     "output_type": "stream",
     "text": [
      "C:\\Users\\siera\\AppData\\Local\\Temp\\ipykernel_14892\\1503865728.py:4: FutureWarning:\n",
      "\n",
      "DataFrame.fillna with 'method' is deprecated and will raise in a future version. Use obj.ffill() or obj.bfill() instead.\n",
      "\n"
     ]
    },
    {
     "data": {
      "text/plain": [
       "        date    state   city       market            category commodity unit  \\\n",
       "0 2002-01-01  Katsina  Jibia  Jibia (CBM)  cereals and tubers    Millet   KG   \n",
       "1 2002-02-01  Katsina  Jibia  Jibia (CBM)  cereals and tubers    Millet   KG   \n",
       "2 2002-03-01  Katsina  Jibia  Jibia (CBM)  cereals and tubers    Millet   KG   \n",
       "3 2002-04-01  Katsina  Jibia  Jibia (CBM)  cereals and tubers    Millet   KG   \n",
       "4 2002-05-01  Katsina  Jibia  Jibia (CBM)  cereals and tubers    Millet   KG   \n",
       "\n",
       "  priceflag  pricetype currency   price  usdprice  series_id  \n",
       "0    actual  Wholesale      NGN  150.18    1.3254      544.0  \n",
       "1    actual  Wholesale      NGN  148.54    1.2973      544.0  \n",
       "2    actual  Wholesale      NGN  175.00    1.5165      544.0  \n",
       "3    actual  Wholesale      NGN  187.50    1.6206      544.0  \n",
       "4    actual  Wholesale      NGN  195.12    1.6815      544.0  "
      ],
      "text/html": [
       "<div>\n",
       "<style scoped>\n",
       "    .dataframe tbody tr th:only-of-type {\n",
       "        vertical-align: middle;\n",
       "    }\n",
       "\n",
       "    .dataframe tbody tr th {\n",
       "        vertical-align: top;\n",
       "    }\n",
       "\n",
       "    .dataframe thead th {\n",
       "        text-align: right;\n",
       "    }\n",
       "</style>\n",
       "<table border=\"1\" class=\"dataframe\">\n",
       "  <thead>\n",
       "    <tr style=\"text-align: right;\">\n",
       "      <th></th>\n",
       "      <th>date</th>\n",
       "      <th>state</th>\n",
       "      <th>city</th>\n",
       "      <th>market</th>\n",
       "      <th>category</th>\n",
       "      <th>commodity</th>\n",
       "      <th>unit</th>\n",
       "      <th>priceflag</th>\n",
       "      <th>pricetype</th>\n",
       "      <th>currency</th>\n",
       "      <th>price</th>\n",
       "      <th>usdprice</th>\n",
       "      <th>series_id</th>\n",
       "    </tr>\n",
       "  </thead>\n",
       "  <tbody>\n",
       "    <tr>\n",
       "      <th>0</th>\n",
       "      <td>2002-01-01</td>\n",
       "      <td>Katsina</td>\n",
       "      <td>Jibia</td>\n",
       "      <td>Jibia (CBM)</td>\n",
       "      <td>cereals and tubers</td>\n",
       "      <td>Millet</td>\n",
       "      <td>KG</td>\n",
       "      <td>actual</td>\n",
       "      <td>Wholesale</td>\n",
       "      <td>NGN</td>\n",
       "      <td>150.18</td>\n",
       "      <td>1.3254</td>\n",
       "      <td>544.0</td>\n",
       "    </tr>\n",
       "    <tr>\n",
       "      <th>1</th>\n",
       "      <td>2002-02-01</td>\n",
       "      <td>Katsina</td>\n",
       "      <td>Jibia</td>\n",
       "      <td>Jibia (CBM)</td>\n",
       "      <td>cereals and tubers</td>\n",
       "      <td>Millet</td>\n",
       "      <td>KG</td>\n",
       "      <td>actual</td>\n",
       "      <td>Wholesale</td>\n",
       "      <td>NGN</td>\n",
       "      <td>148.54</td>\n",
       "      <td>1.2973</td>\n",
       "      <td>544.0</td>\n",
       "    </tr>\n",
       "    <tr>\n",
       "      <th>2</th>\n",
       "      <td>2002-03-01</td>\n",
       "      <td>Katsina</td>\n",
       "      <td>Jibia</td>\n",
       "      <td>Jibia (CBM)</td>\n",
       "      <td>cereals and tubers</td>\n",
       "      <td>Millet</td>\n",
       "      <td>KG</td>\n",
       "      <td>actual</td>\n",
       "      <td>Wholesale</td>\n",
       "      <td>NGN</td>\n",
       "      <td>175.00</td>\n",
       "      <td>1.5165</td>\n",
       "      <td>544.0</td>\n",
       "    </tr>\n",
       "    <tr>\n",
       "      <th>3</th>\n",
       "      <td>2002-04-01</td>\n",
       "      <td>Katsina</td>\n",
       "      <td>Jibia</td>\n",
       "      <td>Jibia (CBM)</td>\n",
       "      <td>cereals and tubers</td>\n",
       "      <td>Millet</td>\n",
       "      <td>KG</td>\n",
       "      <td>actual</td>\n",
       "      <td>Wholesale</td>\n",
       "      <td>NGN</td>\n",
       "      <td>187.50</td>\n",
       "      <td>1.6206</td>\n",
       "      <td>544.0</td>\n",
       "    </tr>\n",
       "    <tr>\n",
       "      <th>4</th>\n",
       "      <td>2002-05-01</td>\n",
       "      <td>Katsina</td>\n",
       "      <td>Jibia</td>\n",
       "      <td>Jibia (CBM)</td>\n",
       "      <td>cereals and tubers</td>\n",
       "      <td>Millet</td>\n",
       "      <td>KG</td>\n",
       "      <td>actual</td>\n",
       "      <td>Wholesale</td>\n",
       "      <td>NGN</td>\n",
       "      <td>195.12</td>\n",
       "      <td>1.6815</td>\n",
       "      <td>544.0</td>\n",
       "    </tr>\n",
       "  </tbody>\n",
       "</table>\n",
       "</div>"
      ]
     },
     "execution_count": 70,
     "metadata": {},
     "output_type": "execute_result"
    }
   ],
   "execution_count": 70
  },
  {
   "metadata": {
    "ExecuteTime": {
     "end_time": "2024-08-26T22:32:40.066789Z",
     "start_time": "2024-08-26T22:32:40.016579Z"
    }
   },
   "cell_type": "code",
   "source": [
    "dataframe_adjusted_rolling_12_months = dataframe_adjusted.copy()\n",
    "\n",
    "rolling_mean_price_12_months = dataframe_adjusted_rolling_12_months['price'].rolling(window=12).mean()\n",
    "rolling_mean_usdprice_12_months = dataframe_adjusted_rolling_12_months['usdprice'].rolling(window=12).mean()\n",
    "\n",
    "# Preencher valores NaN com a média móvel\n",
    "dataframe_adjusted_rolling_12_months['price'] = dataframe_adjusted_rolling_12_months['price'].combine_first(rolling_mean_price_12_months)\n",
    "dataframe_adjusted_rolling_12_months['usdprice'] = dataframe_adjusted_rolling_12_months['usdprice'].combine_first(rolling_mean_usdprice_12_months)\n",
    "\n",
    "# Se houver NaNs restantes, preenchê-los com o valor anterior\n",
    "dataframe_adjusted_rolling_12_months = dataframe_adjusted_rolling_12_months.fillna(method='ffill')\n",
    "dataframe_adjusted_rolling_12_months.head()"
   ],
   "id": "e1d45aa8a88f2bf9",
   "outputs": [
    {
     "name": "stderr",
     "output_type": "stream",
     "text": [
      "C:\\Users\\siera\\AppData\\Local\\Temp\\ipykernel_14892\\2171362633.py:11: FutureWarning:\n",
      "\n",
      "DataFrame.fillna with 'method' is deprecated and will raise in a future version. Use obj.ffill() or obj.bfill() instead.\n",
      "\n"
     ]
    },
    {
     "data": {
      "text/plain": [
       "        date    state   city       market            category commodity unit  \\\n",
       "0 2002-01-01  Katsina  Jibia  Jibia (CBM)  cereals and tubers    Millet   KG   \n",
       "1 2002-02-01  Katsina  Jibia  Jibia (CBM)  cereals and tubers    Millet   KG   \n",
       "2 2002-03-01  Katsina  Jibia  Jibia (CBM)  cereals and tubers    Millet   KG   \n",
       "3 2002-04-01  Katsina  Jibia  Jibia (CBM)  cereals and tubers    Millet   KG   \n",
       "4 2002-05-01  Katsina  Jibia  Jibia (CBM)  cereals and tubers    Millet   KG   \n",
       "\n",
       "  priceflag  pricetype currency   price  usdprice  series_id  \n",
       "0    actual  Wholesale      NGN  150.18    1.3254      544.0  \n",
       "1    actual  Wholesale      NGN  148.54    1.2973      544.0  \n",
       "2    actual  Wholesale      NGN  175.00    1.5165      544.0  \n",
       "3    actual  Wholesale      NGN  187.50    1.6206      544.0  \n",
       "4    actual  Wholesale      NGN  195.12    1.6815      544.0  "
      ],
      "text/html": [
       "<div>\n",
       "<style scoped>\n",
       "    .dataframe tbody tr th:only-of-type {\n",
       "        vertical-align: middle;\n",
       "    }\n",
       "\n",
       "    .dataframe tbody tr th {\n",
       "        vertical-align: top;\n",
       "    }\n",
       "\n",
       "    .dataframe thead th {\n",
       "        text-align: right;\n",
       "    }\n",
       "</style>\n",
       "<table border=\"1\" class=\"dataframe\">\n",
       "  <thead>\n",
       "    <tr style=\"text-align: right;\">\n",
       "      <th></th>\n",
       "      <th>date</th>\n",
       "      <th>state</th>\n",
       "      <th>city</th>\n",
       "      <th>market</th>\n",
       "      <th>category</th>\n",
       "      <th>commodity</th>\n",
       "      <th>unit</th>\n",
       "      <th>priceflag</th>\n",
       "      <th>pricetype</th>\n",
       "      <th>currency</th>\n",
       "      <th>price</th>\n",
       "      <th>usdprice</th>\n",
       "      <th>series_id</th>\n",
       "    </tr>\n",
       "  </thead>\n",
       "  <tbody>\n",
       "    <tr>\n",
       "      <th>0</th>\n",
       "      <td>2002-01-01</td>\n",
       "      <td>Katsina</td>\n",
       "      <td>Jibia</td>\n",
       "      <td>Jibia (CBM)</td>\n",
       "      <td>cereals and tubers</td>\n",
       "      <td>Millet</td>\n",
       "      <td>KG</td>\n",
       "      <td>actual</td>\n",
       "      <td>Wholesale</td>\n",
       "      <td>NGN</td>\n",
       "      <td>150.18</td>\n",
       "      <td>1.3254</td>\n",
       "      <td>544.0</td>\n",
       "    </tr>\n",
       "    <tr>\n",
       "      <th>1</th>\n",
       "      <td>2002-02-01</td>\n",
       "      <td>Katsina</td>\n",
       "      <td>Jibia</td>\n",
       "      <td>Jibia (CBM)</td>\n",
       "      <td>cereals and tubers</td>\n",
       "      <td>Millet</td>\n",
       "      <td>KG</td>\n",
       "      <td>actual</td>\n",
       "      <td>Wholesale</td>\n",
       "      <td>NGN</td>\n",
       "      <td>148.54</td>\n",
       "      <td>1.2973</td>\n",
       "      <td>544.0</td>\n",
       "    </tr>\n",
       "    <tr>\n",
       "      <th>2</th>\n",
       "      <td>2002-03-01</td>\n",
       "      <td>Katsina</td>\n",
       "      <td>Jibia</td>\n",
       "      <td>Jibia (CBM)</td>\n",
       "      <td>cereals and tubers</td>\n",
       "      <td>Millet</td>\n",
       "      <td>KG</td>\n",
       "      <td>actual</td>\n",
       "      <td>Wholesale</td>\n",
       "      <td>NGN</td>\n",
       "      <td>175.00</td>\n",
       "      <td>1.5165</td>\n",
       "      <td>544.0</td>\n",
       "    </tr>\n",
       "    <tr>\n",
       "      <th>3</th>\n",
       "      <td>2002-04-01</td>\n",
       "      <td>Katsina</td>\n",
       "      <td>Jibia</td>\n",
       "      <td>Jibia (CBM)</td>\n",
       "      <td>cereals and tubers</td>\n",
       "      <td>Millet</td>\n",
       "      <td>KG</td>\n",
       "      <td>actual</td>\n",
       "      <td>Wholesale</td>\n",
       "      <td>NGN</td>\n",
       "      <td>187.50</td>\n",
       "      <td>1.6206</td>\n",
       "      <td>544.0</td>\n",
       "    </tr>\n",
       "    <tr>\n",
       "      <th>4</th>\n",
       "      <td>2002-05-01</td>\n",
       "      <td>Katsina</td>\n",
       "      <td>Jibia</td>\n",
       "      <td>Jibia (CBM)</td>\n",
       "      <td>cereals and tubers</td>\n",
       "      <td>Millet</td>\n",
       "      <td>KG</td>\n",
       "      <td>actual</td>\n",
       "      <td>Wholesale</td>\n",
       "      <td>NGN</td>\n",
       "      <td>195.12</td>\n",
       "      <td>1.6815</td>\n",
       "      <td>544.0</td>\n",
       "    </tr>\n",
       "  </tbody>\n",
       "</table>\n",
       "</div>"
      ]
     },
     "execution_count": 71,
     "metadata": {},
     "output_type": "execute_result"
    }
   ],
   "execution_count": 71
  },
  {
   "metadata": {
    "ExecuteTime": {
     "end_time": "2024-08-26T22:32:40.317539Z",
     "start_time": "2024-08-26T22:32:40.301633Z"
    }
   },
   "cell_type": "code",
   "source": [
    "dataframe_adjusted_rolling_6_months = dataframe_adjusted.copy()\n",
    "\n",
    "rolling_mean_price_6_months = dataframe_adjusted_rolling_6_months['price'].rolling(window=6).mean()\n",
    "rolling_mean_usdprice_6_months = dataframe_adjusted_rolling_6_months['usdprice'].rolling(window=6).mean()\n",
    "\n",
    "# Preencher valores NaN com a média móvel\n",
    "dataframe_adjusted_rolling_6_months['price'] = dataframe_adjusted_rolling_6_months['price'].combine_first(rolling_mean_price_6_months)\n",
    "dataframe_adjusted_rolling_6_months['usdprice'] = dataframe_adjusted_rolling_6_months['usdprice'].combine_first(rolling_mean_usdprice_6_months)\n",
    "\n",
    "# Se houver NaNs restantes, preenchê-los com o valor anterior\n",
    "dataframe_adjusted_rolling_6_months = dataframe_adjusted_rolling_6_months.fillna(method='ffill')\n",
    "dataframe_adjusted_rolling_6_months.head()"
   ],
   "id": "c7e1f87027a7546c",
   "outputs": [
    {
     "name": "stderr",
     "output_type": "stream",
     "text": [
      "C:\\Users\\siera\\AppData\\Local\\Temp\\ipykernel_14892\\2163955772.py:11: FutureWarning:\n",
      "\n",
      "DataFrame.fillna with 'method' is deprecated and will raise in a future version. Use obj.ffill() or obj.bfill() instead.\n",
      "\n"
     ]
    },
    {
     "data": {
      "text/plain": [
       "        date    state   city       market            category commodity unit  \\\n",
       "0 2002-01-01  Katsina  Jibia  Jibia (CBM)  cereals and tubers    Millet   KG   \n",
       "1 2002-02-01  Katsina  Jibia  Jibia (CBM)  cereals and tubers    Millet   KG   \n",
       "2 2002-03-01  Katsina  Jibia  Jibia (CBM)  cereals and tubers    Millet   KG   \n",
       "3 2002-04-01  Katsina  Jibia  Jibia (CBM)  cereals and tubers    Millet   KG   \n",
       "4 2002-05-01  Katsina  Jibia  Jibia (CBM)  cereals and tubers    Millet   KG   \n",
       "\n",
       "  priceflag  pricetype currency   price  usdprice  series_id  \n",
       "0    actual  Wholesale      NGN  150.18    1.3254      544.0  \n",
       "1    actual  Wholesale      NGN  148.54    1.2973      544.0  \n",
       "2    actual  Wholesale      NGN  175.00    1.5165      544.0  \n",
       "3    actual  Wholesale      NGN  187.50    1.6206      544.0  \n",
       "4    actual  Wholesale      NGN  195.12    1.6815      544.0  "
      ],
      "text/html": [
       "<div>\n",
       "<style scoped>\n",
       "    .dataframe tbody tr th:only-of-type {\n",
       "        vertical-align: middle;\n",
       "    }\n",
       "\n",
       "    .dataframe tbody tr th {\n",
       "        vertical-align: top;\n",
       "    }\n",
       "\n",
       "    .dataframe thead th {\n",
       "        text-align: right;\n",
       "    }\n",
       "</style>\n",
       "<table border=\"1\" class=\"dataframe\">\n",
       "  <thead>\n",
       "    <tr style=\"text-align: right;\">\n",
       "      <th></th>\n",
       "      <th>date</th>\n",
       "      <th>state</th>\n",
       "      <th>city</th>\n",
       "      <th>market</th>\n",
       "      <th>category</th>\n",
       "      <th>commodity</th>\n",
       "      <th>unit</th>\n",
       "      <th>priceflag</th>\n",
       "      <th>pricetype</th>\n",
       "      <th>currency</th>\n",
       "      <th>price</th>\n",
       "      <th>usdprice</th>\n",
       "      <th>series_id</th>\n",
       "    </tr>\n",
       "  </thead>\n",
       "  <tbody>\n",
       "    <tr>\n",
       "      <th>0</th>\n",
       "      <td>2002-01-01</td>\n",
       "      <td>Katsina</td>\n",
       "      <td>Jibia</td>\n",
       "      <td>Jibia (CBM)</td>\n",
       "      <td>cereals and tubers</td>\n",
       "      <td>Millet</td>\n",
       "      <td>KG</td>\n",
       "      <td>actual</td>\n",
       "      <td>Wholesale</td>\n",
       "      <td>NGN</td>\n",
       "      <td>150.18</td>\n",
       "      <td>1.3254</td>\n",
       "      <td>544.0</td>\n",
       "    </tr>\n",
       "    <tr>\n",
       "      <th>1</th>\n",
       "      <td>2002-02-01</td>\n",
       "      <td>Katsina</td>\n",
       "      <td>Jibia</td>\n",
       "      <td>Jibia (CBM)</td>\n",
       "      <td>cereals and tubers</td>\n",
       "      <td>Millet</td>\n",
       "      <td>KG</td>\n",
       "      <td>actual</td>\n",
       "      <td>Wholesale</td>\n",
       "      <td>NGN</td>\n",
       "      <td>148.54</td>\n",
       "      <td>1.2973</td>\n",
       "      <td>544.0</td>\n",
       "    </tr>\n",
       "    <tr>\n",
       "      <th>2</th>\n",
       "      <td>2002-03-01</td>\n",
       "      <td>Katsina</td>\n",
       "      <td>Jibia</td>\n",
       "      <td>Jibia (CBM)</td>\n",
       "      <td>cereals and tubers</td>\n",
       "      <td>Millet</td>\n",
       "      <td>KG</td>\n",
       "      <td>actual</td>\n",
       "      <td>Wholesale</td>\n",
       "      <td>NGN</td>\n",
       "      <td>175.00</td>\n",
       "      <td>1.5165</td>\n",
       "      <td>544.0</td>\n",
       "    </tr>\n",
       "    <tr>\n",
       "      <th>3</th>\n",
       "      <td>2002-04-01</td>\n",
       "      <td>Katsina</td>\n",
       "      <td>Jibia</td>\n",
       "      <td>Jibia (CBM)</td>\n",
       "      <td>cereals and tubers</td>\n",
       "      <td>Millet</td>\n",
       "      <td>KG</td>\n",
       "      <td>actual</td>\n",
       "      <td>Wholesale</td>\n",
       "      <td>NGN</td>\n",
       "      <td>187.50</td>\n",
       "      <td>1.6206</td>\n",
       "      <td>544.0</td>\n",
       "    </tr>\n",
       "    <tr>\n",
       "      <th>4</th>\n",
       "      <td>2002-05-01</td>\n",
       "      <td>Katsina</td>\n",
       "      <td>Jibia</td>\n",
       "      <td>Jibia (CBM)</td>\n",
       "      <td>cereals and tubers</td>\n",
       "      <td>Millet</td>\n",
       "      <td>KG</td>\n",
       "      <td>actual</td>\n",
       "      <td>Wholesale</td>\n",
       "      <td>NGN</td>\n",
       "      <td>195.12</td>\n",
       "      <td>1.6815</td>\n",
       "      <td>544.0</td>\n",
       "    </tr>\n",
       "  </tbody>\n",
       "</table>\n",
       "</div>"
      ]
     },
     "execution_count": 72,
     "metadata": {},
     "output_type": "execute_result"
    }
   ],
   "execution_count": 72
  },
  {
   "metadata": {
    "ExecuteTime": {
     "end_time": "2024-08-26T22:32:40.587579Z",
     "start_time": "2024-08-26T22:32:40.567512Z"
    }
   },
   "cell_type": "code",
   "source": [
    "dataframe_adjusted_rolling_3_months = dataframe_adjusted.copy()\n",
    "\n",
    "rolling_mean_price_3_months = dataframe_adjusted_rolling_3_months['price'].rolling(window=3).mean()\n",
    "rolling_mean_usdprice_3_months = dataframe_adjusted_rolling_3_months['usdprice'].rolling(window=3).mean()\n",
    "\n",
    "# Preencher valores NaN com a média móvel\n",
    "dataframe_adjusted_rolling_3_months['price'] = dataframe_adjusted_rolling_3_months['price'].combine_first(rolling_mean_price_3_months)\n",
    "dataframe_adjusted_rolling_3_months['usdprice'] = dataframe_adjusted_rolling_3_months['usdprice'].combine_first(rolling_mean_usdprice_3_months)\n",
    "\n",
    "# Se houver NaNs restantes, preenchê-los com o valor anterior\n",
    "dataframe_adjusted_rolling_3_months = dataframe_adjusted_rolling_3_months.fillna(method='ffill')\n",
    "dataframe_adjusted_rolling_3_months.head()"
   ],
   "id": "f29590d0e78e4a82",
   "outputs": [
    {
     "name": "stderr",
     "output_type": "stream",
     "text": [
      "C:\\Users\\siera\\AppData\\Local\\Temp\\ipykernel_14892\\3923492025.py:11: FutureWarning:\n",
      "\n",
      "DataFrame.fillna with 'method' is deprecated and will raise in a future version. Use obj.ffill() or obj.bfill() instead.\n",
      "\n"
     ]
    },
    {
     "data": {
      "text/plain": [
       "        date    state   city       market            category commodity unit  \\\n",
       "0 2002-01-01  Katsina  Jibia  Jibia (CBM)  cereals and tubers    Millet   KG   \n",
       "1 2002-02-01  Katsina  Jibia  Jibia (CBM)  cereals and tubers    Millet   KG   \n",
       "2 2002-03-01  Katsina  Jibia  Jibia (CBM)  cereals and tubers    Millet   KG   \n",
       "3 2002-04-01  Katsina  Jibia  Jibia (CBM)  cereals and tubers    Millet   KG   \n",
       "4 2002-05-01  Katsina  Jibia  Jibia (CBM)  cereals and tubers    Millet   KG   \n",
       "\n",
       "  priceflag  pricetype currency   price  usdprice  series_id  \n",
       "0    actual  Wholesale      NGN  150.18    1.3254      544.0  \n",
       "1    actual  Wholesale      NGN  148.54    1.2973      544.0  \n",
       "2    actual  Wholesale      NGN  175.00    1.5165      544.0  \n",
       "3    actual  Wholesale      NGN  187.50    1.6206      544.0  \n",
       "4    actual  Wholesale      NGN  195.12    1.6815      544.0  "
      ],
      "text/html": [
       "<div>\n",
       "<style scoped>\n",
       "    .dataframe tbody tr th:only-of-type {\n",
       "        vertical-align: middle;\n",
       "    }\n",
       "\n",
       "    .dataframe tbody tr th {\n",
       "        vertical-align: top;\n",
       "    }\n",
       "\n",
       "    .dataframe thead th {\n",
       "        text-align: right;\n",
       "    }\n",
       "</style>\n",
       "<table border=\"1\" class=\"dataframe\">\n",
       "  <thead>\n",
       "    <tr style=\"text-align: right;\">\n",
       "      <th></th>\n",
       "      <th>date</th>\n",
       "      <th>state</th>\n",
       "      <th>city</th>\n",
       "      <th>market</th>\n",
       "      <th>category</th>\n",
       "      <th>commodity</th>\n",
       "      <th>unit</th>\n",
       "      <th>priceflag</th>\n",
       "      <th>pricetype</th>\n",
       "      <th>currency</th>\n",
       "      <th>price</th>\n",
       "      <th>usdprice</th>\n",
       "      <th>series_id</th>\n",
       "    </tr>\n",
       "  </thead>\n",
       "  <tbody>\n",
       "    <tr>\n",
       "      <th>0</th>\n",
       "      <td>2002-01-01</td>\n",
       "      <td>Katsina</td>\n",
       "      <td>Jibia</td>\n",
       "      <td>Jibia (CBM)</td>\n",
       "      <td>cereals and tubers</td>\n",
       "      <td>Millet</td>\n",
       "      <td>KG</td>\n",
       "      <td>actual</td>\n",
       "      <td>Wholesale</td>\n",
       "      <td>NGN</td>\n",
       "      <td>150.18</td>\n",
       "      <td>1.3254</td>\n",
       "      <td>544.0</td>\n",
       "    </tr>\n",
       "    <tr>\n",
       "      <th>1</th>\n",
       "      <td>2002-02-01</td>\n",
       "      <td>Katsina</td>\n",
       "      <td>Jibia</td>\n",
       "      <td>Jibia (CBM)</td>\n",
       "      <td>cereals and tubers</td>\n",
       "      <td>Millet</td>\n",
       "      <td>KG</td>\n",
       "      <td>actual</td>\n",
       "      <td>Wholesale</td>\n",
       "      <td>NGN</td>\n",
       "      <td>148.54</td>\n",
       "      <td>1.2973</td>\n",
       "      <td>544.0</td>\n",
       "    </tr>\n",
       "    <tr>\n",
       "      <th>2</th>\n",
       "      <td>2002-03-01</td>\n",
       "      <td>Katsina</td>\n",
       "      <td>Jibia</td>\n",
       "      <td>Jibia (CBM)</td>\n",
       "      <td>cereals and tubers</td>\n",
       "      <td>Millet</td>\n",
       "      <td>KG</td>\n",
       "      <td>actual</td>\n",
       "      <td>Wholesale</td>\n",
       "      <td>NGN</td>\n",
       "      <td>175.00</td>\n",
       "      <td>1.5165</td>\n",
       "      <td>544.0</td>\n",
       "    </tr>\n",
       "    <tr>\n",
       "      <th>3</th>\n",
       "      <td>2002-04-01</td>\n",
       "      <td>Katsina</td>\n",
       "      <td>Jibia</td>\n",
       "      <td>Jibia (CBM)</td>\n",
       "      <td>cereals and tubers</td>\n",
       "      <td>Millet</td>\n",
       "      <td>KG</td>\n",
       "      <td>actual</td>\n",
       "      <td>Wholesale</td>\n",
       "      <td>NGN</td>\n",
       "      <td>187.50</td>\n",
       "      <td>1.6206</td>\n",
       "      <td>544.0</td>\n",
       "    </tr>\n",
       "    <tr>\n",
       "      <th>4</th>\n",
       "      <td>2002-05-01</td>\n",
       "      <td>Katsina</td>\n",
       "      <td>Jibia</td>\n",
       "      <td>Jibia (CBM)</td>\n",
       "      <td>cereals and tubers</td>\n",
       "      <td>Millet</td>\n",
       "      <td>KG</td>\n",
       "      <td>actual</td>\n",
       "      <td>Wholesale</td>\n",
       "      <td>NGN</td>\n",
       "      <td>195.12</td>\n",
       "      <td>1.6815</td>\n",
       "      <td>544.0</td>\n",
       "    </tr>\n",
       "  </tbody>\n",
       "</table>\n",
       "</div>"
      ]
     },
     "execution_count": 73,
     "metadata": {},
     "output_type": "execute_result"
    }
   ],
   "execution_count": 73
  },
  {
   "metadata": {
    "ExecuteTime": {
     "end_time": "2024-08-26T22:32:41.442336Z",
     "start_time": "2024-08-26T22:32:41.424754Z"
    }
   },
   "cell_type": "code",
   "source": [
    "dataframe_adjusted_interpolate = dataframe_adjusted.copy()\n",
    "dataframe_adjusted_interpolate.set_index('date',inplace=True)\n",
    "rolling_mean_price_interpolate = dataframe_adjusted_interpolate['price'].interpolate(method='slinear')\n",
    "rolling_mean_usdprice_interpolate = dataframe_adjusted_interpolate['usdprice'].interpolate(method='slinear')\n",
    "\n",
    "# Preencher valores NaN com a média móvel\n",
    "dataframe_adjusted_interpolate['price'] = dataframe_adjusted_interpolate['price'].combine_first(rolling_mean_price_interpolate)\n",
    "dataframe_adjusted_interpolate['usdprice'] = dataframe_adjusted_interpolate['usdprice'].combine_first(rolling_mean_usdprice_interpolate)\n",
    "\n",
    "# Se houver NaNs restantes, preenchê-los com o valor anterior\n",
    "dataframe_adjusted_interpolate = dataframe_adjusted_interpolate.fillna(method='ffill').reset_index()\n",
    "dataframe_adjusted_interpolate.head()"
   ],
   "id": "8a078b982106aa8f",
   "outputs": [
    {
     "name": "stderr",
     "output_type": "stream",
     "text": [
      "C:\\Users\\siera\\AppData\\Local\\Temp\\ipykernel_14892\\585883261.py:11: FutureWarning:\n",
      "\n",
      "DataFrame.fillna with 'method' is deprecated and will raise in a future version. Use obj.ffill() or obj.bfill() instead.\n",
      "\n"
     ]
    },
    {
     "data": {
      "text/plain": [
       "        date    state   city       market            category commodity unit  \\\n",
       "0 2002-01-01  Katsina  Jibia  Jibia (CBM)  cereals and tubers    Millet   KG   \n",
       "1 2002-02-01  Katsina  Jibia  Jibia (CBM)  cereals and tubers    Millet   KG   \n",
       "2 2002-03-01  Katsina  Jibia  Jibia (CBM)  cereals and tubers    Millet   KG   \n",
       "3 2002-04-01  Katsina  Jibia  Jibia (CBM)  cereals and tubers    Millet   KG   \n",
       "4 2002-05-01  Katsina  Jibia  Jibia (CBM)  cereals and tubers    Millet   KG   \n",
       "\n",
       "  priceflag  pricetype currency   price  usdprice  series_id  \n",
       "0    actual  Wholesale      NGN  150.18    1.3254      544.0  \n",
       "1    actual  Wholesale      NGN  148.54    1.2973      544.0  \n",
       "2    actual  Wholesale      NGN  175.00    1.5165      544.0  \n",
       "3    actual  Wholesale      NGN  187.50    1.6206      544.0  \n",
       "4    actual  Wholesale      NGN  195.12    1.6815      544.0  "
      ],
      "text/html": [
       "<div>\n",
       "<style scoped>\n",
       "    .dataframe tbody tr th:only-of-type {\n",
       "        vertical-align: middle;\n",
       "    }\n",
       "\n",
       "    .dataframe tbody tr th {\n",
       "        vertical-align: top;\n",
       "    }\n",
       "\n",
       "    .dataframe thead th {\n",
       "        text-align: right;\n",
       "    }\n",
       "</style>\n",
       "<table border=\"1\" class=\"dataframe\">\n",
       "  <thead>\n",
       "    <tr style=\"text-align: right;\">\n",
       "      <th></th>\n",
       "      <th>date</th>\n",
       "      <th>state</th>\n",
       "      <th>city</th>\n",
       "      <th>market</th>\n",
       "      <th>category</th>\n",
       "      <th>commodity</th>\n",
       "      <th>unit</th>\n",
       "      <th>priceflag</th>\n",
       "      <th>pricetype</th>\n",
       "      <th>currency</th>\n",
       "      <th>price</th>\n",
       "      <th>usdprice</th>\n",
       "      <th>series_id</th>\n",
       "    </tr>\n",
       "  </thead>\n",
       "  <tbody>\n",
       "    <tr>\n",
       "      <th>0</th>\n",
       "      <td>2002-01-01</td>\n",
       "      <td>Katsina</td>\n",
       "      <td>Jibia</td>\n",
       "      <td>Jibia (CBM)</td>\n",
       "      <td>cereals and tubers</td>\n",
       "      <td>Millet</td>\n",
       "      <td>KG</td>\n",
       "      <td>actual</td>\n",
       "      <td>Wholesale</td>\n",
       "      <td>NGN</td>\n",
       "      <td>150.18</td>\n",
       "      <td>1.3254</td>\n",
       "      <td>544.0</td>\n",
       "    </tr>\n",
       "    <tr>\n",
       "      <th>1</th>\n",
       "      <td>2002-02-01</td>\n",
       "      <td>Katsina</td>\n",
       "      <td>Jibia</td>\n",
       "      <td>Jibia (CBM)</td>\n",
       "      <td>cereals and tubers</td>\n",
       "      <td>Millet</td>\n",
       "      <td>KG</td>\n",
       "      <td>actual</td>\n",
       "      <td>Wholesale</td>\n",
       "      <td>NGN</td>\n",
       "      <td>148.54</td>\n",
       "      <td>1.2973</td>\n",
       "      <td>544.0</td>\n",
       "    </tr>\n",
       "    <tr>\n",
       "      <th>2</th>\n",
       "      <td>2002-03-01</td>\n",
       "      <td>Katsina</td>\n",
       "      <td>Jibia</td>\n",
       "      <td>Jibia (CBM)</td>\n",
       "      <td>cereals and tubers</td>\n",
       "      <td>Millet</td>\n",
       "      <td>KG</td>\n",
       "      <td>actual</td>\n",
       "      <td>Wholesale</td>\n",
       "      <td>NGN</td>\n",
       "      <td>175.00</td>\n",
       "      <td>1.5165</td>\n",
       "      <td>544.0</td>\n",
       "    </tr>\n",
       "    <tr>\n",
       "      <th>3</th>\n",
       "      <td>2002-04-01</td>\n",
       "      <td>Katsina</td>\n",
       "      <td>Jibia</td>\n",
       "      <td>Jibia (CBM)</td>\n",
       "      <td>cereals and tubers</td>\n",
       "      <td>Millet</td>\n",
       "      <td>KG</td>\n",
       "      <td>actual</td>\n",
       "      <td>Wholesale</td>\n",
       "      <td>NGN</td>\n",
       "      <td>187.50</td>\n",
       "      <td>1.6206</td>\n",
       "      <td>544.0</td>\n",
       "    </tr>\n",
       "    <tr>\n",
       "      <th>4</th>\n",
       "      <td>2002-05-01</td>\n",
       "      <td>Katsina</td>\n",
       "      <td>Jibia</td>\n",
       "      <td>Jibia (CBM)</td>\n",
       "      <td>cereals and tubers</td>\n",
       "      <td>Millet</td>\n",
       "      <td>KG</td>\n",
       "      <td>actual</td>\n",
       "      <td>Wholesale</td>\n",
       "      <td>NGN</td>\n",
       "      <td>195.12</td>\n",
       "      <td>1.6815</td>\n",
       "      <td>544.0</td>\n",
       "    </tr>\n",
       "  </tbody>\n",
       "</table>\n",
       "</div>"
      ]
     },
     "execution_count": 74,
     "metadata": {},
     "output_type": "execute_result"
    }
   ],
   "execution_count": 74
  },
  {
   "metadata": {
    "ExecuteTime": {
     "end_time": "2024-08-26T22:32:41.997977Z",
     "start_time": "2024-08-26T22:32:41.959182Z"
    }
   },
   "cell_type": "code",
   "source": [
    "# Criar a figura\n",
    "fig = go.Figure()\n",
    "\n",
    "# Adicionar traços para cada DataFrame\n",
    "fig.add_trace(go.Scatter(x=dataframe_to_adjust['date'], y=dataframe_to_adjust['price'], mode='lines', name='Raw dataset'))\n",
    "fig.add_trace(go.Scatter(x=dataframe_adjusted_mean['date'], y=dataframe_adjusted_mean['price'], mode='lines', name='Mean adjust'))\n",
    "fig.add_trace(go.Scatter(x=dataframe_adjusted_rolling_12_months['date'], y=dataframe_adjusted_rolling_12_months['price'], mode='lines', name='12 months Rolling mean adjust'))\n",
    "fig.add_trace(go.Scatter(x=dataframe_adjusted_rolling_6_months['date'], y=dataframe_adjusted_rolling_6_months['price'], mode='lines', name='6 months Rolling mean adjust'))\n",
    "fig.add_trace(go.Scatter(x=dataframe_adjusted_rolling_3_months['date'], y=dataframe_adjusted_rolling_3_months['price'], mode='lines', name='3 months Rolling mean adjust'))\n",
    "fig.add_trace(go.Scatter(x=dataframe_adjusted_interpolate['date'], y=dataframe_adjusted_interpolate['price'], mode='lines', name='Interpolate'))\n",
    "\n",
    "# Adicionar título e rótulos dos eixos\n",
    "fig.update_layout(title='Multiple approaches to overwrite NAN',\n",
    "                  xaxis_title='Date',\n",
    "                  yaxis_title='Price')\n",
    "\n",
    "# Mostrar o gráfico\n",
    "fig.show()\n"
   ],
   "id": "50d551f5658ad96f",
   "outputs": [
    {
     "data": {
      "application/vnd.plotly.v1+json": {
       "data": [
        {
         "mode": "lines",
         "name": "Raw dataset",
         "x": [
          "2002-01-01T00:00:00",
          "2002-02-01T00:00:00",
          "2002-03-01T00:00:00",
          "2002-04-01T00:00:00",
          "2002-05-01T00:00:00",
          "2002-06-01T00:00:00",
          "2002-07-01T00:00:00",
          "2002-08-01T00:00:00",
          "2002-09-01T00:00:00",
          "2002-10-01T00:00:00",
          "2002-11-01T00:00:00",
          "2002-12-01T00:00:00",
          "2003-01-01T00:00:00",
          "2003-03-01T00:00:00",
          "2003-06-01T00:00:00",
          "2003-09-01T00:00:00",
          "2003-12-01T00:00:00",
          "2005-03-01T00:00:00",
          "2005-06-01T00:00:00",
          "2005-09-01T00:00:00",
          "2005-12-01T00:00:00",
          "2006-03-01T00:00:00",
          "2006-06-01T00:00:00",
          "2007-03-01T00:00:00",
          "2008-02-01T00:00:00",
          "2008-03-01T00:00:00",
          "2008-04-01T00:00:00",
          "2008-05-01T00:00:00",
          "2008-06-01T00:00:00",
          "2008-07-01T00:00:00",
          "2008-08-01T00:00:00",
          "2008-09-01T00:00:00",
          "2008-10-01T00:00:00",
          "2008-11-01T00:00:00",
          "2008-12-01T00:00:00",
          "2009-01-01T00:00:00",
          "2009-02-01T00:00:00",
          "2009-07-01T00:00:00",
          "2009-08-01T00:00:00",
          "2009-09-01T00:00:00",
          "2009-10-01T00:00:00",
          "2009-11-01T00:00:00",
          "2009-12-01T00:00:00",
          "2010-01-01T00:00:00",
          "2010-02-01T00:00:00",
          "2010-03-01T00:00:00",
          "2010-04-01T00:00:00",
          "2010-05-01T00:00:00",
          "2010-06-01T00:00:00",
          "2010-07-01T00:00:00",
          "2010-08-01T00:00:00",
          "2010-09-01T00:00:00",
          "2010-10-01T00:00:00",
          "2010-11-01T00:00:00",
          "2010-12-01T00:00:00",
          "2011-01-01T00:00:00",
          "2011-02-01T00:00:00",
          "2011-03-01T00:00:00",
          "2011-04-01T00:00:00",
          "2011-05-01T00:00:00",
          "2011-06-01T00:00:00",
          "2011-07-01T00:00:00",
          "2011-08-01T00:00:00",
          "2011-09-01T00:00:00",
          "2011-10-01T00:00:00",
          "2011-11-01T00:00:00",
          "2011-12-01T00:00:00",
          "2012-01-01T00:00:00",
          "2012-02-01T00:00:00",
          "2012-03-01T00:00:00",
          "2012-04-01T00:00:00",
          "2012-05-01T00:00:00",
          "2012-07-01T00:00:00",
          "2012-08-01T00:00:00",
          "2012-09-01T00:00:00",
          "2012-10-01T00:00:00",
          "2012-11-01T00:00:00",
          "2012-12-01T00:00:00",
          "2013-01-01T00:00:00",
          "2013-02-01T00:00:00",
          "2013-03-01T00:00:00",
          "2013-04-01T00:00:00",
          "2013-05-01T00:00:00",
          "2013-06-01T00:00:00",
          "2013-07-01T00:00:00",
          "2013-08-01T00:00:00",
          "2013-09-01T00:00:00",
          "2013-10-01T00:00:00",
          "2013-11-01T00:00:00",
          "2013-12-01T00:00:00",
          "2014-01-01T00:00:00",
          "2014-02-01T00:00:00",
          "2014-03-01T00:00:00",
          "2014-04-01T00:00:00",
          "2014-05-01T00:00:00",
          "2014-06-01T00:00:00",
          "2014-07-01T00:00:00",
          "2014-08-01T00:00:00",
          "2014-09-01T00:00:00",
          "2014-10-01T00:00:00",
          "2015-01-01T00:00:00",
          "2015-02-01T00:00:00",
          "2015-03-01T00:00:00",
          "2015-04-01T00:00:00",
          "2015-05-01T00:00:00",
          "2015-06-01T00:00:00",
          "2015-07-01T00:00:00",
          "2015-08-01T00:00:00",
          "2015-09-01T00:00:00",
          "2015-10-01T00:00:00",
          "2016-01-01T00:00:00",
          "2016-02-01T00:00:00",
          "2016-04-01T00:00:00",
          "2016-05-01T00:00:00",
          "2016-06-01T00:00:00",
          "2016-07-01T00:00:00",
          "2016-08-01T00:00:00",
          "2016-09-01T00:00:00",
          "2016-10-01T00:00:00",
          "2016-11-01T00:00:00",
          "2017-01-01T00:00:00",
          "2017-02-01T00:00:00",
          "2017-03-01T00:00:00"
         ],
         "y": [
          150.18,
          148.54,
          175.0,
          187.5,
          195.12,
          216.97,
          233.42,
          219.81,
          141.68,
          120.0,
          130.0,
          125.92,
          120.35,
          116.89,
          118.65,
          91.71,
          86.54,
          168.65,
          230.74,
          153.75,
          149.39,
          136.06,
          142.43,
          112.92,
          156.73,
          164.21,
          148.56,
          174.0,
          179.0,
          205.03,
          223.86,
          169.59,
          150.38,
          152.0,
          155.0,
          149.46,
          145.92,
          194.0,
          173.91,
          134.59,
          128.74,
          125.77,
          180.72,
          160.95,
          162.13,
          167.93,
          189.68,
          184.56,
          198.47,
          194.87,
          181.2,
          137.26,
          136.02,
          153.29,
          176.67,
          164.02,
          155.77,
          164.05,
          184.84,
          181.27,
          180.19,
          182.55,
          173.21,
          156.24,
          137.11,
          171.01,
          199.36,
          197.82,
          192.81,
          199.54,
          216.91,
          231.69,
          261.31,
          241.78,
          206.25,
          184.12,
          224.63,
          236.39,
          230.1,
          230.53,
          244.55,
          257.85,
          264.71,
          261.74,
          298.77,
          269.68,
          197.58,
          184.29,
          220.1,
          221.49,
          205.45,
          206.96,
          208.65,
          206.11,
          206.0,
          205.15,
          193.67,
          175.4,
          181.4,
          171.91,
          155.72,
          146.75,
          142.49,
          151.0,
          151.0,
          157.0,
          145.0,
          147.0,
          150.0,
          143.0,
          141.0,
          123.0,
          151.0,
          178.0,
          168.0,
          168.0,
          193.0,
          189.0,
          189.0,
          126.0,
          193.0,
          202.0,
          248.0
         ],
         "type": "scatter"
        },
        {
         "mode": "lines",
         "name": "Mean adjust",
         "x": [
          "2002-01-01T00:00:00",
          "2002-02-01T00:00:00",
          "2002-03-01T00:00:00",
          "2002-04-01T00:00:00",
          "2002-05-01T00:00:00",
          "2002-06-01T00:00:00",
          "2002-07-01T00:00:00",
          "2002-08-01T00:00:00",
          "2002-09-01T00:00:00",
          "2002-10-01T00:00:00",
          "2002-11-01T00:00:00",
          "2002-12-01T00:00:00",
          "2003-01-01T00:00:00",
          "2003-02-01T00:00:00",
          "2003-03-01T00:00:00",
          "2003-04-01T00:00:00",
          "2003-05-01T00:00:00",
          "2003-06-01T00:00:00",
          "2003-07-01T00:00:00",
          "2003-08-01T00:00:00",
          "2003-09-01T00:00:00",
          "2003-10-01T00:00:00",
          "2003-11-01T00:00:00",
          "2003-12-01T00:00:00",
          "2004-01-01T00:00:00",
          "2004-02-01T00:00:00",
          "2004-03-01T00:00:00",
          "2004-04-01T00:00:00",
          "2004-05-01T00:00:00",
          "2004-06-01T00:00:00",
          "2004-07-01T00:00:00",
          "2004-08-01T00:00:00",
          "2004-09-01T00:00:00",
          "2004-10-01T00:00:00",
          "2004-11-01T00:00:00",
          "2004-12-01T00:00:00",
          "2005-01-01T00:00:00",
          "2005-02-01T00:00:00",
          "2005-03-01T00:00:00",
          "2005-04-01T00:00:00",
          "2005-05-01T00:00:00",
          "2005-06-01T00:00:00",
          "2005-07-01T00:00:00",
          "2005-08-01T00:00:00",
          "2005-09-01T00:00:00",
          "2005-10-01T00:00:00",
          "2005-11-01T00:00:00",
          "2005-12-01T00:00:00",
          "2006-01-01T00:00:00",
          "2006-02-01T00:00:00",
          "2006-03-01T00:00:00",
          "2006-04-01T00:00:00",
          "2006-05-01T00:00:00",
          "2006-06-01T00:00:00",
          "2006-07-01T00:00:00",
          "2006-08-01T00:00:00",
          "2006-09-01T00:00:00",
          "2006-10-01T00:00:00",
          "2006-11-01T00:00:00",
          "2006-12-01T00:00:00",
          "2007-01-01T00:00:00",
          "2007-02-01T00:00:00",
          "2007-03-01T00:00:00",
          "2007-04-01T00:00:00",
          "2007-05-01T00:00:00",
          "2007-06-01T00:00:00",
          "2007-07-01T00:00:00",
          "2007-08-01T00:00:00",
          "2007-09-01T00:00:00",
          "2007-10-01T00:00:00",
          "2007-11-01T00:00:00",
          "2007-12-01T00:00:00",
          "2008-01-01T00:00:00",
          "2008-02-01T00:00:00",
          "2008-03-01T00:00:00",
          "2008-04-01T00:00:00",
          "2008-05-01T00:00:00",
          "2008-06-01T00:00:00",
          "2008-07-01T00:00:00",
          "2008-08-01T00:00:00",
          "2008-09-01T00:00:00",
          "2008-10-01T00:00:00",
          "2008-11-01T00:00:00",
          "2008-12-01T00:00:00",
          "2009-01-01T00:00:00",
          "2009-02-01T00:00:00",
          "2009-03-01T00:00:00",
          "2009-04-01T00:00:00",
          "2009-05-01T00:00:00",
          "2009-06-01T00:00:00",
          "2009-07-01T00:00:00",
          "2009-08-01T00:00:00",
          "2009-09-01T00:00:00",
          "2009-10-01T00:00:00",
          "2009-11-01T00:00:00",
          "2009-12-01T00:00:00",
          "2010-01-01T00:00:00",
          "2010-02-01T00:00:00",
          "2010-03-01T00:00:00",
          "2010-04-01T00:00:00",
          "2010-05-01T00:00:00",
          "2010-06-01T00:00:00",
          "2010-07-01T00:00:00",
          "2010-08-01T00:00:00",
          "2010-09-01T00:00:00",
          "2010-10-01T00:00:00",
          "2010-11-01T00:00:00",
          "2010-12-01T00:00:00",
          "2011-01-01T00:00:00",
          "2011-02-01T00:00:00",
          "2011-03-01T00:00:00",
          "2011-04-01T00:00:00",
          "2011-05-01T00:00:00",
          "2011-06-01T00:00:00",
          "2011-07-01T00:00:00",
          "2011-08-01T00:00:00",
          "2011-09-01T00:00:00",
          "2011-10-01T00:00:00",
          "2011-11-01T00:00:00",
          "2011-12-01T00:00:00",
          "2012-01-01T00:00:00",
          "2012-02-01T00:00:00",
          "2012-03-01T00:00:00",
          "2012-04-01T00:00:00",
          "2012-05-01T00:00:00",
          "2012-06-01T00:00:00",
          "2012-07-01T00:00:00",
          "2012-08-01T00:00:00",
          "2012-09-01T00:00:00",
          "2012-10-01T00:00:00",
          "2012-11-01T00:00:00",
          "2012-12-01T00:00:00",
          "2013-01-01T00:00:00",
          "2013-02-01T00:00:00",
          "2013-03-01T00:00:00",
          "2013-04-01T00:00:00",
          "2013-05-01T00:00:00",
          "2013-06-01T00:00:00",
          "2013-07-01T00:00:00",
          "2013-08-01T00:00:00",
          "2013-09-01T00:00:00",
          "2013-10-01T00:00:00",
          "2013-11-01T00:00:00",
          "2013-12-01T00:00:00",
          "2014-01-01T00:00:00",
          "2014-02-01T00:00:00",
          "2014-03-01T00:00:00",
          "2014-04-01T00:00:00",
          "2014-05-01T00:00:00",
          "2014-06-01T00:00:00",
          "2014-07-01T00:00:00",
          "2014-08-01T00:00:00",
          "2014-09-01T00:00:00",
          "2014-10-01T00:00:00",
          "2014-11-01T00:00:00",
          "2014-12-01T00:00:00",
          "2015-01-01T00:00:00",
          "2015-02-01T00:00:00",
          "2015-03-01T00:00:00",
          "2015-04-01T00:00:00",
          "2015-05-01T00:00:00",
          "2015-06-01T00:00:00",
          "2015-07-01T00:00:00",
          "2015-08-01T00:00:00",
          "2015-09-01T00:00:00",
          "2015-10-01T00:00:00",
          "2015-11-01T00:00:00",
          "2015-12-01T00:00:00",
          "2016-01-01T00:00:00",
          "2016-02-01T00:00:00",
          "2016-03-01T00:00:00",
          "2016-04-01T00:00:00",
          "2016-05-01T00:00:00",
          "2016-06-01T00:00:00",
          "2016-07-01T00:00:00",
          "2016-08-01T00:00:00",
          "2016-09-01T00:00:00",
          "2016-10-01T00:00:00",
          "2016-11-01T00:00:00",
          "2016-12-01T00:00:00",
          "2017-01-01T00:00:00",
          "2017-02-01T00:00:00",
          "2017-03-01T00:00:00"
         ],
         "y": [
          150.18,
          148.54,
          175.0,
          187.5,
          195.12,
          216.97,
          233.42,
          219.81,
          141.68,
          120.0,
          130.0,
          125.92,
          120.35,
          166.49923076923076,
          116.89,
          162.9557142857143,
          162.9557142857143,
          118.65,
          160.002,
          160.002,
          91.71,
          155.73375,
          155.73375,
          86.54,
          151.66352941176473,
          151.66352941176473,
          151.66352941176473,
          151.66352941176473,
          151.66352941176473,
          151.66352941176473,
          151.66352941176473,
          151.66352941176473,
          151.66352941176473,
          151.66352941176473,
          151.66352941176473,
          151.66352941176473,
          151.66352941176473,
          151.66352941176473,
          168.65,
          152.60722222222222,
          152.60722222222222,
          230.74,
          156.71947368421053,
          156.71947368421053,
          153.75,
          156.571,
          156.571,
          149.39,
          156.2290476190476,
          156.2290476190476,
          136.06,
          155.31227272727273,
          155.31227272727273,
          142.43,
          154.7521739130435,
          154.7521739130435,
          154.7521739130435,
          154.7521739130435,
          154.7521739130435,
          154.7521739130435,
          154.7521739130435,
          154.7521739130435,
          112.92,
          153.00916666666666,
          153.00916666666666,
          153.00916666666666,
          153.00916666666666,
          153.00916666666666,
          153.00916666666666,
          153.00916666666666,
          153.00916666666666,
          153.00916666666666,
          153.00916666666666,
          156.73,
          164.21,
          148.56,
          174.0,
          179.0,
          205.03,
          223.86,
          169.59,
          150.38,
          152.0,
          155.0,
          149.46,
          145.92,
          157.99891891891892,
          157.99891891891892,
          157.99891891891892,
          157.99891891891892,
          194.0,
          173.91,
          134.59,
          128.74,
          125.77,
          180.72,
          160.95,
          162.13,
          167.93,
          189.68,
          184.56,
          198.47,
          194.87,
          181.2,
          137.26,
          136.02,
          153.29,
          176.67,
          164.02,
          155.77,
          164.05,
          184.84,
          181.27,
          180.19,
          182.55,
          173.21,
          156.24,
          137.11,
          171.01,
          199.36,
          197.82,
          192.81,
          199.54,
          216.91,
          231.69,
          165.4876388888889,
          261.31,
          241.78,
          206.25,
          184.12,
          224.63,
          236.39,
          230.1,
          230.53,
          244.55,
          257.85,
          264.71,
          261.74,
          298.77,
          269.68,
          197.58,
          184.29,
          220.1,
          221.49,
          205.45,
          206.96,
          208.65,
          206.11,
          206.0,
          205.15,
          193.67,
          175.4,
          181.4,
          171.91,
          181.1168,
          181.1168,
          155.72,
          146.75,
          142.49,
          151.0,
          151.0,
          157.0,
          145.0,
          147.0,
          150.0,
          143.0,
          178.18763636363636,
          178.18763636363636,
          141.0,
          123.0,
          177.36285714285714,
          151.0,
          178.0,
          168.0,
          168.0,
          193.0,
          189.0,
          189.0,
          126.0,
          176.88866666666667,
          193.0,
          202.0,
          248.0
         ],
         "type": "scatter"
        },
        {
         "mode": "lines",
         "name": "12 months Rolling mean adjust",
         "x": [
          "2002-01-01T00:00:00",
          "2002-02-01T00:00:00",
          "2002-03-01T00:00:00",
          "2002-04-01T00:00:00",
          "2002-05-01T00:00:00",
          "2002-06-01T00:00:00",
          "2002-07-01T00:00:00",
          "2002-08-01T00:00:00",
          "2002-09-01T00:00:00",
          "2002-10-01T00:00:00",
          "2002-11-01T00:00:00",
          "2002-12-01T00:00:00",
          "2003-01-01T00:00:00",
          "2003-02-01T00:00:00",
          "2003-03-01T00:00:00",
          "2003-04-01T00:00:00",
          "2003-05-01T00:00:00",
          "2003-06-01T00:00:00",
          "2003-07-01T00:00:00",
          "2003-08-01T00:00:00",
          "2003-09-01T00:00:00",
          "2003-10-01T00:00:00",
          "2003-11-01T00:00:00",
          "2003-12-01T00:00:00",
          "2004-01-01T00:00:00",
          "2004-02-01T00:00:00",
          "2004-03-01T00:00:00",
          "2004-04-01T00:00:00",
          "2004-05-01T00:00:00",
          "2004-06-01T00:00:00",
          "2004-07-01T00:00:00",
          "2004-08-01T00:00:00",
          "2004-09-01T00:00:00",
          "2004-10-01T00:00:00",
          "2004-11-01T00:00:00",
          "2004-12-01T00:00:00",
          "2005-01-01T00:00:00",
          "2005-02-01T00:00:00",
          "2005-03-01T00:00:00",
          "2005-04-01T00:00:00",
          "2005-05-01T00:00:00",
          "2005-06-01T00:00:00",
          "2005-07-01T00:00:00",
          "2005-08-01T00:00:00",
          "2005-09-01T00:00:00",
          "2005-10-01T00:00:00",
          "2005-11-01T00:00:00",
          "2005-12-01T00:00:00",
          "2006-01-01T00:00:00",
          "2006-02-01T00:00:00",
          "2006-03-01T00:00:00",
          "2006-04-01T00:00:00",
          "2006-05-01T00:00:00",
          "2006-06-01T00:00:00",
          "2006-07-01T00:00:00",
          "2006-08-01T00:00:00",
          "2006-09-01T00:00:00",
          "2006-10-01T00:00:00",
          "2006-11-01T00:00:00",
          "2006-12-01T00:00:00",
          "2007-01-01T00:00:00",
          "2007-02-01T00:00:00",
          "2007-03-01T00:00:00",
          "2007-04-01T00:00:00",
          "2007-05-01T00:00:00",
          "2007-06-01T00:00:00",
          "2007-07-01T00:00:00",
          "2007-08-01T00:00:00",
          "2007-09-01T00:00:00",
          "2007-10-01T00:00:00",
          "2007-11-01T00:00:00",
          "2007-12-01T00:00:00",
          "2008-01-01T00:00:00",
          "2008-02-01T00:00:00",
          "2008-03-01T00:00:00",
          "2008-04-01T00:00:00",
          "2008-05-01T00:00:00",
          "2008-06-01T00:00:00",
          "2008-07-01T00:00:00",
          "2008-08-01T00:00:00",
          "2008-09-01T00:00:00",
          "2008-10-01T00:00:00",
          "2008-11-01T00:00:00",
          "2008-12-01T00:00:00",
          "2009-01-01T00:00:00",
          "2009-02-01T00:00:00",
          "2009-03-01T00:00:00",
          "2009-04-01T00:00:00",
          "2009-05-01T00:00:00",
          "2009-06-01T00:00:00",
          "2009-07-01T00:00:00",
          "2009-08-01T00:00:00",
          "2009-09-01T00:00:00",
          "2009-10-01T00:00:00",
          "2009-11-01T00:00:00",
          "2009-12-01T00:00:00",
          "2010-01-01T00:00:00",
          "2010-02-01T00:00:00",
          "2010-03-01T00:00:00",
          "2010-04-01T00:00:00",
          "2010-05-01T00:00:00",
          "2010-06-01T00:00:00",
          "2010-07-01T00:00:00",
          "2010-08-01T00:00:00",
          "2010-09-01T00:00:00",
          "2010-10-01T00:00:00",
          "2010-11-01T00:00:00",
          "2010-12-01T00:00:00",
          "2011-01-01T00:00:00",
          "2011-02-01T00:00:00",
          "2011-03-01T00:00:00",
          "2011-04-01T00:00:00",
          "2011-05-01T00:00:00",
          "2011-06-01T00:00:00",
          "2011-07-01T00:00:00",
          "2011-08-01T00:00:00",
          "2011-09-01T00:00:00",
          "2011-10-01T00:00:00",
          "2011-11-01T00:00:00",
          "2011-12-01T00:00:00",
          "2012-01-01T00:00:00",
          "2012-02-01T00:00:00",
          "2012-03-01T00:00:00",
          "2012-04-01T00:00:00",
          "2012-05-01T00:00:00",
          "2012-06-01T00:00:00",
          "2012-07-01T00:00:00",
          "2012-08-01T00:00:00",
          "2012-09-01T00:00:00",
          "2012-10-01T00:00:00",
          "2012-11-01T00:00:00",
          "2012-12-01T00:00:00",
          "2013-01-01T00:00:00",
          "2013-02-01T00:00:00",
          "2013-03-01T00:00:00",
          "2013-04-01T00:00:00",
          "2013-05-01T00:00:00",
          "2013-06-01T00:00:00",
          "2013-07-01T00:00:00",
          "2013-08-01T00:00:00",
          "2013-09-01T00:00:00",
          "2013-10-01T00:00:00",
          "2013-11-01T00:00:00",
          "2013-12-01T00:00:00",
          "2014-01-01T00:00:00",
          "2014-02-01T00:00:00",
          "2014-03-01T00:00:00",
          "2014-04-01T00:00:00",
          "2014-05-01T00:00:00",
          "2014-06-01T00:00:00",
          "2014-07-01T00:00:00",
          "2014-08-01T00:00:00",
          "2014-09-01T00:00:00",
          "2014-10-01T00:00:00",
          "2014-11-01T00:00:00",
          "2014-12-01T00:00:00",
          "2015-01-01T00:00:00",
          "2015-02-01T00:00:00",
          "2015-03-01T00:00:00",
          "2015-04-01T00:00:00",
          "2015-05-01T00:00:00",
          "2015-06-01T00:00:00",
          "2015-07-01T00:00:00",
          "2015-08-01T00:00:00",
          "2015-09-01T00:00:00",
          "2015-10-01T00:00:00",
          "2015-11-01T00:00:00",
          "2015-12-01T00:00:00",
          "2016-01-01T00:00:00",
          "2016-02-01T00:00:00",
          "2016-03-01T00:00:00",
          "2016-04-01T00:00:00",
          "2016-05-01T00:00:00",
          "2016-06-01T00:00:00",
          "2016-07-01T00:00:00",
          "2016-08-01T00:00:00",
          "2016-09-01T00:00:00",
          "2016-10-01T00:00:00",
          "2016-11-01T00:00:00",
          "2016-12-01T00:00:00",
          "2017-01-01T00:00:00",
          "2017-02-01T00:00:00",
          "2017-03-01T00:00:00"
         ],
         "y": [
          150.18,
          148.54,
          175.0,
          187.5,
          195.12,
          216.97,
          233.42,
          219.81,
          141.68,
          120.0,
          130.0,
          125.92,
          120.35,
          120.35,
          116.89,
          116.89,
          116.89,
          118.65,
          118.65,
          118.65,
          91.71,
          91.71,
          91.71,
          86.54,
          86.54,
          86.54,
          86.54,
          86.54,
          86.54,
          86.54,
          86.54,
          86.54,
          86.54,
          86.54,
          86.54,
          86.54,
          86.54,
          86.54,
          168.65,
          168.65,
          168.65,
          230.74,
          230.74,
          230.74,
          153.75,
          153.75,
          153.75,
          149.39,
          149.39,
          149.39,
          136.06,
          136.06,
          136.06,
          142.43,
          142.43,
          142.43,
          142.43,
          142.43,
          142.43,
          142.43,
          142.43,
          142.43,
          112.92,
          112.92,
          112.92,
          112.92,
          112.92,
          112.92,
          112.92,
          112.92,
          112.92,
          112.92,
          112.92,
          156.73,
          164.21,
          148.56,
          174.0,
          179.0,
          205.03,
          223.86,
          169.59,
          150.38,
          152.0,
          155.0,
          149.46,
          145.92,
          145.92,
          145.92,
          145.92,
          145.92,
          194.0,
          173.91,
          134.59,
          128.74,
          125.77,
          180.72,
          160.95,
          162.13,
          167.93,
          189.68,
          184.56,
          198.47,
          194.87,
          181.2,
          137.26,
          136.02,
          153.29,
          176.67,
          164.02,
          155.77,
          164.05,
          184.84,
          181.27,
          180.19,
          182.55,
          173.21,
          156.24,
          137.11,
          171.01,
          199.36,
          197.82,
          192.81,
          199.54,
          216.91,
          231.69,
          231.69,
          261.31,
          241.78,
          206.25,
          184.12,
          224.63,
          236.39,
          230.1,
          230.53,
          244.55,
          257.85,
          264.71,
          261.74,
          298.77,
          269.68,
          197.58,
          184.29,
          220.1,
          221.49,
          205.45,
          206.96,
          208.65,
          206.11,
          206.0,
          205.15,
          193.67,
          175.4,
          181.4,
          171.91,
          171.91,
          171.91,
          155.72,
          146.75,
          142.49,
          151.0,
          151.0,
          157.0,
          145.0,
          147.0,
          150.0,
          143.0,
          143.0,
          143.0,
          141.0,
          123.0,
          123.0,
          151.0,
          178.0,
          168.0,
          168.0,
          193.0,
          189.0,
          189.0,
          126.0,
          126.0,
          193.0,
          202.0,
          248.0
         ],
         "type": "scatter"
        },
        {
         "mode": "lines",
         "name": "6 months Rolling mean adjust",
         "x": [
          "2002-01-01T00:00:00",
          "2002-02-01T00:00:00",
          "2002-03-01T00:00:00",
          "2002-04-01T00:00:00",
          "2002-05-01T00:00:00",
          "2002-06-01T00:00:00",
          "2002-07-01T00:00:00",
          "2002-08-01T00:00:00",
          "2002-09-01T00:00:00",
          "2002-10-01T00:00:00",
          "2002-11-01T00:00:00",
          "2002-12-01T00:00:00",
          "2003-01-01T00:00:00",
          "2003-02-01T00:00:00",
          "2003-03-01T00:00:00",
          "2003-04-01T00:00:00",
          "2003-05-01T00:00:00",
          "2003-06-01T00:00:00",
          "2003-07-01T00:00:00",
          "2003-08-01T00:00:00",
          "2003-09-01T00:00:00",
          "2003-10-01T00:00:00",
          "2003-11-01T00:00:00",
          "2003-12-01T00:00:00",
          "2004-01-01T00:00:00",
          "2004-02-01T00:00:00",
          "2004-03-01T00:00:00",
          "2004-04-01T00:00:00",
          "2004-05-01T00:00:00",
          "2004-06-01T00:00:00",
          "2004-07-01T00:00:00",
          "2004-08-01T00:00:00",
          "2004-09-01T00:00:00",
          "2004-10-01T00:00:00",
          "2004-11-01T00:00:00",
          "2004-12-01T00:00:00",
          "2005-01-01T00:00:00",
          "2005-02-01T00:00:00",
          "2005-03-01T00:00:00",
          "2005-04-01T00:00:00",
          "2005-05-01T00:00:00",
          "2005-06-01T00:00:00",
          "2005-07-01T00:00:00",
          "2005-08-01T00:00:00",
          "2005-09-01T00:00:00",
          "2005-10-01T00:00:00",
          "2005-11-01T00:00:00",
          "2005-12-01T00:00:00",
          "2006-01-01T00:00:00",
          "2006-02-01T00:00:00",
          "2006-03-01T00:00:00",
          "2006-04-01T00:00:00",
          "2006-05-01T00:00:00",
          "2006-06-01T00:00:00",
          "2006-07-01T00:00:00",
          "2006-08-01T00:00:00",
          "2006-09-01T00:00:00",
          "2006-10-01T00:00:00",
          "2006-11-01T00:00:00",
          "2006-12-01T00:00:00",
          "2007-01-01T00:00:00",
          "2007-02-01T00:00:00",
          "2007-03-01T00:00:00",
          "2007-04-01T00:00:00",
          "2007-05-01T00:00:00",
          "2007-06-01T00:00:00",
          "2007-07-01T00:00:00",
          "2007-08-01T00:00:00",
          "2007-09-01T00:00:00",
          "2007-10-01T00:00:00",
          "2007-11-01T00:00:00",
          "2007-12-01T00:00:00",
          "2008-01-01T00:00:00",
          "2008-02-01T00:00:00",
          "2008-03-01T00:00:00",
          "2008-04-01T00:00:00",
          "2008-05-01T00:00:00",
          "2008-06-01T00:00:00",
          "2008-07-01T00:00:00",
          "2008-08-01T00:00:00",
          "2008-09-01T00:00:00",
          "2008-10-01T00:00:00",
          "2008-11-01T00:00:00",
          "2008-12-01T00:00:00",
          "2009-01-01T00:00:00",
          "2009-02-01T00:00:00",
          "2009-03-01T00:00:00",
          "2009-04-01T00:00:00",
          "2009-05-01T00:00:00",
          "2009-06-01T00:00:00",
          "2009-07-01T00:00:00",
          "2009-08-01T00:00:00",
          "2009-09-01T00:00:00",
          "2009-10-01T00:00:00",
          "2009-11-01T00:00:00",
          "2009-12-01T00:00:00",
          "2010-01-01T00:00:00",
          "2010-02-01T00:00:00",
          "2010-03-01T00:00:00",
          "2010-04-01T00:00:00",
          "2010-05-01T00:00:00",
          "2010-06-01T00:00:00",
          "2010-07-01T00:00:00",
          "2010-08-01T00:00:00",
          "2010-09-01T00:00:00",
          "2010-10-01T00:00:00",
          "2010-11-01T00:00:00",
          "2010-12-01T00:00:00",
          "2011-01-01T00:00:00",
          "2011-02-01T00:00:00",
          "2011-03-01T00:00:00",
          "2011-04-01T00:00:00",
          "2011-05-01T00:00:00",
          "2011-06-01T00:00:00",
          "2011-07-01T00:00:00",
          "2011-08-01T00:00:00",
          "2011-09-01T00:00:00",
          "2011-10-01T00:00:00",
          "2011-11-01T00:00:00",
          "2011-12-01T00:00:00",
          "2012-01-01T00:00:00",
          "2012-02-01T00:00:00",
          "2012-03-01T00:00:00",
          "2012-04-01T00:00:00",
          "2012-05-01T00:00:00",
          "2012-06-01T00:00:00",
          "2012-07-01T00:00:00",
          "2012-08-01T00:00:00",
          "2012-09-01T00:00:00",
          "2012-10-01T00:00:00",
          "2012-11-01T00:00:00",
          "2012-12-01T00:00:00",
          "2013-01-01T00:00:00",
          "2013-02-01T00:00:00",
          "2013-03-01T00:00:00",
          "2013-04-01T00:00:00",
          "2013-05-01T00:00:00",
          "2013-06-01T00:00:00",
          "2013-07-01T00:00:00",
          "2013-08-01T00:00:00",
          "2013-09-01T00:00:00",
          "2013-10-01T00:00:00",
          "2013-11-01T00:00:00",
          "2013-12-01T00:00:00",
          "2014-01-01T00:00:00",
          "2014-02-01T00:00:00",
          "2014-03-01T00:00:00",
          "2014-04-01T00:00:00",
          "2014-05-01T00:00:00",
          "2014-06-01T00:00:00",
          "2014-07-01T00:00:00",
          "2014-08-01T00:00:00",
          "2014-09-01T00:00:00",
          "2014-10-01T00:00:00",
          "2014-11-01T00:00:00",
          "2014-12-01T00:00:00",
          "2015-01-01T00:00:00",
          "2015-02-01T00:00:00",
          "2015-03-01T00:00:00",
          "2015-04-01T00:00:00",
          "2015-05-01T00:00:00",
          "2015-06-01T00:00:00",
          "2015-07-01T00:00:00",
          "2015-08-01T00:00:00",
          "2015-09-01T00:00:00",
          "2015-10-01T00:00:00",
          "2015-11-01T00:00:00",
          "2015-12-01T00:00:00",
          "2016-01-01T00:00:00",
          "2016-02-01T00:00:00",
          "2016-03-01T00:00:00",
          "2016-04-01T00:00:00",
          "2016-05-01T00:00:00",
          "2016-06-01T00:00:00",
          "2016-07-01T00:00:00",
          "2016-08-01T00:00:00",
          "2016-09-01T00:00:00",
          "2016-10-01T00:00:00",
          "2016-11-01T00:00:00",
          "2016-12-01T00:00:00",
          "2017-01-01T00:00:00",
          "2017-02-01T00:00:00",
          "2017-03-01T00:00:00"
         ],
         "y": [
          150.18,
          148.54,
          175.0,
          187.5,
          195.12,
          216.97,
          233.42,
          219.81,
          141.68,
          120.0,
          130.0,
          125.92,
          120.35,
          120.35,
          116.89,
          116.89,
          116.89,
          118.65,
          118.65,
          118.65,
          91.71,
          91.71,
          91.71,
          86.54,
          86.54,
          86.54,
          86.54,
          86.54,
          86.54,
          86.54,
          86.54,
          86.54,
          86.54,
          86.54,
          86.54,
          86.54,
          86.54,
          86.54,
          168.65,
          168.65,
          168.65,
          230.74,
          230.74,
          230.74,
          153.75,
          153.75,
          153.75,
          149.39,
          149.39,
          149.39,
          136.06,
          136.06,
          136.06,
          142.43,
          142.43,
          142.43,
          142.43,
          142.43,
          142.43,
          142.43,
          142.43,
          142.43,
          112.92,
          112.92,
          112.92,
          112.92,
          112.92,
          112.92,
          112.92,
          112.92,
          112.92,
          112.92,
          112.92,
          156.73,
          164.21,
          148.56,
          174.0,
          179.0,
          205.03,
          223.86,
          169.59,
          150.38,
          152.0,
          155.0,
          149.46,
          145.92,
          145.92,
          145.92,
          145.92,
          145.92,
          194.0,
          173.91,
          134.59,
          128.74,
          125.77,
          180.72,
          160.95,
          162.13,
          167.93,
          189.68,
          184.56,
          198.47,
          194.87,
          181.2,
          137.26,
          136.02,
          153.29,
          176.67,
          164.02,
          155.77,
          164.05,
          184.84,
          181.27,
          180.19,
          182.55,
          173.21,
          156.24,
          137.11,
          171.01,
          199.36,
          197.82,
          192.81,
          199.54,
          216.91,
          231.69,
          231.69,
          261.31,
          241.78,
          206.25,
          184.12,
          224.63,
          236.39,
          230.1,
          230.53,
          244.55,
          257.85,
          264.71,
          261.74,
          298.77,
          269.68,
          197.58,
          184.29,
          220.1,
          221.49,
          205.45,
          206.96,
          208.65,
          206.11,
          206.0,
          205.15,
          193.67,
          175.4,
          181.4,
          171.91,
          171.91,
          171.91,
          155.72,
          146.75,
          142.49,
          151.0,
          151.0,
          157.0,
          145.0,
          147.0,
          150.0,
          143.0,
          143.0,
          143.0,
          141.0,
          123.0,
          123.0,
          151.0,
          178.0,
          168.0,
          168.0,
          193.0,
          189.0,
          189.0,
          126.0,
          126.0,
          193.0,
          202.0,
          248.0
         ],
         "type": "scatter"
        },
        {
         "mode": "lines",
         "name": "3 months Rolling mean adjust",
         "x": [
          "2002-01-01T00:00:00",
          "2002-02-01T00:00:00",
          "2002-03-01T00:00:00",
          "2002-04-01T00:00:00",
          "2002-05-01T00:00:00",
          "2002-06-01T00:00:00",
          "2002-07-01T00:00:00",
          "2002-08-01T00:00:00",
          "2002-09-01T00:00:00",
          "2002-10-01T00:00:00",
          "2002-11-01T00:00:00",
          "2002-12-01T00:00:00",
          "2003-01-01T00:00:00",
          "2003-02-01T00:00:00",
          "2003-03-01T00:00:00",
          "2003-04-01T00:00:00",
          "2003-05-01T00:00:00",
          "2003-06-01T00:00:00",
          "2003-07-01T00:00:00",
          "2003-08-01T00:00:00",
          "2003-09-01T00:00:00",
          "2003-10-01T00:00:00",
          "2003-11-01T00:00:00",
          "2003-12-01T00:00:00",
          "2004-01-01T00:00:00",
          "2004-02-01T00:00:00",
          "2004-03-01T00:00:00",
          "2004-04-01T00:00:00",
          "2004-05-01T00:00:00",
          "2004-06-01T00:00:00",
          "2004-07-01T00:00:00",
          "2004-08-01T00:00:00",
          "2004-09-01T00:00:00",
          "2004-10-01T00:00:00",
          "2004-11-01T00:00:00",
          "2004-12-01T00:00:00",
          "2005-01-01T00:00:00",
          "2005-02-01T00:00:00",
          "2005-03-01T00:00:00",
          "2005-04-01T00:00:00",
          "2005-05-01T00:00:00",
          "2005-06-01T00:00:00",
          "2005-07-01T00:00:00",
          "2005-08-01T00:00:00",
          "2005-09-01T00:00:00",
          "2005-10-01T00:00:00",
          "2005-11-01T00:00:00",
          "2005-12-01T00:00:00",
          "2006-01-01T00:00:00",
          "2006-02-01T00:00:00",
          "2006-03-01T00:00:00",
          "2006-04-01T00:00:00",
          "2006-05-01T00:00:00",
          "2006-06-01T00:00:00",
          "2006-07-01T00:00:00",
          "2006-08-01T00:00:00",
          "2006-09-01T00:00:00",
          "2006-10-01T00:00:00",
          "2006-11-01T00:00:00",
          "2006-12-01T00:00:00",
          "2007-01-01T00:00:00",
          "2007-02-01T00:00:00",
          "2007-03-01T00:00:00",
          "2007-04-01T00:00:00",
          "2007-05-01T00:00:00",
          "2007-06-01T00:00:00",
          "2007-07-01T00:00:00",
          "2007-08-01T00:00:00",
          "2007-09-01T00:00:00",
          "2007-10-01T00:00:00",
          "2007-11-01T00:00:00",
          "2007-12-01T00:00:00",
          "2008-01-01T00:00:00",
          "2008-02-01T00:00:00",
          "2008-03-01T00:00:00",
          "2008-04-01T00:00:00",
          "2008-05-01T00:00:00",
          "2008-06-01T00:00:00",
          "2008-07-01T00:00:00",
          "2008-08-01T00:00:00",
          "2008-09-01T00:00:00",
          "2008-10-01T00:00:00",
          "2008-11-01T00:00:00",
          "2008-12-01T00:00:00",
          "2009-01-01T00:00:00",
          "2009-02-01T00:00:00",
          "2009-03-01T00:00:00",
          "2009-04-01T00:00:00",
          "2009-05-01T00:00:00",
          "2009-06-01T00:00:00",
          "2009-07-01T00:00:00",
          "2009-08-01T00:00:00",
          "2009-09-01T00:00:00",
          "2009-10-01T00:00:00",
          "2009-11-01T00:00:00",
          "2009-12-01T00:00:00",
          "2010-01-01T00:00:00",
          "2010-02-01T00:00:00",
          "2010-03-01T00:00:00",
          "2010-04-01T00:00:00",
          "2010-05-01T00:00:00",
          "2010-06-01T00:00:00",
          "2010-07-01T00:00:00",
          "2010-08-01T00:00:00",
          "2010-09-01T00:00:00",
          "2010-10-01T00:00:00",
          "2010-11-01T00:00:00",
          "2010-12-01T00:00:00",
          "2011-01-01T00:00:00",
          "2011-02-01T00:00:00",
          "2011-03-01T00:00:00",
          "2011-04-01T00:00:00",
          "2011-05-01T00:00:00",
          "2011-06-01T00:00:00",
          "2011-07-01T00:00:00",
          "2011-08-01T00:00:00",
          "2011-09-01T00:00:00",
          "2011-10-01T00:00:00",
          "2011-11-01T00:00:00",
          "2011-12-01T00:00:00",
          "2012-01-01T00:00:00",
          "2012-02-01T00:00:00",
          "2012-03-01T00:00:00",
          "2012-04-01T00:00:00",
          "2012-05-01T00:00:00",
          "2012-06-01T00:00:00",
          "2012-07-01T00:00:00",
          "2012-08-01T00:00:00",
          "2012-09-01T00:00:00",
          "2012-10-01T00:00:00",
          "2012-11-01T00:00:00",
          "2012-12-01T00:00:00",
          "2013-01-01T00:00:00",
          "2013-02-01T00:00:00",
          "2013-03-01T00:00:00",
          "2013-04-01T00:00:00",
          "2013-05-01T00:00:00",
          "2013-06-01T00:00:00",
          "2013-07-01T00:00:00",
          "2013-08-01T00:00:00",
          "2013-09-01T00:00:00",
          "2013-10-01T00:00:00",
          "2013-11-01T00:00:00",
          "2013-12-01T00:00:00",
          "2014-01-01T00:00:00",
          "2014-02-01T00:00:00",
          "2014-03-01T00:00:00",
          "2014-04-01T00:00:00",
          "2014-05-01T00:00:00",
          "2014-06-01T00:00:00",
          "2014-07-01T00:00:00",
          "2014-08-01T00:00:00",
          "2014-09-01T00:00:00",
          "2014-10-01T00:00:00",
          "2014-11-01T00:00:00",
          "2014-12-01T00:00:00",
          "2015-01-01T00:00:00",
          "2015-02-01T00:00:00",
          "2015-03-01T00:00:00",
          "2015-04-01T00:00:00",
          "2015-05-01T00:00:00",
          "2015-06-01T00:00:00",
          "2015-07-01T00:00:00",
          "2015-08-01T00:00:00",
          "2015-09-01T00:00:00",
          "2015-10-01T00:00:00",
          "2015-11-01T00:00:00",
          "2015-12-01T00:00:00",
          "2016-01-01T00:00:00",
          "2016-02-01T00:00:00",
          "2016-03-01T00:00:00",
          "2016-04-01T00:00:00",
          "2016-05-01T00:00:00",
          "2016-06-01T00:00:00",
          "2016-07-01T00:00:00",
          "2016-08-01T00:00:00",
          "2016-09-01T00:00:00",
          "2016-10-01T00:00:00",
          "2016-11-01T00:00:00",
          "2016-12-01T00:00:00",
          "2017-01-01T00:00:00",
          "2017-02-01T00:00:00",
          "2017-03-01T00:00:00"
         ],
         "y": [
          150.18,
          148.54,
          175.0,
          187.5,
          195.12,
          216.97,
          233.42,
          219.81,
          141.68,
          120.0,
          130.0,
          125.92,
          120.35,
          120.35,
          116.89,
          116.89,
          116.89,
          118.65,
          118.65,
          118.65,
          91.71,
          91.71,
          91.71,
          86.54,
          86.54,
          86.54,
          86.54,
          86.54,
          86.54,
          86.54,
          86.54,
          86.54,
          86.54,
          86.54,
          86.54,
          86.54,
          86.54,
          86.54,
          168.65,
          168.65,
          168.65,
          230.74,
          230.74,
          230.74,
          153.75,
          153.75,
          153.75,
          149.39,
          149.39,
          149.39,
          136.06,
          136.06,
          136.06,
          142.43,
          142.43,
          142.43,
          142.43,
          142.43,
          142.43,
          142.43,
          142.43,
          142.43,
          112.92,
          112.92,
          112.92,
          112.92,
          112.92,
          112.92,
          112.92,
          112.92,
          112.92,
          112.92,
          112.92,
          156.73,
          164.21,
          148.56,
          174.0,
          179.0,
          205.03,
          223.86,
          169.59,
          150.38,
          152.0,
          155.0,
          149.46,
          145.92,
          145.92,
          145.92,
          145.92,
          145.92,
          194.0,
          173.91,
          134.59,
          128.74,
          125.77,
          180.72,
          160.95,
          162.13,
          167.93,
          189.68,
          184.56,
          198.47,
          194.87,
          181.2,
          137.26,
          136.02,
          153.29,
          176.67,
          164.02,
          155.77,
          164.05,
          184.84,
          181.27,
          180.19,
          182.55,
          173.21,
          156.24,
          137.11,
          171.01,
          199.36,
          197.82,
          192.81,
          199.54,
          216.91,
          231.69,
          231.69,
          261.31,
          241.78,
          206.25,
          184.12,
          224.63,
          236.39,
          230.1,
          230.53,
          244.55,
          257.85,
          264.71,
          261.74,
          298.77,
          269.68,
          197.58,
          184.29,
          220.1,
          221.49,
          205.45,
          206.96,
          208.65,
          206.11,
          206.0,
          205.15,
          193.67,
          175.4,
          181.4,
          171.91,
          171.91,
          171.91,
          155.72,
          146.75,
          142.49,
          151.0,
          151.0,
          157.0,
          145.0,
          147.0,
          150.0,
          143.0,
          143.0,
          143.0,
          141.0,
          123.0,
          123.0,
          151.0,
          178.0,
          168.0,
          168.0,
          193.0,
          189.0,
          189.0,
          126.0,
          126.0,
          193.0,
          202.0,
          248.0
         ],
         "type": "scatter"
        },
        {
         "mode": "lines",
         "name": "Interpolate",
         "x": [
          "2002-01-01T00:00:00",
          "2002-02-01T00:00:00",
          "2002-03-01T00:00:00",
          "2002-04-01T00:00:00",
          "2002-05-01T00:00:00",
          "2002-06-01T00:00:00",
          "2002-07-01T00:00:00",
          "2002-08-01T00:00:00",
          "2002-09-01T00:00:00",
          "2002-10-01T00:00:00",
          "2002-11-01T00:00:00",
          "2002-12-01T00:00:00",
          "2003-01-01T00:00:00",
          "2003-02-01T00:00:00",
          "2003-03-01T00:00:00",
          "2003-04-01T00:00:00",
          "2003-05-01T00:00:00",
          "2003-06-01T00:00:00",
          "2003-07-01T00:00:00",
          "2003-08-01T00:00:00",
          "2003-09-01T00:00:00",
          "2003-10-01T00:00:00",
          "2003-11-01T00:00:00",
          "2003-12-01T00:00:00",
          "2004-01-01T00:00:00",
          "2004-02-01T00:00:00",
          "2004-03-01T00:00:00",
          "2004-04-01T00:00:00",
          "2004-05-01T00:00:00",
          "2004-06-01T00:00:00",
          "2004-07-01T00:00:00",
          "2004-08-01T00:00:00",
          "2004-09-01T00:00:00",
          "2004-10-01T00:00:00",
          "2004-11-01T00:00:00",
          "2004-12-01T00:00:00",
          "2005-01-01T00:00:00",
          "2005-02-01T00:00:00",
          "2005-03-01T00:00:00",
          "2005-04-01T00:00:00",
          "2005-05-01T00:00:00",
          "2005-06-01T00:00:00",
          "2005-07-01T00:00:00",
          "2005-08-01T00:00:00",
          "2005-09-01T00:00:00",
          "2005-10-01T00:00:00",
          "2005-11-01T00:00:00",
          "2005-12-01T00:00:00",
          "2006-01-01T00:00:00",
          "2006-02-01T00:00:00",
          "2006-03-01T00:00:00",
          "2006-04-01T00:00:00",
          "2006-05-01T00:00:00",
          "2006-06-01T00:00:00",
          "2006-07-01T00:00:00",
          "2006-08-01T00:00:00",
          "2006-09-01T00:00:00",
          "2006-10-01T00:00:00",
          "2006-11-01T00:00:00",
          "2006-12-01T00:00:00",
          "2007-01-01T00:00:00",
          "2007-02-01T00:00:00",
          "2007-03-01T00:00:00",
          "2007-04-01T00:00:00",
          "2007-05-01T00:00:00",
          "2007-06-01T00:00:00",
          "2007-07-01T00:00:00",
          "2007-08-01T00:00:00",
          "2007-09-01T00:00:00",
          "2007-10-01T00:00:00",
          "2007-11-01T00:00:00",
          "2007-12-01T00:00:00",
          "2008-01-01T00:00:00",
          "2008-02-01T00:00:00",
          "2008-03-01T00:00:00",
          "2008-04-01T00:00:00",
          "2008-05-01T00:00:00",
          "2008-06-01T00:00:00",
          "2008-07-01T00:00:00",
          "2008-08-01T00:00:00",
          "2008-09-01T00:00:00",
          "2008-10-01T00:00:00",
          "2008-11-01T00:00:00",
          "2008-12-01T00:00:00",
          "2009-01-01T00:00:00",
          "2009-02-01T00:00:00",
          "2009-03-01T00:00:00",
          "2009-04-01T00:00:00",
          "2009-05-01T00:00:00",
          "2009-06-01T00:00:00",
          "2009-07-01T00:00:00",
          "2009-08-01T00:00:00",
          "2009-09-01T00:00:00",
          "2009-10-01T00:00:00",
          "2009-11-01T00:00:00",
          "2009-12-01T00:00:00",
          "2010-01-01T00:00:00",
          "2010-02-01T00:00:00",
          "2010-03-01T00:00:00",
          "2010-04-01T00:00:00",
          "2010-05-01T00:00:00",
          "2010-06-01T00:00:00",
          "2010-07-01T00:00:00",
          "2010-08-01T00:00:00",
          "2010-09-01T00:00:00",
          "2010-10-01T00:00:00",
          "2010-11-01T00:00:00",
          "2010-12-01T00:00:00",
          "2011-01-01T00:00:00",
          "2011-02-01T00:00:00",
          "2011-03-01T00:00:00",
          "2011-04-01T00:00:00",
          "2011-05-01T00:00:00",
          "2011-06-01T00:00:00",
          "2011-07-01T00:00:00",
          "2011-08-01T00:00:00",
          "2011-09-01T00:00:00",
          "2011-10-01T00:00:00",
          "2011-11-01T00:00:00",
          "2011-12-01T00:00:00",
          "2012-01-01T00:00:00",
          "2012-02-01T00:00:00",
          "2012-03-01T00:00:00",
          "2012-04-01T00:00:00",
          "2012-05-01T00:00:00",
          "2012-06-01T00:00:00",
          "2012-07-01T00:00:00",
          "2012-08-01T00:00:00",
          "2012-09-01T00:00:00",
          "2012-10-01T00:00:00",
          "2012-11-01T00:00:00",
          "2012-12-01T00:00:00",
          "2013-01-01T00:00:00",
          "2013-02-01T00:00:00",
          "2013-03-01T00:00:00",
          "2013-04-01T00:00:00",
          "2013-05-01T00:00:00",
          "2013-06-01T00:00:00",
          "2013-07-01T00:00:00",
          "2013-08-01T00:00:00",
          "2013-09-01T00:00:00",
          "2013-10-01T00:00:00",
          "2013-11-01T00:00:00",
          "2013-12-01T00:00:00",
          "2014-01-01T00:00:00",
          "2014-02-01T00:00:00",
          "2014-03-01T00:00:00",
          "2014-04-01T00:00:00",
          "2014-05-01T00:00:00",
          "2014-06-01T00:00:00",
          "2014-07-01T00:00:00",
          "2014-08-01T00:00:00",
          "2014-09-01T00:00:00",
          "2014-10-01T00:00:00",
          "2014-11-01T00:00:00",
          "2014-12-01T00:00:00",
          "2015-01-01T00:00:00",
          "2015-02-01T00:00:00",
          "2015-03-01T00:00:00",
          "2015-04-01T00:00:00",
          "2015-05-01T00:00:00",
          "2015-06-01T00:00:00",
          "2015-07-01T00:00:00",
          "2015-08-01T00:00:00",
          "2015-09-01T00:00:00",
          "2015-10-01T00:00:00",
          "2015-11-01T00:00:00",
          "2015-12-01T00:00:00",
          "2016-01-01T00:00:00",
          "2016-02-01T00:00:00",
          "2016-03-01T00:00:00",
          "2016-04-01T00:00:00",
          "2016-05-01T00:00:00",
          "2016-06-01T00:00:00",
          "2016-07-01T00:00:00",
          "2016-08-01T00:00:00",
          "2016-09-01T00:00:00",
          "2016-10-01T00:00:00",
          "2016-11-01T00:00:00",
          "2016-12-01T00:00:00",
          "2017-01-01T00:00:00",
          "2017-02-01T00:00:00",
          "2017-03-01T00:00:00"
         ],
         "y": [
          150.18,
          148.54,
          175.0,
          187.5,
          195.12,
          216.97,
          233.42,
          219.81,
          141.68,
          120.0,
          130.0,
          125.92,
          120.35,
          118.53203389830506,
          116.89,
          117.48304347826088,
          118.05695652173915,
          118.65,
          109.86521739130436,
          100.78760869565218,
          91.71,
          90.0056043956044,
          88.2443956043956,
          86.54,
          92.12203947368423,
          97.70407894736843,
          102.92598684210527,
          108.5080263157895,
          113.91000000000003,
          119.49203947368423,
          124.89401315789475,
          130.47605263157897,
          136.05809210526317,
          141.4600657894737,
          147.0421052631579,
          152.44407894736844,
          158.02611842105264,
          163.60815789473685,
          168.65,
          189.57163043478263,
          209.81836956521744,
          230.74,
          205.63456521739135,
          179.69228260869568,
          153.75,
          152.31263736263736,
          150.82736263736263,
          149.39,
          144.79855555555554,
          140.20711111111112,
          136.06,
          138.20641304347828,
          140.28358695652176,
          142.43,
          139.18714285714285,
          135.8361904761905,
          132.4852380952381,
          129.24238095238096,
          125.89142857142858,
          122.64857142857143,
          119.29761904761905,
          115.94666666666666,
          112.92,
          116.95,
          120.85000000000001,
          124.88,
          128.78,
          132.81,
          136.84,
          140.74,
          144.76999999999998,
          148.67000000000002,
          152.7,
          156.73,
          164.21,
          148.56,
          174.0,
          179.0,
          205.03,
          223.86,
          169.59,
          150.38,
          152.0,
          155.0,
          149.46,
          145.92,
          154.8949333333333,
          164.83146666666667,
          174.44746666666666,
          184.38400000000001,
          194.0,
          173.91,
          134.59,
          128.74,
          125.77,
          180.72,
          160.95,
          162.13,
          167.93,
          189.68,
          184.56,
          198.47,
          194.87,
          181.2,
          137.26,
          136.02,
          153.29,
          176.67,
          164.02,
          155.77,
          164.05,
          184.84,
          181.27,
          180.19,
          182.55,
          173.21,
          156.24,
          137.11,
          171.01,
          199.36,
          197.82,
          192.81,
          199.54,
          216.91,
          231.69,
          246.7427868852459,
          261.31,
          241.78,
          206.25,
          184.12,
          224.63,
          236.39,
          230.1,
          230.53,
          244.55,
          257.85,
          264.71,
          261.74,
          298.77,
          269.68,
          197.58,
          184.29,
          220.1,
          221.49,
          205.45,
          206.96,
          208.65,
          206.11,
          206.0,
          205.15,
          193.67,
          175.4,
          181.4,
          171.91,
          166.4546739130435,
          161.17532608695655,
          155.72,
          146.75,
          142.49,
          151.0,
          151.0,
          157.0,
          145.0,
          147.0,
          150.0,
          143.0,
          142.32608695652175,
          141.67391304347828,
          141.0,
          123.0,
          136.53333333333333,
          151.0,
          178.0,
          168.0,
          168.0,
          193.0,
          189.0,
          189.0,
          126.0,
          158.95081967213116,
          193.0,
          202.0,
          248.0
         ],
         "type": "scatter"
        }
       ],
       "layout": {
        "template": {
         "data": {
          "histogram2dcontour": [
           {
            "type": "histogram2dcontour",
            "colorbar": {
             "outlinewidth": 0,
             "ticks": ""
            },
            "colorscale": [
             [
              0.0,
              "#0d0887"
             ],
             [
              0.1111111111111111,
              "#46039f"
             ],
             [
              0.2222222222222222,
              "#7201a8"
             ],
             [
              0.3333333333333333,
              "#9c179e"
             ],
             [
              0.4444444444444444,
              "#bd3786"
             ],
             [
              0.5555555555555556,
              "#d8576b"
             ],
             [
              0.6666666666666666,
              "#ed7953"
             ],
             [
              0.7777777777777778,
              "#fb9f3a"
             ],
             [
              0.8888888888888888,
              "#fdca26"
             ],
             [
              1.0,
              "#f0f921"
             ]
            ]
           }
          ],
          "choropleth": [
           {
            "type": "choropleth",
            "colorbar": {
             "outlinewidth": 0,
             "ticks": ""
            }
           }
          ],
          "histogram2d": [
           {
            "type": "histogram2d",
            "colorbar": {
             "outlinewidth": 0,
             "ticks": ""
            },
            "colorscale": [
             [
              0.0,
              "#0d0887"
             ],
             [
              0.1111111111111111,
              "#46039f"
             ],
             [
              0.2222222222222222,
              "#7201a8"
             ],
             [
              0.3333333333333333,
              "#9c179e"
             ],
             [
              0.4444444444444444,
              "#bd3786"
             ],
             [
              0.5555555555555556,
              "#d8576b"
             ],
             [
              0.6666666666666666,
              "#ed7953"
             ],
             [
              0.7777777777777778,
              "#fb9f3a"
             ],
             [
              0.8888888888888888,
              "#fdca26"
             ],
             [
              1.0,
              "#f0f921"
             ]
            ]
           }
          ],
          "heatmap": [
           {
            "type": "heatmap",
            "colorbar": {
             "outlinewidth": 0,
             "ticks": ""
            },
            "colorscale": [
             [
              0.0,
              "#0d0887"
             ],
             [
              0.1111111111111111,
              "#46039f"
             ],
             [
              0.2222222222222222,
              "#7201a8"
             ],
             [
              0.3333333333333333,
              "#9c179e"
             ],
             [
              0.4444444444444444,
              "#bd3786"
             ],
             [
              0.5555555555555556,
              "#d8576b"
             ],
             [
              0.6666666666666666,
              "#ed7953"
             ],
             [
              0.7777777777777778,
              "#fb9f3a"
             ],
             [
              0.8888888888888888,
              "#fdca26"
             ],
             [
              1.0,
              "#f0f921"
             ]
            ]
           }
          ],
          "heatmapgl": [
           {
            "type": "heatmapgl",
            "colorbar": {
             "outlinewidth": 0,
             "ticks": ""
            },
            "colorscale": [
             [
              0.0,
              "#0d0887"
             ],
             [
              0.1111111111111111,
              "#46039f"
             ],
             [
              0.2222222222222222,
              "#7201a8"
             ],
             [
              0.3333333333333333,
              "#9c179e"
             ],
             [
              0.4444444444444444,
              "#bd3786"
             ],
             [
              0.5555555555555556,
              "#d8576b"
             ],
             [
              0.6666666666666666,
              "#ed7953"
             ],
             [
              0.7777777777777778,
              "#fb9f3a"
             ],
             [
              0.8888888888888888,
              "#fdca26"
             ],
             [
              1.0,
              "#f0f921"
             ]
            ]
           }
          ],
          "contourcarpet": [
           {
            "type": "contourcarpet",
            "colorbar": {
             "outlinewidth": 0,
             "ticks": ""
            }
           }
          ],
          "contour": [
           {
            "type": "contour",
            "colorbar": {
             "outlinewidth": 0,
             "ticks": ""
            },
            "colorscale": [
             [
              0.0,
              "#0d0887"
             ],
             [
              0.1111111111111111,
              "#46039f"
             ],
             [
              0.2222222222222222,
              "#7201a8"
             ],
             [
              0.3333333333333333,
              "#9c179e"
             ],
             [
              0.4444444444444444,
              "#bd3786"
             ],
             [
              0.5555555555555556,
              "#d8576b"
             ],
             [
              0.6666666666666666,
              "#ed7953"
             ],
             [
              0.7777777777777778,
              "#fb9f3a"
             ],
             [
              0.8888888888888888,
              "#fdca26"
             ],
             [
              1.0,
              "#f0f921"
             ]
            ]
           }
          ],
          "surface": [
           {
            "type": "surface",
            "colorbar": {
             "outlinewidth": 0,
             "ticks": ""
            },
            "colorscale": [
             [
              0.0,
              "#0d0887"
             ],
             [
              0.1111111111111111,
              "#46039f"
             ],
             [
              0.2222222222222222,
              "#7201a8"
             ],
             [
              0.3333333333333333,
              "#9c179e"
             ],
             [
              0.4444444444444444,
              "#bd3786"
             ],
             [
              0.5555555555555556,
              "#d8576b"
             ],
             [
              0.6666666666666666,
              "#ed7953"
             ],
             [
              0.7777777777777778,
              "#fb9f3a"
             ],
             [
              0.8888888888888888,
              "#fdca26"
             ],
             [
              1.0,
              "#f0f921"
             ]
            ]
           }
          ],
          "mesh3d": [
           {
            "type": "mesh3d",
            "colorbar": {
             "outlinewidth": 0,
             "ticks": ""
            }
           }
          ],
          "scatter": [
           {
            "marker": {
             "line": {
              "color": "#283442"
             }
            },
            "type": "scatter"
           }
          ],
          "parcoords": [
           {
            "type": "parcoords",
            "line": {
             "colorbar": {
              "outlinewidth": 0,
              "ticks": ""
             }
            }
           }
          ],
          "scatterpolargl": [
           {
            "type": "scatterpolargl",
            "marker": {
             "colorbar": {
              "outlinewidth": 0,
              "ticks": ""
             }
            }
           }
          ],
          "bar": [
           {
            "error_x": {
             "color": "#f2f5fa"
            },
            "error_y": {
             "color": "#f2f5fa"
            },
            "marker": {
             "line": {
              "color": "rgb(17,17,17)",
              "width": 0.5
             },
             "pattern": {
              "fillmode": "overlay",
              "size": 10,
              "solidity": 0.2
             }
            },
            "type": "bar"
           }
          ],
          "scattergeo": [
           {
            "type": "scattergeo",
            "marker": {
             "colorbar": {
              "outlinewidth": 0,
              "ticks": ""
             }
            }
           }
          ],
          "scatterpolar": [
           {
            "type": "scatterpolar",
            "marker": {
             "colorbar": {
              "outlinewidth": 0,
              "ticks": ""
             }
            }
           }
          ],
          "histogram": [
           {
            "marker": {
             "pattern": {
              "fillmode": "overlay",
              "size": 10,
              "solidity": 0.2
             }
            },
            "type": "histogram"
           }
          ],
          "scattergl": [
           {
            "marker": {
             "line": {
              "color": "#283442"
             }
            },
            "type": "scattergl"
           }
          ],
          "scatter3d": [
           {
            "type": "scatter3d",
            "line": {
             "colorbar": {
              "outlinewidth": 0,
              "ticks": ""
             }
            },
            "marker": {
             "colorbar": {
              "outlinewidth": 0,
              "ticks": ""
             }
            }
           }
          ],
          "scattermapbox": [
           {
            "type": "scattermapbox",
            "marker": {
             "colorbar": {
              "outlinewidth": 0,
              "ticks": ""
             }
            }
           }
          ],
          "scatterternary": [
           {
            "type": "scatterternary",
            "marker": {
             "colorbar": {
              "outlinewidth": 0,
              "ticks": ""
             }
            }
           }
          ],
          "scattercarpet": [
           {
            "type": "scattercarpet",
            "marker": {
             "colorbar": {
              "outlinewidth": 0,
              "ticks": ""
             }
            }
           }
          ],
          "carpet": [
           {
            "aaxis": {
             "endlinecolor": "#A2B1C6",
             "gridcolor": "#506784",
             "linecolor": "#506784",
             "minorgridcolor": "#506784",
             "startlinecolor": "#A2B1C6"
            },
            "baxis": {
             "endlinecolor": "#A2B1C6",
             "gridcolor": "#506784",
             "linecolor": "#506784",
             "minorgridcolor": "#506784",
             "startlinecolor": "#A2B1C6"
            },
            "type": "carpet"
           }
          ],
          "table": [
           {
            "cells": {
             "fill": {
              "color": "#506784"
             },
             "line": {
              "color": "rgb(17,17,17)"
             }
            },
            "header": {
             "fill": {
              "color": "#2a3f5f"
             },
             "line": {
              "color": "rgb(17,17,17)"
             }
            },
            "type": "table"
           }
          ],
          "barpolar": [
           {
            "marker": {
             "line": {
              "color": "rgb(17,17,17)",
              "width": 0.5
             },
             "pattern": {
              "fillmode": "overlay",
              "size": 10,
              "solidity": 0.2
             }
            },
            "type": "barpolar"
           }
          ],
          "pie": [
           {
            "automargin": true,
            "type": "pie"
           }
          ]
         },
         "layout": {
          "autotypenumbers": "strict",
          "colorway": [
           "#636efa",
           "#EF553B",
           "#00cc96",
           "#ab63fa",
           "#FFA15A",
           "#19d3f3",
           "#FF6692",
           "#B6E880",
           "#FF97FF",
           "#FECB52"
          ],
          "font": {
           "color": "#f2f5fa"
          },
          "hovermode": "closest",
          "hoverlabel": {
           "align": "left"
          },
          "paper_bgcolor": "rgb(17,17,17)",
          "plot_bgcolor": "rgb(17,17,17)",
          "polar": {
           "bgcolor": "rgb(17,17,17)",
           "angularaxis": {
            "gridcolor": "#506784",
            "linecolor": "#506784",
            "ticks": ""
           },
           "radialaxis": {
            "gridcolor": "#506784",
            "linecolor": "#506784",
            "ticks": ""
           }
          },
          "ternary": {
           "bgcolor": "rgb(17,17,17)",
           "aaxis": {
            "gridcolor": "#506784",
            "linecolor": "#506784",
            "ticks": ""
           },
           "baxis": {
            "gridcolor": "#506784",
            "linecolor": "#506784",
            "ticks": ""
           },
           "caxis": {
            "gridcolor": "#506784",
            "linecolor": "#506784",
            "ticks": ""
           }
          },
          "coloraxis": {
           "colorbar": {
            "outlinewidth": 0,
            "ticks": ""
           }
          },
          "colorscale": {
           "sequential": [
            [
             0.0,
             "#0d0887"
            ],
            [
             0.1111111111111111,
             "#46039f"
            ],
            [
             0.2222222222222222,
             "#7201a8"
            ],
            [
             0.3333333333333333,
             "#9c179e"
            ],
            [
             0.4444444444444444,
             "#bd3786"
            ],
            [
             0.5555555555555556,
             "#d8576b"
            ],
            [
             0.6666666666666666,
             "#ed7953"
            ],
            [
             0.7777777777777778,
             "#fb9f3a"
            ],
            [
             0.8888888888888888,
             "#fdca26"
            ],
            [
             1.0,
             "#f0f921"
            ]
           ],
           "sequentialminus": [
            [
             0.0,
             "#0d0887"
            ],
            [
             0.1111111111111111,
             "#46039f"
            ],
            [
             0.2222222222222222,
             "#7201a8"
            ],
            [
             0.3333333333333333,
             "#9c179e"
            ],
            [
             0.4444444444444444,
             "#bd3786"
            ],
            [
             0.5555555555555556,
             "#d8576b"
            ],
            [
             0.6666666666666666,
             "#ed7953"
            ],
            [
             0.7777777777777778,
             "#fb9f3a"
            ],
            [
             0.8888888888888888,
             "#fdca26"
            ],
            [
             1.0,
             "#f0f921"
            ]
           ],
           "diverging": [
            [
             0,
             "#8e0152"
            ],
            [
             0.1,
             "#c51b7d"
            ],
            [
             0.2,
             "#de77ae"
            ],
            [
             0.3,
             "#f1b6da"
            ],
            [
             0.4,
             "#fde0ef"
            ],
            [
             0.5,
             "#f7f7f7"
            ],
            [
             0.6,
             "#e6f5d0"
            ],
            [
             0.7,
             "#b8e186"
            ],
            [
             0.8,
             "#7fbc41"
            ],
            [
             0.9,
             "#4d9221"
            ],
            [
             1,
             "#276419"
            ]
           ]
          },
          "xaxis": {
           "gridcolor": "#283442",
           "linecolor": "#506784",
           "ticks": "",
           "title": {
            "standoff": 15
           },
           "zerolinecolor": "#283442",
           "automargin": true,
           "zerolinewidth": 2
          },
          "yaxis": {
           "gridcolor": "#283442",
           "linecolor": "#506784",
           "ticks": "",
           "title": {
            "standoff": 15
           },
           "zerolinecolor": "#283442",
           "automargin": true,
           "zerolinewidth": 2
          },
          "scene": {
           "xaxis": {
            "backgroundcolor": "rgb(17,17,17)",
            "gridcolor": "#506784",
            "linecolor": "#506784",
            "showbackground": true,
            "ticks": "",
            "zerolinecolor": "#C8D4E3",
            "gridwidth": 2
           },
           "yaxis": {
            "backgroundcolor": "rgb(17,17,17)",
            "gridcolor": "#506784",
            "linecolor": "#506784",
            "showbackground": true,
            "ticks": "",
            "zerolinecolor": "#C8D4E3",
            "gridwidth": 2
           },
           "zaxis": {
            "backgroundcolor": "rgb(17,17,17)",
            "gridcolor": "#506784",
            "linecolor": "#506784",
            "showbackground": true,
            "ticks": "",
            "zerolinecolor": "#C8D4E3",
            "gridwidth": 2
           }
          },
          "shapedefaults": {
           "line": {
            "color": "#f2f5fa"
           }
          },
          "annotationdefaults": {
           "arrowcolor": "#f2f5fa",
           "arrowhead": 0,
           "arrowwidth": 1
          },
          "geo": {
           "bgcolor": "rgb(17,17,17)",
           "landcolor": "rgb(17,17,17)",
           "subunitcolor": "#506784",
           "showland": true,
           "showlakes": true,
           "lakecolor": "rgb(17,17,17)"
          },
          "title": {
           "x": 0.05
          },
          "updatemenudefaults": {
           "bgcolor": "#506784",
           "borderwidth": 0
          },
          "sliderdefaults": {
           "bgcolor": "#C8D4E3",
           "borderwidth": 1,
           "bordercolor": "rgb(17,17,17)",
           "tickwidth": 0
          },
          "mapbox": {
           "style": "dark"
          }
         }
        },
        "title": {
         "text": "Multiple approaches to overwrite NAN"
        },
        "xaxis": {
         "title": {
          "text": "Date"
         }
        },
        "yaxis": {
         "title": {
          "text": "Price"
         }
        }
       },
       "config": {
        "plotlyServerURL": "https://plot.ly"
       }
      },
      "text/html": [
       "<div>                            <div id=\"4155ad99-83d2-4597-a690-489de0886a2e\" class=\"plotly-graph-div\" style=\"height:525px; width:100%;\"></div>            <script type=\"text/javascript\">                require([\"plotly\"], function(Plotly) {                    window.PLOTLYENV=window.PLOTLYENV || {};                                    if (document.getElementById(\"4155ad99-83d2-4597-a690-489de0886a2e\")) {                    Plotly.newPlot(                        \"4155ad99-83d2-4597-a690-489de0886a2e\",                        [{\"mode\":\"lines\",\"name\":\"Raw dataset\",\"x\":[\"2002-01-01T00:00:00\",\"2002-02-01T00:00:00\",\"2002-03-01T00:00:00\",\"2002-04-01T00:00:00\",\"2002-05-01T00:00:00\",\"2002-06-01T00:00:00\",\"2002-07-01T00:00:00\",\"2002-08-01T00:00:00\",\"2002-09-01T00:00:00\",\"2002-10-01T00:00:00\",\"2002-11-01T00:00:00\",\"2002-12-01T00:00:00\",\"2003-01-01T00:00:00\",\"2003-03-01T00:00:00\",\"2003-06-01T00:00:00\",\"2003-09-01T00:00:00\",\"2003-12-01T00:00:00\",\"2005-03-01T00:00:00\",\"2005-06-01T00:00:00\",\"2005-09-01T00:00:00\",\"2005-12-01T00:00:00\",\"2006-03-01T00:00:00\",\"2006-06-01T00:00:00\",\"2007-03-01T00:00:00\",\"2008-02-01T00:00:00\",\"2008-03-01T00:00:00\",\"2008-04-01T00:00:00\",\"2008-05-01T00:00:00\",\"2008-06-01T00:00:00\",\"2008-07-01T00:00:00\",\"2008-08-01T00:00:00\",\"2008-09-01T00:00:00\",\"2008-10-01T00:00:00\",\"2008-11-01T00:00:00\",\"2008-12-01T00:00:00\",\"2009-01-01T00:00:00\",\"2009-02-01T00:00:00\",\"2009-07-01T00:00:00\",\"2009-08-01T00:00:00\",\"2009-09-01T00:00:00\",\"2009-10-01T00:00:00\",\"2009-11-01T00:00:00\",\"2009-12-01T00:00:00\",\"2010-01-01T00:00:00\",\"2010-02-01T00:00:00\",\"2010-03-01T00:00:00\",\"2010-04-01T00:00:00\",\"2010-05-01T00:00:00\",\"2010-06-01T00:00:00\",\"2010-07-01T00:00:00\",\"2010-08-01T00:00:00\",\"2010-09-01T00:00:00\",\"2010-10-01T00:00:00\",\"2010-11-01T00:00:00\",\"2010-12-01T00:00:00\",\"2011-01-01T00:00:00\",\"2011-02-01T00:00:00\",\"2011-03-01T00:00:00\",\"2011-04-01T00:00:00\",\"2011-05-01T00:00:00\",\"2011-06-01T00:00:00\",\"2011-07-01T00:00:00\",\"2011-08-01T00:00:00\",\"2011-09-01T00:00:00\",\"2011-10-01T00:00:00\",\"2011-11-01T00:00:00\",\"2011-12-01T00:00:00\",\"2012-01-01T00:00:00\",\"2012-02-01T00:00:00\",\"2012-03-01T00:00:00\",\"2012-04-01T00:00:00\",\"2012-05-01T00:00:00\",\"2012-07-01T00:00:00\",\"2012-08-01T00:00:00\",\"2012-09-01T00:00:00\",\"2012-10-01T00:00:00\",\"2012-11-01T00:00:00\",\"2012-12-01T00:00:00\",\"2013-01-01T00:00:00\",\"2013-02-01T00:00:00\",\"2013-03-01T00:00:00\",\"2013-04-01T00:00:00\",\"2013-05-01T00:00:00\",\"2013-06-01T00:00:00\",\"2013-07-01T00:00:00\",\"2013-08-01T00:00:00\",\"2013-09-01T00:00:00\",\"2013-10-01T00:00:00\",\"2013-11-01T00:00:00\",\"2013-12-01T00:00:00\",\"2014-01-01T00:00:00\",\"2014-02-01T00:00:00\",\"2014-03-01T00:00:00\",\"2014-04-01T00:00:00\",\"2014-05-01T00:00:00\",\"2014-06-01T00:00:00\",\"2014-07-01T00:00:00\",\"2014-08-01T00:00:00\",\"2014-09-01T00:00:00\",\"2014-10-01T00:00:00\",\"2015-01-01T00:00:00\",\"2015-02-01T00:00:00\",\"2015-03-01T00:00:00\",\"2015-04-01T00:00:00\",\"2015-05-01T00:00:00\",\"2015-06-01T00:00:00\",\"2015-07-01T00:00:00\",\"2015-08-01T00:00:00\",\"2015-09-01T00:00:00\",\"2015-10-01T00:00:00\",\"2016-01-01T00:00:00\",\"2016-02-01T00:00:00\",\"2016-04-01T00:00:00\",\"2016-05-01T00:00:00\",\"2016-06-01T00:00:00\",\"2016-07-01T00:00:00\",\"2016-08-01T00:00:00\",\"2016-09-01T00:00:00\",\"2016-10-01T00:00:00\",\"2016-11-01T00:00:00\",\"2017-01-01T00:00:00\",\"2017-02-01T00:00:00\",\"2017-03-01T00:00:00\"],\"y\":[150.18,148.54,175.0,187.5,195.12,216.97,233.42,219.81,141.68,120.0,130.0,125.92,120.35,116.89,118.65,91.71,86.54,168.65,230.74,153.75,149.39,136.06,142.43,112.92,156.73,164.21,148.56,174.0,179.0,205.03,223.86,169.59,150.38,152.0,155.0,149.46,145.92,194.0,173.91,134.59,128.74,125.77,180.72,160.95,162.13,167.93,189.68,184.56,198.47,194.87,181.2,137.26,136.02,153.29,176.67,164.02,155.77,164.05,184.84,181.27,180.19,182.55,173.21,156.24,137.11,171.01,199.36,197.82,192.81,199.54,216.91,231.69,261.31,241.78,206.25,184.12,224.63,236.39,230.1,230.53,244.55,257.85,264.71,261.74,298.77,269.68,197.58,184.29,220.1,221.49,205.45,206.96,208.65,206.11,206.0,205.15,193.67,175.4,181.4,171.91,155.72,146.75,142.49,151.0,151.0,157.0,145.0,147.0,150.0,143.0,141.0,123.0,151.0,178.0,168.0,168.0,193.0,189.0,189.0,126.0,193.0,202.0,248.0],\"type\":\"scatter\"},{\"mode\":\"lines\",\"name\":\"Mean adjust\",\"x\":[\"2002-01-01T00:00:00\",\"2002-02-01T00:00:00\",\"2002-03-01T00:00:00\",\"2002-04-01T00:00:00\",\"2002-05-01T00:00:00\",\"2002-06-01T00:00:00\",\"2002-07-01T00:00:00\",\"2002-08-01T00:00:00\",\"2002-09-01T00:00:00\",\"2002-10-01T00:00:00\",\"2002-11-01T00:00:00\",\"2002-12-01T00:00:00\",\"2003-01-01T00:00:00\",\"2003-02-01T00:00:00\",\"2003-03-01T00:00:00\",\"2003-04-01T00:00:00\",\"2003-05-01T00:00:00\",\"2003-06-01T00:00:00\",\"2003-07-01T00:00:00\",\"2003-08-01T00:00:00\",\"2003-09-01T00:00:00\",\"2003-10-01T00:00:00\",\"2003-11-01T00:00:00\",\"2003-12-01T00:00:00\",\"2004-01-01T00:00:00\",\"2004-02-01T00:00:00\",\"2004-03-01T00:00:00\",\"2004-04-01T00:00:00\",\"2004-05-01T00:00:00\",\"2004-06-01T00:00:00\",\"2004-07-01T00:00:00\",\"2004-08-01T00:00:00\",\"2004-09-01T00:00:00\",\"2004-10-01T00:00:00\",\"2004-11-01T00:00:00\",\"2004-12-01T00:00:00\",\"2005-01-01T00:00:00\",\"2005-02-01T00:00:00\",\"2005-03-01T00:00:00\",\"2005-04-01T00:00:00\",\"2005-05-01T00:00:00\",\"2005-06-01T00:00:00\",\"2005-07-01T00:00:00\",\"2005-08-01T00:00:00\",\"2005-09-01T00:00:00\",\"2005-10-01T00:00:00\",\"2005-11-01T00:00:00\",\"2005-12-01T00:00:00\",\"2006-01-01T00:00:00\",\"2006-02-01T00:00:00\",\"2006-03-01T00:00:00\",\"2006-04-01T00:00:00\",\"2006-05-01T00:00:00\",\"2006-06-01T00:00:00\",\"2006-07-01T00:00:00\",\"2006-08-01T00:00:00\",\"2006-09-01T00:00:00\",\"2006-10-01T00:00:00\",\"2006-11-01T00:00:00\",\"2006-12-01T00:00:00\",\"2007-01-01T00:00:00\",\"2007-02-01T00:00:00\",\"2007-03-01T00:00:00\",\"2007-04-01T00:00:00\",\"2007-05-01T00:00:00\",\"2007-06-01T00:00:00\",\"2007-07-01T00:00:00\",\"2007-08-01T00:00:00\",\"2007-09-01T00:00:00\",\"2007-10-01T00:00:00\",\"2007-11-01T00:00:00\",\"2007-12-01T00:00:00\",\"2008-01-01T00:00:00\",\"2008-02-01T00:00:00\",\"2008-03-01T00:00:00\",\"2008-04-01T00:00:00\",\"2008-05-01T00:00:00\",\"2008-06-01T00:00:00\",\"2008-07-01T00:00:00\",\"2008-08-01T00:00:00\",\"2008-09-01T00:00:00\",\"2008-10-01T00:00:00\",\"2008-11-01T00:00:00\",\"2008-12-01T00:00:00\",\"2009-01-01T00:00:00\",\"2009-02-01T00:00:00\",\"2009-03-01T00:00:00\",\"2009-04-01T00:00:00\",\"2009-05-01T00:00:00\",\"2009-06-01T00:00:00\",\"2009-07-01T00:00:00\",\"2009-08-01T00:00:00\",\"2009-09-01T00:00:00\",\"2009-10-01T00:00:00\",\"2009-11-01T00:00:00\",\"2009-12-01T00:00:00\",\"2010-01-01T00:00:00\",\"2010-02-01T00:00:00\",\"2010-03-01T00:00:00\",\"2010-04-01T00:00:00\",\"2010-05-01T00:00:00\",\"2010-06-01T00:00:00\",\"2010-07-01T00:00:00\",\"2010-08-01T00:00:00\",\"2010-09-01T00:00:00\",\"2010-10-01T00:00:00\",\"2010-11-01T00:00:00\",\"2010-12-01T00:00:00\",\"2011-01-01T00:00:00\",\"2011-02-01T00:00:00\",\"2011-03-01T00:00:00\",\"2011-04-01T00:00:00\",\"2011-05-01T00:00:00\",\"2011-06-01T00:00:00\",\"2011-07-01T00:00:00\",\"2011-08-01T00:00:00\",\"2011-09-01T00:00:00\",\"2011-10-01T00:00:00\",\"2011-11-01T00:00:00\",\"2011-12-01T00:00:00\",\"2012-01-01T00:00:00\",\"2012-02-01T00:00:00\",\"2012-03-01T00:00:00\",\"2012-04-01T00:00:00\",\"2012-05-01T00:00:00\",\"2012-06-01T00:00:00\",\"2012-07-01T00:00:00\",\"2012-08-01T00:00:00\",\"2012-09-01T00:00:00\",\"2012-10-01T00:00:00\",\"2012-11-01T00:00:00\",\"2012-12-01T00:00:00\",\"2013-01-01T00:00:00\",\"2013-02-01T00:00:00\",\"2013-03-01T00:00:00\",\"2013-04-01T00:00:00\",\"2013-05-01T00:00:00\",\"2013-06-01T00:00:00\",\"2013-07-01T00:00:00\",\"2013-08-01T00:00:00\",\"2013-09-01T00:00:00\",\"2013-10-01T00:00:00\",\"2013-11-01T00:00:00\",\"2013-12-01T00:00:00\",\"2014-01-01T00:00:00\",\"2014-02-01T00:00:00\",\"2014-03-01T00:00:00\",\"2014-04-01T00:00:00\",\"2014-05-01T00:00:00\",\"2014-06-01T00:00:00\",\"2014-07-01T00:00:00\",\"2014-08-01T00:00:00\",\"2014-09-01T00:00:00\",\"2014-10-01T00:00:00\",\"2014-11-01T00:00:00\",\"2014-12-01T00:00:00\",\"2015-01-01T00:00:00\",\"2015-02-01T00:00:00\",\"2015-03-01T00:00:00\",\"2015-04-01T00:00:00\",\"2015-05-01T00:00:00\",\"2015-06-01T00:00:00\",\"2015-07-01T00:00:00\",\"2015-08-01T00:00:00\",\"2015-09-01T00:00:00\",\"2015-10-01T00:00:00\",\"2015-11-01T00:00:00\",\"2015-12-01T00:00:00\",\"2016-01-01T00:00:00\",\"2016-02-01T00:00:00\",\"2016-03-01T00:00:00\",\"2016-04-01T00:00:00\",\"2016-05-01T00:00:00\",\"2016-06-01T00:00:00\",\"2016-07-01T00:00:00\",\"2016-08-01T00:00:00\",\"2016-09-01T00:00:00\",\"2016-10-01T00:00:00\",\"2016-11-01T00:00:00\",\"2016-12-01T00:00:00\",\"2017-01-01T00:00:00\",\"2017-02-01T00:00:00\",\"2017-03-01T00:00:00\"],\"y\":[150.18,148.54,175.0,187.5,195.12,216.97,233.42,219.81,141.68,120.0,130.0,125.92,120.35,166.49923076923076,116.89,162.9557142857143,162.9557142857143,118.65,160.002,160.002,91.71,155.73375,155.73375,86.54,151.66352941176473,151.66352941176473,151.66352941176473,151.66352941176473,151.66352941176473,151.66352941176473,151.66352941176473,151.66352941176473,151.66352941176473,151.66352941176473,151.66352941176473,151.66352941176473,151.66352941176473,151.66352941176473,168.65,152.60722222222222,152.60722222222222,230.74,156.71947368421053,156.71947368421053,153.75,156.571,156.571,149.39,156.2290476190476,156.2290476190476,136.06,155.31227272727273,155.31227272727273,142.43,154.7521739130435,154.7521739130435,154.7521739130435,154.7521739130435,154.7521739130435,154.7521739130435,154.7521739130435,154.7521739130435,112.92,153.00916666666666,153.00916666666666,153.00916666666666,153.00916666666666,153.00916666666666,153.00916666666666,153.00916666666666,153.00916666666666,153.00916666666666,153.00916666666666,156.73,164.21,148.56,174.0,179.0,205.03,223.86,169.59,150.38,152.0,155.0,149.46,145.92,157.99891891891892,157.99891891891892,157.99891891891892,157.99891891891892,194.0,173.91,134.59,128.74,125.77,180.72,160.95,162.13,167.93,189.68,184.56,198.47,194.87,181.2,137.26,136.02,153.29,176.67,164.02,155.77,164.05,184.84,181.27,180.19,182.55,173.21,156.24,137.11,171.01,199.36,197.82,192.81,199.54,216.91,231.69,165.4876388888889,261.31,241.78,206.25,184.12,224.63,236.39,230.1,230.53,244.55,257.85,264.71,261.74,298.77,269.68,197.58,184.29,220.1,221.49,205.45,206.96,208.65,206.11,206.0,205.15,193.67,175.4,181.4,171.91,181.1168,181.1168,155.72,146.75,142.49,151.0,151.0,157.0,145.0,147.0,150.0,143.0,178.18763636363636,178.18763636363636,141.0,123.0,177.36285714285714,151.0,178.0,168.0,168.0,193.0,189.0,189.0,126.0,176.88866666666667,193.0,202.0,248.0],\"type\":\"scatter\"},{\"mode\":\"lines\",\"name\":\"12 months Rolling mean adjust\",\"x\":[\"2002-01-01T00:00:00\",\"2002-02-01T00:00:00\",\"2002-03-01T00:00:00\",\"2002-04-01T00:00:00\",\"2002-05-01T00:00:00\",\"2002-06-01T00:00:00\",\"2002-07-01T00:00:00\",\"2002-08-01T00:00:00\",\"2002-09-01T00:00:00\",\"2002-10-01T00:00:00\",\"2002-11-01T00:00:00\",\"2002-12-01T00:00:00\",\"2003-01-01T00:00:00\",\"2003-02-01T00:00:00\",\"2003-03-01T00:00:00\",\"2003-04-01T00:00:00\",\"2003-05-01T00:00:00\",\"2003-06-01T00:00:00\",\"2003-07-01T00:00:00\",\"2003-08-01T00:00:00\",\"2003-09-01T00:00:00\",\"2003-10-01T00:00:00\",\"2003-11-01T00:00:00\",\"2003-12-01T00:00:00\",\"2004-01-01T00:00:00\",\"2004-02-01T00:00:00\",\"2004-03-01T00:00:00\",\"2004-04-01T00:00:00\",\"2004-05-01T00:00:00\",\"2004-06-01T00:00:00\",\"2004-07-01T00:00:00\",\"2004-08-01T00:00:00\",\"2004-09-01T00:00:00\",\"2004-10-01T00:00:00\",\"2004-11-01T00:00:00\",\"2004-12-01T00:00:00\",\"2005-01-01T00:00:00\",\"2005-02-01T00:00:00\",\"2005-03-01T00:00:00\",\"2005-04-01T00:00:00\",\"2005-05-01T00:00:00\",\"2005-06-01T00:00:00\",\"2005-07-01T00:00:00\",\"2005-08-01T00:00:00\",\"2005-09-01T00:00:00\",\"2005-10-01T00:00:00\",\"2005-11-01T00:00:00\",\"2005-12-01T00:00:00\",\"2006-01-01T00:00:00\",\"2006-02-01T00:00:00\",\"2006-03-01T00:00:00\",\"2006-04-01T00:00:00\",\"2006-05-01T00:00:00\",\"2006-06-01T00:00:00\",\"2006-07-01T00:00:00\",\"2006-08-01T00:00:00\",\"2006-09-01T00:00:00\",\"2006-10-01T00:00:00\",\"2006-11-01T00:00:00\",\"2006-12-01T00:00:00\",\"2007-01-01T00:00:00\",\"2007-02-01T00:00:00\",\"2007-03-01T00:00:00\",\"2007-04-01T00:00:00\",\"2007-05-01T00:00:00\",\"2007-06-01T00:00:00\",\"2007-07-01T00:00:00\",\"2007-08-01T00:00:00\",\"2007-09-01T00:00:00\",\"2007-10-01T00:00:00\",\"2007-11-01T00:00:00\",\"2007-12-01T00:00:00\",\"2008-01-01T00:00:00\",\"2008-02-01T00:00:00\",\"2008-03-01T00:00:00\",\"2008-04-01T00:00:00\",\"2008-05-01T00:00:00\",\"2008-06-01T00:00:00\",\"2008-07-01T00:00:00\",\"2008-08-01T00:00:00\",\"2008-09-01T00:00:00\",\"2008-10-01T00:00:00\",\"2008-11-01T00:00:00\",\"2008-12-01T00:00:00\",\"2009-01-01T00:00:00\",\"2009-02-01T00:00:00\",\"2009-03-01T00:00:00\",\"2009-04-01T00:00:00\",\"2009-05-01T00:00:00\",\"2009-06-01T00:00:00\",\"2009-07-01T00:00:00\",\"2009-08-01T00:00:00\",\"2009-09-01T00:00:00\",\"2009-10-01T00:00:00\",\"2009-11-01T00:00:00\",\"2009-12-01T00:00:00\",\"2010-01-01T00:00:00\",\"2010-02-01T00:00:00\",\"2010-03-01T00:00:00\",\"2010-04-01T00:00:00\",\"2010-05-01T00:00:00\",\"2010-06-01T00:00:00\",\"2010-07-01T00:00:00\",\"2010-08-01T00:00:00\",\"2010-09-01T00:00:00\",\"2010-10-01T00:00:00\",\"2010-11-01T00:00:00\",\"2010-12-01T00:00:00\",\"2011-01-01T00:00:00\",\"2011-02-01T00:00:00\",\"2011-03-01T00:00:00\",\"2011-04-01T00:00:00\",\"2011-05-01T00:00:00\",\"2011-06-01T00:00:00\",\"2011-07-01T00:00:00\",\"2011-08-01T00:00:00\",\"2011-09-01T00:00:00\",\"2011-10-01T00:00:00\",\"2011-11-01T00:00:00\",\"2011-12-01T00:00:00\",\"2012-01-01T00:00:00\",\"2012-02-01T00:00:00\",\"2012-03-01T00:00:00\",\"2012-04-01T00:00:00\",\"2012-05-01T00:00:00\",\"2012-06-01T00:00:00\",\"2012-07-01T00:00:00\",\"2012-08-01T00:00:00\",\"2012-09-01T00:00:00\",\"2012-10-01T00:00:00\",\"2012-11-01T00:00:00\",\"2012-12-01T00:00:00\",\"2013-01-01T00:00:00\",\"2013-02-01T00:00:00\",\"2013-03-01T00:00:00\",\"2013-04-01T00:00:00\",\"2013-05-01T00:00:00\",\"2013-06-01T00:00:00\",\"2013-07-01T00:00:00\",\"2013-08-01T00:00:00\",\"2013-09-01T00:00:00\",\"2013-10-01T00:00:00\",\"2013-11-01T00:00:00\",\"2013-12-01T00:00:00\",\"2014-01-01T00:00:00\",\"2014-02-01T00:00:00\",\"2014-03-01T00:00:00\",\"2014-04-01T00:00:00\",\"2014-05-01T00:00:00\",\"2014-06-01T00:00:00\",\"2014-07-01T00:00:00\",\"2014-08-01T00:00:00\",\"2014-09-01T00:00:00\",\"2014-10-01T00:00:00\",\"2014-11-01T00:00:00\",\"2014-12-01T00:00:00\",\"2015-01-01T00:00:00\",\"2015-02-01T00:00:00\",\"2015-03-01T00:00:00\",\"2015-04-01T00:00:00\",\"2015-05-01T00:00:00\",\"2015-06-01T00:00:00\",\"2015-07-01T00:00:00\",\"2015-08-01T00:00:00\",\"2015-09-01T00:00:00\",\"2015-10-01T00:00:00\",\"2015-11-01T00:00:00\",\"2015-12-01T00:00:00\",\"2016-01-01T00:00:00\",\"2016-02-01T00:00:00\",\"2016-03-01T00:00:00\",\"2016-04-01T00:00:00\",\"2016-05-01T00:00:00\",\"2016-06-01T00:00:00\",\"2016-07-01T00:00:00\",\"2016-08-01T00:00:00\",\"2016-09-01T00:00:00\",\"2016-10-01T00:00:00\",\"2016-11-01T00:00:00\",\"2016-12-01T00:00:00\",\"2017-01-01T00:00:00\",\"2017-02-01T00:00:00\",\"2017-03-01T00:00:00\"],\"y\":[150.18,148.54,175.0,187.5,195.12,216.97,233.42,219.81,141.68,120.0,130.0,125.92,120.35,120.35,116.89,116.89,116.89,118.65,118.65,118.65,91.71,91.71,91.71,86.54,86.54,86.54,86.54,86.54,86.54,86.54,86.54,86.54,86.54,86.54,86.54,86.54,86.54,86.54,168.65,168.65,168.65,230.74,230.74,230.74,153.75,153.75,153.75,149.39,149.39,149.39,136.06,136.06,136.06,142.43,142.43,142.43,142.43,142.43,142.43,142.43,142.43,142.43,112.92,112.92,112.92,112.92,112.92,112.92,112.92,112.92,112.92,112.92,112.92,156.73,164.21,148.56,174.0,179.0,205.03,223.86,169.59,150.38,152.0,155.0,149.46,145.92,145.92,145.92,145.92,145.92,194.0,173.91,134.59,128.74,125.77,180.72,160.95,162.13,167.93,189.68,184.56,198.47,194.87,181.2,137.26,136.02,153.29,176.67,164.02,155.77,164.05,184.84,181.27,180.19,182.55,173.21,156.24,137.11,171.01,199.36,197.82,192.81,199.54,216.91,231.69,231.69,261.31,241.78,206.25,184.12,224.63,236.39,230.1,230.53,244.55,257.85,264.71,261.74,298.77,269.68,197.58,184.29,220.1,221.49,205.45,206.96,208.65,206.11,206.0,205.15,193.67,175.4,181.4,171.91,171.91,171.91,155.72,146.75,142.49,151.0,151.0,157.0,145.0,147.0,150.0,143.0,143.0,143.0,141.0,123.0,123.0,151.0,178.0,168.0,168.0,193.0,189.0,189.0,126.0,126.0,193.0,202.0,248.0],\"type\":\"scatter\"},{\"mode\":\"lines\",\"name\":\"6 months Rolling mean adjust\",\"x\":[\"2002-01-01T00:00:00\",\"2002-02-01T00:00:00\",\"2002-03-01T00:00:00\",\"2002-04-01T00:00:00\",\"2002-05-01T00:00:00\",\"2002-06-01T00:00:00\",\"2002-07-01T00:00:00\",\"2002-08-01T00:00:00\",\"2002-09-01T00:00:00\",\"2002-10-01T00:00:00\",\"2002-11-01T00:00:00\",\"2002-12-01T00:00:00\",\"2003-01-01T00:00:00\",\"2003-02-01T00:00:00\",\"2003-03-01T00:00:00\",\"2003-04-01T00:00:00\",\"2003-05-01T00:00:00\",\"2003-06-01T00:00:00\",\"2003-07-01T00:00:00\",\"2003-08-01T00:00:00\",\"2003-09-01T00:00:00\",\"2003-10-01T00:00:00\",\"2003-11-01T00:00:00\",\"2003-12-01T00:00:00\",\"2004-01-01T00:00:00\",\"2004-02-01T00:00:00\",\"2004-03-01T00:00:00\",\"2004-04-01T00:00:00\",\"2004-05-01T00:00:00\",\"2004-06-01T00:00:00\",\"2004-07-01T00:00:00\",\"2004-08-01T00:00:00\",\"2004-09-01T00:00:00\",\"2004-10-01T00:00:00\",\"2004-11-01T00:00:00\",\"2004-12-01T00:00:00\",\"2005-01-01T00:00:00\",\"2005-02-01T00:00:00\",\"2005-03-01T00:00:00\",\"2005-04-01T00:00:00\",\"2005-05-01T00:00:00\",\"2005-06-01T00:00:00\",\"2005-07-01T00:00:00\",\"2005-08-01T00:00:00\",\"2005-09-01T00:00:00\",\"2005-10-01T00:00:00\",\"2005-11-01T00:00:00\",\"2005-12-01T00:00:00\",\"2006-01-01T00:00:00\",\"2006-02-01T00:00:00\",\"2006-03-01T00:00:00\",\"2006-04-01T00:00:00\",\"2006-05-01T00:00:00\",\"2006-06-01T00:00:00\",\"2006-07-01T00:00:00\",\"2006-08-01T00:00:00\",\"2006-09-01T00:00:00\",\"2006-10-01T00:00:00\",\"2006-11-01T00:00:00\",\"2006-12-01T00:00:00\",\"2007-01-01T00:00:00\",\"2007-02-01T00:00:00\",\"2007-03-01T00:00:00\",\"2007-04-01T00:00:00\",\"2007-05-01T00:00:00\",\"2007-06-01T00:00:00\",\"2007-07-01T00:00:00\",\"2007-08-01T00:00:00\",\"2007-09-01T00:00:00\",\"2007-10-01T00:00:00\",\"2007-11-01T00:00:00\",\"2007-12-01T00:00:00\",\"2008-01-01T00:00:00\",\"2008-02-01T00:00:00\",\"2008-03-01T00:00:00\",\"2008-04-01T00:00:00\",\"2008-05-01T00:00:00\",\"2008-06-01T00:00:00\",\"2008-07-01T00:00:00\",\"2008-08-01T00:00:00\",\"2008-09-01T00:00:00\",\"2008-10-01T00:00:00\",\"2008-11-01T00:00:00\",\"2008-12-01T00:00:00\",\"2009-01-01T00:00:00\",\"2009-02-01T00:00:00\",\"2009-03-01T00:00:00\",\"2009-04-01T00:00:00\",\"2009-05-01T00:00:00\",\"2009-06-01T00:00:00\",\"2009-07-01T00:00:00\",\"2009-08-01T00:00:00\",\"2009-09-01T00:00:00\",\"2009-10-01T00:00:00\",\"2009-11-01T00:00:00\",\"2009-12-01T00:00:00\",\"2010-01-01T00:00:00\",\"2010-02-01T00:00:00\",\"2010-03-01T00:00:00\",\"2010-04-01T00:00:00\",\"2010-05-01T00:00:00\",\"2010-06-01T00:00:00\",\"2010-07-01T00:00:00\",\"2010-08-01T00:00:00\",\"2010-09-01T00:00:00\",\"2010-10-01T00:00:00\",\"2010-11-01T00:00:00\",\"2010-12-01T00:00:00\",\"2011-01-01T00:00:00\",\"2011-02-01T00:00:00\",\"2011-03-01T00:00:00\",\"2011-04-01T00:00:00\",\"2011-05-01T00:00:00\",\"2011-06-01T00:00:00\",\"2011-07-01T00:00:00\",\"2011-08-01T00:00:00\",\"2011-09-01T00:00:00\",\"2011-10-01T00:00:00\",\"2011-11-01T00:00:00\",\"2011-12-01T00:00:00\",\"2012-01-01T00:00:00\",\"2012-02-01T00:00:00\",\"2012-03-01T00:00:00\",\"2012-04-01T00:00:00\",\"2012-05-01T00:00:00\",\"2012-06-01T00:00:00\",\"2012-07-01T00:00:00\",\"2012-08-01T00:00:00\",\"2012-09-01T00:00:00\",\"2012-10-01T00:00:00\",\"2012-11-01T00:00:00\",\"2012-12-01T00:00:00\",\"2013-01-01T00:00:00\",\"2013-02-01T00:00:00\",\"2013-03-01T00:00:00\",\"2013-04-01T00:00:00\",\"2013-05-01T00:00:00\",\"2013-06-01T00:00:00\",\"2013-07-01T00:00:00\",\"2013-08-01T00:00:00\",\"2013-09-01T00:00:00\",\"2013-10-01T00:00:00\",\"2013-11-01T00:00:00\",\"2013-12-01T00:00:00\",\"2014-01-01T00:00:00\",\"2014-02-01T00:00:00\",\"2014-03-01T00:00:00\",\"2014-04-01T00:00:00\",\"2014-05-01T00:00:00\",\"2014-06-01T00:00:00\",\"2014-07-01T00:00:00\",\"2014-08-01T00:00:00\",\"2014-09-01T00:00:00\",\"2014-10-01T00:00:00\",\"2014-11-01T00:00:00\",\"2014-12-01T00:00:00\",\"2015-01-01T00:00:00\",\"2015-02-01T00:00:00\",\"2015-03-01T00:00:00\",\"2015-04-01T00:00:00\",\"2015-05-01T00:00:00\",\"2015-06-01T00:00:00\",\"2015-07-01T00:00:00\",\"2015-08-01T00:00:00\",\"2015-09-01T00:00:00\",\"2015-10-01T00:00:00\",\"2015-11-01T00:00:00\",\"2015-12-01T00:00:00\",\"2016-01-01T00:00:00\",\"2016-02-01T00:00:00\",\"2016-03-01T00:00:00\",\"2016-04-01T00:00:00\",\"2016-05-01T00:00:00\",\"2016-06-01T00:00:00\",\"2016-07-01T00:00:00\",\"2016-08-01T00:00:00\",\"2016-09-01T00:00:00\",\"2016-10-01T00:00:00\",\"2016-11-01T00:00:00\",\"2016-12-01T00:00:00\",\"2017-01-01T00:00:00\",\"2017-02-01T00:00:00\",\"2017-03-01T00:00:00\"],\"y\":[150.18,148.54,175.0,187.5,195.12,216.97,233.42,219.81,141.68,120.0,130.0,125.92,120.35,120.35,116.89,116.89,116.89,118.65,118.65,118.65,91.71,91.71,91.71,86.54,86.54,86.54,86.54,86.54,86.54,86.54,86.54,86.54,86.54,86.54,86.54,86.54,86.54,86.54,168.65,168.65,168.65,230.74,230.74,230.74,153.75,153.75,153.75,149.39,149.39,149.39,136.06,136.06,136.06,142.43,142.43,142.43,142.43,142.43,142.43,142.43,142.43,142.43,112.92,112.92,112.92,112.92,112.92,112.92,112.92,112.92,112.92,112.92,112.92,156.73,164.21,148.56,174.0,179.0,205.03,223.86,169.59,150.38,152.0,155.0,149.46,145.92,145.92,145.92,145.92,145.92,194.0,173.91,134.59,128.74,125.77,180.72,160.95,162.13,167.93,189.68,184.56,198.47,194.87,181.2,137.26,136.02,153.29,176.67,164.02,155.77,164.05,184.84,181.27,180.19,182.55,173.21,156.24,137.11,171.01,199.36,197.82,192.81,199.54,216.91,231.69,231.69,261.31,241.78,206.25,184.12,224.63,236.39,230.1,230.53,244.55,257.85,264.71,261.74,298.77,269.68,197.58,184.29,220.1,221.49,205.45,206.96,208.65,206.11,206.0,205.15,193.67,175.4,181.4,171.91,171.91,171.91,155.72,146.75,142.49,151.0,151.0,157.0,145.0,147.0,150.0,143.0,143.0,143.0,141.0,123.0,123.0,151.0,178.0,168.0,168.0,193.0,189.0,189.0,126.0,126.0,193.0,202.0,248.0],\"type\":\"scatter\"},{\"mode\":\"lines\",\"name\":\"3 months Rolling mean adjust\",\"x\":[\"2002-01-01T00:00:00\",\"2002-02-01T00:00:00\",\"2002-03-01T00:00:00\",\"2002-04-01T00:00:00\",\"2002-05-01T00:00:00\",\"2002-06-01T00:00:00\",\"2002-07-01T00:00:00\",\"2002-08-01T00:00:00\",\"2002-09-01T00:00:00\",\"2002-10-01T00:00:00\",\"2002-11-01T00:00:00\",\"2002-12-01T00:00:00\",\"2003-01-01T00:00:00\",\"2003-02-01T00:00:00\",\"2003-03-01T00:00:00\",\"2003-04-01T00:00:00\",\"2003-05-01T00:00:00\",\"2003-06-01T00:00:00\",\"2003-07-01T00:00:00\",\"2003-08-01T00:00:00\",\"2003-09-01T00:00:00\",\"2003-10-01T00:00:00\",\"2003-11-01T00:00:00\",\"2003-12-01T00:00:00\",\"2004-01-01T00:00:00\",\"2004-02-01T00:00:00\",\"2004-03-01T00:00:00\",\"2004-04-01T00:00:00\",\"2004-05-01T00:00:00\",\"2004-06-01T00:00:00\",\"2004-07-01T00:00:00\",\"2004-08-01T00:00:00\",\"2004-09-01T00:00:00\",\"2004-10-01T00:00:00\",\"2004-11-01T00:00:00\",\"2004-12-01T00:00:00\",\"2005-01-01T00:00:00\",\"2005-02-01T00:00:00\",\"2005-03-01T00:00:00\",\"2005-04-01T00:00:00\",\"2005-05-01T00:00:00\",\"2005-06-01T00:00:00\",\"2005-07-01T00:00:00\",\"2005-08-01T00:00:00\",\"2005-09-01T00:00:00\",\"2005-10-01T00:00:00\",\"2005-11-01T00:00:00\",\"2005-12-01T00:00:00\",\"2006-01-01T00:00:00\",\"2006-02-01T00:00:00\",\"2006-03-01T00:00:00\",\"2006-04-01T00:00:00\",\"2006-05-01T00:00:00\",\"2006-06-01T00:00:00\",\"2006-07-01T00:00:00\",\"2006-08-01T00:00:00\",\"2006-09-01T00:00:00\",\"2006-10-01T00:00:00\",\"2006-11-01T00:00:00\",\"2006-12-01T00:00:00\",\"2007-01-01T00:00:00\",\"2007-02-01T00:00:00\",\"2007-03-01T00:00:00\",\"2007-04-01T00:00:00\",\"2007-05-01T00:00:00\",\"2007-06-01T00:00:00\",\"2007-07-01T00:00:00\",\"2007-08-01T00:00:00\",\"2007-09-01T00:00:00\",\"2007-10-01T00:00:00\",\"2007-11-01T00:00:00\",\"2007-12-01T00:00:00\",\"2008-01-01T00:00:00\",\"2008-02-01T00:00:00\",\"2008-03-01T00:00:00\",\"2008-04-01T00:00:00\",\"2008-05-01T00:00:00\",\"2008-06-01T00:00:00\",\"2008-07-01T00:00:00\",\"2008-08-01T00:00:00\",\"2008-09-01T00:00:00\",\"2008-10-01T00:00:00\",\"2008-11-01T00:00:00\",\"2008-12-01T00:00:00\",\"2009-01-01T00:00:00\",\"2009-02-01T00:00:00\",\"2009-03-01T00:00:00\",\"2009-04-01T00:00:00\",\"2009-05-01T00:00:00\",\"2009-06-01T00:00:00\",\"2009-07-01T00:00:00\",\"2009-08-01T00:00:00\",\"2009-09-01T00:00:00\",\"2009-10-01T00:00:00\",\"2009-11-01T00:00:00\",\"2009-12-01T00:00:00\",\"2010-01-01T00:00:00\",\"2010-02-01T00:00:00\",\"2010-03-01T00:00:00\",\"2010-04-01T00:00:00\",\"2010-05-01T00:00:00\",\"2010-06-01T00:00:00\",\"2010-07-01T00:00:00\",\"2010-08-01T00:00:00\",\"2010-09-01T00:00:00\",\"2010-10-01T00:00:00\",\"2010-11-01T00:00:00\",\"2010-12-01T00:00:00\",\"2011-01-01T00:00:00\",\"2011-02-01T00:00:00\",\"2011-03-01T00:00:00\",\"2011-04-01T00:00:00\",\"2011-05-01T00:00:00\",\"2011-06-01T00:00:00\",\"2011-07-01T00:00:00\",\"2011-08-01T00:00:00\",\"2011-09-01T00:00:00\",\"2011-10-01T00:00:00\",\"2011-11-01T00:00:00\",\"2011-12-01T00:00:00\",\"2012-01-01T00:00:00\",\"2012-02-01T00:00:00\",\"2012-03-01T00:00:00\",\"2012-04-01T00:00:00\",\"2012-05-01T00:00:00\",\"2012-06-01T00:00:00\",\"2012-07-01T00:00:00\",\"2012-08-01T00:00:00\",\"2012-09-01T00:00:00\",\"2012-10-01T00:00:00\",\"2012-11-01T00:00:00\",\"2012-12-01T00:00:00\",\"2013-01-01T00:00:00\",\"2013-02-01T00:00:00\",\"2013-03-01T00:00:00\",\"2013-04-01T00:00:00\",\"2013-05-01T00:00:00\",\"2013-06-01T00:00:00\",\"2013-07-01T00:00:00\",\"2013-08-01T00:00:00\",\"2013-09-01T00:00:00\",\"2013-10-01T00:00:00\",\"2013-11-01T00:00:00\",\"2013-12-01T00:00:00\",\"2014-01-01T00:00:00\",\"2014-02-01T00:00:00\",\"2014-03-01T00:00:00\",\"2014-04-01T00:00:00\",\"2014-05-01T00:00:00\",\"2014-06-01T00:00:00\",\"2014-07-01T00:00:00\",\"2014-08-01T00:00:00\",\"2014-09-01T00:00:00\",\"2014-10-01T00:00:00\",\"2014-11-01T00:00:00\",\"2014-12-01T00:00:00\",\"2015-01-01T00:00:00\",\"2015-02-01T00:00:00\",\"2015-03-01T00:00:00\",\"2015-04-01T00:00:00\",\"2015-05-01T00:00:00\",\"2015-06-01T00:00:00\",\"2015-07-01T00:00:00\",\"2015-08-01T00:00:00\",\"2015-09-01T00:00:00\",\"2015-10-01T00:00:00\",\"2015-11-01T00:00:00\",\"2015-12-01T00:00:00\",\"2016-01-01T00:00:00\",\"2016-02-01T00:00:00\",\"2016-03-01T00:00:00\",\"2016-04-01T00:00:00\",\"2016-05-01T00:00:00\",\"2016-06-01T00:00:00\",\"2016-07-01T00:00:00\",\"2016-08-01T00:00:00\",\"2016-09-01T00:00:00\",\"2016-10-01T00:00:00\",\"2016-11-01T00:00:00\",\"2016-12-01T00:00:00\",\"2017-01-01T00:00:00\",\"2017-02-01T00:00:00\",\"2017-03-01T00:00:00\"],\"y\":[150.18,148.54,175.0,187.5,195.12,216.97,233.42,219.81,141.68,120.0,130.0,125.92,120.35,120.35,116.89,116.89,116.89,118.65,118.65,118.65,91.71,91.71,91.71,86.54,86.54,86.54,86.54,86.54,86.54,86.54,86.54,86.54,86.54,86.54,86.54,86.54,86.54,86.54,168.65,168.65,168.65,230.74,230.74,230.74,153.75,153.75,153.75,149.39,149.39,149.39,136.06,136.06,136.06,142.43,142.43,142.43,142.43,142.43,142.43,142.43,142.43,142.43,112.92,112.92,112.92,112.92,112.92,112.92,112.92,112.92,112.92,112.92,112.92,156.73,164.21,148.56,174.0,179.0,205.03,223.86,169.59,150.38,152.0,155.0,149.46,145.92,145.92,145.92,145.92,145.92,194.0,173.91,134.59,128.74,125.77,180.72,160.95,162.13,167.93,189.68,184.56,198.47,194.87,181.2,137.26,136.02,153.29,176.67,164.02,155.77,164.05,184.84,181.27,180.19,182.55,173.21,156.24,137.11,171.01,199.36,197.82,192.81,199.54,216.91,231.69,231.69,261.31,241.78,206.25,184.12,224.63,236.39,230.1,230.53,244.55,257.85,264.71,261.74,298.77,269.68,197.58,184.29,220.1,221.49,205.45,206.96,208.65,206.11,206.0,205.15,193.67,175.4,181.4,171.91,171.91,171.91,155.72,146.75,142.49,151.0,151.0,157.0,145.0,147.0,150.0,143.0,143.0,143.0,141.0,123.0,123.0,151.0,178.0,168.0,168.0,193.0,189.0,189.0,126.0,126.0,193.0,202.0,248.0],\"type\":\"scatter\"},{\"mode\":\"lines\",\"name\":\"Interpolate\",\"x\":[\"2002-01-01T00:00:00\",\"2002-02-01T00:00:00\",\"2002-03-01T00:00:00\",\"2002-04-01T00:00:00\",\"2002-05-01T00:00:00\",\"2002-06-01T00:00:00\",\"2002-07-01T00:00:00\",\"2002-08-01T00:00:00\",\"2002-09-01T00:00:00\",\"2002-10-01T00:00:00\",\"2002-11-01T00:00:00\",\"2002-12-01T00:00:00\",\"2003-01-01T00:00:00\",\"2003-02-01T00:00:00\",\"2003-03-01T00:00:00\",\"2003-04-01T00:00:00\",\"2003-05-01T00:00:00\",\"2003-06-01T00:00:00\",\"2003-07-01T00:00:00\",\"2003-08-01T00:00:00\",\"2003-09-01T00:00:00\",\"2003-10-01T00:00:00\",\"2003-11-01T00:00:00\",\"2003-12-01T00:00:00\",\"2004-01-01T00:00:00\",\"2004-02-01T00:00:00\",\"2004-03-01T00:00:00\",\"2004-04-01T00:00:00\",\"2004-05-01T00:00:00\",\"2004-06-01T00:00:00\",\"2004-07-01T00:00:00\",\"2004-08-01T00:00:00\",\"2004-09-01T00:00:00\",\"2004-10-01T00:00:00\",\"2004-11-01T00:00:00\",\"2004-12-01T00:00:00\",\"2005-01-01T00:00:00\",\"2005-02-01T00:00:00\",\"2005-03-01T00:00:00\",\"2005-04-01T00:00:00\",\"2005-05-01T00:00:00\",\"2005-06-01T00:00:00\",\"2005-07-01T00:00:00\",\"2005-08-01T00:00:00\",\"2005-09-01T00:00:00\",\"2005-10-01T00:00:00\",\"2005-11-01T00:00:00\",\"2005-12-01T00:00:00\",\"2006-01-01T00:00:00\",\"2006-02-01T00:00:00\",\"2006-03-01T00:00:00\",\"2006-04-01T00:00:00\",\"2006-05-01T00:00:00\",\"2006-06-01T00:00:00\",\"2006-07-01T00:00:00\",\"2006-08-01T00:00:00\",\"2006-09-01T00:00:00\",\"2006-10-01T00:00:00\",\"2006-11-01T00:00:00\",\"2006-12-01T00:00:00\",\"2007-01-01T00:00:00\",\"2007-02-01T00:00:00\",\"2007-03-01T00:00:00\",\"2007-04-01T00:00:00\",\"2007-05-01T00:00:00\",\"2007-06-01T00:00:00\",\"2007-07-01T00:00:00\",\"2007-08-01T00:00:00\",\"2007-09-01T00:00:00\",\"2007-10-01T00:00:00\",\"2007-11-01T00:00:00\",\"2007-12-01T00:00:00\",\"2008-01-01T00:00:00\",\"2008-02-01T00:00:00\",\"2008-03-01T00:00:00\",\"2008-04-01T00:00:00\",\"2008-05-01T00:00:00\",\"2008-06-01T00:00:00\",\"2008-07-01T00:00:00\",\"2008-08-01T00:00:00\",\"2008-09-01T00:00:00\",\"2008-10-01T00:00:00\",\"2008-11-01T00:00:00\",\"2008-12-01T00:00:00\",\"2009-01-01T00:00:00\",\"2009-02-01T00:00:00\",\"2009-03-01T00:00:00\",\"2009-04-01T00:00:00\",\"2009-05-01T00:00:00\",\"2009-06-01T00:00:00\",\"2009-07-01T00:00:00\",\"2009-08-01T00:00:00\",\"2009-09-01T00:00:00\",\"2009-10-01T00:00:00\",\"2009-11-01T00:00:00\",\"2009-12-01T00:00:00\",\"2010-01-01T00:00:00\",\"2010-02-01T00:00:00\",\"2010-03-01T00:00:00\",\"2010-04-01T00:00:00\",\"2010-05-01T00:00:00\",\"2010-06-01T00:00:00\",\"2010-07-01T00:00:00\",\"2010-08-01T00:00:00\",\"2010-09-01T00:00:00\",\"2010-10-01T00:00:00\",\"2010-11-01T00:00:00\",\"2010-12-01T00:00:00\",\"2011-01-01T00:00:00\",\"2011-02-01T00:00:00\",\"2011-03-01T00:00:00\",\"2011-04-01T00:00:00\",\"2011-05-01T00:00:00\",\"2011-06-01T00:00:00\",\"2011-07-01T00:00:00\",\"2011-08-01T00:00:00\",\"2011-09-01T00:00:00\",\"2011-10-01T00:00:00\",\"2011-11-01T00:00:00\",\"2011-12-01T00:00:00\",\"2012-01-01T00:00:00\",\"2012-02-01T00:00:00\",\"2012-03-01T00:00:00\",\"2012-04-01T00:00:00\",\"2012-05-01T00:00:00\",\"2012-06-01T00:00:00\",\"2012-07-01T00:00:00\",\"2012-08-01T00:00:00\",\"2012-09-01T00:00:00\",\"2012-10-01T00:00:00\",\"2012-11-01T00:00:00\",\"2012-12-01T00:00:00\",\"2013-01-01T00:00:00\",\"2013-02-01T00:00:00\",\"2013-03-01T00:00:00\",\"2013-04-01T00:00:00\",\"2013-05-01T00:00:00\",\"2013-06-01T00:00:00\",\"2013-07-01T00:00:00\",\"2013-08-01T00:00:00\",\"2013-09-01T00:00:00\",\"2013-10-01T00:00:00\",\"2013-11-01T00:00:00\",\"2013-12-01T00:00:00\",\"2014-01-01T00:00:00\",\"2014-02-01T00:00:00\",\"2014-03-01T00:00:00\",\"2014-04-01T00:00:00\",\"2014-05-01T00:00:00\",\"2014-06-01T00:00:00\",\"2014-07-01T00:00:00\",\"2014-08-01T00:00:00\",\"2014-09-01T00:00:00\",\"2014-10-01T00:00:00\",\"2014-11-01T00:00:00\",\"2014-12-01T00:00:00\",\"2015-01-01T00:00:00\",\"2015-02-01T00:00:00\",\"2015-03-01T00:00:00\",\"2015-04-01T00:00:00\",\"2015-05-01T00:00:00\",\"2015-06-01T00:00:00\",\"2015-07-01T00:00:00\",\"2015-08-01T00:00:00\",\"2015-09-01T00:00:00\",\"2015-10-01T00:00:00\",\"2015-11-01T00:00:00\",\"2015-12-01T00:00:00\",\"2016-01-01T00:00:00\",\"2016-02-01T00:00:00\",\"2016-03-01T00:00:00\",\"2016-04-01T00:00:00\",\"2016-05-01T00:00:00\",\"2016-06-01T00:00:00\",\"2016-07-01T00:00:00\",\"2016-08-01T00:00:00\",\"2016-09-01T00:00:00\",\"2016-10-01T00:00:00\",\"2016-11-01T00:00:00\",\"2016-12-01T00:00:00\",\"2017-01-01T00:00:00\",\"2017-02-01T00:00:00\",\"2017-03-01T00:00:00\"],\"y\":[150.18,148.54,175.0,187.5,195.12,216.97,233.42,219.81,141.68,120.0,130.0,125.92,120.35,118.53203389830506,116.89,117.48304347826088,118.05695652173915,118.65,109.86521739130436,100.78760869565218,91.71,90.0056043956044,88.2443956043956,86.54,92.12203947368423,97.70407894736843,102.92598684210527,108.5080263157895,113.91000000000003,119.49203947368423,124.89401315789475,130.47605263157897,136.05809210526317,141.4600657894737,147.0421052631579,152.44407894736844,158.02611842105264,163.60815789473685,168.65,189.57163043478263,209.81836956521744,230.74,205.63456521739135,179.69228260869568,153.75,152.31263736263736,150.82736263736263,149.39,144.79855555555554,140.20711111111112,136.06,138.20641304347828,140.28358695652176,142.43,139.18714285714285,135.8361904761905,132.4852380952381,129.24238095238096,125.89142857142858,122.64857142857143,119.29761904761905,115.94666666666666,112.92,116.95,120.85000000000001,124.88,128.78,132.81,136.84,140.74,144.76999999999998,148.67000000000002,152.7,156.73,164.21,148.56,174.0,179.0,205.03,223.86,169.59,150.38,152.0,155.0,149.46,145.92,154.8949333333333,164.83146666666667,174.44746666666666,184.38400000000001,194.0,173.91,134.59,128.74,125.77,180.72,160.95,162.13,167.93,189.68,184.56,198.47,194.87,181.2,137.26,136.02,153.29,176.67,164.02,155.77,164.05,184.84,181.27,180.19,182.55,173.21,156.24,137.11,171.01,199.36,197.82,192.81,199.54,216.91,231.69,246.7427868852459,261.31,241.78,206.25,184.12,224.63,236.39,230.1,230.53,244.55,257.85,264.71,261.74,298.77,269.68,197.58,184.29,220.1,221.49,205.45,206.96,208.65,206.11,206.0,205.15,193.67,175.4,181.4,171.91,166.4546739130435,161.17532608695655,155.72,146.75,142.49,151.0,151.0,157.0,145.0,147.0,150.0,143.0,142.32608695652175,141.67391304347828,141.0,123.0,136.53333333333333,151.0,178.0,168.0,168.0,193.0,189.0,189.0,126.0,158.95081967213116,193.0,202.0,248.0],\"type\":\"scatter\"}],                        {\"template\":{\"data\":{\"histogram2dcontour\":[{\"type\":\"histogram2dcontour\",\"colorbar\":{\"outlinewidth\":0,\"ticks\":\"\"},\"colorscale\":[[0.0,\"#0d0887\"],[0.1111111111111111,\"#46039f\"],[0.2222222222222222,\"#7201a8\"],[0.3333333333333333,\"#9c179e\"],[0.4444444444444444,\"#bd3786\"],[0.5555555555555556,\"#d8576b\"],[0.6666666666666666,\"#ed7953\"],[0.7777777777777778,\"#fb9f3a\"],[0.8888888888888888,\"#fdca26\"],[1.0,\"#f0f921\"]]}],\"choropleth\":[{\"type\":\"choropleth\",\"colorbar\":{\"outlinewidth\":0,\"ticks\":\"\"}}],\"histogram2d\":[{\"type\":\"histogram2d\",\"colorbar\":{\"outlinewidth\":0,\"ticks\":\"\"},\"colorscale\":[[0.0,\"#0d0887\"],[0.1111111111111111,\"#46039f\"],[0.2222222222222222,\"#7201a8\"],[0.3333333333333333,\"#9c179e\"],[0.4444444444444444,\"#bd3786\"],[0.5555555555555556,\"#d8576b\"],[0.6666666666666666,\"#ed7953\"],[0.7777777777777778,\"#fb9f3a\"],[0.8888888888888888,\"#fdca26\"],[1.0,\"#f0f921\"]]}],\"heatmap\":[{\"type\":\"heatmap\",\"colorbar\":{\"outlinewidth\":0,\"ticks\":\"\"},\"colorscale\":[[0.0,\"#0d0887\"],[0.1111111111111111,\"#46039f\"],[0.2222222222222222,\"#7201a8\"],[0.3333333333333333,\"#9c179e\"],[0.4444444444444444,\"#bd3786\"],[0.5555555555555556,\"#d8576b\"],[0.6666666666666666,\"#ed7953\"],[0.7777777777777778,\"#fb9f3a\"],[0.8888888888888888,\"#fdca26\"],[1.0,\"#f0f921\"]]}],\"heatmapgl\":[{\"type\":\"heatmapgl\",\"colorbar\":{\"outlinewidth\":0,\"ticks\":\"\"},\"colorscale\":[[0.0,\"#0d0887\"],[0.1111111111111111,\"#46039f\"],[0.2222222222222222,\"#7201a8\"],[0.3333333333333333,\"#9c179e\"],[0.4444444444444444,\"#bd3786\"],[0.5555555555555556,\"#d8576b\"],[0.6666666666666666,\"#ed7953\"],[0.7777777777777778,\"#fb9f3a\"],[0.8888888888888888,\"#fdca26\"],[1.0,\"#f0f921\"]]}],\"contourcarpet\":[{\"type\":\"contourcarpet\",\"colorbar\":{\"outlinewidth\":0,\"ticks\":\"\"}}],\"contour\":[{\"type\":\"contour\",\"colorbar\":{\"outlinewidth\":0,\"ticks\":\"\"},\"colorscale\":[[0.0,\"#0d0887\"],[0.1111111111111111,\"#46039f\"],[0.2222222222222222,\"#7201a8\"],[0.3333333333333333,\"#9c179e\"],[0.4444444444444444,\"#bd3786\"],[0.5555555555555556,\"#d8576b\"],[0.6666666666666666,\"#ed7953\"],[0.7777777777777778,\"#fb9f3a\"],[0.8888888888888888,\"#fdca26\"],[1.0,\"#f0f921\"]]}],\"surface\":[{\"type\":\"surface\",\"colorbar\":{\"outlinewidth\":0,\"ticks\":\"\"},\"colorscale\":[[0.0,\"#0d0887\"],[0.1111111111111111,\"#46039f\"],[0.2222222222222222,\"#7201a8\"],[0.3333333333333333,\"#9c179e\"],[0.4444444444444444,\"#bd3786\"],[0.5555555555555556,\"#d8576b\"],[0.6666666666666666,\"#ed7953\"],[0.7777777777777778,\"#fb9f3a\"],[0.8888888888888888,\"#fdca26\"],[1.0,\"#f0f921\"]]}],\"mesh3d\":[{\"type\":\"mesh3d\",\"colorbar\":{\"outlinewidth\":0,\"ticks\":\"\"}}],\"scatter\":[{\"marker\":{\"line\":{\"color\":\"#283442\"}},\"type\":\"scatter\"}],\"parcoords\":[{\"type\":\"parcoords\",\"line\":{\"colorbar\":{\"outlinewidth\":0,\"ticks\":\"\"}}}],\"scatterpolargl\":[{\"type\":\"scatterpolargl\",\"marker\":{\"colorbar\":{\"outlinewidth\":0,\"ticks\":\"\"}}}],\"bar\":[{\"error_x\":{\"color\":\"#f2f5fa\"},\"error_y\":{\"color\":\"#f2f5fa\"},\"marker\":{\"line\":{\"color\":\"rgb(17,17,17)\",\"width\":0.5},\"pattern\":{\"fillmode\":\"overlay\",\"size\":10,\"solidity\":0.2}},\"type\":\"bar\"}],\"scattergeo\":[{\"type\":\"scattergeo\",\"marker\":{\"colorbar\":{\"outlinewidth\":0,\"ticks\":\"\"}}}],\"scatterpolar\":[{\"type\":\"scatterpolar\",\"marker\":{\"colorbar\":{\"outlinewidth\":0,\"ticks\":\"\"}}}],\"histogram\":[{\"marker\":{\"pattern\":{\"fillmode\":\"overlay\",\"size\":10,\"solidity\":0.2}},\"type\":\"histogram\"}],\"scattergl\":[{\"marker\":{\"line\":{\"color\":\"#283442\"}},\"type\":\"scattergl\"}],\"scatter3d\":[{\"type\":\"scatter3d\",\"line\":{\"colorbar\":{\"outlinewidth\":0,\"ticks\":\"\"}},\"marker\":{\"colorbar\":{\"outlinewidth\":0,\"ticks\":\"\"}}}],\"scattermapbox\":[{\"type\":\"scattermapbox\",\"marker\":{\"colorbar\":{\"outlinewidth\":0,\"ticks\":\"\"}}}],\"scatterternary\":[{\"type\":\"scatterternary\",\"marker\":{\"colorbar\":{\"outlinewidth\":0,\"ticks\":\"\"}}}],\"scattercarpet\":[{\"type\":\"scattercarpet\",\"marker\":{\"colorbar\":{\"outlinewidth\":0,\"ticks\":\"\"}}}],\"carpet\":[{\"aaxis\":{\"endlinecolor\":\"#A2B1C6\",\"gridcolor\":\"#506784\",\"linecolor\":\"#506784\",\"minorgridcolor\":\"#506784\",\"startlinecolor\":\"#A2B1C6\"},\"baxis\":{\"endlinecolor\":\"#A2B1C6\",\"gridcolor\":\"#506784\",\"linecolor\":\"#506784\",\"minorgridcolor\":\"#506784\",\"startlinecolor\":\"#A2B1C6\"},\"type\":\"carpet\"}],\"table\":[{\"cells\":{\"fill\":{\"color\":\"#506784\"},\"line\":{\"color\":\"rgb(17,17,17)\"}},\"header\":{\"fill\":{\"color\":\"#2a3f5f\"},\"line\":{\"color\":\"rgb(17,17,17)\"}},\"type\":\"table\"}],\"barpolar\":[{\"marker\":{\"line\":{\"color\":\"rgb(17,17,17)\",\"width\":0.5},\"pattern\":{\"fillmode\":\"overlay\",\"size\":10,\"solidity\":0.2}},\"type\":\"barpolar\"}],\"pie\":[{\"automargin\":true,\"type\":\"pie\"}]},\"layout\":{\"autotypenumbers\":\"strict\",\"colorway\":[\"#636efa\",\"#EF553B\",\"#00cc96\",\"#ab63fa\",\"#FFA15A\",\"#19d3f3\",\"#FF6692\",\"#B6E880\",\"#FF97FF\",\"#FECB52\"],\"font\":{\"color\":\"#f2f5fa\"},\"hovermode\":\"closest\",\"hoverlabel\":{\"align\":\"left\"},\"paper_bgcolor\":\"rgb(17,17,17)\",\"plot_bgcolor\":\"rgb(17,17,17)\",\"polar\":{\"bgcolor\":\"rgb(17,17,17)\",\"angularaxis\":{\"gridcolor\":\"#506784\",\"linecolor\":\"#506784\",\"ticks\":\"\"},\"radialaxis\":{\"gridcolor\":\"#506784\",\"linecolor\":\"#506784\",\"ticks\":\"\"}},\"ternary\":{\"bgcolor\":\"rgb(17,17,17)\",\"aaxis\":{\"gridcolor\":\"#506784\",\"linecolor\":\"#506784\",\"ticks\":\"\"},\"baxis\":{\"gridcolor\":\"#506784\",\"linecolor\":\"#506784\",\"ticks\":\"\"},\"caxis\":{\"gridcolor\":\"#506784\",\"linecolor\":\"#506784\",\"ticks\":\"\"}},\"coloraxis\":{\"colorbar\":{\"outlinewidth\":0,\"ticks\":\"\"}},\"colorscale\":{\"sequential\":[[0.0,\"#0d0887\"],[0.1111111111111111,\"#46039f\"],[0.2222222222222222,\"#7201a8\"],[0.3333333333333333,\"#9c179e\"],[0.4444444444444444,\"#bd3786\"],[0.5555555555555556,\"#d8576b\"],[0.6666666666666666,\"#ed7953\"],[0.7777777777777778,\"#fb9f3a\"],[0.8888888888888888,\"#fdca26\"],[1.0,\"#f0f921\"]],\"sequentialminus\":[[0.0,\"#0d0887\"],[0.1111111111111111,\"#46039f\"],[0.2222222222222222,\"#7201a8\"],[0.3333333333333333,\"#9c179e\"],[0.4444444444444444,\"#bd3786\"],[0.5555555555555556,\"#d8576b\"],[0.6666666666666666,\"#ed7953\"],[0.7777777777777778,\"#fb9f3a\"],[0.8888888888888888,\"#fdca26\"],[1.0,\"#f0f921\"]],\"diverging\":[[0,\"#8e0152\"],[0.1,\"#c51b7d\"],[0.2,\"#de77ae\"],[0.3,\"#f1b6da\"],[0.4,\"#fde0ef\"],[0.5,\"#f7f7f7\"],[0.6,\"#e6f5d0\"],[0.7,\"#b8e186\"],[0.8,\"#7fbc41\"],[0.9,\"#4d9221\"],[1,\"#276419\"]]},\"xaxis\":{\"gridcolor\":\"#283442\",\"linecolor\":\"#506784\",\"ticks\":\"\",\"title\":{\"standoff\":15},\"zerolinecolor\":\"#283442\",\"automargin\":true,\"zerolinewidth\":2},\"yaxis\":{\"gridcolor\":\"#283442\",\"linecolor\":\"#506784\",\"ticks\":\"\",\"title\":{\"standoff\":15},\"zerolinecolor\":\"#283442\",\"automargin\":true,\"zerolinewidth\":2},\"scene\":{\"xaxis\":{\"backgroundcolor\":\"rgb(17,17,17)\",\"gridcolor\":\"#506784\",\"linecolor\":\"#506784\",\"showbackground\":true,\"ticks\":\"\",\"zerolinecolor\":\"#C8D4E3\",\"gridwidth\":2},\"yaxis\":{\"backgroundcolor\":\"rgb(17,17,17)\",\"gridcolor\":\"#506784\",\"linecolor\":\"#506784\",\"showbackground\":true,\"ticks\":\"\",\"zerolinecolor\":\"#C8D4E3\",\"gridwidth\":2},\"zaxis\":{\"backgroundcolor\":\"rgb(17,17,17)\",\"gridcolor\":\"#506784\",\"linecolor\":\"#506784\",\"showbackground\":true,\"ticks\":\"\",\"zerolinecolor\":\"#C8D4E3\",\"gridwidth\":2}},\"shapedefaults\":{\"line\":{\"color\":\"#f2f5fa\"}},\"annotationdefaults\":{\"arrowcolor\":\"#f2f5fa\",\"arrowhead\":0,\"arrowwidth\":1},\"geo\":{\"bgcolor\":\"rgb(17,17,17)\",\"landcolor\":\"rgb(17,17,17)\",\"subunitcolor\":\"#506784\",\"showland\":true,\"showlakes\":true,\"lakecolor\":\"rgb(17,17,17)\"},\"title\":{\"x\":0.05},\"updatemenudefaults\":{\"bgcolor\":\"#506784\",\"borderwidth\":0},\"sliderdefaults\":{\"bgcolor\":\"#C8D4E3\",\"borderwidth\":1,\"bordercolor\":\"rgb(17,17,17)\",\"tickwidth\":0},\"mapbox\":{\"style\":\"dark\"}}},\"title\":{\"text\":\"Multiple approaches to overwrite NAN\"},\"xaxis\":{\"title\":{\"text\":\"Date\"}},\"yaxis\":{\"title\":{\"text\":\"Price\"}}},                        {\"responsive\": true}                    ).then(function(){\n",
       "                            \n",
       "var gd = document.getElementById('4155ad99-83d2-4597-a690-489de0886a2e');\n",
       "var x = new MutationObserver(function (mutations, observer) {{\n",
       "        var display = window.getComputedStyle(gd).display;\n",
       "        if (!display || display === 'none') {{\n",
       "            console.log([gd, 'removed!']);\n",
       "            Plotly.purge(gd);\n",
       "            observer.disconnect();\n",
       "        }}\n",
       "}});\n",
       "\n",
       "// Listen for the removal of the full notebook cells\n",
       "var notebookContainer = gd.closest('#notebook-container');\n",
       "if (notebookContainer) {{\n",
       "    x.observe(notebookContainer, {childList: true});\n",
       "}}\n",
       "\n",
       "// Listen for the clearing of the current output cell\n",
       "var outputEl = gd.closest('.output');\n",
       "if (outputEl) {{\n",
       "    x.observe(outputEl, {childList: true});\n",
       "}}\n",
       "\n",
       "                        })                };                });            </script>        </div>"
      ]
     },
     "metadata": {},
     "output_type": "display_data"
    }
   ],
   "execution_count": 75
  },
  {
   "metadata": {
    "ExecuteTime": {
     "end_time": "2024-08-26T22:32:42.263768Z",
     "start_time": "2024-08-26T22:32:42.229659Z"
    }
   },
   "cell_type": "code",
   "source": [
    "fig = go.Figure()\n",
    "\n",
    "# Adicionar traços para cada DataFrame\n",
    "fig.add_trace(go.Scatter(x=dataframe_to_adjust['date'], y=dataframe_to_adjust['usdprice'], mode='lines', name='Raw dataset'))\n",
    "fig.add_trace(go.Scatter(x=dataframe_adjusted_mean['date'], y=dataframe_adjusted_mean['usdprice'], mode='lines', name='Mean adjust'))\n",
    "fig.add_trace(go.Scatter(x=dataframe_adjusted_rolling_12_months['date'], y=dataframe_adjusted_rolling_12_months['usdprice'], mode='lines', name='12 months Rolling mean adjust'))\n",
    "fig.add_trace(go.Scatter(x=dataframe_adjusted_rolling_6_months['date'], y=dataframe_adjusted_rolling_6_months['usdprice'], mode='lines', name='6 months Rolling mean adjust'))\n",
    "fig.add_trace(go.Scatter(x=dataframe_adjusted_rolling_3_months['date'], y=dataframe_adjusted_rolling_3_months['usdprice'], mode='lines', name='3 months Rolling mean adjust'))\n",
    "fig.add_trace(go.Scatter(x=dataframe_adjusted_interpolate['date'], y=dataframe_adjusted_interpolate['usdprice'], mode='lines', name='Interpolate'))\n",
    "# Adicionar título e rótulos dos eixos\n",
    "fig.update_layout(title='Multiple approaches to overwrite NAN',\n",
    "                  xaxis_title='Date',\n",
    "                  yaxis_title='Value')\n",
    "\n",
    "# Mostrar o gráfico\n",
    "fig.show()\n"
   ],
   "id": "26eb857e5dca84fa",
   "outputs": [
    {
     "data": {
      "application/vnd.plotly.v1+json": {
       "data": [
        {
         "mode": "lines",
         "name": "Raw dataset",
         "x": [
          "2002-01-01T00:00:00",
          "2002-02-01T00:00:00",
          "2002-03-01T00:00:00",
          "2002-04-01T00:00:00",
          "2002-05-01T00:00:00",
          "2002-06-01T00:00:00",
          "2002-07-01T00:00:00",
          "2002-08-01T00:00:00",
          "2002-09-01T00:00:00",
          "2002-10-01T00:00:00",
          "2002-11-01T00:00:00",
          "2002-12-01T00:00:00",
          "2003-01-01T00:00:00",
          "2003-03-01T00:00:00",
          "2003-06-01T00:00:00",
          "2003-09-01T00:00:00",
          "2003-12-01T00:00:00",
          "2005-03-01T00:00:00",
          "2005-06-01T00:00:00",
          "2005-09-01T00:00:00",
          "2005-12-01T00:00:00",
          "2006-03-01T00:00:00",
          "2006-06-01T00:00:00",
          "2007-03-01T00:00:00",
          "2008-02-01T00:00:00",
          "2008-03-01T00:00:00",
          "2008-04-01T00:00:00",
          "2008-05-01T00:00:00",
          "2008-06-01T00:00:00",
          "2008-07-01T00:00:00",
          "2008-08-01T00:00:00",
          "2008-09-01T00:00:00",
          "2008-10-01T00:00:00",
          "2008-11-01T00:00:00",
          "2008-12-01T00:00:00",
          "2009-01-01T00:00:00",
          "2009-02-01T00:00:00",
          "2009-07-01T00:00:00",
          "2009-08-01T00:00:00",
          "2009-09-01T00:00:00",
          "2009-10-01T00:00:00",
          "2009-11-01T00:00:00",
          "2009-12-01T00:00:00",
          "2010-01-01T00:00:00",
          "2010-02-01T00:00:00",
          "2010-03-01T00:00:00",
          "2010-04-01T00:00:00",
          "2010-05-01T00:00:00",
          "2010-06-01T00:00:00",
          "2010-07-01T00:00:00",
          "2010-08-01T00:00:00",
          "2010-09-01T00:00:00",
          "2010-10-01T00:00:00",
          "2010-11-01T00:00:00",
          "2010-12-01T00:00:00",
          "2011-01-01T00:00:00",
          "2011-02-01T00:00:00",
          "2011-03-01T00:00:00",
          "2011-04-01T00:00:00",
          "2011-05-01T00:00:00",
          "2011-06-01T00:00:00",
          "2011-07-01T00:00:00",
          "2011-08-01T00:00:00",
          "2011-09-01T00:00:00",
          "2011-10-01T00:00:00",
          "2011-11-01T00:00:00",
          "2011-12-01T00:00:00",
          "2012-01-01T00:00:00",
          "2012-02-01T00:00:00",
          "2012-03-01T00:00:00",
          "2012-04-01T00:00:00",
          "2012-05-01T00:00:00",
          "2012-07-01T00:00:00",
          "2012-08-01T00:00:00",
          "2012-09-01T00:00:00",
          "2012-10-01T00:00:00",
          "2012-11-01T00:00:00",
          "2012-12-01T00:00:00",
          "2013-01-01T00:00:00",
          "2013-02-01T00:00:00",
          "2013-03-01T00:00:00",
          "2013-04-01T00:00:00",
          "2013-05-01T00:00:00",
          "2013-06-01T00:00:00",
          "2013-07-01T00:00:00",
          "2013-08-01T00:00:00",
          "2013-09-01T00:00:00",
          "2013-10-01T00:00:00",
          "2013-11-01T00:00:00",
          "2013-12-01T00:00:00",
          "2014-01-01T00:00:00",
          "2014-02-01T00:00:00",
          "2014-03-01T00:00:00",
          "2014-04-01T00:00:00",
          "2014-05-01T00:00:00",
          "2014-06-01T00:00:00",
          "2014-07-01T00:00:00",
          "2014-08-01T00:00:00",
          "2014-09-01T00:00:00",
          "2014-10-01T00:00:00",
          "2015-01-01T00:00:00",
          "2015-02-01T00:00:00",
          "2015-03-01T00:00:00",
          "2015-04-01T00:00:00",
          "2015-05-01T00:00:00",
          "2015-06-01T00:00:00",
          "2015-07-01T00:00:00",
          "2015-08-01T00:00:00",
          "2015-09-01T00:00:00",
          "2015-10-01T00:00:00",
          "2016-01-01T00:00:00",
          "2016-02-01T00:00:00",
          "2016-04-01T00:00:00",
          "2016-05-01T00:00:00",
          "2016-06-01T00:00:00",
          "2016-07-01T00:00:00",
          "2016-08-01T00:00:00",
          "2016-09-01T00:00:00",
          "2016-10-01T00:00:00",
          "2016-11-01T00:00:00",
          "2017-01-01T00:00:00",
          "2017-02-01T00:00:00",
          "2017-03-01T00:00:00"
         ],
         "y": [
          1.3254,
          1.2973,
          1.5165,
          1.6206,
          1.6815,
          1.8395,
          1.9062,
          1.7515,
          1.1278,
          0.9524,
          1.0291,
          0.9962,
          0.9508,
          0.9227,
          0.9315,
          0.7175,
          0.6294,
          1.3023,
          1.7349,
          1.1827,
          1.174,
          1.0697,
          1.1215,
          0.9208,
          1.357,
          1.3925,
          1.2822,
          1.4957,
          1.5194,
          1.7579,
          1.8979,
          1.4775,
          1.2782,
          1.2907,
          1.1815,
          1.0076,
          0.9948,
          1.3038,
          1.1455,
          0.8843,
          0.8476,
          0.8373,
          1.208,
          1.0652,
          1.0748,
          1.1321,
          1.2654,
          1.2289,
          1.3117,
          1.2957,
          1.2046,
          0.906,
          0.8949,
          1.0314,
          1.1596,
          1.0846,
          1.0221,
          1.0577,
          1.2023,
          1.1712,
          1.1499,
          1.1994,
          1.1381,
          1.0009,
          0.8902,
          1.0765,
          1.2268,
          1.2486,
          1.2111,
          1.2661,
          1.3779,
          1.475,
          1.6596,
          1.5487,
          1.3108,
          1.1869,
          1.4432,
          1.5026,
          1.4703,
          1.4911,
          1.5679,
          1.6642,
          1.7034,
          1.6639,
          1.8825,
          1.6771,
          1.256,
          1.166,
          1.4031,
          1.4083,
          1.2881,
          1.3156,
          1.3264,
          1.2798,
          1.27,
          1.3043,
          1.1951,
          1.0814,
          1.133,
          1.0622,
          0.8507,
          0.8649,
          0.779,
          0.7588,
          0.7717,
          0.7893,
          0.729,
          0.7462,
          0.754,
          0.7188,
          0.7199,
          0.6245,
          0.7588,
          0.9036,
          0.8446,
          0.599,
          0.6112,
          0.6049,
          0.6194,
          0.4,
          0.6325,
          64.3312,
          0.7898
         ],
         "type": "scatter"
        },
        {
         "mode": "lines",
         "name": "Mean adjust",
         "x": [
          "2002-01-01T00:00:00",
          "2002-02-01T00:00:00",
          "2002-03-01T00:00:00",
          "2002-04-01T00:00:00",
          "2002-05-01T00:00:00",
          "2002-06-01T00:00:00",
          "2002-07-01T00:00:00",
          "2002-08-01T00:00:00",
          "2002-09-01T00:00:00",
          "2002-10-01T00:00:00",
          "2002-11-01T00:00:00",
          "2002-12-01T00:00:00",
          "2003-01-01T00:00:00",
          "2003-02-01T00:00:00",
          "2003-03-01T00:00:00",
          "2003-04-01T00:00:00",
          "2003-05-01T00:00:00",
          "2003-06-01T00:00:00",
          "2003-07-01T00:00:00",
          "2003-08-01T00:00:00",
          "2003-09-01T00:00:00",
          "2003-10-01T00:00:00",
          "2003-11-01T00:00:00",
          "2003-12-01T00:00:00",
          "2004-01-01T00:00:00",
          "2004-02-01T00:00:00",
          "2004-03-01T00:00:00",
          "2004-04-01T00:00:00",
          "2004-05-01T00:00:00",
          "2004-06-01T00:00:00",
          "2004-07-01T00:00:00",
          "2004-08-01T00:00:00",
          "2004-09-01T00:00:00",
          "2004-10-01T00:00:00",
          "2004-11-01T00:00:00",
          "2004-12-01T00:00:00",
          "2005-01-01T00:00:00",
          "2005-02-01T00:00:00",
          "2005-03-01T00:00:00",
          "2005-04-01T00:00:00",
          "2005-05-01T00:00:00",
          "2005-06-01T00:00:00",
          "2005-07-01T00:00:00",
          "2005-08-01T00:00:00",
          "2005-09-01T00:00:00",
          "2005-10-01T00:00:00",
          "2005-11-01T00:00:00",
          "2005-12-01T00:00:00",
          "2006-01-01T00:00:00",
          "2006-02-01T00:00:00",
          "2006-03-01T00:00:00",
          "2006-04-01T00:00:00",
          "2006-05-01T00:00:00",
          "2006-06-01T00:00:00",
          "2006-07-01T00:00:00",
          "2006-08-01T00:00:00",
          "2006-09-01T00:00:00",
          "2006-10-01T00:00:00",
          "2006-11-01T00:00:00",
          "2006-12-01T00:00:00",
          "2007-01-01T00:00:00",
          "2007-02-01T00:00:00",
          "2007-03-01T00:00:00",
          "2007-04-01T00:00:00",
          "2007-05-01T00:00:00",
          "2007-06-01T00:00:00",
          "2007-07-01T00:00:00",
          "2007-08-01T00:00:00",
          "2007-09-01T00:00:00",
          "2007-10-01T00:00:00",
          "2007-11-01T00:00:00",
          "2007-12-01T00:00:00",
          "2008-01-01T00:00:00",
          "2008-02-01T00:00:00",
          "2008-03-01T00:00:00",
          "2008-04-01T00:00:00",
          "2008-05-01T00:00:00",
          "2008-06-01T00:00:00",
          "2008-07-01T00:00:00",
          "2008-08-01T00:00:00",
          "2008-09-01T00:00:00",
          "2008-10-01T00:00:00",
          "2008-11-01T00:00:00",
          "2008-12-01T00:00:00",
          "2009-01-01T00:00:00",
          "2009-02-01T00:00:00",
          "2009-03-01T00:00:00",
          "2009-04-01T00:00:00",
          "2009-05-01T00:00:00",
          "2009-06-01T00:00:00",
          "2009-07-01T00:00:00",
          "2009-08-01T00:00:00",
          "2009-09-01T00:00:00",
          "2009-10-01T00:00:00",
          "2009-11-01T00:00:00",
          "2009-12-01T00:00:00",
          "2010-01-01T00:00:00",
          "2010-02-01T00:00:00",
          "2010-03-01T00:00:00",
          "2010-04-01T00:00:00",
          "2010-05-01T00:00:00",
          "2010-06-01T00:00:00",
          "2010-07-01T00:00:00",
          "2010-08-01T00:00:00",
          "2010-09-01T00:00:00",
          "2010-10-01T00:00:00",
          "2010-11-01T00:00:00",
          "2010-12-01T00:00:00",
          "2011-01-01T00:00:00",
          "2011-02-01T00:00:00",
          "2011-03-01T00:00:00",
          "2011-04-01T00:00:00",
          "2011-05-01T00:00:00",
          "2011-06-01T00:00:00",
          "2011-07-01T00:00:00",
          "2011-08-01T00:00:00",
          "2011-09-01T00:00:00",
          "2011-10-01T00:00:00",
          "2011-11-01T00:00:00",
          "2011-12-01T00:00:00",
          "2012-01-01T00:00:00",
          "2012-02-01T00:00:00",
          "2012-03-01T00:00:00",
          "2012-04-01T00:00:00",
          "2012-05-01T00:00:00",
          "2012-06-01T00:00:00",
          "2012-07-01T00:00:00",
          "2012-08-01T00:00:00",
          "2012-09-01T00:00:00",
          "2012-10-01T00:00:00",
          "2012-11-01T00:00:00",
          "2012-12-01T00:00:00",
          "2013-01-01T00:00:00",
          "2013-02-01T00:00:00",
          "2013-03-01T00:00:00",
          "2013-04-01T00:00:00",
          "2013-05-01T00:00:00",
          "2013-06-01T00:00:00",
          "2013-07-01T00:00:00",
          "2013-08-01T00:00:00",
          "2013-09-01T00:00:00",
          "2013-10-01T00:00:00",
          "2013-11-01T00:00:00",
          "2013-12-01T00:00:00",
          "2014-01-01T00:00:00",
          "2014-02-01T00:00:00",
          "2014-03-01T00:00:00",
          "2014-04-01T00:00:00",
          "2014-05-01T00:00:00",
          "2014-06-01T00:00:00",
          "2014-07-01T00:00:00",
          "2014-08-01T00:00:00",
          "2014-09-01T00:00:00",
          "2014-10-01T00:00:00",
          "2014-11-01T00:00:00",
          "2014-12-01T00:00:00",
          "2015-01-01T00:00:00",
          "2015-02-01T00:00:00",
          "2015-03-01T00:00:00",
          "2015-04-01T00:00:00",
          "2015-05-01T00:00:00",
          "2015-06-01T00:00:00",
          "2015-07-01T00:00:00",
          "2015-08-01T00:00:00",
          "2015-09-01T00:00:00",
          "2015-10-01T00:00:00",
          "2015-11-01T00:00:00",
          "2015-12-01T00:00:00",
          "2016-01-01T00:00:00",
          "2016-02-01T00:00:00",
          "2016-03-01T00:00:00",
          "2016-04-01T00:00:00",
          "2016-05-01T00:00:00",
          "2016-06-01T00:00:00",
          "2016-07-01T00:00:00",
          "2016-08-01T00:00:00",
          "2016-09-01T00:00:00",
          "2016-10-01T00:00:00",
          "2016-11-01T00:00:00",
          "2016-12-01T00:00:00",
          "2017-01-01T00:00:00",
          "2017-02-01T00:00:00",
          "2017-03-01T00:00:00"
         ],
         "y": [
          1.3254,
          1.2973,
          1.5165,
          1.6206,
          1.6815,
          1.8395,
          1.9062,
          1.7515,
          1.1278,
          0.9524,
          1.0291,
          0.9962,
          0.9508,
          1.3842153846153844,
          0.9227,
          1.35125,
          1.35125,
          0.9315,
          1.3232666666666666,
          1.3232666666666666,
          0.7175,
          1.2854062499999999,
          1.2854062499999999,
          0.6294,
          1.2468176470588235,
          1.2468176470588235,
          1.2468176470588235,
          1.2468176470588235,
          1.2468176470588235,
          1.2468176470588235,
          1.2468176470588235,
          1.2468176470588235,
          1.2468176470588235,
          1.2468176470588235,
          1.2468176470588235,
          1.2468176470588235,
          1.2468176470588235,
          1.2468176470588235,
          1.3023,
          1.2499,
          1.2499,
          1.7349,
          1.2754263157894736,
          1.2754263157894736,
          1.1827,
          1.27079,
          1.27079,
          1.174,
          1.2661809523809524,
          1.2661809523809524,
          1.0697,
          1.25725,
          1.25725,
          1.1215,
          1.2513478260869564,
          1.2513478260869564,
          1.2513478260869564,
          1.2513478260869564,
          1.2513478260869564,
          1.2513478260869564,
          1.2513478260869564,
          1.2513478260869564,
          0.9208,
          1.2375749999999999,
          1.2375749999999999,
          1.2375749999999999,
          1.2375749999999999,
          1.2375749999999999,
          1.2375749999999999,
          1.2375749999999999,
          1.2375749999999999,
          1.2375749999999999,
          1.2375749999999999,
          1.357,
          1.3925,
          1.2822,
          1.4957,
          1.5194,
          1.7579,
          1.8979,
          1.4775,
          1.2782,
          1.2907,
          1.1815,
          1.0076,
          0.9948,
          1.2874243243243244,
          1.2874243243243244,
          1.2874243243243244,
          1.2874243243243244,
          1.3038,
          1.1455,
          0.8843,
          0.8476,
          0.8373,
          1.208,
          1.0652,
          1.0748,
          1.1321,
          1.2654,
          1.2289,
          1.3117,
          1.2957,
          1.2046,
          0.906,
          0.8949,
          1.0314,
          1.1596,
          1.0846,
          1.0221,
          1.0577,
          1.2023,
          1.1712,
          1.1499,
          1.1994,
          1.1381,
          1.0009,
          0.8902,
          1.0765,
          1.2268,
          1.2486,
          1.2111,
          1.2661,
          1.3779,
          1.475,
          1.211526388888889,
          1.6596,
          1.5487,
          1.3108,
          1.1869,
          1.4432,
          1.5026,
          1.4703,
          1.4911,
          1.5679,
          1.6642,
          1.7034,
          1.6639,
          1.8825,
          1.6771,
          1.256,
          1.166,
          1.4031,
          1.4083,
          1.2881,
          1.3156,
          1.3264,
          1.2798,
          1.27,
          1.3043,
          1.1951,
          1.0814,
          1.133,
          1.0622,
          1.264914,
          1.264914,
          0.8507,
          0.8649,
          0.779,
          0.7588,
          0.7717,
          0.7893,
          0.729,
          0.7462,
          0.754,
          0.7188,
          1.220489090909091,
          1.220489090909091,
          0.7199,
          0.6245,
          1.2106982142857141,
          0.7588,
          0.9036,
          0.8446,
          0.599,
          0.6112,
          0.6049,
          0.6194,
          0.4,
          1.1744975,
          0.6325,
          64.3312,
          0.7898
         ],
         "type": "scatter"
        },
        {
         "mode": "lines",
         "name": "12 months Rolling mean adjust",
         "x": [
          "2002-01-01T00:00:00",
          "2002-02-01T00:00:00",
          "2002-03-01T00:00:00",
          "2002-04-01T00:00:00",
          "2002-05-01T00:00:00",
          "2002-06-01T00:00:00",
          "2002-07-01T00:00:00",
          "2002-08-01T00:00:00",
          "2002-09-01T00:00:00",
          "2002-10-01T00:00:00",
          "2002-11-01T00:00:00",
          "2002-12-01T00:00:00",
          "2003-01-01T00:00:00",
          "2003-02-01T00:00:00",
          "2003-03-01T00:00:00",
          "2003-04-01T00:00:00",
          "2003-05-01T00:00:00",
          "2003-06-01T00:00:00",
          "2003-07-01T00:00:00",
          "2003-08-01T00:00:00",
          "2003-09-01T00:00:00",
          "2003-10-01T00:00:00",
          "2003-11-01T00:00:00",
          "2003-12-01T00:00:00",
          "2004-01-01T00:00:00",
          "2004-02-01T00:00:00",
          "2004-03-01T00:00:00",
          "2004-04-01T00:00:00",
          "2004-05-01T00:00:00",
          "2004-06-01T00:00:00",
          "2004-07-01T00:00:00",
          "2004-08-01T00:00:00",
          "2004-09-01T00:00:00",
          "2004-10-01T00:00:00",
          "2004-11-01T00:00:00",
          "2004-12-01T00:00:00",
          "2005-01-01T00:00:00",
          "2005-02-01T00:00:00",
          "2005-03-01T00:00:00",
          "2005-04-01T00:00:00",
          "2005-05-01T00:00:00",
          "2005-06-01T00:00:00",
          "2005-07-01T00:00:00",
          "2005-08-01T00:00:00",
          "2005-09-01T00:00:00",
          "2005-10-01T00:00:00",
          "2005-11-01T00:00:00",
          "2005-12-01T00:00:00",
          "2006-01-01T00:00:00",
          "2006-02-01T00:00:00",
          "2006-03-01T00:00:00",
          "2006-04-01T00:00:00",
          "2006-05-01T00:00:00",
          "2006-06-01T00:00:00",
          "2006-07-01T00:00:00",
          "2006-08-01T00:00:00",
          "2006-09-01T00:00:00",
          "2006-10-01T00:00:00",
          "2006-11-01T00:00:00",
          "2006-12-01T00:00:00",
          "2007-01-01T00:00:00",
          "2007-02-01T00:00:00",
          "2007-03-01T00:00:00",
          "2007-04-01T00:00:00",
          "2007-05-01T00:00:00",
          "2007-06-01T00:00:00",
          "2007-07-01T00:00:00",
          "2007-08-01T00:00:00",
          "2007-09-01T00:00:00",
          "2007-10-01T00:00:00",
          "2007-11-01T00:00:00",
          "2007-12-01T00:00:00",
          "2008-01-01T00:00:00",
          "2008-02-01T00:00:00",
          "2008-03-01T00:00:00",
          "2008-04-01T00:00:00",
          "2008-05-01T00:00:00",
          "2008-06-01T00:00:00",
          "2008-07-01T00:00:00",
          "2008-08-01T00:00:00",
          "2008-09-01T00:00:00",
          "2008-10-01T00:00:00",
          "2008-11-01T00:00:00",
          "2008-12-01T00:00:00",
          "2009-01-01T00:00:00",
          "2009-02-01T00:00:00",
          "2009-03-01T00:00:00",
          "2009-04-01T00:00:00",
          "2009-05-01T00:00:00",
          "2009-06-01T00:00:00",
          "2009-07-01T00:00:00",
          "2009-08-01T00:00:00",
          "2009-09-01T00:00:00",
          "2009-10-01T00:00:00",
          "2009-11-01T00:00:00",
          "2009-12-01T00:00:00",
          "2010-01-01T00:00:00",
          "2010-02-01T00:00:00",
          "2010-03-01T00:00:00",
          "2010-04-01T00:00:00",
          "2010-05-01T00:00:00",
          "2010-06-01T00:00:00",
          "2010-07-01T00:00:00",
          "2010-08-01T00:00:00",
          "2010-09-01T00:00:00",
          "2010-10-01T00:00:00",
          "2010-11-01T00:00:00",
          "2010-12-01T00:00:00",
          "2011-01-01T00:00:00",
          "2011-02-01T00:00:00",
          "2011-03-01T00:00:00",
          "2011-04-01T00:00:00",
          "2011-05-01T00:00:00",
          "2011-06-01T00:00:00",
          "2011-07-01T00:00:00",
          "2011-08-01T00:00:00",
          "2011-09-01T00:00:00",
          "2011-10-01T00:00:00",
          "2011-11-01T00:00:00",
          "2011-12-01T00:00:00",
          "2012-01-01T00:00:00",
          "2012-02-01T00:00:00",
          "2012-03-01T00:00:00",
          "2012-04-01T00:00:00",
          "2012-05-01T00:00:00",
          "2012-06-01T00:00:00",
          "2012-07-01T00:00:00",
          "2012-08-01T00:00:00",
          "2012-09-01T00:00:00",
          "2012-10-01T00:00:00",
          "2012-11-01T00:00:00",
          "2012-12-01T00:00:00",
          "2013-01-01T00:00:00",
          "2013-02-01T00:00:00",
          "2013-03-01T00:00:00",
          "2013-04-01T00:00:00",
          "2013-05-01T00:00:00",
          "2013-06-01T00:00:00",
          "2013-07-01T00:00:00",
          "2013-08-01T00:00:00",
          "2013-09-01T00:00:00",
          "2013-10-01T00:00:00",
          "2013-11-01T00:00:00",
          "2013-12-01T00:00:00",
          "2014-01-01T00:00:00",
          "2014-02-01T00:00:00",
          "2014-03-01T00:00:00",
          "2014-04-01T00:00:00",
          "2014-05-01T00:00:00",
          "2014-06-01T00:00:00",
          "2014-07-01T00:00:00",
          "2014-08-01T00:00:00",
          "2014-09-01T00:00:00",
          "2014-10-01T00:00:00",
          "2014-11-01T00:00:00",
          "2014-12-01T00:00:00",
          "2015-01-01T00:00:00",
          "2015-02-01T00:00:00",
          "2015-03-01T00:00:00",
          "2015-04-01T00:00:00",
          "2015-05-01T00:00:00",
          "2015-06-01T00:00:00",
          "2015-07-01T00:00:00",
          "2015-08-01T00:00:00",
          "2015-09-01T00:00:00",
          "2015-10-01T00:00:00",
          "2015-11-01T00:00:00",
          "2015-12-01T00:00:00",
          "2016-01-01T00:00:00",
          "2016-02-01T00:00:00",
          "2016-03-01T00:00:00",
          "2016-04-01T00:00:00",
          "2016-05-01T00:00:00",
          "2016-06-01T00:00:00",
          "2016-07-01T00:00:00",
          "2016-08-01T00:00:00",
          "2016-09-01T00:00:00",
          "2016-10-01T00:00:00",
          "2016-11-01T00:00:00",
          "2016-12-01T00:00:00",
          "2017-01-01T00:00:00",
          "2017-02-01T00:00:00",
          "2017-03-01T00:00:00"
         ],
         "y": [
          1.3254,
          1.2973,
          1.5165,
          1.6206,
          1.6815,
          1.8395,
          1.9062,
          1.7515,
          1.1278,
          0.9524,
          1.0291,
          0.9962,
          0.9508,
          0.9508,
          0.9227,
          0.9227,
          0.9227,
          0.9315,
          0.9315,
          0.9315,
          0.7175,
          0.7175,
          0.7175,
          0.6294,
          0.6294,
          0.6294,
          0.6294,
          0.6294,
          0.6294,
          0.6294,
          0.6294,
          0.6294,
          0.6294,
          0.6294,
          0.6294,
          0.6294,
          0.6294,
          0.6294,
          1.3023,
          1.3023,
          1.3023,
          1.7349,
          1.7349,
          1.7349,
          1.1827,
          1.1827,
          1.1827,
          1.174,
          1.174,
          1.174,
          1.0697,
          1.0697,
          1.0697,
          1.1215,
          1.1215,
          1.1215,
          1.1215,
          1.1215,
          1.1215,
          1.1215,
          1.1215,
          1.1215,
          0.9208,
          0.9208,
          0.9208,
          0.9208,
          0.9208,
          0.9208,
          0.9208,
          0.9208,
          0.9208,
          0.9208,
          0.9208,
          1.357,
          1.3925,
          1.2822,
          1.4957,
          1.5194,
          1.7579,
          1.8979,
          1.4775,
          1.2782,
          1.2907,
          1.1815,
          1.0076,
          0.9948,
          0.9948,
          0.9948,
          0.9948,
          0.9948,
          1.3038,
          1.1455,
          0.8843,
          0.8476,
          0.8373,
          1.208,
          1.0652,
          1.0748,
          1.1321,
          1.2654,
          1.2289,
          1.3117,
          1.2957,
          1.2046,
          0.906,
          0.8949,
          1.0314,
          1.1596,
          1.0846,
          1.0221,
          1.0577,
          1.2023,
          1.1712,
          1.1499,
          1.1994,
          1.1381,
          1.0009,
          0.8902,
          1.0765,
          1.2268,
          1.2486,
          1.2111,
          1.2661,
          1.3779,
          1.475,
          1.475,
          1.6596,
          1.5487,
          1.3108,
          1.1869,
          1.4432,
          1.5026,
          1.4703,
          1.4911,
          1.5679,
          1.6642,
          1.7034,
          1.6639,
          1.8825,
          1.6771,
          1.256,
          1.166,
          1.4031,
          1.4083,
          1.2881,
          1.3156,
          1.3264,
          1.2798,
          1.27,
          1.3043,
          1.1951,
          1.0814,
          1.133,
          1.0622,
          1.0622,
          1.0622,
          0.8507,
          0.8649,
          0.779,
          0.7588,
          0.7717,
          0.7893,
          0.729,
          0.7462,
          0.754,
          0.7188,
          0.7188,
          0.7188,
          0.7199,
          0.6245,
          0.6245,
          0.7588,
          0.9036,
          0.8446,
          0.599,
          0.6112,
          0.6049,
          0.6194,
          0.4,
          0.4,
          0.6325,
          64.3312,
          0.7898
         ],
         "type": "scatter"
        },
        {
         "mode": "lines",
         "name": "6 months Rolling mean adjust",
         "x": [
          "2002-01-01T00:00:00",
          "2002-02-01T00:00:00",
          "2002-03-01T00:00:00",
          "2002-04-01T00:00:00",
          "2002-05-01T00:00:00",
          "2002-06-01T00:00:00",
          "2002-07-01T00:00:00",
          "2002-08-01T00:00:00",
          "2002-09-01T00:00:00",
          "2002-10-01T00:00:00",
          "2002-11-01T00:00:00",
          "2002-12-01T00:00:00",
          "2003-01-01T00:00:00",
          "2003-02-01T00:00:00",
          "2003-03-01T00:00:00",
          "2003-04-01T00:00:00",
          "2003-05-01T00:00:00",
          "2003-06-01T00:00:00",
          "2003-07-01T00:00:00",
          "2003-08-01T00:00:00",
          "2003-09-01T00:00:00",
          "2003-10-01T00:00:00",
          "2003-11-01T00:00:00",
          "2003-12-01T00:00:00",
          "2004-01-01T00:00:00",
          "2004-02-01T00:00:00",
          "2004-03-01T00:00:00",
          "2004-04-01T00:00:00",
          "2004-05-01T00:00:00",
          "2004-06-01T00:00:00",
          "2004-07-01T00:00:00",
          "2004-08-01T00:00:00",
          "2004-09-01T00:00:00",
          "2004-10-01T00:00:00",
          "2004-11-01T00:00:00",
          "2004-12-01T00:00:00",
          "2005-01-01T00:00:00",
          "2005-02-01T00:00:00",
          "2005-03-01T00:00:00",
          "2005-04-01T00:00:00",
          "2005-05-01T00:00:00",
          "2005-06-01T00:00:00",
          "2005-07-01T00:00:00",
          "2005-08-01T00:00:00",
          "2005-09-01T00:00:00",
          "2005-10-01T00:00:00",
          "2005-11-01T00:00:00",
          "2005-12-01T00:00:00",
          "2006-01-01T00:00:00",
          "2006-02-01T00:00:00",
          "2006-03-01T00:00:00",
          "2006-04-01T00:00:00",
          "2006-05-01T00:00:00",
          "2006-06-01T00:00:00",
          "2006-07-01T00:00:00",
          "2006-08-01T00:00:00",
          "2006-09-01T00:00:00",
          "2006-10-01T00:00:00",
          "2006-11-01T00:00:00",
          "2006-12-01T00:00:00",
          "2007-01-01T00:00:00",
          "2007-02-01T00:00:00",
          "2007-03-01T00:00:00",
          "2007-04-01T00:00:00",
          "2007-05-01T00:00:00",
          "2007-06-01T00:00:00",
          "2007-07-01T00:00:00",
          "2007-08-01T00:00:00",
          "2007-09-01T00:00:00",
          "2007-10-01T00:00:00",
          "2007-11-01T00:00:00",
          "2007-12-01T00:00:00",
          "2008-01-01T00:00:00",
          "2008-02-01T00:00:00",
          "2008-03-01T00:00:00",
          "2008-04-01T00:00:00",
          "2008-05-01T00:00:00",
          "2008-06-01T00:00:00",
          "2008-07-01T00:00:00",
          "2008-08-01T00:00:00",
          "2008-09-01T00:00:00",
          "2008-10-01T00:00:00",
          "2008-11-01T00:00:00",
          "2008-12-01T00:00:00",
          "2009-01-01T00:00:00",
          "2009-02-01T00:00:00",
          "2009-03-01T00:00:00",
          "2009-04-01T00:00:00",
          "2009-05-01T00:00:00",
          "2009-06-01T00:00:00",
          "2009-07-01T00:00:00",
          "2009-08-01T00:00:00",
          "2009-09-01T00:00:00",
          "2009-10-01T00:00:00",
          "2009-11-01T00:00:00",
          "2009-12-01T00:00:00",
          "2010-01-01T00:00:00",
          "2010-02-01T00:00:00",
          "2010-03-01T00:00:00",
          "2010-04-01T00:00:00",
          "2010-05-01T00:00:00",
          "2010-06-01T00:00:00",
          "2010-07-01T00:00:00",
          "2010-08-01T00:00:00",
          "2010-09-01T00:00:00",
          "2010-10-01T00:00:00",
          "2010-11-01T00:00:00",
          "2010-12-01T00:00:00",
          "2011-01-01T00:00:00",
          "2011-02-01T00:00:00",
          "2011-03-01T00:00:00",
          "2011-04-01T00:00:00",
          "2011-05-01T00:00:00",
          "2011-06-01T00:00:00",
          "2011-07-01T00:00:00",
          "2011-08-01T00:00:00",
          "2011-09-01T00:00:00",
          "2011-10-01T00:00:00",
          "2011-11-01T00:00:00",
          "2011-12-01T00:00:00",
          "2012-01-01T00:00:00",
          "2012-02-01T00:00:00",
          "2012-03-01T00:00:00",
          "2012-04-01T00:00:00",
          "2012-05-01T00:00:00",
          "2012-06-01T00:00:00",
          "2012-07-01T00:00:00",
          "2012-08-01T00:00:00",
          "2012-09-01T00:00:00",
          "2012-10-01T00:00:00",
          "2012-11-01T00:00:00",
          "2012-12-01T00:00:00",
          "2013-01-01T00:00:00",
          "2013-02-01T00:00:00",
          "2013-03-01T00:00:00",
          "2013-04-01T00:00:00",
          "2013-05-01T00:00:00",
          "2013-06-01T00:00:00",
          "2013-07-01T00:00:00",
          "2013-08-01T00:00:00",
          "2013-09-01T00:00:00",
          "2013-10-01T00:00:00",
          "2013-11-01T00:00:00",
          "2013-12-01T00:00:00",
          "2014-01-01T00:00:00",
          "2014-02-01T00:00:00",
          "2014-03-01T00:00:00",
          "2014-04-01T00:00:00",
          "2014-05-01T00:00:00",
          "2014-06-01T00:00:00",
          "2014-07-01T00:00:00",
          "2014-08-01T00:00:00",
          "2014-09-01T00:00:00",
          "2014-10-01T00:00:00",
          "2014-11-01T00:00:00",
          "2014-12-01T00:00:00",
          "2015-01-01T00:00:00",
          "2015-02-01T00:00:00",
          "2015-03-01T00:00:00",
          "2015-04-01T00:00:00",
          "2015-05-01T00:00:00",
          "2015-06-01T00:00:00",
          "2015-07-01T00:00:00",
          "2015-08-01T00:00:00",
          "2015-09-01T00:00:00",
          "2015-10-01T00:00:00",
          "2015-11-01T00:00:00",
          "2015-12-01T00:00:00",
          "2016-01-01T00:00:00",
          "2016-02-01T00:00:00",
          "2016-03-01T00:00:00",
          "2016-04-01T00:00:00",
          "2016-05-01T00:00:00",
          "2016-06-01T00:00:00",
          "2016-07-01T00:00:00",
          "2016-08-01T00:00:00",
          "2016-09-01T00:00:00",
          "2016-10-01T00:00:00",
          "2016-11-01T00:00:00",
          "2016-12-01T00:00:00",
          "2017-01-01T00:00:00",
          "2017-02-01T00:00:00",
          "2017-03-01T00:00:00"
         ],
         "y": [
          1.3254,
          1.2973,
          1.5165,
          1.6206,
          1.6815,
          1.8395,
          1.9062,
          1.7515,
          1.1278,
          0.9524,
          1.0291,
          0.9962,
          0.9508,
          0.9508,
          0.9227,
          0.9227,
          0.9227,
          0.9315,
          0.9315,
          0.9315,
          0.7175,
          0.7175,
          0.7175,
          0.6294,
          0.6294,
          0.6294,
          0.6294,
          0.6294,
          0.6294,
          0.6294,
          0.6294,
          0.6294,
          0.6294,
          0.6294,
          0.6294,
          0.6294,
          0.6294,
          0.6294,
          1.3023,
          1.3023,
          1.3023,
          1.7349,
          1.7349,
          1.7349,
          1.1827,
          1.1827,
          1.1827,
          1.174,
          1.174,
          1.174,
          1.0697,
          1.0697,
          1.0697,
          1.1215,
          1.1215,
          1.1215,
          1.1215,
          1.1215,
          1.1215,
          1.1215,
          1.1215,
          1.1215,
          0.9208,
          0.9208,
          0.9208,
          0.9208,
          0.9208,
          0.9208,
          0.9208,
          0.9208,
          0.9208,
          0.9208,
          0.9208,
          1.357,
          1.3925,
          1.2822,
          1.4957,
          1.5194,
          1.7579,
          1.8979,
          1.4775,
          1.2782,
          1.2907,
          1.1815,
          1.0076,
          0.9948,
          0.9948,
          0.9948,
          0.9948,
          0.9948,
          1.3038,
          1.1455,
          0.8843,
          0.8476,
          0.8373,
          1.208,
          1.0652,
          1.0748,
          1.1321,
          1.2654,
          1.2289,
          1.3117,
          1.2957,
          1.2046,
          0.906,
          0.8949,
          1.0314,
          1.1596,
          1.0846,
          1.0221,
          1.0577,
          1.2023,
          1.1712,
          1.1499,
          1.1994,
          1.1381,
          1.0009,
          0.8902,
          1.0765,
          1.2268,
          1.2486,
          1.2111,
          1.2661,
          1.3779,
          1.475,
          1.475,
          1.6596,
          1.5487,
          1.3108,
          1.1869,
          1.4432,
          1.5026,
          1.4703,
          1.4911,
          1.5679,
          1.6642,
          1.7034,
          1.6639,
          1.8825,
          1.6771,
          1.256,
          1.166,
          1.4031,
          1.4083,
          1.2881,
          1.3156,
          1.3264,
          1.2798,
          1.27,
          1.3043,
          1.1951,
          1.0814,
          1.133,
          1.0622,
          1.0622,
          1.0622,
          0.8507,
          0.8649,
          0.779,
          0.7588,
          0.7717,
          0.7893,
          0.729,
          0.7462,
          0.754,
          0.7188,
          0.7188,
          0.7188,
          0.7199,
          0.6245,
          0.6245,
          0.7588,
          0.9036,
          0.8446,
          0.599,
          0.6112,
          0.6049,
          0.6194,
          0.4,
          0.4,
          0.6325,
          64.3312,
          0.7898
         ],
         "type": "scatter"
        },
        {
         "mode": "lines",
         "name": "3 months Rolling mean adjust",
         "x": [
          "2002-01-01T00:00:00",
          "2002-02-01T00:00:00",
          "2002-03-01T00:00:00",
          "2002-04-01T00:00:00",
          "2002-05-01T00:00:00",
          "2002-06-01T00:00:00",
          "2002-07-01T00:00:00",
          "2002-08-01T00:00:00",
          "2002-09-01T00:00:00",
          "2002-10-01T00:00:00",
          "2002-11-01T00:00:00",
          "2002-12-01T00:00:00",
          "2003-01-01T00:00:00",
          "2003-02-01T00:00:00",
          "2003-03-01T00:00:00",
          "2003-04-01T00:00:00",
          "2003-05-01T00:00:00",
          "2003-06-01T00:00:00",
          "2003-07-01T00:00:00",
          "2003-08-01T00:00:00",
          "2003-09-01T00:00:00",
          "2003-10-01T00:00:00",
          "2003-11-01T00:00:00",
          "2003-12-01T00:00:00",
          "2004-01-01T00:00:00",
          "2004-02-01T00:00:00",
          "2004-03-01T00:00:00",
          "2004-04-01T00:00:00",
          "2004-05-01T00:00:00",
          "2004-06-01T00:00:00",
          "2004-07-01T00:00:00",
          "2004-08-01T00:00:00",
          "2004-09-01T00:00:00",
          "2004-10-01T00:00:00",
          "2004-11-01T00:00:00",
          "2004-12-01T00:00:00",
          "2005-01-01T00:00:00",
          "2005-02-01T00:00:00",
          "2005-03-01T00:00:00",
          "2005-04-01T00:00:00",
          "2005-05-01T00:00:00",
          "2005-06-01T00:00:00",
          "2005-07-01T00:00:00",
          "2005-08-01T00:00:00",
          "2005-09-01T00:00:00",
          "2005-10-01T00:00:00",
          "2005-11-01T00:00:00",
          "2005-12-01T00:00:00",
          "2006-01-01T00:00:00",
          "2006-02-01T00:00:00",
          "2006-03-01T00:00:00",
          "2006-04-01T00:00:00",
          "2006-05-01T00:00:00",
          "2006-06-01T00:00:00",
          "2006-07-01T00:00:00",
          "2006-08-01T00:00:00",
          "2006-09-01T00:00:00",
          "2006-10-01T00:00:00",
          "2006-11-01T00:00:00",
          "2006-12-01T00:00:00",
          "2007-01-01T00:00:00",
          "2007-02-01T00:00:00",
          "2007-03-01T00:00:00",
          "2007-04-01T00:00:00",
          "2007-05-01T00:00:00",
          "2007-06-01T00:00:00",
          "2007-07-01T00:00:00",
          "2007-08-01T00:00:00",
          "2007-09-01T00:00:00",
          "2007-10-01T00:00:00",
          "2007-11-01T00:00:00",
          "2007-12-01T00:00:00",
          "2008-01-01T00:00:00",
          "2008-02-01T00:00:00",
          "2008-03-01T00:00:00",
          "2008-04-01T00:00:00",
          "2008-05-01T00:00:00",
          "2008-06-01T00:00:00",
          "2008-07-01T00:00:00",
          "2008-08-01T00:00:00",
          "2008-09-01T00:00:00",
          "2008-10-01T00:00:00",
          "2008-11-01T00:00:00",
          "2008-12-01T00:00:00",
          "2009-01-01T00:00:00",
          "2009-02-01T00:00:00",
          "2009-03-01T00:00:00",
          "2009-04-01T00:00:00",
          "2009-05-01T00:00:00",
          "2009-06-01T00:00:00",
          "2009-07-01T00:00:00",
          "2009-08-01T00:00:00",
          "2009-09-01T00:00:00",
          "2009-10-01T00:00:00",
          "2009-11-01T00:00:00",
          "2009-12-01T00:00:00",
          "2010-01-01T00:00:00",
          "2010-02-01T00:00:00",
          "2010-03-01T00:00:00",
          "2010-04-01T00:00:00",
          "2010-05-01T00:00:00",
          "2010-06-01T00:00:00",
          "2010-07-01T00:00:00",
          "2010-08-01T00:00:00",
          "2010-09-01T00:00:00",
          "2010-10-01T00:00:00",
          "2010-11-01T00:00:00",
          "2010-12-01T00:00:00",
          "2011-01-01T00:00:00",
          "2011-02-01T00:00:00",
          "2011-03-01T00:00:00",
          "2011-04-01T00:00:00",
          "2011-05-01T00:00:00",
          "2011-06-01T00:00:00",
          "2011-07-01T00:00:00",
          "2011-08-01T00:00:00",
          "2011-09-01T00:00:00",
          "2011-10-01T00:00:00",
          "2011-11-01T00:00:00",
          "2011-12-01T00:00:00",
          "2012-01-01T00:00:00",
          "2012-02-01T00:00:00",
          "2012-03-01T00:00:00",
          "2012-04-01T00:00:00",
          "2012-05-01T00:00:00",
          "2012-06-01T00:00:00",
          "2012-07-01T00:00:00",
          "2012-08-01T00:00:00",
          "2012-09-01T00:00:00",
          "2012-10-01T00:00:00",
          "2012-11-01T00:00:00",
          "2012-12-01T00:00:00",
          "2013-01-01T00:00:00",
          "2013-02-01T00:00:00",
          "2013-03-01T00:00:00",
          "2013-04-01T00:00:00",
          "2013-05-01T00:00:00",
          "2013-06-01T00:00:00",
          "2013-07-01T00:00:00",
          "2013-08-01T00:00:00",
          "2013-09-01T00:00:00",
          "2013-10-01T00:00:00",
          "2013-11-01T00:00:00",
          "2013-12-01T00:00:00",
          "2014-01-01T00:00:00",
          "2014-02-01T00:00:00",
          "2014-03-01T00:00:00",
          "2014-04-01T00:00:00",
          "2014-05-01T00:00:00",
          "2014-06-01T00:00:00",
          "2014-07-01T00:00:00",
          "2014-08-01T00:00:00",
          "2014-09-01T00:00:00",
          "2014-10-01T00:00:00",
          "2014-11-01T00:00:00",
          "2014-12-01T00:00:00",
          "2015-01-01T00:00:00",
          "2015-02-01T00:00:00",
          "2015-03-01T00:00:00",
          "2015-04-01T00:00:00",
          "2015-05-01T00:00:00",
          "2015-06-01T00:00:00",
          "2015-07-01T00:00:00",
          "2015-08-01T00:00:00",
          "2015-09-01T00:00:00",
          "2015-10-01T00:00:00",
          "2015-11-01T00:00:00",
          "2015-12-01T00:00:00",
          "2016-01-01T00:00:00",
          "2016-02-01T00:00:00",
          "2016-03-01T00:00:00",
          "2016-04-01T00:00:00",
          "2016-05-01T00:00:00",
          "2016-06-01T00:00:00",
          "2016-07-01T00:00:00",
          "2016-08-01T00:00:00",
          "2016-09-01T00:00:00",
          "2016-10-01T00:00:00",
          "2016-11-01T00:00:00",
          "2016-12-01T00:00:00",
          "2017-01-01T00:00:00",
          "2017-02-01T00:00:00",
          "2017-03-01T00:00:00"
         ],
         "y": [
          1.3254,
          1.2973,
          1.5165,
          1.6206,
          1.6815,
          1.8395,
          1.9062,
          1.7515,
          1.1278,
          0.9524,
          1.0291,
          0.9962,
          0.9508,
          0.9508,
          0.9227,
          0.9227,
          0.9227,
          0.9315,
          0.9315,
          0.9315,
          0.7175,
          0.7175,
          0.7175,
          0.6294,
          0.6294,
          0.6294,
          0.6294,
          0.6294,
          0.6294,
          0.6294,
          0.6294,
          0.6294,
          0.6294,
          0.6294,
          0.6294,
          0.6294,
          0.6294,
          0.6294,
          1.3023,
          1.3023,
          1.3023,
          1.7349,
          1.7349,
          1.7349,
          1.1827,
          1.1827,
          1.1827,
          1.174,
          1.174,
          1.174,
          1.0697,
          1.0697,
          1.0697,
          1.1215,
          1.1215,
          1.1215,
          1.1215,
          1.1215,
          1.1215,
          1.1215,
          1.1215,
          1.1215,
          0.9208,
          0.9208,
          0.9208,
          0.9208,
          0.9208,
          0.9208,
          0.9208,
          0.9208,
          0.9208,
          0.9208,
          0.9208,
          1.357,
          1.3925,
          1.2822,
          1.4957,
          1.5194,
          1.7579,
          1.8979,
          1.4775,
          1.2782,
          1.2907,
          1.1815,
          1.0076,
          0.9948,
          0.9948,
          0.9948,
          0.9948,
          0.9948,
          1.3038,
          1.1455,
          0.8843,
          0.8476,
          0.8373,
          1.208,
          1.0652,
          1.0748,
          1.1321,
          1.2654,
          1.2289,
          1.3117,
          1.2957,
          1.2046,
          0.906,
          0.8949,
          1.0314,
          1.1596,
          1.0846,
          1.0221,
          1.0577,
          1.2023,
          1.1712,
          1.1499,
          1.1994,
          1.1381,
          1.0009,
          0.8902,
          1.0765,
          1.2268,
          1.2486,
          1.2111,
          1.2661,
          1.3779,
          1.475,
          1.475,
          1.6596,
          1.5487,
          1.3108,
          1.1869,
          1.4432,
          1.5026,
          1.4703,
          1.4911,
          1.5679,
          1.6642,
          1.7034,
          1.6639,
          1.8825,
          1.6771,
          1.256,
          1.166,
          1.4031,
          1.4083,
          1.2881,
          1.3156,
          1.3264,
          1.2798,
          1.27,
          1.3043,
          1.1951,
          1.0814,
          1.133,
          1.0622,
          1.0622,
          1.0622,
          0.8507,
          0.8649,
          0.779,
          0.7588,
          0.7717,
          0.7893,
          0.729,
          0.7462,
          0.754,
          0.7188,
          0.7188,
          0.7188,
          0.7199,
          0.6245,
          0.6245,
          0.7588,
          0.9036,
          0.8446,
          0.599,
          0.6112,
          0.6049,
          0.6194,
          0.4,
          0.4,
          0.6325,
          64.3312,
          0.7898
         ],
         "type": "scatter"
        },
        {
         "mode": "lines",
         "name": "Interpolate",
         "x": [
          "2002-01-01T00:00:00",
          "2002-02-01T00:00:00",
          "2002-03-01T00:00:00",
          "2002-04-01T00:00:00",
          "2002-05-01T00:00:00",
          "2002-06-01T00:00:00",
          "2002-07-01T00:00:00",
          "2002-08-01T00:00:00",
          "2002-09-01T00:00:00",
          "2002-10-01T00:00:00",
          "2002-11-01T00:00:00",
          "2002-12-01T00:00:00",
          "2003-01-01T00:00:00",
          "2003-02-01T00:00:00",
          "2003-03-01T00:00:00",
          "2003-04-01T00:00:00",
          "2003-05-01T00:00:00",
          "2003-06-01T00:00:00",
          "2003-07-01T00:00:00",
          "2003-08-01T00:00:00",
          "2003-09-01T00:00:00",
          "2003-10-01T00:00:00",
          "2003-11-01T00:00:00",
          "2003-12-01T00:00:00",
          "2004-01-01T00:00:00",
          "2004-02-01T00:00:00",
          "2004-03-01T00:00:00",
          "2004-04-01T00:00:00",
          "2004-05-01T00:00:00",
          "2004-06-01T00:00:00",
          "2004-07-01T00:00:00",
          "2004-08-01T00:00:00",
          "2004-09-01T00:00:00",
          "2004-10-01T00:00:00",
          "2004-11-01T00:00:00",
          "2004-12-01T00:00:00",
          "2005-01-01T00:00:00",
          "2005-02-01T00:00:00",
          "2005-03-01T00:00:00",
          "2005-04-01T00:00:00",
          "2005-05-01T00:00:00",
          "2005-06-01T00:00:00",
          "2005-07-01T00:00:00",
          "2005-08-01T00:00:00",
          "2005-09-01T00:00:00",
          "2005-10-01T00:00:00",
          "2005-11-01T00:00:00",
          "2005-12-01T00:00:00",
          "2006-01-01T00:00:00",
          "2006-02-01T00:00:00",
          "2006-03-01T00:00:00",
          "2006-04-01T00:00:00",
          "2006-05-01T00:00:00",
          "2006-06-01T00:00:00",
          "2006-07-01T00:00:00",
          "2006-08-01T00:00:00",
          "2006-09-01T00:00:00",
          "2006-10-01T00:00:00",
          "2006-11-01T00:00:00",
          "2006-12-01T00:00:00",
          "2007-01-01T00:00:00",
          "2007-02-01T00:00:00",
          "2007-03-01T00:00:00",
          "2007-04-01T00:00:00",
          "2007-05-01T00:00:00",
          "2007-06-01T00:00:00",
          "2007-07-01T00:00:00",
          "2007-08-01T00:00:00",
          "2007-09-01T00:00:00",
          "2007-10-01T00:00:00",
          "2007-11-01T00:00:00",
          "2007-12-01T00:00:00",
          "2008-01-01T00:00:00",
          "2008-02-01T00:00:00",
          "2008-03-01T00:00:00",
          "2008-04-01T00:00:00",
          "2008-05-01T00:00:00",
          "2008-06-01T00:00:00",
          "2008-07-01T00:00:00",
          "2008-08-01T00:00:00",
          "2008-09-01T00:00:00",
          "2008-10-01T00:00:00",
          "2008-11-01T00:00:00",
          "2008-12-01T00:00:00",
          "2009-01-01T00:00:00",
          "2009-02-01T00:00:00",
          "2009-03-01T00:00:00",
          "2009-04-01T00:00:00",
          "2009-05-01T00:00:00",
          "2009-06-01T00:00:00",
          "2009-07-01T00:00:00",
          "2009-08-01T00:00:00",
          "2009-09-01T00:00:00",
          "2009-10-01T00:00:00",
          "2009-11-01T00:00:00",
          "2009-12-01T00:00:00",
          "2010-01-01T00:00:00",
          "2010-02-01T00:00:00",
          "2010-03-01T00:00:00",
          "2010-04-01T00:00:00",
          "2010-05-01T00:00:00",
          "2010-06-01T00:00:00",
          "2010-07-01T00:00:00",
          "2010-08-01T00:00:00",
          "2010-09-01T00:00:00",
          "2010-10-01T00:00:00",
          "2010-11-01T00:00:00",
          "2010-12-01T00:00:00",
          "2011-01-01T00:00:00",
          "2011-02-01T00:00:00",
          "2011-03-01T00:00:00",
          "2011-04-01T00:00:00",
          "2011-05-01T00:00:00",
          "2011-06-01T00:00:00",
          "2011-07-01T00:00:00",
          "2011-08-01T00:00:00",
          "2011-09-01T00:00:00",
          "2011-10-01T00:00:00",
          "2011-11-01T00:00:00",
          "2011-12-01T00:00:00",
          "2012-01-01T00:00:00",
          "2012-02-01T00:00:00",
          "2012-03-01T00:00:00",
          "2012-04-01T00:00:00",
          "2012-05-01T00:00:00",
          "2012-06-01T00:00:00",
          "2012-07-01T00:00:00",
          "2012-08-01T00:00:00",
          "2012-09-01T00:00:00",
          "2012-10-01T00:00:00",
          "2012-11-01T00:00:00",
          "2012-12-01T00:00:00",
          "2013-01-01T00:00:00",
          "2013-02-01T00:00:00",
          "2013-03-01T00:00:00",
          "2013-04-01T00:00:00",
          "2013-05-01T00:00:00",
          "2013-06-01T00:00:00",
          "2013-07-01T00:00:00",
          "2013-08-01T00:00:00",
          "2013-09-01T00:00:00",
          "2013-10-01T00:00:00",
          "2013-11-01T00:00:00",
          "2013-12-01T00:00:00",
          "2014-01-01T00:00:00",
          "2014-02-01T00:00:00",
          "2014-03-01T00:00:00",
          "2014-04-01T00:00:00",
          "2014-05-01T00:00:00",
          "2014-06-01T00:00:00",
          "2014-07-01T00:00:00",
          "2014-08-01T00:00:00",
          "2014-09-01T00:00:00",
          "2014-10-01T00:00:00",
          "2014-11-01T00:00:00",
          "2014-12-01T00:00:00",
          "2015-01-01T00:00:00",
          "2015-02-01T00:00:00",
          "2015-03-01T00:00:00",
          "2015-04-01T00:00:00",
          "2015-05-01T00:00:00",
          "2015-06-01T00:00:00",
          "2015-07-01T00:00:00",
          "2015-08-01T00:00:00",
          "2015-09-01T00:00:00",
          "2015-10-01T00:00:00",
          "2015-11-01T00:00:00",
          "2015-12-01T00:00:00",
          "2016-01-01T00:00:00",
          "2016-02-01T00:00:00",
          "2016-03-01T00:00:00",
          "2016-04-01T00:00:00",
          "2016-05-01T00:00:00",
          "2016-06-01T00:00:00",
          "2016-07-01T00:00:00",
          "2016-08-01T00:00:00",
          "2016-09-01T00:00:00",
          "2016-10-01T00:00:00",
          "2016-11-01T00:00:00",
          "2016-12-01T00:00:00",
          "2017-01-01T00:00:00",
          "2017-02-01T00:00:00",
          "2017-03-01T00:00:00"
         ],
         "y": [
          1.3254,
          1.2973,
          1.5165,
          1.6206,
          1.6815,
          1.8395,
          1.9062,
          1.7515,
          1.1278,
          0.9524,
          1.0291,
          0.9962,
          0.9508,
          0.9360355932203388,
          0.9227,
          0.9256652173913045,
          0.9285347826086958,
          0.9315,
          0.861717391304348,
          0.7896086956521741,
          0.7175,
          0.688456043956044,
          0.6584439560439561,
          0.6294,
          0.6751453947368421,
          0.7208907894736842,
          0.7636848684210527,
          0.8094302631578947,
          0.8537000000000001,
          0.8994453947368422,
          0.9437151315789474,
          0.9894605263157894,
          1.0352059210526317,
          1.0794756578947369,
          1.1252210526315791,
          1.1694907894736841,
          1.2152361842105266,
          1.2609815789473684,
          1.3023,
          1.448067391304348,
          1.5891326086956523,
          1.7349,
          1.554834782608696,
          1.368767391304348,
          1.1827,
          1.1798318681318682,
          1.1768681318681318,
          1.174,
          1.1380744444444444,
          1.1021488888888888,
          1.0697,
          1.0871543478260872,
          1.1040456521739133,
          1.1215,
          1.0994450549450547,
          1.076654945054945,
          1.053864835164835,
          1.0318098901098902,
          1.0090197802197802,
          0.9869648351648351,
          0.9641747252747253,
          0.9413846153846153,
          0.9208,
          0.9609252225519287,
          0.9997560830860535,
          1.039881305637982,
          1.0787121661721069,
          1.1188373887240357,
          1.1589626112759643,
          1.197793471810089,
          1.2379186943620177,
          1.2767495548961425,
          1.3168747774480711,
          1.357,
          1.3925,
          1.2822,
          1.4957,
          1.5194,
          1.7579,
          1.8979,
          1.4775,
          1.2782,
          1.2907,
          1.1815,
          1.0076,
          0.9948,
          1.05248,
          1.11634,
          1.17814,
          1.2420000000000002,
          1.3038,
          1.1455,
          0.8843,
          0.8476,
          0.8373,
          1.208,
          1.0652,
          1.0748,
          1.1321,
          1.2654,
          1.2289,
          1.3117,
          1.2957,
          1.2046,
          0.906,
          0.8949,
          1.0314,
          1.1596,
          1.0846,
          1.0221,
          1.0577,
          1.2023,
          1.1712,
          1.1499,
          1.1994,
          1.1381,
          1.0009,
          0.8902,
          1.0765,
          1.2268,
          1.2486,
          1.2111,
          1.2661,
          1.3779,
          1.475,
          1.5688131147540985,
          1.6596,
          1.5487,
          1.3108,
          1.1869,
          1.4432,
          1.5026,
          1.4703,
          1.4911,
          1.5679,
          1.6642,
          1.7034,
          1.6639,
          1.8825,
          1.6771,
          1.256,
          1.166,
          1.4031,
          1.4083,
          1.2881,
          1.3156,
          1.3264,
          1.2798,
          1.27,
          1.3043,
          1.1951,
          1.0814,
          1.133,
          1.0622,
          0.9909336956521742,
          0.9219663043478263,
          0.8507,
          0.8649,
          0.779,
          0.7588,
          0.7717,
          0.7893,
          0.729,
          0.7462,
          0.754,
          0.7188,
          0.7191706521739132,
          0.719529347826087,
          0.7199,
          0.6245,
          0.6894116666666668,
          0.7588,
          0.9036,
          0.8446,
          0.599,
          0.6112,
          0.6049,
          0.6194,
          0.4,
          0.514344262295082,
          0.6325,
          64.3312,
          0.7898
         ],
         "type": "scatter"
        }
       ],
       "layout": {
        "template": {
         "data": {
          "histogram2dcontour": [
           {
            "type": "histogram2dcontour",
            "colorbar": {
             "outlinewidth": 0,
             "ticks": ""
            },
            "colorscale": [
             [
              0.0,
              "#0d0887"
             ],
             [
              0.1111111111111111,
              "#46039f"
             ],
             [
              0.2222222222222222,
              "#7201a8"
             ],
             [
              0.3333333333333333,
              "#9c179e"
             ],
             [
              0.4444444444444444,
              "#bd3786"
             ],
             [
              0.5555555555555556,
              "#d8576b"
             ],
             [
              0.6666666666666666,
              "#ed7953"
             ],
             [
              0.7777777777777778,
              "#fb9f3a"
             ],
             [
              0.8888888888888888,
              "#fdca26"
             ],
             [
              1.0,
              "#f0f921"
             ]
            ]
           }
          ],
          "choropleth": [
           {
            "type": "choropleth",
            "colorbar": {
             "outlinewidth": 0,
             "ticks": ""
            }
           }
          ],
          "histogram2d": [
           {
            "type": "histogram2d",
            "colorbar": {
             "outlinewidth": 0,
             "ticks": ""
            },
            "colorscale": [
             [
              0.0,
              "#0d0887"
             ],
             [
              0.1111111111111111,
              "#46039f"
             ],
             [
              0.2222222222222222,
              "#7201a8"
             ],
             [
              0.3333333333333333,
              "#9c179e"
             ],
             [
              0.4444444444444444,
              "#bd3786"
             ],
             [
              0.5555555555555556,
              "#d8576b"
             ],
             [
              0.6666666666666666,
              "#ed7953"
             ],
             [
              0.7777777777777778,
              "#fb9f3a"
             ],
             [
              0.8888888888888888,
              "#fdca26"
             ],
             [
              1.0,
              "#f0f921"
             ]
            ]
           }
          ],
          "heatmap": [
           {
            "type": "heatmap",
            "colorbar": {
             "outlinewidth": 0,
             "ticks": ""
            },
            "colorscale": [
             [
              0.0,
              "#0d0887"
             ],
             [
              0.1111111111111111,
              "#46039f"
             ],
             [
              0.2222222222222222,
              "#7201a8"
             ],
             [
              0.3333333333333333,
              "#9c179e"
             ],
             [
              0.4444444444444444,
              "#bd3786"
             ],
             [
              0.5555555555555556,
              "#d8576b"
             ],
             [
              0.6666666666666666,
              "#ed7953"
             ],
             [
              0.7777777777777778,
              "#fb9f3a"
             ],
             [
              0.8888888888888888,
              "#fdca26"
             ],
             [
              1.0,
              "#f0f921"
             ]
            ]
           }
          ],
          "heatmapgl": [
           {
            "type": "heatmapgl",
            "colorbar": {
             "outlinewidth": 0,
             "ticks": ""
            },
            "colorscale": [
             [
              0.0,
              "#0d0887"
             ],
             [
              0.1111111111111111,
              "#46039f"
             ],
             [
              0.2222222222222222,
              "#7201a8"
             ],
             [
              0.3333333333333333,
              "#9c179e"
             ],
             [
              0.4444444444444444,
              "#bd3786"
             ],
             [
              0.5555555555555556,
              "#d8576b"
             ],
             [
              0.6666666666666666,
              "#ed7953"
             ],
             [
              0.7777777777777778,
              "#fb9f3a"
             ],
             [
              0.8888888888888888,
              "#fdca26"
             ],
             [
              1.0,
              "#f0f921"
             ]
            ]
           }
          ],
          "contourcarpet": [
           {
            "type": "contourcarpet",
            "colorbar": {
             "outlinewidth": 0,
             "ticks": ""
            }
           }
          ],
          "contour": [
           {
            "type": "contour",
            "colorbar": {
             "outlinewidth": 0,
             "ticks": ""
            },
            "colorscale": [
             [
              0.0,
              "#0d0887"
             ],
             [
              0.1111111111111111,
              "#46039f"
             ],
             [
              0.2222222222222222,
              "#7201a8"
             ],
             [
              0.3333333333333333,
              "#9c179e"
             ],
             [
              0.4444444444444444,
              "#bd3786"
             ],
             [
              0.5555555555555556,
              "#d8576b"
             ],
             [
              0.6666666666666666,
              "#ed7953"
             ],
             [
              0.7777777777777778,
              "#fb9f3a"
             ],
             [
              0.8888888888888888,
              "#fdca26"
             ],
             [
              1.0,
              "#f0f921"
             ]
            ]
           }
          ],
          "surface": [
           {
            "type": "surface",
            "colorbar": {
             "outlinewidth": 0,
             "ticks": ""
            },
            "colorscale": [
             [
              0.0,
              "#0d0887"
             ],
             [
              0.1111111111111111,
              "#46039f"
             ],
             [
              0.2222222222222222,
              "#7201a8"
             ],
             [
              0.3333333333333333,
              "#9c179e"
             ],
             [
              0.4444444444444444,
              "#bd3786"
             ],
             [
              0.5555555555555556,
              "#d8576b"
             ],
             [
              0.6666666666666666,
              "#ed7953"
             ],
             [
              0.7777777777777778,
              "#fb9f3a"
             ],
             [
              0.8888888888888888,
              "#fdca26"
             ],
             [
              1.0,
              "#f0f921"
             ]
            ]
           }
          ],
          "mesh3d": [
           {
            "type": "mesh3d",
            "colorbar": {
             "outlinewidth": 0,
             "ticks": ""
            }
           }
          ],
          "scatter": [
           {
            "marker": {
             "line": {
              "color": "#283442"
             }
            },
            "type": "scatter"
           }
          ],
          "parcoords": [
           {
            "type": "parcoords",
            "line": {
             "colorbar": {
              "outlinewidth": 0,
              "ticks": ""
             }
            }
           }
          ],
          "scatterpolargl": [
           {
            "type": "scatterpolargl",
            "marker": {
             "colorbar": {
              "outlinewidth": 0,
              "ticks": ""
             }
            }
           }
          ],
          "bar": [
           {
            "error_x": {
             "color": "#f2f5fa"
            },
            "error_y": {
             "color": "#f2f5fa"
            },
            "marker": {
             "line": {
              "color": "rgb(17,17,17)",
              "width": 0.5
             },
             "pattern": {
              "fillmode": "overlay",
              "size": 10,
              "solidity": 0.2
             }
            },
            "type": "bar"
           }
          ],
          "scattergeo": [
           {
            "type": "scattergeo",
            "marker": {
             "colorbar": {
              "outlinewidth": 0,
              "ticks": ""
             }
            }
           }
          ],
          "scatterpolar": [
           {
            "type": "scatterpolar",
            "marker": {
             "colorbar": {
              "outlinewidth": 0,
              "ticks": ""
             }
            }
           }
          ],
          "histogram": [
           {
            "marker": {
             "pattern": {
              "fillmode": "overlay",
              "size": 10,
              "solidity": 0.2
             }
            },
            "type": "histogram"
           }
          ],
          "scattergl": [
           {
            "marker": {
             "line": {
              "color": "#283442"
             }
            },
            "type": "scattergl"
           }
          ],
          "scatter3d": [
           {
            "type": "scatter3d",
            "line": {
             "colorbar": {
              "outlinewidth": 0,
              "ticks": ""
             }
            },
            "marker": {
             "colorbar": {
              "outlinewidth": 0,
              "ticks": ""
             }
            }
           }
          ],
          "scattermapbox": [
           {
            "type": "scattermapbox",
            "marker": {
             "colorbar": {
              "outlinewidth": 0,
              "ticks": ""
             }
            }
           }
          ],
          "scatterternary": [
           {
            "type": "scatterternary",
            "marker": {
             "colorbar": {
              "outlinewidth": 0,
              "ticks": ""
             }
            }
           }
          ],
          "scattercarpet": [
           {
            "type": "scattercarpet",
            "marker": {
             "colorbar": {
              "outlinewidth": 0,
              "ticks": ""
             }
            }
           }
          ],
          "carpet": [
           {
            "aaxis": {
             "endlinecolor": "#A2B1C6",
             "gridcolor": "#506784",
             "linecolor": "#506784",
             "minorgridcolor": "#506784",
             "startlinecolor": "#A2B1C6"
            },
            "baxis": {
             "endlinecolor": "#A2B1C6",
             "gridcolor": "#506784",
             "linecolor": "#506784",
             "minorgridcolor": "#506784",
             "startlinecolor": "#A2B1C6"
            },
            "type": "carpet"
           }
          ],
          "table": [
           {
            "cells": {
             "fill": {
              "color": "#506784"
             },
             "line": {
              "color": "rgb(17,17,17)"
             }
            },
            "header": {
             "fill": {
              "color": "#2a3f5f"
             },
             "line": {
              "color": "rgb(17,17,17)"
             }
            },
            "type": "table"
           }
          ],
          "barpolar": [
           {
            "marker": {
             "line": {
              "color": "rgb(17,17,17)",
              "width": 0.5
             },
             "pattern": {
              "fillmode": "overlay",
              "size": 10,
              "solidity": 0.2
             }
            },
            "type": "barpolar"
           }
          ],
          "pie": [
           {
            "automargin": true,
            "type": "pie"
           }
          ]
         },
         "layout": {
          "autotypenumbers": "strict",
          "colorway": [
           "#636efa",
           "#EF553B",
           "#00cc96",
           "#ab63fa",
           "#FFA15A",
           "#19d3f3",
           "#FF6692",
           "#B6E880",
           "#FF97FF",
           "#FECB52"
          ],
          "font": {
           "color": "#f2f5fa"
          },
          "hovermode": "closest",
          "hoverlabel": {
           "align": "left"
          },
          "paper_bgcolor": "rgb(17,17,17)",
          "plot_bgcolor": "rgb(17,17,17)",
          "polar": {
           "bgcolor": "rgb(17,17,17)",
           "angularaxis": {
            "gridcolor": "#506784",
            "linecolor": "#506784",
            "ticks": ""
           },
           "radialaxis": {
            "gridcolor": "#506784",
            "linecolor": "#506784",
            "ticks": ""
           }
          },
          "ternary": {
           "bgcolor": "rgb(17,17,17)",
           "aaxis": {
            "gridcolor": "#506784",
            "linecolor": "#506784",
            "ticks": ""
           },
           "baxis": {
            "gridcolor": "#506784",
            "linecolor": "#506784",
            "ticks": ""
           },
           "caxis": {
            "gridcolor": "#506784",
            "linecolor": "#506784",
            "ticks": ""
           }
          },
          "coloraxis": {
           "colorbar": {
            "outlinewidth": 0,
            "ticks": ""
           }
          },
          "colorscale": {
           "sequential": [
            [
             0.0,
             "#0d0887"
            ],
            [
             0.1111111111111111,
             "#46039f"
            ],
            [
             0.2222222222222222,
             "#7201a8"
            ],
            [
             0.3333333333333333,
             "#9c179e"
            ],
            [
             0.4444444444444444,
             "#bd3786"
            ],
            [
             0.5555555555555556,
             "#d8576b"
            ],
            [
             0.6666666666666666,
             "#ed7953"
            ],
            [
             0.7777777777777778,
             "#fb9f3a"
            ],
            [
             0.8888888888888888,
             "#fdca26"
            ],
            [
             1.0,
             "#f0f921"
            ]
           ],
           "sequentialminus": [
            [
             0.0,
             "#0d0887"
            ],
            [
             0.1111111111111111,
             "#46039f"
            ],
            [
             0.2222222222222222,
             "#7201a8"
            ],
            [
             0.3333333333333333,
             "#9c179e"
            ],
            [
             0.4444444444444444,
             "#bd3786"
            ],
            [
             0.5555555555555556,
             "#d8576b"
            ],
            [
             0.6666666666666666,
             "#ed7953"
            ],
            [
             0.7777777777777778,
             "#fb9f3a"
            ],
            [
             0.8888888888888888,
             "#fdca26"
            ],
            [
             1.0,
             "#f0f921"
            ]
           ],
           "diverging": [
            [
             0,
             "#8e0152"
            ],
            [
             0.1,
             "#c51b7d"
            ],
            [
             0.2,
             "#de77ae"
            ],
            [
             0.3,
             "#f1b6da"
            ],
            [
             0.4,
             "#fde0ef"
            ],
            [
             0.5,
             "#f7f7f7"
            ],
            [
             0.6,
             "#e6f5d0"
            ],
            [
             0.7,
             "#b8e186"
            ],
            [
             0.8,
             "#7fbc41"
            ],
            [
             0.9,
             "#4d9221"
            ],
            [
             1,
             "#276419"
            ]
           ]
          },
          "xaxis": {
           "gridcolor": "#283442",
           "linecolor": "#506784",
           "ticks": "",
           "title": {
            "standoff": 15
           },
           "zerolinecolor": "#283442",
           "automargin": true,
           "zerolinewidth": 2
          },
          "yaxis": {
           "gridcolor": "#283442",
           "linecolor": "#506784",
           "ticks": "",
           "title": {
            "standoff": 15
           },
           "zerolinecolor": "#283442",
           "automargin": true,
           "zerolinewidth": 2
          },
          "scene": {
           "xaxis": {
            "backgroundcolor": "rgb(17,17,17)",
            "gridcolor": "#506784",
            "linecolor": "#506784",
            "showbackground": true,
            "ticks": "",
            "zerolinecolor": "#C8D4E3",
            "gridwidth": 2
           },
           "yaxis": {
            "backgroundcolor": "rgb(17,17,17)",
            "gridcolor": "#506784",
            "linecolor": "#506784",
            "showbackground": true,
            "ticks": "",
            "zerolinecolor": "#C8D4E3",
            "gridwidth": 2
           },
           "zaxis": {
            "backgroundcolor": "rgb(17,17,17)",
            "gridcolor": "#506784",
            "linecolor": "#506784",
            "showbackground": true,
            "ticks": "",
            "zerolinecolor": "#C8D4E3",
            "gridwidth": 2
           }
          },
          "shapedefaults": {
           "line": {
            "color": "#f2f5fa"
           }
          },
          "annotationdefaults": {
           "arrowcolor": "#f2f5fa",
           "arrowhead": 0,
           "arrowwidth": 1
          },
          "geo": {
           "bgcolor": "rgb(17,17,17)",
           "landcolor": "rgb(17,17,17)",
           "subunitcolor": "#506784",
           "showland": true,
           "showlakes": true,
           "lakecolor": "rgb(17,17,17)"
          },
          "title": {
           "x": 0.05
          },
          "updatemenudefaults": {
           "bgcolor": "#506784",
           "borderwidth": 0
          },
          "sliderdefaults": {
           "bgcolor": "#C8D4E3",
           "borderwidth": 1,
           "bordercolor": "rgb(17,17,17)",
           "tickwidth": 0
          },
          "mapbox": {
           "style": "dark"
          }
         }
        },
        "title": {
         "text": "Multiple approaches to overwrite NAN"
        },
        "xaxis": {
         "title": {
          "text": "Date"
         }
        },
        "yaxis": {
         "title": {
          "text": "Value"
         }
        }
       },
       "config": {
        "plotlyServerURL": "https://plot.ly"
       }
      },
      "text/html": [
       "<div>                            <div id=\"5d13cd21-8480-432e-9d52-dc4c5d0d2683\" class=\"plotly-graph-div\" style=\"height:525px; width:100%;\"></div>            <script type=\"text/javascript\">                require([\"plotly\"], function(Plotly) {                    window.PLOTLYENV=window.PLOTLYENV || {};                                    if (document.getElementById(\"5d13cd21-8480-432e-9d52-dc4c5d0d2683\")) {                    Plotly.newPlot(                        \"5d13cd21-8480-432e-9d52-dc4c5d0d2683\",                        [{\"mode\":\"lines\",\"name\":\"Raw dataset\",\"x\":[\"2002-01-01T00:00:00\",\"2002-02-01T00:00:00\",\"2002-03-01T00:00:00\",\"2002-04-01T00:00:00\",\"2002-05-01T00:00:00\",\"2002-06-01T00:00:00\",\"2002-07-01T00:00:00\",\"2002-08-01T00:00:00\",\"2002-09-01T00:00:00\",\"2002-10-01T00:00:00\",\"2002-11-01T00:00:00\",\"2002-12-01T00:00:00\",\"2003-01-01T00:00:00\",\"2003-03-01T00:00:00\",\"2003-06-01T00:00:00\",\"2003-09-01T00:00:00\",\"2003-12-01T00:00:00\",\"2005-03-01T00:00:00\",\"2005-06-01T00:00:00\",\"2005-09-01T00:00:00\",\"2005-12-01T00:00:00\",\"2006-03-01T00:00:00\",\"2006-06-01T00:00:00\",\"2007-03-01T00:00:00\",\"2008-02-01T00:00:00\",\"2008-03-01T00:00:00\",\"2008-04-01T00:00:00\",\"2008-05-01T00:00:00\",\"2008-06-01T00:00:00\",\"2008-07-01T00:00:00\",\"2008-08-01T00:00:00\",\"2008-09-01T00:00:00\",\"2008-10-01T00:00:00\",\"2008-11-01T00:00:00\",\"2008-12-01T00:00:00\",\"2009-01-01T00:00:00\",\"2009-02-01T00:00:00\",\"2009-07-01T00:00:00\",\"2009-08-01T00:00:00\",\"2009-09-01T00:00:00\",\"2009-10-01T00:00:00\",\"2009-11-01T00:00:00\",\"2009-12-01T00:00:00\",\"2010-01-01T00:00:00\",\"2010-02-01T00:00:00\",\"2010-03-01T00:00:00\",\"2010-04-01T00:00:00\",\"2010-05-01T00:00:00\",\"2010-06-01T00:00:00\",\"2010-07-01T00:00:00\",\"2010-08-01T00:00:00\",\"2010-09-01T00:00:00\",\"2010-10-01T00:00:00\",\"2010-11-01T00:00:00\",\"2010-12-01T00:00:00\",\"2011-01-01T00:00:00\",\"2011-02-01T00:00:00\",\"2011-03-01T00:00:00\",\"2011-04-01T00:00:00\",\"2011-05-01T00:00:00\",\"2011-06-01T00:00:00\",\"2011-07-01T00:00:00\",\"2011-08-01T00:00:00\",\"2011-09-01T00:00:00\",\"2011-10-01T00:00:00\",\"2011-11-01T00:00:00\",\"2011-12-01T00:00:00\",\"2012-01-01T00:00:00\",\"2012-02-01T00:00:00\",\"2012-03-01T00:00:00\",\"2012-04-01T00:00:00\",\"2012-05-01T00:00:00\",\"2012-07-01T00:00:00\",\"2012-08-01T00:00:00\",\"2012-09-01T00:00:00\",\"2012-10-01T00:00:00\",\"2012-11-01T00:00:00\",\"2012-12-01T00:00:00\",\"2013-01-01T00:00:00\",\"2013-02-01T00:00:00\",\"2013-03-01T00:00:00\",\"2013-04-01T00:00:00\",\"2013-05-01T00:00:00\",\"2013-06-01T00:00:00\",\"2013-07-01T00:00:00\",\"2013-08-01T00:00:00\",\"2013-09-01T00:00:00\",\"2013-10-01T00:00:00\",\"2013-11-01T00:00:00\",\"2013-12-01T00:00:00\",\"2014-01-01T00:00:00\",\"2014-02-01T00:00:00\",\"2014-03-01T00:00:00\",\"2014-04-01T00:00:00\",\"2014-05-01T00:00:00\",\"2014-06-01T00:00:00\",\"2014-07-01T00:00:00\",\"2014-08-01T00:00:00\",\"2014-09-01T00:00:00\",\"2014-10-01T00:00:00\",\"2015-01-01T00:00:00\",\"2015-02-01T00:00:00\",\"2015-03-01T00:00:00\",\"2015-04-01T00:00:00\",\"2015-05-01T00:00:00\",\"2015-06-01T00:00:00\",\"2015-07-01T00:00:00\",\"2015-08-01T00:00:00\",\"2015-09-01T00:00:00\",\"2015-10-01T00:00:00\",\"2016-01-01T00:00:00\",\"2016-02-01T00:00:00\",\"2016-04-01T00:00:00\",\"2016-05-01T00:00:00\",\"2016-06-01T00:00:00\",\"2016-07-01T00:00:00\",\"2016-08-01T00:00:00\",\"2016-09-01T00:00:00\",\"2016-10-01T00:00:00\",\"2016-11-01T00:00:00\",\"2017-01-01T00:00:00\",\"2017-02-01T00:00:00\",\"2017-03-01T00:00:00\"],\"y\":[1.3254,1.2973,1.5165,1.6206,1.6815,1.8395,1.9062,1.7515,1.1278,0.9524,1.0291,0.9962,0.9508,0.9227,0.9315,0.7175,0.6294,1.3023,1.7349,1.1827,1.174,1.0697,1.1215,0.9208,1.357,1.3925,1.2822,1.4957,1.5194,1.7579,1.8979,1.4775,1.2782,1.2907,1.1815,1.0076,0.9948,1.3038,1.1455,0.8843,0.8476,0.8373,1.208,1.0652,1.0748,1.1321,1.2654,1.2289,1.3117,1.2957,1.2046,0.906,0.8949,1.0314,1.1596,1.0846,1.0221,1.0577,1.2023,1.1712,1.1499,1.1994,1.1381,1.0009,0.8902,1.0765,1.2268,1.2486,1.2111,1.2661,1.3779,1.475,1.6596,1.5487,1.3108,1.1869,1.4432,1.5026,1.4703,1.4911,1.5679,1.6642,1.7034,1.6639,1.8825,1.6771,1.256,1.166,1.4031,1.4083,1.2881,1.3156,1.3264,1.2798,1.27,1.3043,1.1951,1.0814,1.133,1.0622,0.8507,0.8649,0.779,0.7588,0.7717,0.7893,0.729,0.7462,0.754,0.7188,0.7199,0.6245,0.7588,0.9036,0.8446,0.599,0.6112,0.6049,0.6194,0.4,0.6325,64.3312,0.7898],\"type\":\"scatter\"},{\"mode\":\"lines\",\"name\":\"Mean adjust\",\"x\":[\"2002-01-01T00:00:00\",\"2002-02-01T00:00:00\",\"2002-03-01T00:00:00\",\"2002-04-01T00:00:00\",\"2002-05-01T00:00:00\",\"2002-06-01T00:00:00\",\"2002-07-01T00:00:00\",\"2002-08-01T00:00:00\",\"2002-09-01T00:00:00\",\"2002-10-01T00:00:00\",\"2002-11-01T00:00:00\",\"2002-12-01T00:00:00\",\"2003-01-01T00:00:00\",\"2003-02-01T00:00:00\",\"2003-03-01T00:00:00\",\"2003-04-01T00:00:00\",\"2003-05-01T00:00:00\",\"2003-06-01T00:00:00\",\"2003-07-01T00:00:00\",\"2003-08-01T00:00:00\",\"2003-09-01T00:00:00\",\"2003-10-01T00:00:00\",\"2003-11-01T00:00:00\",\"2003-12-01T00:00:00\",\"2004-01-01T00:00:00\",\"2004-02-01T00:00:00\",\"2004-03-01T00:00:00\",\"2004-04-01T00:00:00\",\"2004-05-01T00:00:00\",\"2004-06-01T00:00:00\",\"2004-07-01T00:00:00\",\"2004-08-01T00:00:00\",\"2004-09-01T00:00:00\",\"2004-10-01T00:00:00\",\"2004-11-01T00:00:00\",\"2004-12-01T00:00:00\",\"2005-01-01T00:00:00\",\"2005-02-01T00:00:00\",\"2005-03-01T00:00:00\",\"2005-04-01T00:00:00\",\"2005-05-01T00:00:00\",\"2005-06-01T00:00:00\",\"2005-07-01T00:00:00\",\"2005-08-01T00:00:00\",\"2005-09-01T00:00:00\",\"2005-10-01T00:00:00\",\"2005-11-01T00:00:00\",\"2005-12-01T00:00:00\",\"2006-01-01T00:00:00\",\"2006-02-01T00:00:00\",\"2006-03-01T00:00:00\",\"2006-04-01T00:00:00\",\"2006-05-01T00:00:00\",\"2006-06-01T00:00:00\",\"2006-07-01T00:00:00\",\"2006-08-01T00:00:00\",\"2006-09-01T00:00:00\",\"2006-10-01T00:00:00\",\"2006-11-01T00:00:00\",\"2006-12-01T00:00:00\",\"2007-01-01T00:00:00\",\"2007-02-01T00:00:00\",\"2007-03-01T00:00:00\",\"2007-04-01T00:00:00\",\"2007-05-01T00:00:00\",\"2007-06-01T00:00:00\",\"2007-07-01T00:00:00\",\"2007-08-01T00:00:00\",\"2007-09-01T00:00:00\",\"2007-10-01T00:00:00\",\"2007-11-01T00:00:00\",\"2007-12-01T00:00:00\",\"2008-01-01T00:00:00\",\"2008-02-01T00:00:00\",\"2008-03-01T00:00:00\",\"2008-04-01T00:00:00\",\"2008-05-01T00:00:00\",\"2008-06-01T00:00:00\",\"2008-07-01T00:00:00\",\"2008-08-01T00:00:00\",\"2008-09-01T00:00:00\",\"2008-10-01T00:00:00\",\"2008-11-01T00:00:00\",\"2008-12-01T00:00:00\",\"2009-01-01T00:00:00\",\"2009-02-01T00:00:00\",\"2009-03-01T00:00:00\",\"2009-04-01T00:00:00\",\"2009-05-01T00:00:00\",\"2009-06-01T00:00:00\",\"2009-07-01T00:00:00\",\"2009-08-01T00:00:00\",\"2009-09-01T00:00:00\",\"2009-10-01T00:00:00\",\"2009-11-01T00:00:00\",\"2009-12-01T00:00:00\",\"2010-01-01T00:00:00\",\"2010-02-01T00:00:00\",\"2010-03-01T00:00:00\",\"2010-04-01T00:00:00\",\"2010-05-01T00:00:00\",\"2010-06-01T00:00:00\",\"2010-07-01T00:00:00\",\"2010-08-01T00:00:00\",\"2010-09-01T00:00:00\",\"2010-10-01T00:00:00\",\"2010-11-01T00:00:00\",\"2010-12-01T00:00:00\",\"2011-01-01T00:00:00\",\"2011-02-01T00:00:00\",\"2011-03-01T00:00:00\",\"2011-04-01T00:00:00\",\"2011-05-01T00:00:00\",\"2011-06-01T00:00:00\",\"2011-07-01T00:00:00\",\"2011-08-01T00:00:00\",\"2011-09-01T00:00:00\",\"2011-10-01T00:00:00\",\"2011-11-01T00:00:00\",\"2011-12-01T00:00:00\",\"2012-01-01T00:00:00\",\"2012-02-01T00:00:00\",\"2012-03-01T00:00:00\",\"2012-04-01T00:00:00\",\"2012-05-01T00:00:00\",\"2012-06-01T00:00:00\",\"2012-07-01T00:00:00\",\"2012-08-01T00:00:00\",\"2012-09-01T00:00:00\",\"2012-10-01T00:00:00\",\"2012-11-01T00:00:00\",\"2012-12-01T00:00:00\",\"2013-01-01T00:00:00\",\"2013-02-01T00:00:00\",\"2013-03-01T00:00:00\",\"2013-04-01T00:00:00\",\"2013-05-01T00:00:00\",\"2013-06-01T00:00:00\",\"2013-07-01T00:00:00\",\"2013-08-01T00:00:00\",\"2013-09-01T00:00:00\",\"2013-10-01T00:00:00\",\"2013-11-01T00:00:00\",\"2013-12-01T00:00:00\",\"2014-01-01T00:00:00\",\"2014-02-01T00:00:00\",\"2014-03-01T00:00:00\",\"2014-04-01T00:00:00\",\"2014-05-01T00:00:00\",\"2014-06-01T00:00:00\",\"2014-07-01T00:00:00\",\"2014-08-01T00:00:00\",\"2014-09-01T00:00:00\",\"2014-10-01T00:00:00\",\"2014-11-01T00:00:00\",\"2014-12-01T00:00:00\",\"2015-01-01T00:00:00\",\"2015-02-01T00:00:00\",\"2015-03-01T00:00:00\",\"2015-04-01T00:00:00\",\"2015-05-01T00:00:00\",\"2015-06-01T00:00:00\",\"2015-07-01T00:00:00\",\"2015-08-01T00:00:00\",\"2015-09-01T00:00:00\",\"2015-10-01T00:00:00\",\"2015-11-01T00:00:00\",\"2015-12-01T00:00:00\",\"2016-01-01T00:00:00\",\"2016-02-01T00:00:00\",\"2016-03-01T00:00:00\",\"2016-04-01T00:00:00\",\"2016-05-01T00:00:00\",\"2016-06-01T00:00:00\",\"2016-07-01T00:00:00\",\"2016-08-01T00:00:00\",\"2016-09-01T00:00:00\",\"2016-10-01T00:00:00\",\"2016-11-01T00:00:00\",\"2016-12-01T00:00:00\",\"2017-01-01T00:00:00\",\"2017-02-01T00:00:00\",\"2017-03-01T00:00:00\"],\"y\":[1.3254,1.2973,1.5165,1.6206,1.6815,1.8395,1.9062,1.7515,1.1278,0.9524,1.0291,0.9962,0.9508,1.3842153846153844,0.9227,1.35125,1.35125,0.9315,1.3232666666666666,1.3232666666666666,0.7175,1.2854062499999999,1.2854062499999999,0.6294,1.2468176470588235,1.2468176470588235,1.2468176470588235,1.2468176470588235,1.2468176470588235,1.2468176470588235,1.2468176470588235,1.2468176470588235,1.2468176470588235,1.2468176470588235,1.2468176470588235,1.2468176470588235,1.2468176470588235,1.2468176470588235,1.3023,1.2499,1.2499,1.7349,1.2754263157894736,1.2754263157894736,1.1827,1.27079,1.27079,1.174,1.2661809523809524,1.2661809523809524,1.0697,1.25725,1.25725,1.1215,1.2513478260869564,1.2513478260869564,1.2513478260869564,1.2513478260869564,1.2513478260869564,1.2513478260869564,1.2513478260869564,1.2513478260869564,0.9208,1.2375749999999999,1.2375749999999999,1.2375749999999999,1.2375749999999999,1.2375749999999999,1.2375749999999999,1.2375749999999999,1.2375749999999999,1.2375749999999999,1.2375749999999999,1.357,1.3925,1.2822,1.4957,1.5194,1.7579,1.8979,1.4775,1.2782,1.2907,1.1815,1.0076,0.9948,1.2874243243243244,1.2874243243243244,1.2874243243243244,1.2874243243243244,1.3038,1.1455,0.8843,0.8476,0.8373,1.208,1.0652,1.0748,1.1321,1.2654,1.2289,1.3117,1.2957,1.2046,0.906,0.8949,1.0314,1.1596,1.0846,1.0221,1.0577,1.2023,1.1712,1.1499,1.1994,1.1381,1.0009,0.8902,1.0765,1.2268,1.2486,1.2111,1.2661,1.3779,1.475,1.211526388888889,1.6596,1.5487,1.3108,1.1869,1.4432,1.5026,1.4703,1.4911,1.5679,1.6642,1.7034,1.6639,1.8825,1.6771,1.256,1.166,1.4031,1.4083,1.2881,1.3156,1.3264,1.2798,1.27,1.3043,1.1951,1.0814,1.133,1.0622,1.264914,1.264914,0.8507,0.8649,0.779,0.7588,0.7717,0.7893,0.729,0.7462,0.754,0.7188,1.220489090909091,1.220489090909091,0.7199,0.6245,1.2106982142857141,0.7588,0.9036,0.8446,0.599,0.6112,0.6049,0.6194,0.4,1.1744975,0.6325,64.3312,0.7898],\"type\":\"scatter\"},{\"mode\":\"lines\",\"name\":\"12 months Rolling mean adjust\",\"x\":[\"2002-01-01T00:00:00\",\"2002-02-01T00:00:00\",\"2002-03-01T00:00:00\",\"2002-04-01T00:00:00\",\"2002-05-01T00:00:00\",\"2002-06-01T00:00:00\",\"2002-07-01T00:00:00\",\"2002-08-01T00:00:00\",\"2002-09-01T00:00:00\",\"2002-10-01T00:00:00\",\"2002-11-01T00:00:00\",\"2002-12-01T00:00:00\",\"2003-01-01T00:00:00\",\"2003-02-01T00:00:00\",\"2003-03-01T00:00:00\",\"2003-04-01T00:00:00\",\"2003-05-01T00:00:00\",\"2003-06-01T00:00:00\",\"2003-07-01T00:00:00\",\"2003-08-01T00:00:00\",\"2003-09-01T00:00:00\",\"2003-10-01T00:00:00\",\"2003-11-01T00:00:00\",\"2003-12-01T00:00:00\",\"2004-01-01T00:00:00\",\"2004-02-01T00:00:00\",\"2004-03-01T00:00:00\",\"2004-04-01T00:00:00\",\"2004-05-01T00:00:00\",\"2004-06-01T00:00:00\",\"2004-07-01T00:00:00\",\"2004-08-01T00:00:00\",\"2004-09-01T00:00:00\",\"2004-10-01T00:00:00\",\"2004-11-01T00:00:00\",\"2004-12-01T00:00:00\",\"2005-01-01T00:00:00\",\"2005-02-01T00:00:00\",\"2005-03-01T00:00:00\",\"2005-04-01T00:00:00\",\"2005-05-01T00:00:00\",\"2005-06-01T00:00:00\",\"2005-07-01T00:00:00\",\"2005-08-01T00:00:00\",\"2005-09-01T00:00:00\",\"2005-10-01T00:00:00\",\"2005-11-01T00:00:00\",\"2005-12-01T00:00:00\",\"2006-01-01T00:00:00\",\"2006-02-01T00:00:00\",\"2006-03-01T00:00:00\",\"2006-04-01T00:00:00\",\"2006-05-01T00:00:00\",\"2006-06-01T00:00:00\",\"2006-07-01T00:00:00\",\"2006-08-01T00:00:00\",\"2006-09-01T00:00:00\",\"2006-10-01T00:00:00\",\"2006-11-01T00:00:00\",\"2006-12-01T00:00:00\",\"2007-01-01T00:00:00\",\"2007-02-01T00:00:00\",\"2007-03-01T00:00:00\",\"2007-04-01T00:00:00\",\"2007-05-01T00:00:00\",\"2007-06-01T00:00:00\",\"2007-07-01T00:00:00\",\"2007-08-01T00:00:00\",\"2007-09-01T00:00:00\",\"2007-10-01T00:00:00\",\"2007-11-01T00:00:00\",\"2007-12-01T00:00:00\",\"2008-01-01T00:00:00\",\"2008-02-01T00:00:00\",\"2008-03-01T00:00:00\",\"2008-04-01T00:00:00\",\"2008-05-01T00:00:00\",\"2008-06-01T00:00:00\",\"2008-07-01T00:00:00\",\"2008-08-01T00:00:00\",\"2008-09-01T00:00:00\",\"2008-10-01T00:00:00\",\"2008-11-01T00:00:00\",\"2008-12-01T00:00:00\",\"2009-01-01T00:00:00\",\"2009-02-01T00:00:00\",\"2009-03-01T00:00:00\",\"2009-04-01T00:00:00\",\"2009-05-01T00:00:00\",\"2009-06-01T00:00:00\",\"2009-07-01T00:00:00\",\"2009-08-01T00:00:00\",\"2009-09-01T00:00:00\",\"2009-10-01T00:00:00\",\"2009-11-01T00:00:00\",\"2009-12-01T00:00:00\",\"2010-01-01T00:00:00\",\"2010-02-01T00:00:00\",\"2010-03-01T00:00:00\",\"2010-04-01T00:00:00\",\"2010-05-01T00:00:00\",\"2010-06-01T00:00:00\",\"2010-07-01T00:00:00\",\"2010-08-01T00:00:00\",\"2010-09-01T00:00:00\",\"2010-10-01T00:00:00\",\"2010-11-01T00:00:00\",\"2010-12-01T00:00:00\",\"2011-01-01T00:00:00\",\"2011-02-01T00:00:00\",\"2011-03-01T00:00:00\",\"2011-04-01T00:00:00\",\"2011-05-01T00:00:00\",\"2011-06-01T00:00:00\",\"2011-07-01T00:00:00\",\"2011-08-01T00:00:00\",\"2011-09-01T00:00:00\",\"2011-10-01T00:00:00\",\"2011-11-01T00:00:00\",\"2011-12-01T00:00:00\",\"2012-01-01T00:00:00\",\"2012-02-01T00:00:00\",\"2012-03-01T00:00:00\",\"2012-04-01T00:00:00\",\"2012-05-01T00:00:00\",\"2012-06-01T00:00:00\",\"2012-07-01T00:00:00\",\"2012-08-01T00:00:00\",\"2012-09-01T00:00:00\",\"2012-10-01T00:00:00\",\"2012-11-01T00:00:00\",\"2012-12-01T00:00:00\",\"2013-01-01T00:00:00\",\"2013-02-01T00:00:00\",\"2013-03-01T00:00:00\",\"2013-04-01T00:00:00\",\"2013-05-01T00:00:00\",\"2013-06-01T00:00:00\",\"2013-07-01T00:00:00\",\"2013-08-01T00:00:00\",\"2013-09-01T00:00:00\",\"2013-10-01T00:00:00\",\"2013-11-01T00:00:00\",\"2013-12-01T00:00:00\",\"2014-01-01T00:00:00\",\"2014-02-01T00:00:00\",\"2014-03-01T00:00:00\",\"2014-04-01T00:00:00\",\"2014-05-01T00:00:00\",\"2014-06-01T00:00:00\",\"2014-07-01T00:00:00\",\"2014-08-01T00:00:00\",\"2014-09-01T00:00:00\",\"2014-10-01T00:00:00\",\"2014-11-01T00:00:00\",\"2014-12-01T00:00:00\",\"2015-01-01T00:00:00\",\"2015-02-01T00:00:00\",\"2015-03-01T00:00:00\",\"2015-04-01T00:00:00\",\"2015-05-01T00:00:00\",\"2015-06-01T00:00:00\",\"2015-07-01T00:00:00\",\"2015-08-01T00:00:00\",\"2015-09-01T00:00:00\",\"2015-10-01T00:00:00\",\"2015-11-01T00:00:00\",\"2015-12-01T00:00:00\",\"2016-01-01T00:00:00\",\"2016-02-01T00:00:00\",\"2016-03-01T00:00:00\",\"2016-04-01T00:00:00\",\"2016-05-01T00:00:00\",\"2016-06-01T00:00:00\",\"2016-07-01T00:00:00\",\"2016-08-01T00:00:00\",\"2016-09-01T00:00:00\",\"2016-10-01T00:00:00\",\"2016-11-01T00:00:00\",\"2016-12-01T00:00:00\",\"2017-01-01T00:00:00\",\"2017-02-01T00:00:00\",\"2017-03-01T00:00:00\"],\"y\":[1.3254,1.2973,1.5165,1.6206,1.6815,1.8395,1.9062,1.7515,1.1278,0.9524,1.0291,0.9962,0.9508,0.9508,0.9227,0.9227,0.9227,0.9315,0.9315,0.9315,0.7175,0.7175,0.7175,0.6294,0.6294,0.6294,0.6294,0.6294,0.6294,0.6294,0.6294,0.6294,0.6294,0.6294,0.6294,0.6294,0.6294,0.6294,1.3023,1.3023,1.3023,1.7349,1.7349,1.7349,1.1827,1.1827,1.1827,1.174,1.174,1.174,1.0697,1.0697,1.0697,1.1215,1.1215,1.1215,1.1215,1.1215,1.1215,1.1215,1.1215,1.1215,0.9208,0.9208,0.9208,0.9208,0.9208,0.9208,0.9208,0.9208,0.9208,0.9208,0.9208,1.357,1.3925,1.2822,1.4957,1.5194,1.7579,1.8979,1.4775,1.2782,1.2907,1.1815,1.0076,0.9948,0.9948,0.9948,0.9948,0.9948,1.3038,1.1455,0.8843,0.8476,0.8373,1.208,1.0652,1.0748,1.1321,1.2654,1.2289,1.3117,1.2957,1.2046,0.906,0.8949,1.0314,1.1596,1.0846,1.0221,1.0577,1.2023,1.1712,1.1499,1.1994,1.1381,1.0009,0.8902,1.0765,1.2268,1.2486,1.2111,1.2661,1.3779,1.475,1.475,1.6596,1.5487,1.3108,1.1869,1.4432,1.5026,1.4703,1.4911,1.5679,1.6642,1.7034,1.6639,1.8825,1.6771,1.256,1.166,1.4031,1.4083,1.2881,1.3156,1.3264,1.2798,1.27,1.3043,1.1951,1.0814,1.133,1.0622,1.0622,1.0622,0.8507,0.8649,0.779,0.7588,0.7717,0.7893,0.729,0.7462,0.754,0.7188,0.7188,0.7188,0.7199,0.6245,0.6245,0.7588,0.9036,0.8446,0.599,0.6112,0.6049,0.6194,0.4,0.4,0.6325,64.3312,0.7898],\"type\":\"scatter\"},{\"mode\":\"lines\",\"name\":\"6 months Rolling mean adjust\",\"x\":[\"2002-01-01T00:00:00\",\"2002-02-01T00:00:00\",\"2002-03-01T00:00:00\",\"2002-04-01T00:00:00\",\"2002-05-01T00:00:00\",\"2002-06-01T00:00:00\",\"2002-07-01T00:00:00\",\"2002-08-01T00:00:00\",\"2002-09-01T00:00:00\",\"2002-10-01T00:00:00\",\"2002-11-01T00:00:00\",\"2002-12-01T00:00:00\",\"2003-01-01T00:00:00\",\"2003-02-01T00:00:00\",\"2003-03-01T00:00:00\",\"2003-04-01T00:00:00\",\"2003-05-01T00:00:00\",\"2003-06-01T00:00:00\",\"2003-07-01T00:00:00\",\"2003-08-01T00:00:00\",\"2003-09-01T00:00:00\",\"2003-10-01T00:00:00\",\"2003-11-01T00:00:00\",\"2003-12-01T00:00:00\",\"2004-01-01T00:00:00\",\"2004-02-01T00:00:00\",\"2004-03-01T00:00:00\",\"2004-04-01T00:00:00\",\"2004-05-01T00:00:00\",\"2004-06-01T00:00:00\",\"2004-07-01T00:00:00\",\"2004-08-01T00:00:00\",\"2004-09-01T00:00:00\",\"2004-10-01T00:00:00\",\"2004-11-01T00:00:00\",\"2004-12-01T00:00:00\",\"2005-01-01T00:00:00\",\"2005-02-01T00:00:00\",\"2005-03-01T00:00:00\",\"2005-04-01T00:00:00\",\"2005-05-01T00:00:00\",\"2005-06-01T00:00:00\",\"2005-07-01T00:00:00\",\"2005-08-01T00:00:00\",\"2005-09-01T00:00:00\",\"2005-10-01T00:00:00\",\"2005-11-01T00:00:00\",\"2005-12-01T00:00:00\",\"2006-01-01T00:00:00\",\"2006-02-01T00:00:00\",\"2006-03-01T00:00:00\",\"2006-04-01T00:00:00\",\"2006-05-01T00:00:00\",\"2006-06-01T00:00:00\",\"2006-07-01T00:00:00\",\"2006-08-01T00:00:00\",\"2006-09-01T00:00:00\",\"2006-10-01T00:00:00\",\"2006-11-01T00:00:00\",\"2006-12-01T00:00:00\",\"2007-01-01T00:00:00\",\"2007-02-01T00:00:00\",\"2007-03-01T00:00:00\",\"2007-04-01T00:00:00\",\"2007-05-01T00:00:00\",\"2007-06-01T00:00:00\",\"2007-07-01T00:00:00\",\"2007-08-01T00:00:00\",\"2007-09-01T00:00:00\",\"2007-10-01T00:00:00\",\"2007-11-01T00:00:00\",\"2007-12-01T00:00:00\",\"2008-01-01T00:00:00\",\"2008-02-01T00:00:00\",\"2008-03-01T00:00:00\",\"2008-04-01T00:00:00\",\"2008-05-01T00:00:00\",\"2008-06-01T00:00:00\",\"2008-07-01T00:00:00\",\"2008-08-01T00:00:00\",\"2008-09-01T00:00:00\",\"2008-10-01T00:00:00\",\"2008-11-01T00:00:00\",\"2008-12-01T00:00:00\",\"2009-01-01T00:00:00\",\"2009-02-01T00:00:00\",\"2009-03-01T00:00:00\",\"2009-04-01T00:00:00\",\"2009-05-01T00:00:00\",\"2009-06-01T00:00:00\",\"2009-07-01T00:00:00\",\"2009-08-01T00:00:00\",\"2009-09-01T00:00:00\",\"2009-10-01T00:00:00\",\"2009-11-01T00:00:00\",\"2009-12-01T00:00:00\",\"2010-01-01T00:00:00\",\"2010-02-01T00:00:00\",\"2010-03-01T00:00:00\",\"2010-04-01T00:00:00\",\"2010-05-01T00:00:00\",\"2010-06-01T00:00:00\",\"2010-07-01T00:00:00\",\"2010-08-01T00:00:00\",\"2010-09-01T00:00:00\",\"2010-10-01T00:00:00\",\"2010-11-01T00:00:00\",\"2010-12-01T00:00:00\",\"2011-01-01T00:00:00\",\"2011-02-01T00:00:00\",\"2011-03-01T00:00:00\",\"2011-04-01T00:00:00\",\"2011-05-01T00:00:00\",\"2011-06-01T00:00:00\",\"2011-07-01T00:00:00\",\"2011-08-01T00:00:00\",\"2011-09-01T00:00:00\",\"2011-10-01T00:00:00\",\"2011-11-01T00:00:00\",\"2011-12-01T00:00:00\",\"2012-01-01T00:00:00\",\"2012-02-01T00:00:00\",\"2012-03-01T00:00:00\",\"2012-04-01T00:00:00\",\"2012-05-01T00:00:00\",\"2012-06-01T00:00:00\",\"2012-07-01T00:00:00\",\"2012-08-01T00:00:00\",\"2012-09-01T00:00:00\",\"2012-10-01T00:00:00\",\"2012-11-01T00:00:00\",\"2012-12-01T00:00:00\",\"2013-01-01T00:00:00\",\"2013-02-01T00:00:00\",\"2013-03-01T00:00:00\",\"2013-04-01T00:00:00\",\"2013-05-01T00:00:00\",\"2013-06-01T00:00:00\",\"2013-07-01T00:00:00\",\"2013-08-01T00:00:00\",\"2013-09-01T00:00:00\",\"2013-10-01T00:00:00\",\"2013-11-01T00:00:00\",\"2013-12-01T00:00:00\",\"2014-01-01T00:00:00\",\"2014-02-01T00:00:00\",\"2014-03-01T00:00:00\",\"2014-04-01T00:00:00\",\"2014-05-01T00:00:00\",\"2014-06-01T00:00:00\",\"2014-07-01T00:00:00\",\"2014-08-01T00:00:00\",\"2014-09-01T00:00:00\",\"2014-10-01T00:00:00\",\"2014-11-01T00:00:00\",\"2014-12-01T00:00:00\",\"2015-01-01T00:00:00\",\"2015-02-01T00:00:00\",\"2015-03-01T00:00:00\",\"2015-04-01T00:00:00\",\"2015-05-01T00:00:00\",\"2015-06-01T00:00:00\",\"2015-07-01T00:00:00\",\"2015-08-01T00:00:00\",\"2015-09-01T00:00:00\",\"2015-10-01T00:00:00\",\"2015-11-01T00:00:00\",\"2015-12-01T00:00:00\",\"2016-01-01T00:00:00\",\"2016-02-01T00:00:00\",\"2016-03-01T00:00:00\",\"2016-04-01T00:00:00\",\"2016-05-01T00:00:00\",\"2016-06-01T00:00:00\",\"2016-07-01T00:00:00\",\"2016-08-01T00:00:00\",\"2016-09-01T00:00:00\",\"2016-10-01T00:00:00\",\"2016-11-01T00:00:00\",\"2016-12-01T00:00:00\",\"2017-01-01T00:00:00\",\"2017-02-01T00:00:00\",\"2017-03-01T00:00:00\"],\"y\":[1.3254,1.2973,1.5165,1.6206,1.6815,1.8395,1.9062,1.7515,1.1278,0.9524,1.0291,0.9962,0.9508,0.9508,0.9227,0.9227,0.9227,0.9315,0.9315,0.9315,0.7175,0.7175,0.7175,0.6294,0.6294,0.6294,0.6294,0.6294,0.6294,0.6294,0.6294,0.6294,0.6294,0.6294,0.6294,0.6294,0.6294,0.6294,1.3023,1.3023,1.3023,1.7349,1.7349,1.7349,1.1827,1.1827,1.1827,1.174,1.174,1.174,1.0697,1.0697,1.0697,1.1215,1.1215,1.1215,1.1215,1.1215,1.1215,1.1215,1.1215,1.1215,0.9208,0.9208,0.9208,0.9208,0.9208,0.9208,0.9208,0.9208,0.9208,0.9208,0.9208,1.357,1.3925,1.2822,1.4957,1.5194,1.7579,1.8979,1.4775,1.2782,1.2907,1.1815,1.0076,0.9948,0.9948,0.9948,0.9948,0.9948,1.3038,1.1455,0.8843,0.8476,0.8373,1.208,1.0652,1.0748,1.1321,1.2654,1.2289,1.3117,1.2957,1.2046,0.906,0.8949,1.0314,1.1596,1.0846,1.0221,1.0577,1.2023,1.1712,1.1499,1.1994,1.1381,1.0009,0.8902,1.0765,1.2268,1.2486,1.2111,1.2661,1.3779,1.475,1.475,1.6596,1.5487,1.3108,1.1869,1.4432,1.5026,1.4703,1.4911,1.5679,1.6642,1.7034,1.6639,1.8825,1.6771,1.256,1.166,1.4031,1.4083,1.2881,1.3156,1.3264,1.2798,1.27,1.3043,1.1951,1.0814,1.133,1.0622,1.0622,1.0622,0.8507,0.8649,0.779,0.7588,0.7717,0.7893,0.729,0.7462,0.754,0.7188,0.7188,0.7188,0.7199,0.6245,0.6245,0.7588,0.9036,0.8446,0.599,0.6112,0.6049,0.6194,0.4,0.4,0.6325,64.3312,0.7898],\"type\":\"scatter\"},{\"mode\":\"lines\",\"name\":\"3 months Rolling mean adjust\",\"x\":[\"2002-01-01T00:00:00\",\"2002-02-01T00:00:00\",\"2002-03-01T00:00:00\",\"2002-04-01T00:00:00\",\"2002-05-01T00:00:00\",\"2002-06-01T00:00:00\",\"2002-07-01T00:00:00\",\"2002-08-01T00:00:00\",\"2002-09-01T00:00:00\",\"2002-10-01T00:00:00\",\"2002-11-01T00:00:00\",\"2002-12-01T00:00:00\",\"2003-01-01T00:00:00\",\"2003-02-01T00:00:00\",\"2003-03-01T00:00:00\",\"2003-04-01T00:00:00\",\"2003-05-01T00:00:00\",\"2003-06-01T00:00:00\",\"2003-07-01T00:00:00\",\"2003-08-01T00:00:00\",\"2003-09-01T00:00:00\",\"2003-10-01T00:00:00\",\"2003-11-01T00:00:00\",\"2003-12-01T00:00:00\",\"2004-01-01T00:00:00\",\"2004-02-01T00:00:00\",\"2004-03-01T00:00:00\",\"2004-04-01T00:00:00\",\"2004-05-01T00:00:00\",\"2004-06-01T00:00:00\",\"2004-07-01T00:00:00\",\"2004-08-01T00:00:00\",\"2004-09-01T00:00:00\",\"2004-10-01T00:00:00\",\"2004-11-01T00:00:00\",\"2004-12-01T00:00:00\",\"2005-01-01T00:00:00\",\"2005-02-01T00:00:00\",\"2005-03-01T00:00:00\",\"2005-04-01T00:00:00\",\"2005-05-01T00:00:00\",\"2005-06-01T00:00:00\",\"2005-07-01T00:00:00\",\"2005-08-01T00:00:00\",\"2005-09-01T00:00:00\",\"2005-10-01T00:00:00\",\"2005-11-01T00:00:00\",\"2005-12-01T00:00:00\",\"2006-01-01T00:00:00\",\"2006-02-01T00:00:00\",\"2006-03-01T00:00:00\",\"2006-04-01T00:00:00\",\"2006-05-01T00:00:00\",\"2006-06-01T00:00:00\",\"2006-07-01T00:00:00\",\"2006-08-01T00:00:00\",\"2006-09-01T00:00:00\",\"2006-10-01T00:00:00\",\"2006-11-01T00:00:00\",\"2006-12-01T00:00:00\",\"2007-01-01T00:00:00\",\"2007-02-01T00:00:00\",\"2007-03-01T00:00:00\",\"2007-04-01T00:00:00\",\"2007-05-01T00:00:00\",\"2007-06-01T00:00:00\",\"2007-07-01T00:00:00\",\"2007-08-01T00:00:00\",\"2007-09-01T00:00:00\",\"2007-10-01T00:00:00\",\"2007-11-01T00:00:00\",\"2007-12-01T00:00:00\",\"2008-01-01T00:00:00\",\"2008-02-01T00:00:00\",\"2008-03-01T00:00:00\",\"2008-04-01T00:00:00\",\"2008-05-01T00:00:00\",\"2008-06-01T00:00:00\",\"2008-07-01T00:00:00\",\"2008-08-01T00:00:00\",\"2008-09-01T00:00:00\",\"2008-10-01T00:00:00\",\"2008-11-01T00:00:00\",\"2008-12-01T00:00:00\",\"2009-01-01T00:00:00\",\"2009-02-01T00:00:00\",\"2009-03-01T00:00:00\",\"2009-04-01T00:00:00\",\"2009-05-01T00:00:00\",\"2009-06-01T00:00:00\",\"2009-07-01T00:00:00\",\"2009-08-01T00:00:00\",\"2009-09-01T00:00:00\",\"2009-10-01T00:00:00\",\"2009-11-01T00:00:00\",\"2009-12-01T00:00:00\",\"2010-01-01T00:00:00\",\"2010-02-01T00:00:00\",\"2010-03-01T00:00:00\",\"2010-04-01T00:00:00\",\"2010-05-01T00:00:00\",\"2010-06-01T00:00:00\",\"2010-07-01T00:00:00\",\"2010-08-01T00:00:00\",\"2010-09-01T00:00:00\",\"2010-10-01T00:00:00\",\"2010-11-01T00:00:00\",\"2010-12-01T00:00:00\",\"2011-01-01T00:00:00\",\"2011-02-01T00:00:00\",\"2011-03-01T00:00:00\",\"2011-04-01T00:00:00\",\"2011-05-01T00:00:00\",\"2011-06-01T00:00:00\",\"2011-07-01T00:00:00\",\"2011-08-01T00:00:00\",\"2011-09-01T00:00:00\",\"2011-10-01T00:00:00\",\"2011-11-01T00:00:00\",\"2011-12-01T00:00:00\",\"2012-01-01T00:00:00\",\"2012-02-01T00:00:00\",\"2012-03-01T00:00:00\",\"2012-04-01T00:00:00\",\"2012-05-01T00:00:00\",\"2012-06-01T00:00:00\",\"2012-07-01T00:00:00\",\"2012-08-01T00:00:00\",\"2012-09-01T00:00:00\",\"2012-10-01T00:00:00\",\"2012-11-01T00:00:00\",\"2012-12-01T00:00:00\",\"2013-01-01T00:00:00\",\"2013-02-01T00:00:00\",\"2013-03-01T00:00:00\",\"2013-04-01T00:00:00\",\"2013-05-01T00:00:00\",\"2013-06-01T00:00:00\",\"2013-07-01T00:00:00\",\"2013-08-01T00:00:00\",\"2013-09-01T00:00:00\",\"2013-10-01T00:00:00\",\"2013-11-01T00:00:00\",\"2013-12-01T00:00:00\",\"2014-01-01T00:00:00\",\"2014-02-01T00:00:00\",\"2014-03-01T00:00:00\",\"2014-04-01T00:00:00\",\"2014-05-01T00:00:00\",\"2014-06-01T00:00:00\",\"2014-07-01T00:00:00\",\"2014-08-01T00:00:00\",\"2014-09-01T00:00:00\",\"2014-10-01T00:00:00\",\"2014-11-01T00:00:00\",\"2014-12-01T00:00:00\",\"2015-01-01T00:00:00\",\"2015-02-01T00:00:00\",\"2015-03-01T00:00:00\",\"2015-04-01T00:00:00\",\"2015-05-01T00:00:00\",\"2015-06-01T00:00:00\",\"2015-07-01T00:00:00\",\"2015-08-01T00:00:00\",\"2015-09-01T00:00:00\",\"2015-10-01T00:00:00\",\"2015-11-01T00:00:00\",\"2015-12-01T00:00:00\",\"2016-01-01T00:00:00\",\"2016-02-01T00:00:00\",\"2016-03-01T00:00:00\",\"2016-04-01T00:00:00\",\"2016-05-01T00:00:00\",\"2016-06-01T00:00:00\",\"2016-07-01T00:00:00\",\"2016-08-01T00:00:00\",\"2016-09-01T00:00:00\",\"2016-10-01T00:00:00\",\"2016-11-01T00:00:00\",\"2016-12-01T00:00:00\",\"2017-01-01T00:00:00\",\"2017-02-01T00:00:00\",\"2017-03-01T00:00:00\"],\"y\":[1.3254,1.2973,1.5165,1.6206,1.6815,1.8395,1.9062,1.7515,1.1278,0.9524,1.0291,0.9962,0.9508,0.9508,0.9227,0.9227,0.9227,0.9315,0.9315,0.9315,0.7175,0.7175,0.7175,0.6294,0.6294,0.6294,0.6294,0.6294,0.6294,0.6294,0.6294,0.6294,0.6294,0.6294,0.6294,0.6294,0.6294,0.6294,1.3023,1.3023,1.3023,1.7349,1.7349,1.7349,1.1827,1.1827,1.1827,1.174,1.174,1.174,1.0697,1.0697,1.0697,1.1215,1.1215,1.1215,1.1215,1.1215,1.1215,1.1215,1.1215,1.1215,0.9208,0.9208,0.9208,0.9208,0.9208,0.9208,0.9208,0.9208,0.9208,0.9208,0.9208,1.357,1.3925,1.2822,1.4957,1.5194,1.7579,1.8979,1.4775,1.2782,1.2907,1.1815,1.0076,0.9948,0.9948,0.9948,0.9948,0.9948,1.3038,1.1455,0.8843,0.8476,0.8373,1.208,1.0652,1.0748,1.1321,1.2654,1.2289,1.3117,1.2957,1.2046,0.906,0.8949,1.0314,1.1596,1.0846,1.0221,1.0577,1.2023,1.1712,1.1499,1.1994,1.1381,1.0009,0.8902,1.0765,1.2268,1.2486,1.2111,1.2661,1.3779,1.475,1.475,1.6596,1.5487,1.3108,1.1869,1.4432,1.5026,1.4703,1.4911,1.5679,1.6642,1.7034,1.6639,1.8825,1.6771,1.256,1.166,1.4031,1.4083,1.2881,1.3156,1.3264,1.2798,1.27,1.3043,1.1951,1.0814,1.133,1.0622,1.0622,1.0622,0.8507,0.8649,0.779,0.7588,0.7717,0.7893,0.729,0.7462,0.754,0.7188,0.7188,0.7188,0.7199,0.6245,0.6245,0.7588,0.9036,0.8446,0.599,0.6112,0.6049,0.6194,0.4,0.4,0.6325,64.3312,0.7898],\"type\":\"scatter\"},{\"mode\":\"lines\",\"name\":\"Interpolate\",\"x\":[\"2002-01-01T00:00:00\",\"2002-02-01T00:00:00\",\"2002-03-01T00:00:00\",\"2002-04-01T00:00:00\",\"2002-05-01T00:00:00\",\"2002-06-01T00:00:00\",\"2002-07-01T00:00:00\",\"2002-08-01T00:00:00\",\"2002-09-01T00:00:00\",\"2002-10-01T00:00:00\",\"2002-11-01T00:00:00\",\"2002-12-01T00:00:00\",\"2003-01-01T00:00:00\",\"2003-02-01T00:00:00\",\"2003-03-01T00:00:00\",\"2003-04-01T00:00:00\",\"2003-05-01T00:00:00\",\"2003-06-01T00:00:00\",\"2003-07-01T00:00:00\",\"2003-08-01T00:00:00\",\"2003-09-01T00:00:00\",\"2003-10-01T00:00:00\",\"2003-11-01T00:00:00\",\"2003-12-01T00:00:00\",\"2004-01-01T00:00:00\",\"2004-02-01T00:00:00\",\"2004-03-01T00:00:00\",\"2004-04-01T00:00:00\",\"2004-05-01T00:00:00\",\"2004-06-01T00:00:00\",\"2004-07-01T00:00:00\",\"2004-08-01T00:00:00\",\"2004-09-01T00:00:00\",\"2004-10-01T00:00:00\",\"2004-11-01T00:00:00\",\"2004-12-01T00:00:00\",\"2005-01-01T00:00:00\",\"2005-02-01T00:00:00\",\"2005-03-01T00:00:00\",\"2005-04-01T00:00:00\",\"2005-05-01T00:00:00\",\"2005-06-01T00:00:00\",\"2005-07-01T00:00:00\",\"2005-08-01T00:00:00\",\"2005-09-01T00:00:00\",\"2005-10-01T00:00:00\",\"2005-11-01T00:00:00\",\"2005-12-01T00:00:00\",\"2006-01-01T00:00:00\",\"2006-02-01T00:00:00\",\"2006-03-01T00:00:00\",\"2006-04-01T00:00:00\",\"2006-05-01T00:00:00\",\"2006-06-01T00:00:00\",\"2006-07-01T00:00:00\",\"2006-08-01T00:00:00\",\"2006-09-01T00:00:00\",\"2006-10-01T00:00:00\",\"2006-11-01T00:00:00\",\"2006-12-01T00:00:00\",\"2007-01-01T00:00:00\",\"2007-02-01T00:00:00\",\"2007-03-01T00:00:00\",\"2007-04-01T00:00:00\",\"2007-05-01T00:00:00\",\"2007-06-01T00:00:00\",\"2007-07-01T00:00:00\",\"2007-08-01T00:00:00\",\"2007-09-01T00:00:00\",\"2007-10-01T00:00:00\",\"2007-11-01T00:00:00\",\"2007-12-01T00:00:00\",\"2008-01-01T00:00:00\",\"2008-02-01T00:00:00\",\"2008-03-01T00:00:00\",\"2008-04-01T00:00:00\",\"2008-05-01T00:00:00\",\"2008-06-01T00:00:00\",\"2008-07-01T00:00:00\",\"2008-08-01T00:00:00\",\"2008-09-01T00:00:00\",\"2008-10-01T00:00:00\",\"2008-11-01T00:00:00\",\"2008-12-01T00:00:00\",\"2009-01-01T00:00:00\",\"2009-02-01T00:00:00\",\"2009-03-01T00:00:00\",\"2009-04-01T00:00:00\",\"2009-05-01T00:00:00\",\"2009-06-01T00:00:00\",\"2009-07-01T00:00:00\",\"2009-08-01T00:00:00\",\"2009-09-01T00:00:00\",\"2009-10-01T00:00:00\",\"2009-11-01T00:00:00\",\"2009-12-01T00:00:00\",\"2010-01-01T00:00:00\",\"2010-02-01T00:00:00\",\"2010-03-01T00:00:00\",\"2010-04-01T00:00:00\",\"2010-05-01T00:00:00\",\"2010-06-01T00:00:00\",\"2010-07-01T00:00:00\",\"2010-08-01T00:00:00\",\"2010-09-01T00:00:00\",\"2010-10-01T00:00:00\",\"2010-11-01T00:00:00\",\"2010-12-01T00:00:00\",\"2011-01-01T00:00:00\",\"2011-02-01T00:00:00\",\"2011-03-01T00:00:00\",\"2011-04-01T00:00:00\",\"2011-05-01T00:00:00\",\"2011-06-01T00:00:00\",\"2011-07-01T00:00:00\",\"2011-08-01T00:00:00\",\"2011-09-01T00:00:00\",\"2011-10-01T00:00:00\",\"2011-11-01T00:00:00\",\"2011-12-01T00:00:00\",\"2012-01-01T00:00:00\",\"2012-02-01T00:00:00\",\"2012-03-01T00:00:00\",\"2012-04-01T00:00:00\",\"2012-05-01T00:00:00\",\"2012-06-01T00:00:00\",\"2012-07-01T00:00:00\",\"2012-08-01T00:00:00\",\"2012-09-01T00:00:00\",\"2012-10-01T00:00:00\",\"2012-11-01T00:00:00\",\"2012-12-01T00:00:00\",\"2013-01-01T00:00:00\",\"2013-02-01T00:00:00\",\"2013-03-01T00:00:00\",\"2013-04-01T00:00:00\",\"2013-05-01T00:00:00\",\"2013-06-01T00:00:00\",\"2013-07-01T00:00:00\",\"2013-08-01T00:00:00\",\"2013-09-01T00:00:00\",\"2013-10-01T00:00:00\",\"2013-11-01T00:00:00\",\"2013-12-01T00:00:00\",\"2014-01-01T00:00:00\",\"2014-02-01T00:00:00\",\"2014-03-01T00:00:00\",\"2014-04-01T00:00:00\",\"2014-05-01T00:00:00\",\"2014-06-01T00:00:00\",\"2014-07-01T00:00:00\",\"2014-08-01T00:00:00\",\"2014-09-01T00:00:00\",\"2014-10-01T00:00:00\",\"2014-11-01T00:00:00\",\"2014-12-01T00:00:00\",\"2015-01-01T00:00:00\",\"2015-02-01T00:00:00\",\"2015-03-01T00:00:00\",\"2015-04-01T00:00:00\",\"2015-05-01T00:00:00\",\"2015-06-01T00:00:00\",\"2015-07-01T00:00:00\",\"2015-08-01T00:00:00\",\"2015-09-01T00:00:00\",\"2015-10-01T00:00:00\",\"2015-11-01T00:00:00\",\"2015-12-01T00:00:00\",\"2016-01-01T00:00:00\",\"2016-02-01T00:00:00\",\"2016-03-01T00:00:00\",\"2016-04-01T00:00:00\",\"2016-05-01T00:00:00\",\"2016-06-01T00:00:00\",\"2016-07-01T00:00:00\",\"2016-08-01T00:00:00\",\"2016-09-01T00:00:00\",\"2016-10-01T00:00:00\",\"2016-11-01T00:00:00\",\"2016-12-01T00:00:00\",\"2017-01-01T00:00:00\",\"2017-02-01T00:00:00\",\"2017-03-01T00:00:00\"],\"y\":[1.3254,1.2973,1.5165,1.6206,1.6815,1.8395,1.9062,1.7515,1.1278,0.9524,1.0291,0.9962,0.9508,0.9360355932203388,0.9227,0.9256652173913045,0.9285347826086958,0.9315,0.861717391304348,0.7896086956521741,0.7175,0.688456043956044,0.6584439560439561,0.6294,0.6751453947368421,0.7208907894736842,0.7636848684210527,0.8094302631578947,0.8537000000000001,0.8994453947368422,0.9437151315789474,0.9894605263157894,1.0352059210526317,1.0794756578947369,1.1252210526315791,1.1694907894736841,1.2152361842105266,1.2609815789473684,1.3023,1.448067391304348,1.5891326086956523,1.7349,1.554834782608696,1.368767391304348,1.1827,1.1798318681318682,1.1768681318681318,1.174,1.1380744444444444,1.1021488888888888,1.0697,1.0871543478260872,1.1040456521739133,1.1215,1.0994450549450547,1.076654945054945,1.053864835164835,1.0318098901098902,1.0090197802197802,0.9869648351648351,0.9641747252747253,0.9413846153846153,0.9208,0.9609252225519287,0.9997560830860535,1.039881305637982,1.0787121661721069,1.1188373887240357,1.1589626112759643,1.197793471810089,1.2379186943620177,1.2767495548961425,1.3168747774480711,1.357,1.3925,1.2822,1.4957,1.5194,1.7579,1.8979,1.4775,1.2782,1.2907,1.1815,1.0076,0.9948,1.05248,1.11634,1.17814,1.2420000000000002,1.3038,1.1455,0.8843,0.8476,0.8373,1.208,1.0652,1.0748,1.1321,1.2654,1.2289,1.3117,1.2957,1.2046,0.906,0.8949,1.0314,1.1596,1.0846,1.0221,1.0577,1.2023,1.1712,1.1499,1.1994,1.1381,1.0009,0.8902,1.0765,1.2268,1.2486,1.2111,1.2661,1.3779,1.475,1.5688131147540985,1.6596,1.5487,1.3108,1.1869,1.4432,1.5026,1.4703,1.4911,1.5679,1.6642,1.7034,1.6639,1.8825,1.6771,1.256,1.166,1.4031,1.4083,1.2881,1.3156,1.3264,1.2798,1.27,1.3043,1.1951,1.0814,1.133,1.0622,0.9909336956521742,0.9219663043478263,0.8507,0.8649,0.779,0.7588,0.7717,0.7893,0.729,0.7462,0.754,0.7188,0.7191706521739132,0.719529347826087,0.7199,0.6245,0.6894116666666668,0.7588,0.9036,0.8446,0.599,0.6112,0.6049,0.6194,0.4,0.514344262295082,0.6325,64.3312,0.7898],\"type\":\"scatter\"}],                        {\"template\":{\"data\":{\"histogram2dcontour\":[{\"type\":\"histogram2dcontour\",\"colorbar\":{\"outlinewidth\":0,\"ticks\":\"\"},\"colorscale\":[[0.0,\"#0d0887\"],[0.1111111111111111,\"#46039f\"],[0.2222222222222222,\"#7201a8\"],[0.3333333333333333,\"#9c179e\"],[0.4444444444444444,\"#bd3786\"],[0.5555555555555556,\"#d8576b\"],[0.6666666666666666,\"#ed7953\"],[0.7777777777777778,\"#fb9f3a\"],[0.8888888888888888,\"#fdca26\"],[1.0,\"#f0f921\"]]}],\"choropleth\":[{\"type\":\"choropleth\",\"colorbar\":{\"outlinewidth\":0,\"ticks\":\"\"}}],\"histogram2d\":[{\"type\":\"histogram2d\",\"colorbar\":{\"outlinewidth\":0,\"ticks\":\"\"},\"colorscale\":[[0.0,\"#0d0887\"],[0.1111111111111111,\"#46039f\"],[0.2222222222222222,\"#7201a8\"],[0.3333333333333333,\"#9c179e\"],[0.4444444444444444,\"#bd3786\"],[0.5555555555555556,\"#d8576b\"],[0.6666666666666666,\"#ed7953\"],[0.7777777777777778,\"#fb9f3a\"],[0.8888888888888888,\"#fdca26\"],[1.0,\"#f0f921\"]]}],\"heatmap\":[{\"type\":\"heatmap\",\"colorbar\":{\"outlinewidth\":0,\"ticks\":\"\"},\"colorscale\":[[0.0,\"#0d0887\"],[0.1111111111111111,\"#46039f\"],[0.2222222222222222,\"#7201a8\"],[0.3333333333333333,\"#9c179e\"],[0.4444444444444444,\"#bd3786\"],[0.5555555555555556,\"#d8576b\"],[0.6666666666666666,\"#ed7953\"],[0.7777777777777778,\"#fb9f3a\"],[0.8888888888888888,\"#fdca26\"],[1.0,\"#f0f921\"]]}],\"heatmapgl\":[{\"type\":\"heatmapgl\",\"colorbar\":{\"outlinewidth\":0,\"ticks\":\"\"},\"colorscale\":[[0.0,\"#0d0887\"],[0.1111111111111111,\"#46039f\"],[0.2222222222222222,\"#7201a8\"],[0.3333333333333333,\"#9c179e\"],[0.4444444444444444,\"#bd3786\"],[0.5555555555555556,\"#d8576b\"],[0.6666666666666666,\"#ed7953\"],[0.7777777777777778,\"#fb9f3a\"],[0.8888888888888888,\"#fdca26\"],[1.0,\"#f0f921\"]]}],\"contourcarpet\":[{\"type\":\"contourcarpet\",\"colorbar\":{\"outlinewidth\":0,\"ticks\":\"\"}}],\"contour\":[{\"type\":\"contour\",\"colorbar\":{\"outlinewidth\":0,\"ticks\":\"\"},\"colorscale\":[[0.0,\"#0d0887\"],[0.1111111111111111,\"#46039f\"],[0.2222222222222222,\"#7201a8\"],[0.3333333333333333,\"#9c179e\"],[0.4444444444444444,\"#bd3786\"],[0.5555555555555556,\"#d8576b\"],[0.6666666666666666,\"#ed7953\"],[0.7777777777777778,\"#fb9f3a\"],[0.8888888888888888,\"#fdca26\"],[1.0,\"#f0f921\"]]}],\"surface\":[{\"type\":\"surface\",\"colorbar\":{\"outlinewidth\":0,\"ticks\":\"\"},\"colorscale\":[[0.0,\"#0d0887\"],[0.1111111111111111,\"#46039f\"],[0.2222222222222222,\"#7201a8\"],[0.3333333333333333,\"#9c179e\"],[0.4444444444444444,\"#bd3786\"],[0.5555555555555556,\"#d8576b\"],[0.6666666666666666,\"#ed7953\"],[0.7777777777777778,\"#fb9f3a\"],[0.8888888888888888,\"#fdca26\"],[1.0,\"#f0f921\"]]}],\"mesh3d\":[{\"type\":\"mesh3d\",\"colorbar\":{\"outlinewidth\":0,\"ticks\":\"\"}}],\"scatter\":[{\"marker\":{\"line\":{\"color\":\"#283442\"}},\"type\":\"scatter\"}],\"parcoords\":[{\"type\":\"parcoords\",\"line\":{\"colorbar\":{\"outlinewidth\":0,\"ticks\":\"\"}}}],\"scatterpolargl\":[{\"type\":\"scatterpolargl\",\"marker\":{\"colorbar\":{\"outlinewidth\":0,\"ticks\":\"\"}}}],\"bar\":[{\"error_x\":{\"color\":\"#f2f5fa\"},\"error_y\":{\"color\":\"#f2f5fa\"},\"marker\":{\"line\":{\"color\":\"rgb(17,17,17)\",\"width\":0.5},\"pattern\":{\"fillmode\":\"overlay\",\"size\":10,\"solidity\":0.2}},\"type\":\"bar\"}],\"scattergeo\":[{\"type\":\"scattergeo\",\"marker\":{\"colorbar\":{\"outlinewidth\":0,\"ticks\":\"\"}}}],\"scatterpolar\":[{\"type\":\"scatterpolar\",\"marker\":{\"colorbar\":{\"outlinewidth\":0,\"ticks\":\"\"}}}],\"histogram\":[{\"marker\":{\"pattern\":{\"fillmode\":\"overlay\",\"size\":10,\"solidity\":0.2}},\"type\":\"histogram\"}],\"scattergl\":[{\"marker\":{\"line\":{\"color\":\"#283442\"}},\"type\":\"scattergl\"}],\"scatter3d\":[{\"type\":\"scatter3d\",\"line\":{\"colorbar\":{\"outlinewidth\":0,\"ticks\":\"\"}},\"marker\":{\"colorbar\":{\"outlinewidth\":0,\"ticks\":\"\"}}}],\"scattermapbox\":[{\"type\":\"scattermapbox\",\"marker\":{\"colorbar\":{\"outlinewidth\":0,\"ticks\":\"\"}}}],\"scatterternary\":[{\"type\":\"scatterternary\",\"marker\":{\"colorbar\":{\"outlinewidth\":0,\"ticks\":\"\"}}}],\"scattercarpet\":[{\"type\":\"scattercarpet\",\"marker\":{\"colorbar\":{\"outlinewidth\":0,\"ticks\":\"\"}}}],\"carpet\":[{\"aaxis\":{\"endlinecolor\":\"#A2B1C6\",\"gridcolor\":\"#506784\",\"linecolor\":\"#506784\",\"minorgridcolor\":\"#506784\",\"startlinecolor\":\"#A2B1C6\"},\"baxis\":{\"endlinecolor\":\"#A2B1C6\",\"gridcolor\":\"#506784\",\"linecolor\":\"#506784\",\"minorgridcolor\":\"#506784\",\"startlinecolor\":\"#A2B1C6\"},\"type\":\"carpet\"}],\"table\":[{\"cells\":{\"fill\":{\"color\":\"#506784\"},\"line\":{\"color\":\"rgb(17,17,17)\"}},\"header\":{\"fill\":{\"color\":\"#2a3f5f\"},\"line\":{\"color\":\"rgb(17,17,17)\"}},\"type\":\"table\"}],\"barpolar\":[{\"marker\":{\"line\":{\"color\":\"rgb(17,17,17)\",\"width\":0.5},\"pattern\":{\"fillmode\":\"overlay\",\"size\":10,\"solidity\":0.2}},\"type\":\"barpolar\"}],\"pie\":[{\"automargin\":true,\"type\":\"pie\"}]},\"layout\":{\"autotypenumbers\":\"strict\",\"colorway\":[\"#636efa\",\"#EF553B\",\"#00cc96\",\"#ab63fa\",\"#FFA15A\",\"#19d3f3\",\"#FF6692\",\"#B6E880\",\"#FF97FF\",\"#FECB52\"],\"font\":{\"color\":\"#f2f5fa\"},\"hovermode\":\"closest\",\"hoverlabel\":{\"align\":\"left\"},\"paper_bgcolor\":\"rgb(17,17,17)\",\"plot_bgcolor\":\"rgb(17,17,17)\",\"polar\":{\"bgcolor\":\"rgb(17,17,17)\",\"angularaxis\":{\"gridcolor\":\"#506784\",\"linecolor\":\"#506784\",\"ticks\":\"\"},\"radialaxis\":{\"gridcolor\":\"#506784\",\"linecolor\":\"#506784\",\"ticks\":\"\"}},\"ternary\":{\"bgcolor\":\"rgb(17,17,17)\",\"aaxis\":{\"gridcolor\":\"#506784\",\"linecolor\":\"#506784\",\"ticks\":\"\"},\"baxis\":{\"gridcolor\":\"#506784\",\"linecolor\":\"#506784\",\"ticks\":\"\"},\"caxis\":{\"gridcolor\":\"#506784\",\"linecolor\":\"#506784\",\"ticks\":\"\"}},\"coloraxis\":{\"colorbar\":{\"outlinewidth\":0,\"ticks\":\"\"}},\"colorscale\":{\"sequential\":[[0.0,\"#0d0887\"],[0.1111111111111111,\"#46039f\"],[0.2222222222222222,\"#7201a8\"],[0.3333333333333333,\"#9c179e\"],[0.4444444444444444,\"#bd3786\"],[0.5555555555555556,\"#d8576b\"],[0.6666666666666666,\"#ed7953\"],[0.7777777777777778,\"#fb9f3a\"],[0.8888888888888888,\"#fdca26\"],[1.0,\"#f0f921\"]],\"sequentialminus\":[[0.0,\"#0d0887\"],[0.1111111111111111,\"#46039f\"],[0.2222222222222222,\"#7201a8\"],[0.3333333333333333,\"#9c179e\"],[0.4444444444444444,\"#bd3786\"],[0.5555555555555556,\"#d8576b\"],[0.6666666666666666,\"#ed7953\"],[0.7777777777777778,\"#fb9f3a\"],[0.8888888888888888,\"#fdca26\"],[1.0,\"#f0f921\"]],\"diverging\":[[0,\"#8e0152\"],[0.1,\"#c51b7d\"],[0.2,\"#de77ae\"],[0.3,\"#f1b6da\"],[0.4,\"#fde0ef\"],[0.5,\"#f7f7f7\"],[0.6,\"#e6f5d0\"],[0.7,\"#b8e186\"],[0.8,\"#7fbc41\"],[0.9,\"#4d9221\"],[1,\"#276419\"]]},\"xaxis\":{\"gridcolor\":\"#283442\",\"linecolor\":\"#506784\",\"ticks\":\"\",\"title\":{\"standoff\":15},\"zerolinecolor\":\"#283442\",\"automargin\":true,\"zerolinewidth\":2},\"yaxis\":{\"gridcolor\":\"#283442\",\"linecolor\":\"#506784\",\"ticks\":\"\",\"title\":{\"standoff\":15},\"zerolinecolor\":\"#283442\",\"automargin\":true,\"zerolinewidth\":2},\"scene\":{\"xaxis\":{\"backgroundcolor\":\"rgb(17,17,17)\",\"gridcolor\":\"#506784\",\"linecolor\":\"#506784\",\"showbackground\":true,\"ticks\":\"\",\"zerolinecolor\":\"#C8D4E3\",\"gridwidth\":2},\"yaxis\":{\"backgroundcolor\":\"rgb(17,17,17)\",\"gridcolor\":\"#506784\",\"linecolor\":\"#506784\",\"showbackground\":true,\"ticks\":\"\",\"zerolinecolor\":\"#C8D4E3\",\"gridwidth\":2},\"zaxis\":{\"backgroundcolor\":\"rgb(17,17,17)\",\"gridcolor\":\"#506784\",\"linecolor\":\"#506784\",\"showbackground\":true,\"ticks\":\"\",\"zerolinecolor\":\"#C8D4E3\",\"gridwidth\":2}},\"shapedefaults\":{\"line\":{\"color\":\"#f2f5fa\"}},\"annotationdefaults\":{\"arrowcolor\":\"#f2f5fa\",\"arrowhead\":0,\"arrowwidth\":1},\"geo\":{\"bgcolor\":\"rgb(17,17,17)\",\"landcolor\":\"rgb(17,17,17)\",\"subunitcolor\":\"#506784\",\"showland\":true,\"showlakes\":true,\"lakecolor\":\"rgb(17,17,17)\"},\"title\":{\"x\":0.05},\"updatemenudefaults\":{\"bgcolor\":\"#506784\",\"borderwidth\":0},\"sliderdefaults\":{\"bgcolor\":\"#C8D4E3\",\"borderwidth\":1,\"bordercolor\":\"rgb(17,17,17)\",\"tickwidth\":0},\"mapbox\":{\"style\":\"dark\"}}},\"title\":{\"text\":\"Multiple approaches to overwrite NAN\"},\"xaxis\":{\"title\":{\"text\":\"Date\"}},\"yaxis\":{\"title\":{\"text\":\"Value\"}}},                        {\"responsive\": true}                    ).then(function(){\n",
       "                            \n",
       "var gd = document.getElementById('5d13cd21-8480-432e-9d52-dc4c5d0d2683');\n",
       "var x = new MutationObserver(function (mutations, observer) {{\n",
       "        var display = window.getComputedStyle(gd).display;\n",
       "        if (!display || display === 'none') {{\n",
       "            console.log([gd, 'removed!']);\n",
       "            Plotly.purge(gd);\n",
       "            observer.disconnect();\n",
       "        }}\n",
       "}});\n",
       "\n",
       "// Listen for the removal of the full notebook cells\n",
       "var notebookContainer = gd.closest('#notebook-container');\n",
       "if (notebookContainer) {{\n",
       "    x.observe(notebookContainer, {childList: true});\n",
       "}}\n",
       "\n",
       "// Listen for the clearing of the current output cell\n",
       "var outputEl = gd.closest('.output');\n",
       "if (outputEl) {{\n",
       "    x.observe(outputEl, {childList: true});\n",
       "}}\n",
       "\n",
       "                        })                };                });            </script>        </div>"
      ]
     },
     "metadata": {},
     "output_type": "display_data"
    }
   ],
   "execution_count": 76
  },
  {
   "metadata": {},
   "cell_type": "markdown",
   "source": [
    "### Result\n",
    "I was able to recover the points that were missing values using strategies such as interpolation, simple average, and moving average. However, these methods did not produce a natural effect on the series, often resulting in peak points that appear too linear.\n",
    "### Next step\n",
    "To analyze the behavior of the series mentioned above, I chose to use interpolation for the analysis. I will plot the PACF and ACF graphs to assess how important the past is in predicting the future."
   ],
   "id": "8efdd5daedbe239a"
  },
  {
   "metadata": {
    "ExecuteTime": {
     "end_time": "2024-08-26T22:32:42.420397Z",
     "start_time": "2024-08-26T22:32:42.406528Z"
    }
   },
   "cell_type": "code",
   "source": [
    "dataframe_adjusted_interpolate.set_index('date',inplace=True,drop=True)\n",
    "dataframe_adjusted_interpolate"
   ],
   "id": "55816723acb3ee8b",
   "outputs": [
    {
     "data": {
      "text/plain": [
       "              state   city       market            category commodity unit  \\\n",
       "date                                                                         \n",
       "2002-01-01  Katsina  Jibia  Jibia (CBM)  cereals and tubers    Millet   KG   \n",
       "2002-02-01  Katsina  Jibia  Jibia (CBM)  cereals and tubers    Millet   KG   \n",
       "2002-03-01  Katsina  Jibia  Jibia (CBM)  cereals and tubers    Millet   KG   \n",
       "2002-04-01  Katsina  Jibia  Jibia (CBM)  cereals and tubers    Millet   KG   \n",
       "2002-05-01  Katsina  Jibia  Jibia (CBM)  cereals and tubers    Millet   KG   \n",
       "...             ...    ...          ...                 ...       ...  ...   \n",
       "2016-11-01  Katsina  Jibia  Jibia (CBM)  cereals and tubers    Millet   KG   \n",
       "2016-12-01  Katsina  Jibia  Jibia (CBM)  cereals and tubers    Millet   KG   \n",
       "2017-01-01  Katsina  Jibia  Jibia (CBM)  cereals and tubers    Millet   KG   \n",
       "2017-02-01  Katsina  Jibia  Jibia (CBM)  cereals and tubers    Millet   KG   \n",
       "2017-03-01  Katsina  Jibia  Jibia (CBM)  cereals and tubers    Millet   KG   \n",
       "\n",
       "           priceflag  pricetype currency      price   usdprice  series_id  \n",
       "date                                                                       \n",
       "2002-01-01    actual  Wholesale      NGN  150.18000   1.325400      544.0  \n",
       "2002-02-01    actual  Wholesale      NGN  148.54000   1.297300      544.0  \n",
       "2002-03-01    actual  Wholesale      NGN  175.00000   1.516500      544.0  \n",
       "2002-04-01    actual  Wholesale      NGN  187.50000   1.620600      544.0  \n",
       "2002-05-01    actual  Wholesale      NGN  195.12000   1.681500      544.0  \n",
       "...              ...        ...      ...        ...        ...        ...  \n",
       "2016-11-01    actual  Wholesale      NGN  126.00000   0.400000      544.0  \n",
       "2016-12-01    actual  Wholesale      NGN  158.95082   0.514344      544.0  \n",
       "2017-01-01    actual  Wholesale      NGN  193.00000   0.632500      544.0  \n",
       "2017-02-01    actual  Wholesale      NGN  202.00000  64.331200      544.0  \n",
       "2017-03-01    actual  Wholesale      NGN  248.00000   0.789800      544.0  \n",
       "\n",
       "[183 rows x 12 columns]"
      ],
      "text/html": [
       "<div>\n",
       "<style scoped>\n",
       "    .dataframe tbody tr th:only-of-type {\n",
       "        vertical-align: middle;\n",
       "    }\n",
       "\n",
       "    .dataframe tbody tr th {\n",
       "        vertical-align: top;\n",
       "    }\n",
       "\n",
       "    .dataframe thead th {\n",
       "        text-align: right;\n",
       "    }\n",
       "</style>\n",
       "<table border=\"1\" class=\"dataframe\">\n",
       "  <thead>\n",
       "    <tr style=\"text-align: right;\">\n",
       "      <th></th>\n",
       "      <th>state</th>\n",
       "      <th>city</th>\n",
       "      <th>market</th>\n",
       "      <th>category</th>\n",
       "      <th>commodity</th>\n",
       "      <th>unit</th>\n",
       "      <th>priceflag</th>\n",
       "      <th>pricetype</th>\n",
       "      <th>currency</th>\n",
       "      <th>price</th>\n",
       "      <th>usdprice</th>\n",
       "      <th>series_id</th>\n",
       "    </tr>\n",
       "    <tr>\n",
       "      <th>date</th>\n",
       "      <th></th>\n",
       "      <th></th>\n",
       "      <th></th>\n",
       "      <th></th>\n",
       "      <th></th>\n",
       "      <th></th>\n",
       "      <th></th>\n",
       "      <th></th>\n",
       "      <th></th>\n",
       "      <th></th>\n",
       "      <th></th>\n",
       "      <th></th>\n",
       "    </tr>\n",
       "  </thead>\n",
       "  <tbody>\n",
       "    <tr>\n",
       "      <th>2002-01-01</th>\n",
       "      <td>Katsina</td>\n",
       "      <td>Jibia</td>\n",
       "      <td>Jibia (CBM)</td>\n",
       "      <td>cereals and tubers</td>\n",
       "      <td>Millet</td>\n",
       "      <td>KG</td>\n",
       "      <td>actual</td>\n",
       "      <td>Wholesale</td>\n",
       "      <td>NGN</td>\n",
       "      <td>150.18000</td>\n",
       "      <td>1.325400</td>\n",
       "      <td>544.0</td>\n",
       "    </tr>\n",
       "    <tr>\n",
       "      <th>2002-02-01</th>\n",
       "      <td>Katsina</td>\n",
       "      <td>Jibia</td>\n",
       "      <td>Jibia (CBM)</td>\n",
       "      <td>cereals and tubers</td>\n",
       "      <td>Millet</td>\n",
       "      <td>KG</td>\n",
       "      <td>actual</td>\n",
       "      <td>Wholesale</td>\n",
       "      <td>NGN</td>\n",
       "      <td>148.54000</td>\n",
       "      <td>1.297300</td>\n",
       "      <td>544.0</td>\n",
       "    </tr>\n",
       "    <tr>\n",
       "      <th>2002-03-01</th>\n",
       "      <td>Katsina</td>\n",
       "      <td>Jibia</td>\n",
       "      <td>Jibia (CBM)</td>\n",
       "      <td>cereals and tubers</td>\n",
       "      <td>Millet</td>\n",
       "      <td>KG</td>\n",
       "      <td>actual</td>\n",
       "      <td>Wholesale</td>\n",
       "      <td>NGN</td>\n",
       "      <td>175.00000</td>\n",
       "      <td>1.516500</td>\n",
       "      <td>544.0</td>\n",
       "    </tr>\n",
       "    <tr>\n",
       "      <th>2002-04-01</th>\n",
       "      <td>Katsina</td>\n",
       "      <td>Jibia</td>\n",
       "      <td>Jibia (CBM)</td>\n",
       "      <td>cereals and tubers</td>\n",
       "      <td>Millet</td>\n",
       "      <td>KG</td>\n",
       "      <td>actual</td>\n",
       "      <td>Wholesale</td>\n",
       "      <td>NGN</td>\n",
       "      <td>187.50000</td>\n",
       "      <td>1.620600</td>\n",
       "      <td>544.0</td>\n",
       "    </tr>\n",
       "    <tr>\n",
       "      <th>2002-05-01</th>\n",
       "      <td>Katsina</td>\n",
       "      <td>Jibia</td>\n",
       "      <td>Jibia (CBM)</td>\n",
       "      <td>cereals and tubers</td>\n",
       "      <td>Millet</td>\n",
       "      <td>KG</td>\n",
       "      <td>actual</td>\n",
       "      <td>Wholesale</td>\n",
       "      <td>NGN</td>\n",
       "      <td>195.12000</td>\n",
       "      <td>1.681500</td>\n",
       "      <td>544.0</td>\n",
       "    </tr>\n",
       "    <tr>\n",
       "      <th>...</th>\n",
       "      <td>...</td>\n",
       "      <td>...</td>\n",
       "      <td>...</td>\n",
       "      <td>...</td>\n",
       "      <td>...</td>\n",
       "      <td>...</td>\n",
       "      <td>...</td>\n",
       "      <td>...</td>\n",
       "      <td>...</td>\n",
       "      <td>...</td>\n",
       "      <td>...</td>\n",
       "      <td>...</td>\n",
       "    </tr>\n",
       "    <tr>\n",
       "      <th>2016-11-01</th>\n",
       "      <td>Katsina</td>\n",
       "      <td>Jibia</td>\n",
       "      <td>Jibia (CBM)</td>\n",
       "      <td>cereals and tubers</td>\n",
       "      <td>Millet</td>\n",
       "      <td>KG</td>\n",
       "      <td>actual</td>\n",
       "      <td>Wholesale</td>\n",
       "      <td>NGN</td>\n",
       "      <td>126.00000</td>\n",
       "      <td>0.400000</td>\n",
       "      <td>544.0</td>\n",
       "    </tr>\n",
       "    <tr>\n",
       "      <th>2016-12-01</th>\n",
       "      <td>Katsina</td>\n",
       "      <td>Jibia</td>\n",
       "      <td>Jibia (CBM)</td>\n",
       "      <td>cereals and tubers</td>\n",
       "      <td>Millet</td>\n",
       "      <td>KG</td>\n",
       "      <td>actual</td>\n",
       "      <td>Wholesale</td>\n",
       "      <td>NGN</td>\n",
       "      <td>158.95082</td>\n",
       "      <td>0.514344</td>\n",
       "      <td>544.0</td>\n",
       "    </tr>\n",
       "    <tr>\n",
       "      <th>2017-01-01</th>\n",
       "      <td>Katsina</td>\n",
       "      <td>Jibia</td>\n",
       "      <td>Jibia (CBM)</td>\n",
       "      <td>cereals and tubers</td>\n",
       "      <td>Millet</td>\n",
       "      <td>KG</td>\n",
       "      <td>actual</td>\n",
       "      <td>Wholesale</td>\n",
       "      <td>NGN</td>\n",
       "      <td>193.00000</td>\n",
       "      <td>0.632500</td>\n",
       "      <td>544.0</td>\n",
       "    </tr>\n",
       "    <tr>\n",
       "      <th>2017-02-01</th>\n",
       "      <td>Katsina</td>\n",
       "      <td>Jibia</td>\n",
       "      <td>Jibia (CBM)</td>\n",
       "      <td>cereals and tubers</td>\n",
       "      <td>Millet</td>\n",
       "      <td>KG</td>\n",
       "      <td>actual</td>\n",
       "      <td>Wholesale</td>\n",
       "      <td>NGN</td>\n",
       "      <td>202.00000</td>\n",
       "      <td>64.331200</td>\n",
       "      <td>544.0</td>\n",
       "    </tr>\n",
       "    <tr>\n",
       "      <th>2017-03-01</th>\n",
       "      <td>Katsina</td>\n",
       "      <td>Jibia</td>\n",
       "      <td>Jibia (CBM)</td>\n",
       "      <td>cereals and tubers</td>\n",
       "      <td>Millet</td>\n",
       "      <td>KG</td>\n",
       "      <td>actual</td>\n",
       "      <td>Wholesale</td>\n",
       "      <td>NGN</td>\n",
       "      <td>248.00000</td>\n",
       "      <td>0.789800</td>\n",
       "      <td>544.0</td>\n",
       "    </tr>\n",
       "  </tbody>\n",
       "</table>\n",
       "<p>183 rows × 12 columns</p>\n",
       "</div>"
      ]
     },
     "execution_count": 77,
     "metadata": {},
     "output_type": "execute_result"
    }
   ],
   "execution_count": 77
  },
  {
   "metadata": {
    "ExecuteTime": {
     "end_time": "2024-08-26T22:32:44.095746Z",
     "start_time": "2024-08-26T22:32:42.676794Z"
    }
   },
   "cell_type": "code",
   "source": [
    "res = STL(dataframe_adjusted_interpolate['price']).fit()\n",
    "res.plot()\n",
    "plt.show()"
   ],
   "id": "c0aa1738b4f54e90",
   "outputs": [
    {
     "data": {
      "text/plain": [
       "<Figure size 640x480 with 4 Axes>"
      ],
      "image/png": "[encoded data removed]"
     },
     "metadata": {},
     "output_type": "display_data"
    }
   ],
   "execution_count": 78
  },
  {
   "metadata": {
    "ExecuteTime": {
     "end_time": "2024-08-26T22:32:44.268647Z",
     "start_time": "2024-08-26T22:32:44.133900Z"
    }
   },
   "cell_type": "code",
   "source": [
    "sm.graphics.tsa.plot_pacf(dataframe_adjusted_interpolate['price'], lags=12)\n",
    "plt.show()"
   ],
   "id": "5cbec56c24f8d98b",
   "outputs": [
    {
     "data": {
      "text/plain": [
       "<Figure size 640x480 with 1 Axes>"
      ],
      "image/png": "[encoded data removed]"
     },
     "metadata": {},
     "output_type": "display_data"
    }
   ],
   "execution_count": 79
  },
  {
   "metadata": {
    "ExecuteTime": {
     "end_time": "2024-08-26T22:32:44.451337Z",
     "start_time": "2024-08-26T22:32:44.331002Z"
    }
   },
   "cell_type": "code",
   "source": [
    "sm.graphics.tsa.plot_acf(dataframe_adjusted_interpolate['price'], lags=12)\n",
    "plt.show()"
   ],
   "id": "ecbdea221355cea6",
   "outputs": [
    {
     "data": {
      "text/plain": [
       "<Figure size 640x480 with 1 Axes>"
      ],
      "image/png": "[encoded data removed]"
     },
     "metadata": {},
     "output_type": "display_data"
    }
   ],
   "execution_count": 80
  }
 ],
 "metadata": {
  "kernelspec": {
   "display_name": "Python 3",
   "language": "python",
   "name": "python3"
  },
  "language_info": {
   "codemirror_mode": {
    "name": "ipython",
    "version": 2
   },
   "file_extension": ".py",
   "mimetype": "text/x-python",
   "name": "python",
   "nbconvert_exporter": "python",
   "pygments_lexer": "ipython2",
   "version": "2.7.6"
  }
 },
 "nbformat": 4,
 "nbformat_minor": 5
}
